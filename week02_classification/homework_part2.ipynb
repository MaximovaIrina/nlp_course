{
 "cells": [
  {
   "cell_type": "markdown",
   "metadata": {},
   "source": [
    "### Salary prediction, episode II: make it actually work (4 points)\n",
    "\n",
    "Your main task is to use some of the tricks you've learned on the network and analyze if you can improve __validation MAE__. Try __at least 3 options__ from the list below for a passing grade. Write a short report about what you have tried. More ideas = more bonus points. \n",
    "\n",
    "__Please be serious:__ \" plot learning curves in MAE/epoch, compare models based on optimal performance, test one change at a time. You know the drill :)\n",
    "\n",
    "You can use either __pytorch__ or __tensorflow__ or any other framework (e.g. pure __keras__). Feel free to adapt the seminar code for your needs. For tensorflow version, consider `seminar_tf2.ipynb` as a starting point.\n"
   ]
  },
  {
   "cell_type": "markdown",
   "metadata": {},
   "source": [
    "# 0. Prepare data\n",
    "Its just Ctrl+x -> Ctrl+v from seminar"
   ]
  },
  {
   "cell_type": "code",
   "execution_count": null,
   "metadata": {},
   "outputs": [],
   "source": [
    "import numpy as np\n",
    "import pandas as pd\n",
    "import nltk\n",
    "from tqdm.auto import tqdm\n",
    "from sklearn.feature_extraction import DictVectorizer\n",
    "from sklearn.model_selection import train_test_split\n",
    "import matplotlib.pyplot as plt\n",
    "%matplotlib inline\n",
    "\n",
    "!wget https://ysda-seminars.s3.eu-central-1.amazonaws.com/Train_rev1.zip\n",
    "data = pd.read_csv(\"./Train_rev1.zip\", compression='zip', index_col=None)\n",
    "data['Log1pSalary'] = np.log1p(data['SalaryNormalized']).astype('float32')\n",
    "\n",
    "text_columns = [\"Title\", \"FullDescription\"]\n",
    "categorical_columns = [\"Category\", \"Company\", \"LocationNormalized\", \"ContractType\", \"ContractTime\"]\n",
    "TARGET_COLUMN = \"Log1pSalary\"\n",
    "\n",
    "data[categorical_columns] = data[categorical_columns].fillna('NaN') \n",
    "\n",
    "tokenizer = nltk.tokenize.WordPunctTokenizer()\n",
    "data[\"FullDescription\"] = data[\"FullDescription\"].apply(lambda x: \" \".join(tokenizer.tokenize(x.lower())))\n",
    "data[\"Title\"]           = data[\"Title\"].apply(lambda x: \" \".join(tokenizer.tokenize(str(x).lower())))\n",
    "\n",
    "from collections import Counter\n",
    "token_counts = Counter()\n",
    "for title in data[\"Title\"]:\n",
    "    token_counts.update(title.split())\n",
    "for desc in data[\"FullDescription\"]:\n",
    "    token_counts.update(desc.split())\n",
    "    \n",
    "min_count = 10\n",
    "tokens = sorted(t for t, c in token_counts.items() if c >= min_count) #TODO<YOUR CODE HERE>\n",
    "UNK, PAD = \"UNK\", \"PAD\"\n",
    "tokens = [UNK, PAD] + tokens\n",
    "\n",
    "token_to_id = {w : i for i, w in enumerate(tokens)}"
   ]
  },
  {
   "cell_type": "code",
   "execution_count": 12,
   "metadata": {
    "collapsed": true
   },
   "outputs": [
    {
     "name": "stdout",
     "output_type": "stream",
     "text": [
      "--2022-10-02 17:32:49--  https://ysda-seminars.s3.eu-central-1.amazonaws.com/Train_rev1.zip\n",
      "Resolving ysda-seminars.s3.eu-central-1.amazonaws.com (ysda-seminars.s3.eu-central-1.amazonaws.com)... 52.219.170.170\n",
      "Connecting to ysda-seminars.s3.eu-central-1.amazonaws.com (ysda-seminars.s3.eu-central-1.amazonaws.com)|52.219.170.170|:443... connected.\n",
      "HTTP request sent, awaiting response... 200 OK\n",
      "Length: 128356352 (122M) [application/zip]\n",
      "Saving to: ‘Train_rev1.zip.2’\n",
      "\n",
      "Train_rev1.zip.2    100%[===================>] 122.41M  11.3MB/s    in 11s     \n",
      "\n",
      "2022-10-02 17:33:00 (11.0 MB/s) - ‘Train_rev1.zip.2’ saved [128356352/128356352]\n",
      "\n",
      "Train size =  195814\n",
      "Validation size =  48954\n"
     ]
    }
   ],
   "source": [
    "UNK_IX, PAD_IX = map(token_to_id.get, [UNK, PAD])\n",
    "def as_matrix(sequences, max_len=None):\n",
    "    \"\"\" Convert a list of tokens into a matrix with padding \"\"\"\n",
    "    if isinstance(sequences[0], str):\n",
    "        sequences = list(map(str.split, sequences))\n",
    "    max_len = min(max(map(len, sequences)), max_len or float('inf'))\n",
    "    max_len = max(max_len, 5)\n",
    "    matrix = np.full((len(sequences), max_len), np.int32(PAD_IX))\n",
    "    for i,seq in enumerate(sequences):\n",
    "        row_ix = [token_to_id.get(word, UNK_IX) for word in seq[:max_len]]\n",
    "        matrix[i, :len(row_ix)] = row_ix\n",
    "    return matrix\n",
    "\n",
    "top_companies, top_counts = zip(*Counter(data['Company']).most_common(1000))\n",
    "recognized_companies = set(top_companies)\n",
    "data[\"Company\"] = data[\"Company\"].apply(lambda comp: comp if comp in recognized_companies else \"Other\")\n",
    "categorical_vectorizer = DictVectorizer(dtype=np.float32, sparse=False)\n",
    "categorical_vectorizer.fit(data[categorical_columns].apply(dict, axis=1))\n",
    "\n",
    "data_train, data_val = train_test_split(data, test_size=0.2, random_state=42)\n",
    "data_train.index = range(len(data_train))\n",
    "data_val.index = range(len(data_val))"
   ]
  },
  {
   "cell_type": "code",
   "execution_count": 13,
   "metadata": {},
   "outputs": [],
   "source": [
    "import torch\n",
    "import torch.nn as nn\n",
    "import torch.functional as F\n",
    "\n",
    "device = 'cuda' if torch.cuda.is_available() else 'cpu'\n",
    "\n",
    "def to_tensors(batch, device):\n",
    "    batch_tensors = dict()\n",
    "    for key, arr in batch.items():\n",
    "        if key in [\"FullDescription\", \"Title\"]:\n",
    "            batch_tensors[key] = torch.tensor(arr, device=device, dtype=torch.int64)\n",
    "        else:\n",
    "            batch_tensors[key] = torch.tensor(arr, device=device)\n",
    "    return batch_tensors\n",
    "\n",
    "\n",
    "def make_batch(data, max_len=None, word_dropout=0, device=device):\n",
    "    \"\"\"\n",
    "    Creates a keras-friendly dict from the batch data.\n",
    "    :param word_dropout: replaces token index with UNK_IX with this probability\n",
    "    :returns: a dict with {'title' : int64[batch, title_max_len]\n",
    "    \"\"\"\n",
    "    batch = {}\n",
    "    batch[\"Title\"] = as_matrix(data[\"Title\"].values, max_len)\n",
    "    batch[\"FullDescription\"] = as_matrix(data[\"FullDescription\"].values, max_len)\n",
    "    batch['Categorical'] = categorical_vectorizer.transform(data[categorical_columns].apply(dict, axis=1))\n",
    "    \n",
    "    if word_dropout != 0:\n",
    "        batch[\"FullDescription\"] = apply_word_dropout(batch[\"FullDescription\"], 1. - word_dropout)\n",
    "    \n",
    "    if TARGET_COLUMN in data.columns:\n",
    "        batch[TARGET_COLUMN] = data[TARGET_COLUMN].values\n",
    "    \n",
    "    return to_tensors(batch, device)\n",
    "\n",
    "def apply_word_dropout(matrix, keep_prop, replace_with=UNK_IX, pad_ix=PAD_IX,):\n",
    "    dropout_mask = np.random.choice(2, np.shape(matrix), p=[keep_prop, 1 - keep_prop])\n",
    "    dropout_mask &= matrix != pad_ix\n",
    "    return np.choose(dropout_mask, [matrix, np.full_like(matrix, replace_with)])\n",
    "\n",
    "def iterate_minibatches(data, batch_size=256, shuffle=True, cycle=False, device=device, **kwargs):\n",
    "    \"\"\" iterates minibatches of data in random order \"\"\"\n",
    "    while True:\n",
    "        indices = np.arange(len(data))\n",
    "        if shuffle:\n",
    "            indices = np.random.permutation(indices)\n",
    "        for start in range(0, len(indices), batch_size):\n",
    "            batch = make_batch(data.iloc[indices[start : start + batch_size]], device=device, **kwargs)\n",
    "            yield batch\n",
    "        if not cycle: break\n",
    "        \n",
    "\n",
    "def print_metrics(model, data, batch_size=BATCH_SIZE, name=\"\", **kw):\n",
    "    squared_error = abs_error = num_samples = 0.0\n",
    "    model.eval()\n",
    "    with torch.no_grad():\n",
    "        for batch in iterate_minibatches(data, batch_size=batch_size, shuffle=False, **kw):\n",
    "            batch_pred = model(batch)\n",
    "            squared_error += torch.sum(torch.square(batch_pred - batch[TARGET_COLUMN]))\n",
    "            abs_error += torch.sum(torch.abs(batch_pred - batch[TARGET_COLUMN]))\n",
    "            num_samples += len(batch_pred)\n",
    "    mse = squared_error.detach().cpu().numpy() / num_samples\n",
    "    mae = abs_error.detach().cpu().numpy() / num_samples\n",
    "    print(\"%s results:\" % (name or \"\"))\n",
    "    print(\"Mean square error: %.5f\" % mse)\n",
    "    print(\"Mean absolute error: %.5f\" % mae)\n",
    "    return mse, mae"
   ]
  },
  {
   "cell_type": "markdown",
   "metadata": {},
   "source": [
    "# 1. CNN architecture\n",
    "\n",
    "All the tricks you know about dense and convolutional neural networks apply here as well.\n",
    "* Added Dropout - for input. Like data augmentation. It help us not overtraining.\n",
    "* Added Batch Norm after Conv. For faster convergence. \n",
    "* Added RELU for creating non-linear model.\n",
    "* Added parallel Conv layers with another kernel size for accumulate more global context. \n",
    "* Used Adam istead of SGD\n",
    "\n",
    "In the training relust below we see that metrics monotonically insreases. But little bit slower then original implementation in seminar notebook. Probably its happend because we use drop out and model trained with more stable way. She look at the different data every time."
   ]
  },
  {
   "cell_type": "code",
   "execution_count": 74,
   "metadata": {},
   "outputs": [],
   "source": [
    "class TextEncoder(nn.Module):\n",
    "      def __init__(self, n_tokens, hid_size, pool=\"max\"):\n",
    "        super().__init__()\n",
    "        self.emb   = torch.nn.Embedding(n_tokens, hid_size*2)\n",
    "        self.drop  = nn.Dropout(p=0.1)\n",
    "        self.conv1 = torch.nn.Conv1d(hid_size*2, hid_size, 3)\n",
    "        self.bn1   = torch.nn.BatchNorm1d(hid_size)\n",
    "        self.relu1 = torch.nn.ReLU()\n",
    "        self.conv2 = torch.nn.Conv1d(hid_size*2, hid_size, 5, 2)\n",
    "        self.bn2   = torch.nn.BatchNorm1d(hid_size)\n",
    "        self.relu2 = torch.nn.ReLU()\n",
    "        if pool == \"max\":\n",
    "            self.pool  = self.maxpool\n",
    "        elif pool == \"avg\":\n",
    "            self.pool = self.avgpool\n",
    "        elif pool == \"softmax\":\n",
    "            self.pool = self.softmaxpool\n",
    "      \n",
    "      def maxpool(self, x):\n",
    "        return x.max(dim=-1).values\n",
    "    \n",
    "      def avgpool(self, x):\n",
    "        return x.mean(dim=-1)\n",
    "    \n",
    "      def softmaxpool(self, x):\n",
    "#         print(x.shape, torch.nn.Softmax(dim=1)(x).shape)\n",
    "        return (x * torch.nn.Softmax(dim=2)(x)).sum(-1)\n",
    "\n",
    "      def forward(self, x):                 # N x SEQ_LEN\n",
    "        x = self.emb(x).transpose(-1, -2)   # N x EMB_LEN x SEQ_LEN\n",
    "        x = self.drop(x)                    # N x EMB_LEN x SEQ_LEN\n",
    "        \n",
    "        x1 = self.relu1(self.bn1(self.conv1(x)))  # N x HID_SIZE x SEQ_LEN_1\n",
    "        x2 = self.relu2(self.bn2(self.conv2(x)))  # N x HID_SIZE x SEQ_LEN_2\n",
    "        \n",
    "        x = torch.cat([x1, x2], -1)    # N x HID_SIZE x [SEQ_LEN_1 + SEQ_LEN_2]\n",
    "        x = self.pool(x)               # N x HID_SIZE\n",
    "        return x\n",
    "\n",
    "class CategorialEncoder(nn.Module):\n",
    "    def __init__(self, n_cat_features, hid_size):\n",
    "        super().__init__()\n",
    "        self.linear = torch.nn.Linear(n_cat_features, hid_size)\n",
    "\n",
    "    def forward(self, x):\n",
    "        x = self.linear(x)\n",
    "        return x\n",
    "\n",
    "class SalaryPredictor(nn.Module):\n",
    "    def __init__(self, n_tokens=len(tokens), \n",
    "                 n_cat_features=len(categorical_vectorizer.vocabulary_), \n",
    "                 hid_size=64, pool=\"max\"):\n",
    "        super().__init__()\n",
    "        self.title_encoder      = TextEncoder(n_tokens, hid_size, pool)\n",
    "        self.desc_encoder       = TextEncoder(n_tokens, hid_size, pool)\n",
    "        self.categorial_encoder = CategorialEncoder(n_cat_features, hid_size)\n",
    "        self.linear = torch.nn.Linear(hid_size, 1)\n",
    "        \n",
    "    def forward(self, batch):\n",
    "        title_features       = self.title_encoder(batch[\"Title\"].to(device))\n",
    "        desc_features        = self.desc_encoder(batch[\"FullDescription\"].to(device))\n",
    "        categorial_features  = self.categorial_encoder(batch[\"Categorical\"].to(device))\n",
    "        features = title_features + desc_features + categorial_features\n",
    "        return self.linear(features).squeeze()"
   ]
  },
  {
   "cell_type": "code",
   "execution_count": 36,
   "metadata": {},
   "outputs": [
    {
     "name": "stdout",
     "output_type": "stream",
     "text": [
      "epoch: 0\n"
     ]
    },
    {
     "name": "stderr",
     "output_type": "stream",
     "text": [
      "12239it [01:57, 103.85it/s]                                                                                                                                                        \n"
     ]
    },
    {
     "name": "stdout",
     "output_type": "stream",
     "text": [
      " results:\n",
      "Mean square error: 0.17313\n",
      "Mean absolute error: 0.32299\n",
      "epoch: 1\n"
     ]
    },
    {
     "name": "stderr",
     "output_type": "stream",
     "text": [
      "12239it [01:57, 104.43it/s]                                                                                                                                                        \n"
     ]
    },
    {
     "name": "stdout",
     "output_type": "stream",
     "text": [
      " results:\n",
      "Mean square error: 0.12273\n",
      "Mean absolute error: 0.26830\n",
      "epoch: 2\n"
     ]
    },
    {
     "name": "stderr",
     "output_type": "stream",
     "text": [
      "12239it [01:57, 104.13it/s]                                                                                                                                                        \n"
     ]
    },
    {
     "name": "stdout",
     "output_type": "stream",
     "text": [
      " results:\n",
      "Mean square error: 0.12696\n",
      "Mean absolute error: 0.27261\n",
      "epoch: 3\n"
     ]
    },
    {
     "name": "stderr",
     "output_type": "stream",
     "text": [
      "12239it [01:57, 103.86it/s]                                                                                                                                                        \n"
     ]
    },
    {
     "name": "stdout",
     "output_type": "stream",
     "text": [
      " results:\n",
      "Mean square error: 0.11338\n",
      "Mean absolute error: 0.25673\n",
      "epoch: 4\n"
     ]
    },
    {
     "name": "stderr",
     "output_type": "stream",
     "text": [
      "12239it [01:57, 104.14it/s]                                                                                                                                                        \n"
     ]
    },
    {
     "name": "stdout",
     "output_type": "stream",
     "text": [
      " results:\n",
      "Mean square error: 0.11419\n",
      "Mean absolute error: 0.25714\n",
      "epoch: 5\n"
     ]
    },
    {
     "name": "stderr",
     "output_type": "stream",
     "text": [
      "12239it [01:57, 104.08it/s]                                                                                                                                                        \n"
     ]
    },
    {
     "name": "stdout",
     "output_type": "stream",
     "text": [
      " results:\n",
      "Mean square error: 0.10943\n",
      "Mean absolute error: 0.25121\n"
     ]
    }
   ],
   "source": [
    "BATCH_SIZE = 16\n",
    "EPOCHS = 6\n",
    "\n",
    "model = SalaryPredictor().to(device)\n",
    "criterion = nn.MSELoss(reduction='sum')\n",
    "optimizer = torch.optim.SGD(model.parameters(), lr=1e-4)\n",
    "\n",
    "for epoch in range(EPOCHS):\n",
    "    print(f\"epoch: {epoch}\")\n",
    "    model.train()\n",
    "    for i, batch in tqdm(enumerate(\n",
    "            iterate_minibatches(data_train, batch_size=BATCH_SIZE, device=device)),\n",
    "            total=len(data_train) // BATCH_SIZE\n",
    "        ):\n",
    "        pred = model(batch)\n",
    "        loss = criterion(pred, batch[TARGET_COLUMN])\n",
    "        optimizer.zero_grad()\n",
    "        loss.backward()\n",
    "        optimizer.step()\n",
    "        \n",
    "    print_metrics(model, data_val, device=device)"
   ]
  },
  {
   "cell_type": "markdown",
   "metadata": {},
   "source": [
    "# 2. Play with pooling\n",
    "\n",
    "Lets try:\n",
    "* Average over time\n",
    "* Softmax-pooling:\n",
    "$$ out_{i, t} = \\sum_t {h_{i,t} \\cdot {{e ^ {h_{i, t}}} \\over \\sum_\\tau e ^ {h_{j, \\tau}} } }$$"
   ]
  },
  {
   "cell_type": "code",
   "execution_count": 45,
   "metadata": {},
   "outputs": [
    {
     "name": "stdout",
     "output_type": "stream",
     "text": [
      "epoch: 0\n"
     ]
    },
    {
     "name": "stderr",
     "output_type": "stream",
     "text": [
      "12239it [01:57, 103.93it/s]                                                                                                                                                        \n"
     ]
    },
    {
     "name": "stdout",
     "output_type": "stream",
     "text": [
      " results:\n",
      "Mean square error: 1.27483\n",
      "Mean absolute error: 1.05424\n",
      "epoch: 1\n"
     ]
    },
    {
     "name": "stderr",
     "output_type": "stream",
     "text": [
      "12239it [01:57, 103.77it/s]                                                                                                                                                        \n"
     ]
    },
    {
     "name": "stdout",
     "output_type": "stream",
     "text": [
      " results:\n",
      "Mean square error: 1.42596\n",
      "Mean absolute error: 1.12131\n",
      "epoch: 2\n"
     ]
    },
    {
     "name": "stderr",
     "output_type": "stream",
     "text": [
      "12239it [01:57, 103.95it/s]                                                                                                                                                        \n"
     ]
    },
    {
     "name": "stdout",
     "output_type": "stream",
     "text": [
      " results:\n",
      "Mean square error: 1.90643\n",
      "Mean absolute error: 1.30505\n",
      "epoch: 3\n"
     ]
    },
    {
     "name": "stderr",
     "output_type": "stream",
     "text": [
      "12239it [01:57, 104.39it/s]                                                                                                                                                        \n"
     ]
    },
    {
     "name": "stdout",
     "output_type": "stream",
     "text": [
      " results:\n",
      "Mean square error: 1.15646\n",
      "Mean absolute error: 1.00917\n",
      "epoch: 4\n"
     ]
    },
    {
     "name": "stderr",
     "output_type": "stream",
     "text": [
      "12239it [01:57, 104.08it/s]                                                                                                                                                        \n"
     ]
    },
    {
     "name": "stdout",
     "output_type": "stream",
     "text": [
      " results:\n",
      "Mean square error: 1.46813\n",
      "Mean absolute error: 1.14388\n",
      "epoch: 5\n"
     ]
    },
    {
     "name": "stderr",
     "output_type": "stream",
     "text": [
      "12239it [01:57, 103.85it/s]                                                                                                                                                        \n"
     ]
    },
    {
     "name": "stdout",
     "output_type": "stream",
     "text": [
      " results:\n",
      "Mean square error: 1.69814\n",
      "Mean absolute error: 1.23046\n"
     ]
    }
   ],
   "source": [
    "model = SalaryPredictor(pool=\"avg\").to(device)\n",
    "criterion = nn.MSELoss(reduction='sum')\n",
    "optimizer = torch.optim.SGD(model.parameters(), lr=1e-4)\n",
    "\n",
    "for epoch in range(EPOCHS):\n",
    "    print(f\"epoch: {epoch}\")\n",
    "    model.train()\n",
    "    for i, batch in tqdm(enumerate(\n",
    "            iterate_minibatches(data_train, batch_size=BATCH_SIZE, device=device)),\n",
    "            total=len(data_train) // BATCH_SIZE\n",
    "        ):\n",
    "        pred = model(batch)\n",
    "        loss = criterion(pred, batch[TARGET_COLUMN])\n",
    "        optimizer.zero_grad()\n",
    "        loss.backward()\n",
    "        optimizer.step()\n",
    "        \n",
    "    print_metrics(model, data_val, device=device)"
   ]
  },
  {
   "cell_type": "code",
   "execution_count": 75,
   "metadata": {},
   "outputs": [
    {
     "name": "stdout",
     "output_type": "stream",
     "text": [
      "epoch: 0\n"
     ]
    },
    {
     "name": "stderr",
     "output_type": "stream",
     "text": [
      "12239it [01:59, 102.03it/s]                                                                                                                                                        \n"
     ]
    },
    {
     "name": "stdout",
     "output_type": "stream",
     "text": [
      " results:\n",
      "Mean square error: 1.44053\n",
      "Mean absolute error: 1.14019\n",
      "epoch: 1\n"
     ]
    },
    {
     "name": "stderr",
     "output_type": "stream",
     "text": [
      "12239it [02:00, 101.30it/s]                                                                                                                                                        \n"
     ]
    },
    {
     "name": "stdout",
     "output_type": "stream",
     "text": [
      " results:\n",
      "Mean square error: 1.97995\n",
      "Mean absolute error: 1.35756\n",
      "epoch: 2\n"
     ]
    },
    {
     "name": "stderr",
     "output_type": "stream",
     "text": [
      "12239it [01:59, 102.60it/s]                                                                                                                                                        \n"
     ]
    },
    {
     "name": "stdout",
     "output_type": "stream",
     "text": [
      " results:\n",
      "Mean square error: 1.85910\n",
      "Mean absolute error: 1.30948\n",
      "epoch: 3\n"
     ]
    },
    {
     "name": "stderr",
     "output_type": "stream",
     "text": [
      "12239it [01:59, 102.54it/s]                                                                                                                                                        \n"
     ]
    },
    {
     "name": "stdout",
     "output_type": "stream",
     "text": [
      " results:\n",
      "Mean square error: 1.67459\n",
      "Mean absolute error: 1.24626\n",
      "epoch: 4\n"
     ]
    },
    {
     "name": "stderr",
     "output_type": "stream",
     "text": [
      "12239it [01:59, 102.43it/s]                                                                                                                                                        \n"
     ]
    },
    {
     "name": "stdout",
     "output_type": "stream",
     "text": [
      " results:\n",
      "Mean square error: 1.36474\n",
      "Mean absolute error: 1.12302\n",
      "epoch: 5\n"
     ]
    },
    {
     "name": "stderr",
     "output_type": "stream",
     "text": [
      "12239it [01:59, 102.57it/s]                                                                                                                                                        \n"
     ]
    },
    {
     "name": "stdout",
     "output_type": "stream",
     "text": [
      " results:\n",
      "Mean square error: 1.66400\n",
      "Mean absolute error: 1.23505\n"
     ]
    }
   ],
   "source": [
    "EPOCHS = 6\n",
    "\n",
    "model = SalaryPredictor(pool=\"softmax\").to(device)\n",
    "criterion = nn.MSELoss(reduction='sum')\n",
    "optimizer = torch.optim.SGD(model.parameters(), lr=1e-4)\n",
    "\n",
    "for epoch in range(EPOCHS):\n",
    "    print(f\"epoch: {epoch}\")\n",
    "    model.train()\n",
    "    for i, batch in tqdm(enumerate(\n",
    "            iterate_minibatches(data_train, batch_size=BATCH_SIZE, device=device)),\n",
    "            total=len(data_train) // BATCH_SIZE\n",
    "        ):\n",
    "        pred = model(batch)\n",
    "        loss = criterion(pred, batch[TARGET_COLUMN])\n",
    "        optimizer.zero_grad()\n",
    "        loss.backward()\n",
    "        optimizer.step()\n",
    "        \n",
    "    print_metrics(model, data_val, device=device)"
   ]
  },
  {
   "cell_type": "code",
   "execution_count": 79,
   "metadata": {},
   "outputs": [],
   "source": [
    "original_results =          [0.12723, 0.12097, 0.09588, 0.10031, 0.08699]\n",
    "cnn_best_practice_results = [0.17313, 0.12273, 0.12696, 0.11338, 0.11419]\n",
    "avg_pool_results =          [1.27483, 1.42596, 1.90643, 1.15646, 1.46813]\n",
    "softmax_pool_results =      [1.44053, 1.97995, 1.85910, 1.67459, 1.36474]"
   ]
  },
  {
   "cell_type": "code",
   "execution_count": 82,
   "metadata": {},
   "outputs": [
    {
     "data": {
      "text/plain": [
       "Text(0.5, 0, 'Epoch')"
      ]
     },
     "execution_count": 82,
     "metadata": {},
     "output_type": "execute_result"
    },
    {
     "data": {
      "image/png": "[encoded data removed]",
      "text/plain": [
       "<Figure size 640x480 with 1 Axes>"
      ]
     },
     "metadata": {},
     "output_type": "display_data"
    }
   ],
   "source": [
    "plt.plot(original_results, label=\"original_results\")\n",
    "plt.plot(cnn_best_practice_results, label=\"cnn_best_practice_results\")\n",
    "plt.plot(avg_pool_results, label=\"avg_pool_results\")\n",
    "plt.plot(softmax_pool_results, label=\"softmax_pool_results\")\n",
    "plt.legend()\n",
    "plt.ylabel(\"MSE\")\n",
    "plt.xlabel(\"Epoch\")"
   ]
  },
  {
   "cell_type": "markdown",
   "metadata": {},
   "source": [
    "Как мы видим побить оригинальные результаты с семинара мне не удалось: \n",
    "* Так как я начала использовать дропуат для cnn_best_practice_results возможно стоило дать модели дольше поучиться. Чтобы она перестала опираться на популярные \"связки\" слов. Но судя по пологости графика она уже особо не училась. \n",
    "* Добавление нелинейности в виде ReLU также не дало никакого профита. Возможно данную задачу достаточно решать линейно. \n",
    "* Также не дало профита добавления параллельной свертки, с бОльшим размером окна и страйдом. Возможно на моменте pool-инга преимущественно выигрывали активации свертки с мЕньшим окном. \n",
    "* Замена макспулинга на его аналоги - средний пулинг и софтмакс также не дало прироста в качестве. Даже ухудшило его. Вкрятно это связано с тем что для принятия решения о классификации достаточно найти хотя бы один однозначный популярный паттерн и пытаться сохранить его высокую активацию именно макспулингом.  "
   ]
  }
 ],
 "metadata": {
  "kernelspec": {
   "display_name": "Python 3 (ipykernel)",
   "language": "python",
   "name": "python3"
  },
  "language_info": {
   "codemirror_mode": {
    "name": "ipython",
    "version": 3
   },
   "file_extension": ".py",
   "mimetype": "text/x-python",
   "name": "python",
   "nbconvert_exporter": "python",
   "pygments_lexer": "ipython3",
   "version": "3.8.10"
  }
 },
 "nbformat": 4,
 "nbformat_minor": 2
}
