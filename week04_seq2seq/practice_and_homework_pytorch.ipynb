{
 "cells": [
  {
   "cell_type": "markdown",
   "metadata": {
    "colab_type": "text",
    "id": "HmsFABwClrsS"
   },
   "source": [
    "## Seminar and homework (10 points total)\n",
    "\n",
    "Today we shall compose encoder-decoder neural networks and apply them to the task of machine translation.\n",
    "\n",
    "![img](https://esciencegroup.files.wordpress.com/2016/03/seq2seq.jpg)\n",
    "_(img: esciencegroup.files.wordpress.com)_\n",
    "\n",
    "\n",
    "Encoder-decoder architectures are about converting anything to anything, including\n",
    " * Machine translation and spoken dialogue systems\n",
    " * [Image captioning](http://mscoco.org/dataset/#captions-challenge2015) and [image2latex](https://openai.com/requests-for-research/#im2latex) (convolutional encoder, recurrent decoder)\n",
    " * Generating [images by captions](https://arxiv.org/abs/1511.02793) (recurrent encoder, convolutional decoder)\n",
    " * Grapheme2phoneme - convert words to transcripts"
   ]
  },
  {
   "cell_type": "markdown",
   "metadata": {
    "colab_type": "text",
    "id": "R4N9AD2dlrsU"
   },
   "source": [
    "## Our task: machine translation\n",
    "\n",
    "We gonna try our encoder-decoder models on russian to english machine translation problem. More specifically, we'll translate hotel and hostel descriptions. This task shows the scale of machine translation while not requiring you to train your model for weeks if you don't use GPU.\n",
    "\n",
    "Before we get to the architecture, there's some preprocessing to be done. ~~Go tokenize~~ Alright, this time we've done preprocessing for you. As usual, the data will be tokenized with WordPunctTokenizer.\n",
    "\n",
    "However, there's one more thing to do. Our data lines contain unique rare words. If we operate on a word level, we will have to deal with large vocabulary size. If instead we use character-level models, it would take lots of iterations to process a sequence. This time we're gonna pick something inbetween.\n",
    "\n",
    "One popular approach is called [Byte Pair Encoding](https://github.com/rsennrich/subword-nmt) aka __BPE__. The algorithm starts with a character-level tokenization and then iteratively merges most frequent pairs for N iterations. This results in frequent words being merged into a single token and rare words split into syllables or even characters.\n",
    "\n"
   ]
  },
  {
   "cell_type": "code",
   "execution_count": 1,
   "metadata": {
    "colab": {},
    "colab_type": "code",
    "id": "CfvojjHQlrsU"
   },
   "outputs": [
    {
     "name": "stdout",
     "output_type": "stream",
     "text": [
      "--2022-10-10 17:36:46--  https://www.dropbox.com/s/yy2zqh34dyhv07i/data.txt?dl=1\n",
      "Resolving www.dropbox.com (www.dropbox.com)... 162.125.70.18, 2620:100:6026:18::a27d:4612\n",
      "Connecting to www.dropbox.com (www.dropbox.com)|162.125.70.18|:443... connected.\n",
      "HTTP request sent, awaiting response... 302 Found\n",
      "Location: /s/dl/yy2zqh34dyhv07i/data.txt [following]\n",
      "--2022-10-10 17:36:47--  https://www.dropbox.com/s/dl/yy2zqh34dyhv07i/data.txt\n",
      "Reusing existing connection to www.dropbox.com:443.\n",
      "HTTP request sent, awaiting response... 302 Found\n",
      "Location: https://uca0e9d122bc058075362f3b0835.dl.dropboxusercontent.com/cd/0/get/Buhzt9wBinuaqLa5NPS18q85i5zmyx1Qvw-yLuQNEjqShvQ6VGwajBqLyI4QAcqm4hwjwupTyOJJ8kF6vZ-fAgbbvOvH4URayZtjlrYmDp91NKFPIxWimblpCRU1kuuLDW_KY2LhZ7OvzxRoFFUwf_zPZePx3zql13skywyAFkQsYQ/file?dl=1# [following]\n",
      "--2022-10-10 17:36:47--  https://uca0e9d122bc058075362f3b0835.dl.dropboxusercontent.com/cd/0/get/Buhzt9wBinuaqLa5NPS18q85i5zmyx1Qvw-yLuQNEjqShvQ6VGwajBqLyI4QAcqm4hwjwupTyOJJ8kF6vZ-fAgbbvOvH4URayZtjlrYmDp91NKFPIxWimblpCRU1kuuLDW_KY2LhZ7OvzxRoFFUwf_zPZePx3zql13skywyAFkQsYQ/file?dl=1\n",
      "Resolving uca0e9d122bc058075362f3b0835.dl.dropboxusercontent.com (uca0e9d122bc058075362f3b0835.dl.dropboxusercontent.com)... 162.125.70.15, 2620:100:6026:15::a27d:460f\n",
      "Connecting to uca0e9d122bc058075362f3b0835.dl.dropboxusercontent.com (uca0e9d122bc058075362f3b0835.dl.dropboxusercontent.com)|162.125.70.15|:443... connected.\n",
      "HTTP request sent, awaiting response... 200 OK\n",
      "Length: 12905335 (12M) [application/binary]\n",
      "Saving to: ‘data.txt’\n",
      "\n",
      "data.txt            100%[===================>]  12.31M  6.03MB/s    in 2.0s    \n",
      "\n",
      "2022-10-10 17:36:50 (6.03 MB/s) - ‘data.txt’ saved [12905335/12905335]\n",
      "\n",
      "--2022-10-10 17:36:50--  https://raw.githubusercontent.com/yandexdataschool/nlp_course/2020/week04_seq2seq/vocab.py\n",
      "Resolving raw.githubusercontent.com (raw.githubusercontent.com)... 185.199.108.133, 185.199.109.133, 185.199.110.133, ...\n",
      "Connecting to raw.githubusercontent.com (raw.githubusercontent.com)|185.199.108.133|:443... connected.\n",
      "HTTP request sent, awaiting response... 200 OK\n",
      "Length: 2879 (2.8K) [text/plain]\n",
      "Saving to: ‘vocab.py’\n",
      "\n",
      "vocab.py            100%[===================>]   2.81K  --.-KB/s    in 0s      \n",
      "\n",
      "2022-10-10 17:36:51 (37.1 MB/s) - ‘vocab.py’ saved [2879/2879]\n",
      "\n"
     ]
    }
   ],
   "source": [
    "!pip3 install torch>=1.3.0\n",
    "!pip3 install subword-nmt &> log\n",
    "!wget https://www.dropbox.com/s/yy2zqh34dyhv07i/data.txt?dl=1 -O data.txt\n",
    "!wget https://raw.githubusercontent.com/yandexdataschool/nlp_course/2020/week04_seq2seq/vocab.py -O vocab.py\n",
    "# thanks to tilda and deephack teams for the data, Dmitry Emelyanenko for the code :)"
   ]
  },
  {
   "cell_type": "code",
   "execution_count": 2,
   "metadata": {
    "colab": {},
    "colab_type": "code",
    "id": "g9kP0SdxlrsY"
   },
   "outputs": [
    {
     "name": "stderr",
     "output_type": "stream",
     "text": [
      "100%|██████████| 8000/8000 [00:07<00:00, 1092.17it/s]\n",
      "100%|██████████| 8000/8000 [00:07<00:00, 1072.93it/s]\n"
     ]
    }
   ],
   "source": [
    "from nltk.tokenize import WordPunctTokenizer\n",
    "from subword_nmt.learn_bpe import learn_bpe\n",
    "from subword_nmt.apply_bpe import BPE\n",
    "tokenizer = WordPunctTokenizer()\n",
    "def tokenize(x):\n",
    "    return ' '.join(tokenizer.tokenize(x.lower()))\n",
    "\n",
    "# split and tokenize the data\n",
    "with open('train.en', 'w') as f_src,  open('train.ru', 'w') as f_dst:\n",
    "    for line in open('data.txt'):\n",
    "        src_line, dst_line = line.strip().split('\\t')\n",
    "        f_src.write(tokenize(src_line) + '\\n')\n",
    "        f_dst.write(tokenize(dst_line) + '\\n')\n",
    "\n",
    "# build and apply bpe vocs\n",
    "bpe = {}\n",
    "for lang in ['en', 'ru']:\n",
    "    learn_bpe(open('./train.' + lang), open('bpe_rules.' + lang, 'w'), num_symbols=8000)\n",
    "    bpe[lang] = BPE(open('./bpe_rules.' + lang))\n",
    "    \n",
    "    with open('train.bpe.' + lang, 'w') as f_out:\n",
    "        for line in open('train.' + lang):\n",
    "            f_out.write(bpe[lang].process_line(line.strip()) + '\\n')"
   ]
  },
  {
   "cell_type": "markdown",
   "metadata": {
    "colab_type": "text",
    "id": "0UPW3sV8lrsb"
   },
   "source": [
    "### Building vocabularies\n",
    "\n",
    "We now need to build vocabularies that map strings to token ids and vice versa. We're gonna need these fellas when we feed training data into model or convert output matrices into words."
   ]
  },
  {
   "cell_type": "code",
   "execution_count": 3,
   "metadata": {
    "colab": {},
    "colab_type": "code",
    "id": "CmTy_m_olrsb"
   },
   "outputs": [],
   "source": [
    "import numpy as np\n",
    "import matplotlib.pyplot as plt\n",
    "%matplotlib inline"
   ]
  },
  {
   "cell_type": "code",
   "execution_count": 4,
   "metadata": {
    "colab": {},
    "colab_type": "code",
    "id": "8PskgBSxlrsd"
   },
   "outputs": [
    {
     "name": "stdout",
     "output_type": "stream",
     "text": [
      "inp: на территории обустроена бесплатная частная парковка .\n",
      "out: free private parking is available on site .\n",
      "\n",
      "inp: кроме того , в 5 минутах ходьбы работают многочисленные бары и рестораны .\n",
      "out: guests can find many bars and restaurants within a 5 - minute walk .\n",
      "\n",
      "inp: отель san mi@@ gu@@ el расположен в центре мор@@ ели@@ и , в 750 метрах от главной площади города и кафедрального собора .\n",
      "out: hotel san miguel is located in central more@@ lia , 750 metres from the city ’ s main square and cathedral .\n",
      "\n"
     ]
    }
   ],
   "source": [
    "data_inp = np.array(open('./train.bpe.ru').read().split('\\n'))\n",
    "data_out = np.array(open('./train.bpe.en').read().split('\\n'))\n",
    "\n",
    "from sklearn.model_selection import train_test_split\n",
    "train_inp, dev_inp, train_out, dev_out = train_test_split(data_inp, data_out, test_size=3000,\n",
    "                                                          random_state=42)\n",
    "for i in range(3):\n",
    "    print('inp:', train_inp[i])\n",
    "    print('out:', train_out[i], end='\\n\\n')"
   ]
  },
  {
   "cell_type": "code",
   "execution_count": 7,
   "metadata": {
    "colab": {},
    "colab_type": "code",
    "id": "vipg4O61lrsg"
   },
   "outputs": [],
   "source": [
    "from vocab import Vocab\n",
    "inp_voc = Vocab.from_lines(train_inp)\n",
    "out_voc = Vocab.from_lines(train_out)"
   ]
  },
  {
   "cell_type": "code",
   "execution_count": 8,
   "metadata": {
    "colab": {},
    "colab_type": "code",
    "id": "cwOoHfuhlrsi"
   },
   "outputs": [
    {
     "name": "stdout",
     "output_type": "stream",
     "text": [
      "lines\n",
      "['гостевой дом r .', 'до афин — 20 км .', 'работает боулинг .', 'оборудован балкон .', 'подключен wi - fi .']\n",
      "\n",
      "words to ids (0 = bos, 1 = eos):\n",
      "tensor([[   0, 2688, 2943, 1108,   29,    1,    1,    1],\n",
      "        [   0, 2922, 1834, 8035,   59, 3800,   29,    1],\n",
      "        [   0, 6030, 2083,   29,    1,    1,    1,    1],\n",
      "        [   0, 4927, 1870,   29,    1,    1,    1,    1],\n",
      "        [   0, 5549, 1453,   27,  592,   29,    1,    1]])\n",
      "\n",
      "back to words\n",
      "['гостевой дом r .', 'до афин — 20 км .', 'работает боулинг .', 'оборудован балкон .', 'подключен wi - fi .']\n"
     ]
    }
   ],
   "source": [
    "# Here's how you cast lines into ids and backwards.\n",
    "batch_lines = sorted(train_inp, key=len)[5:10]\n",
    "batch_ids = inp_voc.to_matrix(batch_lines)\n",
    "batch_lines_restored = inp_voc.to_lines(batch_ids)\n",
    "\n",
    "print(\"lines\")\n",
    "print(batch_lines)\n",
    "print(\"\\nwords to ids (0 = bos, 1 = eos):\")\n",
    "print(batch_ids)\n",
    "print(\"\\nback to words\")\n",
    "print(batch_lines_restored)"
   ]
  },
  {
   "cell_type": "markdown",
   "metadata": {
    "colab_type": "text",
    "id": "gSYu-MkElrsk"
   },
   "source": [
    "Draw source and translation length distributions to estimate the scope of the task."
   ]
  },
  {
   "cell_type": "code",
   "execution_count": 9,
   "metadata": {
    "colab": {},
    "colab_type": "code",
    "id": "TLLl9cSNlrsl"
   },
   "outputs": [
    {
     "data": {
      "image/png": "[encoded data removed]",
      "text/plain": [
       "<Figure size 800x400 with 2 Axes>"
      ]
     },
     "metadata": {},
     "output_type": "display_data"
    }
   ],
   "source": [
    "plt.figure(figsize=[8, 4])\n",
    "plt.subplot(1, 2, 1)\n",
    "plt.title(\"source length\")\n",
    "plt.hist(list(map(len, map(str.split, train_inp))), bins=20);\n",
    "\n",
    "plt.subplot(1, 2, 2)\n",
    "plt.title(\"translation length\")\n",
    "plt.hist(list(map(len, map(str.split, train_out))), bins=20);"
   ]
  },
  {
   "cell_type": "markdown",
   "metadata": {
    "colab_type": "text",
    "id": "BHWgx34flrsn"
   },
   "source": [
    "### Encoder-decoder model\n",
    "\n",
    "The code below contains a template for a simple encoder-decoder model: single GRU encoder/decoder, no attention or anything. This model is implemented for you as a reference and a baseline for your homework assignment."
   ]
  },
  {
   "cell_type": "code",
   "execution_count": 10,
   "metadata": {
    "colab": {},
    "colab_type": "code",
    "id": "pd_rDRm9lrso"
   },
   "outputs": [],
   "source": [
    "import torch\n",
    "import torch.nn as nn\n",
    "import torch.nn.functional as F\n",
    "device = 'cuda' if torch.cuda.is_available() else 'cpu'"
   ]
  },
  {
   "cell_type": "code",
   "execution_count": 11,
   "metadata": {
    "colab": {},
    "colab_type": "code",
    "id": "wgfN5-F7lrst"
   },
   "outputs": [],
   "source": [
    "class BasicModel(nn.Module):\n",
    "    def __init__(self, inp_voc, out_voc, emb_size=64, hid_size=128):\n",
    "        \"\"\"\n",
    "        A simple encoder-decoder seq2seq model\n",
    "        \"\"\"\n",
    "        super().__init__() # initialize base class to track sub-layers, parameters, etc.\n",
    "\n",
    "        self.inp_voc, self.out_voc = inp_voc, out_voc\n",
    "        self.hid_size = hid_size\n",
    "        \n",
    "        self.emb_inp = nn.Embedding(len(inp_voc), emb_size)\n",
    "        self.emb_out = nn.Embedding(len(out_voc), emb_size)\n",
    "        self.enc0 = nn.GRU(emb_size, hid_size, batch_first=True)\n",
    "\n",
    "        self.dec_start = nn.Linear(hid_size, hid_size)\n",
    "        self.dec0 = nn.GRUCell(emb_size, hid_size)\n",
    "        self.logits = nn.Linear(hid_size, len(out_voc))\n",
    "        \n",
    "    def forward(self, inp, out):\n",
    "        \"\"\" Apply model in training mode \"\"\"\n",
    "        initial_state = self.encode(inp)\n",
    "        return self.decode(initial_state, out)\n",
    "\n",
    "\n",
    "    def encode(self, inp, **flags):\n",
    "        \"\"\"\n",
    "        Takes symbolic input sequence, computes initial state\n",
    "        :param inp: matrix of input tokens [batch, time]\n",
    "        :returns: initial decoder state tensors, one or many\n",
    "        \"\"\"\n",
    "        inp_emb = self.emb_inp(inp)\n",
    "        batch_size = inp.shape[0]\n",
    "        \n",
    "        enc_seq, [last_state_but_not_really] = self.enc0(inp_emb)\n",
    "        # enc_seq: [batch, time, hid_size], last_state: [batch, hid_size]\n",
    "        \n",
    "        # note: last_state is not _actually_ last because of padding, let's find the real last_state\n",
    "        lengths = (inp != self.inp_voc.eos_ix).to(torch.int64).sum(dim=1).clamp_max(inp.shape[1] - 1)\n",
    "        last_state = enc_seq[torch.arange(len(enc_seq)), lengths]\n",
    "        # ^-- shape: [batch_size, hid_size]\n",
    "\n",
    "        dec_start = self.dec_start(last_state)\n",
    "        \n",
    "        if \"return_all_encoder_states\" in flags:\n",
    "            return enc_seq, dec_start\n",
    "        else:\n",
    "            return [dec_start]\n",
    "\n",
    "    def decode_step(self, prev_state, prev_tokens, **flags):\n",
    "        \"\"\"\n",
    "        Takes previous decoder state and tokens, returns new state and logits for next tokens\n",
    "        :param prev_state: a list of previous decoder state tensors, same as returned by encode(...)\n",
    "        :param prev_tokens: previous output tokens, an int vector of [batch_size]\n",
    "        :return: a list of next decoder state tensors, a tensor of logits [batch, len(out_voc)]\n",
    "        \"\"\"\n",
    "        prev_gru0_state = prev_state[0]\n",
    "        \n",
    "        # <YOUR CODE HERE>\n",
    "        prev_emb = self.emb_out(prev_tokens)\n",
    "        new_gru0_state = self.dec0(prev_emb, prev_gru0_state)\n",
    "        new_dec_state = [new_gru0_state]\n",
    "\n",
    "        output_logits = self.logits(new_gru0_state)\n",
    "        return new_dec_state, output_logits\n",
    "\n",
    "    def decode(self, initial_state, out_tokens, **flags):\n",
    "        \"\"\" Iterate over reference tokens (out_tokens) with decode_step \"\"\"\n",
    "        batch_size = out_tokens.shape[0]\n",
    "        state = initial_state\n",
    "        \n",
    "        # initial logits: always predict BOS\n",
    "        onehot_bos = F.one_hot(torch.full([batch_size], self.out_voc.bos_ix, dtype=torch.int64),\n",
    "                               num_classes=len(self.out_voc)).to(device=out_tokens.device)\n",
    "        first_logits = torch.log(onehot_bos.to(torch.float32) + 1e-9)\n",
    "        \n",
    "        logits_sequence = [first_logits]\n",
    "        for i in range(out_tokens.shape[1] - 1):\n",
    "            state, logits = self.decode_step(state, out_tokens[:, i])\n",
    "            logits_sequence.append(logits)\n",
    "        return torch.stack(logits_sequence, dim=1)\n",
    "\n",
    "    def decode_inference(self, initial_state, max_len=100, **flags):\n",
    "        \"\"\" Generate translations from model (greedy version) \"\"\"\n",
    "        batch_size, device = len(initial_state[0]), initial_state[0].device\n",
    "        state = initial_state\n",
    "        outputs = [torch.full([batch_size], self.out_voc.bos_ix, dtype=torch.int64, \n",
    "                              device=device)]\n",
    "        all_states = [initial_state]\n",
    "\n",
    "        for i in range(max_len):\n",
    "            state, logits = self.decode_step(state, outputs[-1])\n",
    "            outputs.append(logits.argmax(dim=-1))\n",
    "            all_states.append(state)\n",
    "        \n",
    "        return torch.stack(outputs, dim=1), all_states\n",
    "\n",
    "    def translate_lines(self, inp_lines, **kwargs):\n",
    "        inp = self.inp_voc.to_matrix(inp_lines).to(device)\n",
    "        initial_state = self.encode(inp)\n",
    "        out_ids, states = self.decode_inference(initial_state, **kwargs)\n",
    "        return self.out_voc.to_lines(out_ids.cpu().numpy()), states\n"
   ]
  },
  {
   "cell_type": "code",
   "execution_count": 12,
   "metadata": {},
   "outputs": [],
   "source": [
    "# debugging area\n",
    "model = BasicModel(inp_voc, out_voc).to(device)\n",
    "\n",
    "dummy_inp_tokens = inp_voc.to_matrix(sorted(train_inp, key=len)[5:10]).to(device)\n",
    "dummy_out_tokens = out_voc.to_matrix(sorted(train_out, key=len)[5:10]).to(device)\n",
    "\n",
    "h0 = model.encode(dummy_inp_tokens)\n",
    "h1, logits1 = model.decode_step(h0, torch.arange(len(dummy_inp_tokens), device=device))\n",
    "\n",
    "assert isinstance(h1, list) and len(h1) == len(h0)\n",
    "assert h1[0].shape == h0[0].shape and not torch.allclose(h1[0], h0[0])\n",
    "assert logits1.shape == (len(dummy_inp_tokens), len(out_voc))\n",
    "\n",
    "logits_seq = model.decode(h0, dummy_out_tokens)\n",
    "assert logits_seq.shape == (dummy_out_tokens.shape[0], dummy_out_tokens.shape[1], len(out_voc))\n",
    "\n",
    "# full forward\n",
    "logits_seq2 = model(dummy_inp_tokens, dummy_out_tokens)\n",
    "assert logits_seq2.shape == logits_seq.shape"
   ]
  },
  {
   "cell_type": "code",
   "execution_count": 13,
   "metadata": {},
   "outputs": [
    {
     "name": "stdout",
     "output_type": "stream",
     "text": [
      "Translations without training:\n",
      "ats sanur aw@@ inst@@ fast gues@@ fair@@ hot@@ hot@@ hel@@ nex@@ skie col@@ berg yaz@@ courts included ats hour sanur bol@@ erias 101 visit carpeted\n",
      "ats sanur aw@@ inst@@ fast gues@@ fair@@ hot@@ hot@@ hel@@ nex@@ skie col@@ berg yaz@@ courts included ats hour sanur bol@@ erias 101 visit carpeted\n",
      "ats sanur aw@@ inst@@ fast gues@@ fair@@ hot@@ hot@@ hel@@ nex@@ skie col@@ berg yaz@@ courts included ats hour sanur bol@@ erias 101 visit carpeted\n"
     ]
    }
   ],
   "source": [
    "dummy_translations, dummy_states = model.translate_lines(train_inp[:3], max_len=25)\n",
    "print(\"Translations without training:\")\n",
    "print('\\n'.join([line for line in dummy_translations]))"
   ]
  },
  {
   "cell_type": "markdown",
   "metadata": {
    "colab_type": "text",
    "id": "_wuv1-aVlrs0"
   },
   "source": [
    "### Training loss (2 points)\n",
    "\n",
    "Our training objective is almost the same as it was for neural language models:\n",
    "$$ L = {\\frac1{|D|}} \\sum_{X, Y \\in D} \\sum_{y_t \\in Y} - \\log p(y_t \\mid y_1, \\dots, y_{t-1}, X, \\theta) $$\n",
    "\n",
    "where $|D|$ is the __total length of all sequences__, including BOS and first EOS, but excluding PAD."
   ]
  },
  {
   "cell_type": "code",
   "execution_count": 14,
   "metadata": {
    "colab": {},
    "colab_type": "code",
    "id": "c8XPV8sWlrs5",
    "scrolled": true
   },
   "outputs": [],
   "source": [
    "\n",
    "def compute_loss(model, inp, out, **flags):\n",
    "    \"\"\"\n",
    "    Compute loss (float32 scalar) as in the formula above\n",
    "    :param inp: input tokens matrix, int32[batch, time]\n",
    "    :param out: reference tokens matrix, int32[batch, time]\n",
    "    \n",
    "    In order to pass the tests, your function should\n",
    "    * include loss at first EOS but not the subsequent ones\n",
    "    * divide sum of losses by a sum of input lengths (use voc.compute_mask)\n",
    "    \"\"\"\n",
    "    mask = model.out_voc.compute_mask(out) # [batch_size, out_len]\n",
    "    targets_1hot = F.one_hot(out, len(model.out_voc)).to(torch.float32)\n",
    "    \n",
    "    # outputs of the model, [batch_size, out_len, num_tokens]\n",
    "    logits_seq = model(inp, out)\n",
    "\n",
    "    # log-probabilities of all tokens at all steps, [batch_size, out_len, num_tokens]\n",
    "    logprobs_seq = logits_seq.log_softmax(dim=-1)\n",
    "   \n",
    "    # log-probabilities of correct outputs, [batch_size, out_len]\n",
    "    logp_out = (logprobs_seq * targets_1hot).sum(dim=-1)\n",
    "    # ^-- this will select the probability of the actual next token.\n",
    "    # Note: you can compute loss more efficiently using using F.cross_entropy\n",
    "\n",
    "    # average cross-entropy over tokens where mask == True\n",
    "    return -(logp_out * mask).sum() / mask.sum() # average loss, scalar"
   ]
  },
  {
   "cell_type": "code",
   "execution_count": 15,
   "metadata": {
    "colab": {},
    "colab_type": "code",
    "id": "ME_LWUeklrs7"
   },
   "outputs": [
    {
     "name": "stdout",
     "output_type": "stream",
     "text": [
      "Loss: tensor(7.5735, device='cuda:0', grad_fn=<DivBackward0>)\n"
     ]
    }
   ],
   "source": [
    "dummy_loss = compute_loss(model, dummy_inp_tokens, dummy_out_tokens)\n",
    "print(\"Loss:\", dummy_loss)\n",
    "assert np.allclose(dummy_loss.item(), 7.5, rtol=0.1, atol=0.1), \"We're sorry for your loss\"\n",
    "\n",
    "# test autograd\n",
    "dummy_loss.backward()\n",
    "for name, param in model.named_parameters():\n",
    "    assert param.grad is not None and abs(param.grad.max()) != 0, f\"Param {name} received no gradients\""
   ]
  },
  {
   "cell_type": "markdown",
   "metadata": {
    "colab_type": "text",
    "id": "HpbaBpW7lrs-"
   },
   "source": [
    "### Evaluation: BLEU\n",
    "\n",
    "Machine translation is commonly evaluated with [BLEU](https://en.wikipedia.org/wiki/BLEU) score. This metric simply computes which fraction of predicted n-grams is actually present in the reference translation. It does so for n=1,2,3 and 4 and computes the geometric average with penalty if translation is shorter than reference.\n",
    "\n",
    "While BLEU [has many drawbacks](http://www.cs.jhu.edu/~ccb/publications/re-evaluating-the-role-of-bleu-in-mt-research.pdf), it still remains the most commonly used metric and one of the simplest to compute."
   ]
  },
  {
   "cell_type": "code",
   "execution_count": 16,
   "metadata": {
    "colab": {},
    "colab_type": "code",
    "id": "Gb1-PhKIlrs-"
   },
   "outputs": [],
   "source": [
    "from nltk.translate.bleu_score import corpus_bleu\n",
    "def compute_bleu(model, inp_lines, out_lines, bpe_sep='@@ ', **flags):\n",
    "    \"\"\"\n",
    "    Estimates corpora-level BLEU score of model's translations given inp and reference out\n",
    "    Note: if you're serious about reporting your results, use https://pypi.org/project/sacrebleu\n",
    "    \"\"\"\n",
    "    with torch.no_grad():\n",
    "        translations, _ = model.translate_lines(inp_lines, **flags)\n",
    "        translations = [line.replace(bpe_sep, '') for line in translations]\n",
    "        actual = [line.replace(bpe_sep, '') for line in out_lines]\n",
    "        return corpus_bleu(\n",
    "            [[ref.split()] for ref in actual],\n",
    "            [trans.split() for trans in translations],\n",
    "            smoothing_function=lambda precisions, **kw: [p + 1.0 / p.denominator for p in precisions]\n",
    "            ) * 100"
   ]
  },
  {
   "cell_type": "code",
   "execution_count": 17,
   "metadata": {
    "colab": {},
    "colab_type": "code",
    "id": "gZvfid1RlrtA"
   },
   "outputs": [
    {
     "data": {
      "text/plain": [
       "0.001949979819127183"
      ]
     },
     "execution_count": 17,
     "metadata": {},
     "output_type": "execute_result"
    }
   ],
   "source": [
    "compute_bleu(model, dev_inp, dev_out)"
   ]
  },
  {
   "cell_type": "markdown",
   "metadata": {
    "colab_type": "text",
    "id": "nQDhGwg4lrtC"
   },
   "source": [
    "### Training loop\n",
    "\n",
    "Training encoder-decoder models isn't that different from any other models: sample batches, compute loss, backprop and update"
   ]
  },
  {
   "cell_type": "code",
   "execution_count": 18,
   "metadata": {
    "colab": {},
    "colab_type": "code",
    "id": "yfwIaixHlrtI",
    "scrolled": false
   },
   "outputs": [],
   "source": [
    "from IPython.display import clear_output\n",
    "from tqdm import tqdm, trange"
   ]
  },
  {
   "cell_type": "code",
   "execution_count": 35,
   "metadata": {},
   "outputs": [],
   "source": [
    "def train(model):\n",
    "    metrics = {'train_loss': [], 'dev_bleu': [] }\n",
    "    opt = torch.optim.Adam(model.parameters(), lr=1e-3)\n",
    "    batch_size = 32\n",
    "\n",
    "    for _ in trange(25000):\n",
    "        step = len(metrics['train_loss']) + 1\n",
    "        batch_ix = np.random.randint(len(train_inp), size=batch_size)\n",
    "        batch_inp = inp_voc.to_matrix(train_inp[batch_ix]).to(device)\n",
    "        batch_out = out_voc.to_matrix(train_out[batch_ix]).to(device)\n",
    "        \n",
    "        # <YOUR CODE: training step using batch_inp and batch_out>\n",
    "        opt.zero_grad()\n",
    "        \n",
    "        loss_t = compute_loss(model, batch_inp, batch_out)\n",
    "        loss_t.backward()\n",
    "        opt.step()\n",
    "\n",
    "        metrics['train_loss'].append((step, loss_t.item()))\n",
    "        \n",
    "        if step % 100 == 0:\n",
    "            metrics['dev_bleu'].append((step, compute_bleu(model, dev_inp, dev_out)))\n",
    "            \n",
    "            clear_output(True)\n",
    "            plt.figure(figsize=(12,4))\n",
    "            for i, (name, history) in enumerate(sorted(metrics.items())):\n",
    "                plt.subplot(1, len(metrics), i + 1)\n",
    "                plt.title(name)\n",
    "                plt.plot(*zip(*history))\n",
    "                plt.grid()\n",
    "            plt.show()\n",
    "            print(\"Mean loss=%.3f\" % np.mean(metrics['train_loss'][-10:], axis=0)[1], flush=True)\n",
    "    return metrics\n",
    "        \n",
    "# Note: it's okay if bleu oscillates up and down as long as it gets better on average over long term (e.g. 5k batches)"
   ]
  },
  {
   "cell_type": "code",
   "execution_count": 53,
   "metadata": {
    "colab": {},
    "colab_type": "code",
    "id": "LlDT6eDUlrtL",
    "scrolled": true
   },
   "outputs": [
    {
     "data": {
      "image/png": "[encoded data removed]",
      "text/plain": [
       "<Figure size 1200x400 with 2 Axes>"
      ]
     },
     "metadata": {},
     "output_type": "display_data"
    },
    {
     "name": "stdout",
     "output_type": "stream",
     "text": [
      "Mean loss=1.866\n"
     ]
    },
    {
     "name": "stderr",
     "output_type": "stream",
     "text": [
      "100%|██████████| 25000/25000 [17:04<00:00, 24.40it/s]\n"
     ]
    }
   ],
   "source": [
    "# Note: it's okay if bleu oscillates up and down as long as it gets better on average over long term (e.g. 5k batches)\n",
    "model = BasicModel(inp_voc, out_voc).to(device)\n",
    "metrics = train(model)"
   ]
  },
  {
   "cell_type": "code",
   "execution_count": 56,
   "metadata": {
    "colab": {},
    "colab_type": "code",
    "id": "2ahuhKVhlrtP"
   },
   "outputs": [],
   "source": [
    "assert np.mean(metrics['dev_bleu'][-10:], axis=0)[1] > 15, \"We kind of need a higher bleu BLEU from you. Kind of right now.\""
   ]
  },
  {
   "cell_type": "code",
   "execution_count": 57,
   "metadata": {
    "colab": {},
    "colab_type": "code",
    "id": "KyaHOpealrtS"
   },
   "outputs": [
    {
     "name": "stdout",
     "output_type": "stream",
     "text": [
      "в распоряжении гостей общая кухня и общая гостиная .\n",
      "other facilities like a shared kitchen and a shared lounge are offered .\n",
      "\n",
      "кроме того , предоставляется прокат велосипедов , услуги трансфера и бесплатная парковка .\n",
      "a car rental service is available for free and shuttle services .\n",
      "\n",
      "расстояние до города ки@@ сси@@ м@@ ми составляет 26 км .\n",
      "saint - tropez is 43 km away .\n",
      "\n",
      "апартаменты в пент@@ хаусе с общим открытым бассейном , садом , кондиционером и террасой для загара расположены в 5 минутах ходьбы от пляжа на курорте ка@@ бо - рой .\n",
      "featuring a garden , a garden and a terrace , garden view hotel is located in pattaya south . a self - catering accommodation is a 5 - minute walk from the beach .\n",
      "\n",
      "апартаменты mo@@ s@@ co@@ w point - loft red square находятся в москве , в 200 метрах от большого театра .\n",
      "located in the heart of prague , this apartment is a self - catering accommodation located in the heart of the old town of rome .\n",
      "\n",
      "в вашем распоряжении собственная ванная комната с душем и полотенцами .\n",
      "featuring a shower , private bathrooms also come with towels .\n",
      "\n"
     ]
    }
   ],
   "source": [
    "for inp_line, trans_line in zip(dev_inp[::500], model.translate_lines(dev_inp[::500])[0]):\n",
    "    print(inp_line)\n",
    "    print(trans_line)\n",
    "    print()"
   ]
  },
  {
   "cell_type": "markdown",
   "metadata": {
    "colab_type": "text",
    "id": "Tv0s8qxOXp5y"
   },
   "source": [
    "# Homework code templates will appear here soon!"
   ]
  },
  {
   "cell_type": "markdown",
   "metadata": {
    "colab_type": "text",
    "id": "edk_oVg0lrtW"
   },
   "source": [
    "### Your Attention Required\n",
    "\n",
    "In this section we want you to improve over the basic model by implementing a simple attention mechanism.\n",
    "\n",
    "This is gonna be a two-parter: building the __attention layer__ and using it for an __attentive seq2seq model__."
   ]
  },
  {
   "cell_type": "markdown",
   "metadata": {
    "colab_type": "text",
    "id": "Qz9aROAIlrtX"
   },
   "source": [
    "### Attention layer (3 points)\n",
    "\n",
    "Here you will have to implement a layer that computes a simple additive attention:\n",
    "\n",
    "Given encoder sequence $ h^e_0, h^e_1, h^e_2, ..., h^e_T$ and a single decoder state $h^d$,\n",
    "\n",
    "* Compute logits with a 2-layer neural network\n",
    "$$a_t = linear_{out}(tanh(linear_{e}(h^e_t) + linear_{d}(h_d)))$$\n",
    "* Get probabilities from logits, \n",
    "$$ p_t = {{e ^ {a_t}} \\over { \\sum_\\tau e^{a_\\tau} }} $$\n",
    "\n",
    "* Add up encoder states with probabilities to get __attention response__\n",
    "$$ attn = \\sum_t p_t \\cdot h^e_t $$\n",
    "\n",
    "You can learn more about attention layers in the lecture slides or [from this post](https://distill.pub/2016/augmented-rnns/)."
   ]
  },
  {
   "cell_type": "code",
   "execution_count": 20,
   "metadata": {},
   "outputs": [],
   "source": [
    "class AttentionLayer(nn.Module):\n",
    "    def __init__(self, name, enc_size, dec_size, hid_size, activ=torch.tanh):\n",
    "        \"\"\" A layer that computes additive attention response and weights \"\"\"\n",
    "        super().__init__()\n",
    "        self.name = name\n",
    "        self.enc_size = enc_size # num units in encoder state\n",
    "        self.dec_size = dec_size # num units in decoder state\n",
    "        self.hid_size = hid_size # attention layer hidden units\n",
    "        self.activ = activ       # attention layer hidden nonlinearity\n",
    "        \n",
    "        # create trainable paramteres like this:\n",
    "        self.encoder_W = nn.Parameter(torch.zeros(hid_size, enc_size), requires_grad=True)\n",
    "        self.decoder_W = nn.Parameter(torch.zeros(hid_size, dec_size), requires_grad=True)\n",
    "        self.out_W     = nn.Parameter(torch.zeros(1, hid_size), requires_grad=True)\n",
    "        torch.nn.init.xavier_uniform_(self.encoder_W)\n",
    "        torch.nn.init.xavier_uniform_(self.decoder_W)\n",
    "        torch.nn.init.xavier_uniform_(self.out_W)\n",
    "        \n",
    "        self.encoder_b = nn.Parameter(torch.zeros(hid_size), requires_grad=True)\n",
    "        self.decoder_b = nn.Parameter(torch.zeros(hid_size), requires_grad=True)\n",
    "        self.out_b = nn.Parameter(torch.zeros(1), requires_grad=True)\n",
    "\n",
    "\n",
    "    def forward(self, enc, dec, inp_mask):\n",
    "        \"\"\"\n",
    "        Computes attention response and weights\n",
    "        :param enc: encoder activation sequence, float32[batch_size, ninp, enc_size]\n",
    "        :param dec: single decoder state used as \"query\", float32[batch_size, dec_size]\n",
    "        :param inp_mask: mask on enc activatons (0 after first eos), float32 [batch_size, ninp]\n",
    "        :returns: attn[batch_size, enc_size], probs[batch_size, ninp]\n",
    "            - attn - attention response vector (weighted sum of enc)\n",
    "            - probs - attention weights after softmax\n",
    "        \"\"\"\n",
    "        assert len(enc.shape) == 3\n",
    "        assert len(dec.shape) == 2\n",
    "        assert len(inp_mask.shape) == 2\n",
    "\n",
    "        # Compute logits\n",
    "        dec = dec.unsqueeze(1)                                      # B x 1 x DEC_SIZE\n",
    "        logits = self.activ(                                        # B x NINP x 1\n",
    "                    torch.add(\n",
    "                        enc @ self.encoder_W.T + self.encoder_b, \n",
    "                        dec @ self.decoder_W.T + self.decoder_b\n",
    "                    )\n",
    "                ) @ self.out_W.T + self.out_b\n",
    "        logits.squeeze_()                                           # B x NINP\n",
    "        assert logits.shape == inp_mask.shape  \n",
    "\n",
    "        # Apply mask - if mask is 0, logits should be -inf or -1e9\n",
    "        # You may need torch.where\n",
    "        logits = torch.where(inp_mask, logits, -1e-9)               # B x NINP\n",
    "\n",
    "        # Compute attention probabilities (softmax)\n",
    "        probs = logits.softmax(dim=-1)                              # B x NINP\n",
    "        assert probs.shape == inp_mask.shape\n",
    "\n",
    "        # Compute attention response using enc and probs\n",
    "        attn = (probs.unsqueeze(-1) * enc).sum(dim=1)               # B x ENC_SIZE\n",
    "        assert attn.shape == (enc.shape[0], enc.shape[-1])\n",
    "        return attn, probs"
   ]
  },
  {
   "cell_type": "markdown",
   "metadata": {
    "colab_type": "text",
    "id": "IalfpdAelrtb"
   },
   "source": [
    "### Seq2seq model with attention (3 points)\n",
    "\n",
    "You can now use the attention layer to build a network. The simplest way to implement attention is to use it in decoder phase:  \n",
    "![img](https://i.imgur.com/6fKHlHb.png)\n",
    "_image from distill.pub [article](https://distill.pub/2016/augmented-rnns/)_\n",
    "\n",
    "On every step, use __previous__ decoder state to obtain attention response. Then feed concat this response to the inputs of next attention layer.\n",
    "\n",
    "The key implementation detail here is __model state__. Put simply, you can add any tensor into the list of `encode` outputs. You will then have access to them at each `decode` step. This may include:\n",
    "* Last RNN hidden states (as in basic model)\n",
    "* The whole sequence of encoder outputs (to attend to) and mask\n",
    "* Attention probabilities (to visualize)\n",
    "\n",
    "_There are, of course, alternative ways to wire attention into your network and different kinds of attention. Take a look at [this](https://arxiv.org/abs/1609.08144), [this](https://arxiv.org/abs/1706.03762) and [this](https://arxiv.org/abs/1808.03867) for ideas. And for image captioning/im2latex there's [visual attention](https://arxiv.org/abs/1502.03044)_"
   ]
  },
  {
   "cell_type": "code",
   "execution_count": 33,
   "metadata": {
    "colab": {},
    "colab_type": "code",
    "id": "NCKPB5JmcE6j"
   },
   "outputs": [],
   "source": [
    "class AttentiveModel(BasicModel):\n",
    "    def __init__(self, name, inp_voc, out_voc,\n",
    "                 emb_size=64, hid_size=128, attn_size=128):\n",
    "        \"\"\" Translation model that uses attention. See instructions above. \"\"\"\n",
    "        super(AttentiveModel, self).__init__(inp_voc, out_voc, emb_size, hid_size)\n",
    "        self.inp_voc, self.out_voc = inp_voc, out_voc\n",
    "        self.hid_size = hid_size\n",
    "        self.encoder_states = None\n",
    "        self.attention = AttentionLayer(\"Attention\", hid_size, hid_size, attn_size, activ=torch.tanh)\n",
    "        self.linear = nn.Linear(hid_size + hid_size, hid_size)\n",
    "        self.tanh = nn.Tanh()\n",
    "\n",
    "    def encode(self, inp, **flags):\n",
    "        \"\"\"\n",
    "        Takes symbolic input sequence, computes initial state\n",
    "        :param inp: matrix of input tokens [batch, time]\n",
    "        :return: a list of initial decoder state tensors\n",
    "        \"\"\"\n",
    "        \n",
    "        # encode input sequence, create initial decoder states\n",
    "        self.encoder_states, dec_start = super().encode(inp, return_all_encoder_states=True) \n",
    "        \n",
    "        # apply attention layer from initial decoder hidden state\n",
    "        attention_mask = (inp != self.inp_voc.eos_ix)                                           \n",
    "        first_attn_probas = self.attention(self.encoder_states, dec_start, attention_mask)\n",
    "        \n",
    "        # Build first state: include\n",
    "        # * initial states for decoder recurrent layers\n",
    "        # * encoder sequence and encoder attn mask (for attention)\n",
    "        # * make sure that last state item is attention probabilities tensor\n",
    "        \n",
    "        first_state = [dec_start, attention_mask, first_attn_probas] # (B x DEC_SIZE) (B x NINP) (B x ENC_SIZE) (B x NINP)  \n",
    "        return first_state\n",
    "   \n",
    "    def decode_step(self, prev_state, prev_tokens, **flags):\n",
    "        \"\"\"\n",
    "        Takes previous decoder state and tokens, returns new state and logits for next tokens\n",
    "        :param prev_state: a list of previous decoder state tensors\n",
    "        :param prev_tokens: previous output tokens, an int vector of [batch_size]\n",
    "        :return: a list of next decoder state tensors, a tensor of logits [batch, n_tokens]\n",
    "        \"\"\"\n",
    "        \n",
    "        # <YOUR CODE HERE>\n",
    "        prev_dec_state, attention_mask, prev_attn_probas = prev_state\n",
    "\n",
    "        prev_emb = self.emb_out(prev_tokens)\n",
    "        new_gru0_state = self.dec0(prev_emb, prev_dec_state)\n",
    "\n",
    "        new_attn_probas = self.attention(self.encoder_states, new_gru0_state, attention_mask)\n",
    "        new_dec_state = [new_gru0_state, attention_mask, new_attn_probas]\n",
    "\n",
    "        gru_attn = torch.cat([new_gru0_state, new_attn_probas[0]], dim=-1)\n",
    "        gru_attn = self.tanh(self.linear(gru_attn))\n",
    "        output_logits = self.logits(gru_attn)\n",
    "        return [new_dec_state, output_logits]\n"
   ]
  },
  {
   "cell_type": "markdown",
   "metadata": {
    "colab_type": "text",
    "id": "ryZCOTEslrtf"
   },
   "source": [
    "### Training attentive model\n",
    "\n",
    "Please reuse the infrastructure you've built for the regular model. I hope you didn't hard-code anything :)"
   ]
  },
  {
   "cell_type": "code",
   "execution_count": 36,
   "metadata": {
    "colab": {},
    "colab_type": "code",
    "id": "-YMHPgZxcFaQ"
   },
   "outputs": [
    {
     "data": {
      "image/png": "[encoded data removed]",
      "text/plain": [
       "<Figure size 1200x400 with 2 Axes>"
      ]
     },
     "metadata": {},
     "output_type": "display_data"
    },
    {
     "name": "stdout",
     "output_type": "stream",
     "text": [
      "Mean loss=1.349\n"
     ]
    },
    {
     "name": "stderr",
     "output_type": "stream",
     "text": [
      "100%|██████████| 25000/25000 [36:34<00:00, 11.39it/s]\n"
     ]
    }
   ],
   "source": [
    "# <YOUR CODE: create AttentiveModel and training utilities>\n",
    "model = AttentiveModel(\"AttentiveModel\", inp_voc, out_voc).to(device)\n",
    "metrics = train(model)"
   ]
  },
  {
   "cell_type": "code",
   "execution_count": 37,
   "metadata": {},
   "outputs": [
    {
     "data": {
      "text/plain": [
       "25.99321119386933"
      ]
     },
     "execution_count": 37,
     "metadata": {},
     "output_type": "execute_result"
    }
   ],
   "source": [
    "# <YOUR CODE: measure final BLEU>\n",
    "np.mean(metrics['dev_bleu'][-10:], axis=0)[1]"
   ]
  },
  {
   "cell_type": "markdown",
   "metadata": {},
   "source": [
    "### Visualizing model attention (2 points)\n",
    "\n",
    "After training the attentive translation model, you can check it's sanity by visualizing its attention weights.\n",
    "\n",
    "We provided you with a function that draws attention maps using [`Bokeh`](https://bokeh.pydata.org/en/latest/index.html). Once you managed to produce something better than random noise, please save at least 3 attention maps and __submit them to anytask__ alongside this notebook to get the max grade. Saving bokeh figures as __cell outputs is not enough!__ (TAs can't see saved bokeh figures in anytask). You can save bokeh images as screenshots or using this button:\n",
    "\n",
    "![bokeh_panel](https://github.com/yandexdataschool/nlp_course/raw/2019/resources/bokeh_panel.png)\n",
    "\n",
    "__Note:__ you're not locked into using bokeh. If you prefer a different visualization method, feel free to use that instead of bokeh."
   ]
  },
  {
   "cell_type": "code",
   "execution_count": 38,
   "metadata": {},
   "outputs": [
    {
     "data": {
      "text/html": [
       "<div class=\"bk-root\">\n",
       "        <a href=\"https://bokeh.org\" target=\"_blank\" class=\"bk-logo bk-logo-small bk-logo-notebook\"></a>\n",
       "        <span id=\"1002\">Loading BokehJS ...</span>\n",
       "    </div>\n"
      ]
     },
     "metadata": {},
     "output_type": "display_data"
    },
    {
     "data": {
      "application/javascript": "(function(root) {\n  function now() {\n    return new Date();\n  }\n\n  const force = true;\n\n  if (typeof root._bokeh_onload_callbacks === \"undefined\" || force === true) {\n    root._bokeh_onload_callbacks = [];\n    root._bokeh_is_loading = undefined;\n  }\n\nconst JS_MIME_TYPE = 'application/javascript';\n  const HTML_MIME_TYPE = 'text/html';\n  const EXEC_MIME_TYPE = 'application/vnd.bokehjs_exec.v0+json';\n  const CLASS_NAME = 'output_bokeh rendered_html';\n\n  /**\n   * Render data to the DOM node\n   */\n  function render(props, node) {\n    const script = document.createElement(\"script\");\n    node.appendChild(script);\n  }\n\n  /**\n   * Handle when an output is cleared or removed\n   */\n  function handleClearOutput(event, handle) {\n    const cell = handle.cell;\n\n    const id = cell.output_area._bokeh_element_id;\n    const server_id = cell.output_area._bokeh_server_id;\n    // Clean up Bokeh references\n    if (id != null && id in Bokeh.index) {\n      Bokeh.index[id].model.document.clear();\n      delete Bokeh.index[id];\n    }\n\n    if (server_id !== undefined) {\n      // Clean up Bokeh references\n      const cmd_clean = \"from bokeh.io.state import curstate; print(curstate().uuid_to_server['\" + server_id + \"'].get_sessions()[0].document.roots[0]._id)\";\n      cell.notebook.kernel.execute(cmd_clean, {\n        iopub: {\n          output: function(msg) {\n            const id = msg.content.text.trim();\n            if (id in Bokeh.index) {\n              Bokeh.index[id].model.document.clear();\n              delete Bokeh.index[id];\n            }\n          }\n        }\n      });\n      // Destroy server and session\n      const cmd_destroy = \"import bokeh.io.notebook as ion; ion.destroy_server('\" + server_id + \"')\";\n      cell.notebook.kernel.execute(cmd_destroy);\n    }\n  }\n\n  /**\n   * Handle when a new output is added\n   */\n  function handleAddOutput(event, handle) {\n    const output_area = handle.output_area;\n    const output = handle.output;\n\n    // limit handleAddOutput to display_data with EXEC_MIME_TYPE content only\n    if ((output.output_type != \"display_data\") || (!Object.prototype.hasOwnProperty.call(output.data, EXEC_MIME_TYPE))) {\n      return\n    }\n\n    const toinsert = output_area.element.find(\".\" + CLASS_NAME.split(' ')[0]);\n\n    if (output.metadata[EXEC_MIME_TYPE][\"id\"] !== undefined) {\n      toinsert[toinsert.length - 1].firstChild.textContent = output.data[JS_MIME_TYPE];\n      // store reference to embed id on output_area\n      output_area._bokeh_element_id = output.metadata[EXEC_MIME_TYPE][\"id\"];\n    }\n    if (output.metadata[EXEC_MIME_TYPE][\"server_id\"] !== undefined) {\n      const bk_div = document.createElement(\"div\");\n      bk_div.innerHTML = output.data[HTML_MIME_TYPE];\n      const script_attrs = bk_div.children[0].attributes;\n      for (let i = 0; i < script_attrs.length; i++) {\n        toinsert[toinsert.length - 1].firstChild.setAttribute(script_attrs[i].name, script_attrs[i].value);\n        toinsert[toinsert.length - 1].firstChild.textContent = bk_div.children[0].textContent\n      }\n      // store reference to server id on output_area\n      output_area._bokeh_server_id = output.metadata[EXEC_MIME_TYPE][\"server_id\"];\n    }\n  }\n\n  function register_renderer(events, OutputArea) {\n\n    function append_mime(data, metadata, element) {\n      // create a DOM node to render to\n      const toinsert = this.create_output_subarea(\n        metadata,\n        CLASS_NAME,\n        EXEC_MIME_TYPE\n      );\n      this.keyboard_manager.register_events(toinsert);\n      // Render to node\n      const props = {data: data, metadata: metadata[EXEC_MIME_TYPE]};\n      render(props, toinsert[toinsert.length - 1]);\n      element.append(toinsert);\n      return toinsert\n    }\n\n    /* Handle when an output is cleared or removed */\n    events.on('clear_output.CodeCell', handleClearOutput);\n    events.on('delete.Cell', handleClearOutput);\n\n    /* Handle when a new output is added */\n    events.on('output_added.OutputArea', handleAddOutput);\n\n    /**\n     * Register the mime type and append_mime function with output_area\n     */\n    OutputArea.prototype.register_mime_type(EXEC_MIME_TYPE, append_mime, {\n      /* Is output safe? */\n      safe: true,\n      /* Index of renderer in `output_area.display_order` */\n      index: 0\n    });\n  }\n\n  // register the mime type if in Jupyter Notebook environment and previously unregistered\n  if (root.Jupyter !== undefined) {\n    const events = require('base/js/events');\n    const OutputArea = require('notebook/js/outputarea').OutputArea;\n\n    if (OutputArea.prototype.mime_types().indexOf(EXEC_MIME_TYPE) == -1) {\n      register_renderer(events, OutputArea);\n    }\n  }\n  if (typeof (root._bokeh_timeout) === \"undefined\" || force === true) {\n    root._bokeh_timeout = Date.now() + 5000;\n    root._bokeh_failed_load = false;\n  }\n\n  const NB_LOAD_WARNING = {'data': {'text/html':\n     \"<div style='background-color: #fdd'>\\n\"+\n     \"<p>\\n\"+\n     \"BokehJS does not appear to have successfully loaded. If loading BokehJS from CDN, this \\n\"+\n     \"may be due to a slow or bad network connection. Possible fixes:\\n\"+\n     \"</p>\\n\"+\n     \"<ul>\\n\"+\n     \"<li>re-rerun `output_notebook()` to attempt to load from CDN again, or</li>\\n\"+\n     \"<li>use INLINE resources instead, as so:</li>\\n\"+\n     \"</ul>\\n\"+\n     \"<code>\\n\"+\n     \"from bokeh.resources import INLINE\\n\"+\n     \"output_notebook(resources=INLINE)\\n\"+\n     \"</code>\\n\"+\n     \"</div>\"}};\n\n  function display_loaded() {\n    const el = document.getElementById(\"1002\");\n    if (el != null) {\n      el.textContent = \"BokehJS is loading...\";\n    }\n    if (root.Bokeh !== undefined) {\n      if (el != null) {\n        el.textContent = \"BokehJS \" + root.Bokeh.version + \" successfully loaded.\";\n      }\n    } else if (Date.now() < root._bokeh_timeout) {\n      setTimeout(display_loaded, 100)\n    }\n  }\n\n  function run_callbacks() {\n    try {\n      root._bokeh_onload_callbacks.forEach(function(callback) {\n        if (callback != null)\n          callback();\n      });\n    } finally {\n      delete root._bokeh_onload_callbacks\n    }\n    console.debug(\"Bokeh: all callbacks have finished\");\n  }\n\n  function load_libs(css_urls, js_urls, callback) {\n    if (css_urls == null) css_urls = [];\n    if (js_urls == null) js_urls = [];\n\n    root._bokeh_onload_callbacks.push(callback);\n    if (root._bokeh_is_loading > 0) {\n      console.debug(\"Bokeh: BokehJS is being loaded, scheduling callback at\", now());\n      return null;\n    }\n    if (js_urls == null || js_urls.length === 0) {\n      run_callbacks();\n      return null;\n    }\n    console.debug(\"Bokeh: BokehJS not loaded, scheduling load and callback at\", now());\n    root._bokeh_is_loading = css_urls.length + js_urls.length;\n\n    function on_load() {\n      root._bokeh_is_loading--;\n      if (root._bokeh_is_loading === 0) {\n        console.debug(\"Bokeh: all BokehJS libraries/stylesheets loaded\");\n        run_callbacks()\n      }\n    }\n\n    function on_error(url) {\n      console.error(\"failed to load \" + url);\n    }\n\n    for (let i = 0; i < css_urls.length; i++) {\n      const url = css_urls[i];\n      const element = document.createElement(\"link\");\n      element.onload = on_load;\n      element.onerror = on_error.bind(null, url);\n      element.rel = \"stylesheet\";\n      element.type = \"text/css\";\n      element.href = url;\n      console.debug(\"Bokeh: injecting link tag for BokehJS stylesheet: \", url);\n      document.body.appendChild(element);\n    }\n\n    for (let i = 0; i < js_urls.length; i++) {\n      const url = js_urls[i];\n      const element = document.createElement('script');\n      element.onload = on_load;\n      element.onerror = on_error.bind(null, url);\n      element.async = false;\n      element.src = url;\n      console.debug(\"Bokeh: injecting script tag for BokehJS library: \", url);\n      document.head.appendChild(element);\n    }\n  };\n\n  function inject_raw_css(css) {\n    const element = document.createElement(\"style\");\n    element.appendChild(document.createTextNode(css));\n    document.body.appendChild(element);\n  }\n\n  const js_urls = [\"https://cdn.bokeh.org/bokeh/release/bokeh-2.4.3.min.js\", \"https://cdn.bokeh.org/bokeh/release/bokeh-gl-2.4.3.min.js\", \"https://cdn.bokeh.org/bokeh/release/bokeh-widgets-2.4.3.min.js\", \"https://cdn.bokeh.org/bokeh/release/bokeh-tables-2.4.3.min.js\", \"https://cdn.bokeh.org/bokeh/release/bokeh-mathjax-2.4.3.min.js\"];\n  const css_urls = [];\n\n  const inline_js = [    function(Bokeh) {\n      Bokeh.set_log_level(\"info\");\n    },\nfunction(Bokeh) {\n    }\n  ];\n\n  function run_inline_js() {\n    if (root.Bokeh !== undefined || force === true) {\n          for (let i = 0; i < inline_js.length; i++) {\n      inline_js[i].call(root, root.Bokeh);\n    }\nif (force === true) {\n        display_loaded();\n      }} else if (Date.now() < root._bokeh_timeout) {\n      setTimeout(run_inline_js, 100);\n    } else if (!root._bokeh_failed_load) {\n      console.log(\"Bokeh: BokehJS failed to load within specified timeout.\");\n      root._bokeh_failed_load = true;\n    } else if (force !== true) {\n      const cell = $(document.getElementById(\"1002\")).parents('.cell').data().cell;\n      cell.output_area.append_execute_result(NB_LOAD_WARNING)\n    }\n  }\n\n  if (root._bokeh_is_loading === 0) {\n    console.debug(\"Bokeh: BokehJS loaded, going straight to plotting\");\n    run_inline_js();\n  } else {\n    load_libs(css_urls, js_urls, function() {\n      console.debug(\"Bokeh: BokehJS plotting callback run at\", now());\n      run_inline_js();\n    });\n  }\n}(window));",
      "application/vnd.bokehjs_load.v0+json": ""
     },
     "metadata": {},
     "output_type": "display_data"
    }
   ],
   "source": [
    "import bokeh.plotting as pl\n",
    "import bokeh.models as bm\n",
    "from bokeh.io import output_notebook, show\n",
    "output_notebook()\n",
    "\n",
    "def draw_attention(inp_line, translation, probs):\n",
    "    \"\"\" An intentionally ambiguous function to visualize attention weights \"\"\"\n",
    "    inp_tokens = inp_voc.tokenize(inp_line)\n",
    "    trans_tokens = out_voc.tokenize(translation)\n",
    "    probs = probs[:len(trans_tokens), :len(inp_tokens)]\n",
    "    \n",
    "    fig = pl.figure(x_range=(0, len(inp_tokens)), y_range=(0, len(trans_tokens)),\n",
    "                    x_axis_type=None, y_axis_type=None, tools=[])\n",
    "    fig.image([probs[::-1]], 0, 0, len(inp_tokens), len(trans_tokens))\n",
    "\n",
    "    fig.add_layout(bm.LinearAxis(axis_label='source tokens'), 'above')\n",
    "    fig.xaxis.ticker = np.arange(len(inp_tokens)) + 0.5\n",
    "    fig.xaxis.major_label_overrides = dict(zip(np.arange(len(inp_tokens)) + 0.5, inp_tokens))\n",
    "    fig.xaxis.major_label_orientation = 45\n",
    "\n",
    "    fig.add_layout(bm.LinearAxis(axis_label='translation tokens'), 'left')\n",
    "    fig.yaxis.ticker = np.arange(len(trans_tokens)) + 0.5\n",
    "    fig.yaxis.major_label_overrides = dict(zip(np.arange(len(trans_tokens)) + 0.5, trans_tokens[::-1]))\n",
    "\n",
    "    show(fig)"
   ]
  },
  {
   "cell_type": "code",
   "execution_count": 93,
   "metadata": {},
   "outputs": [],
   "source": [
    "inp = dev_inp[::500]\n",
    "\n",
    "trans, states = model.translate_lines(inp)\n",
    "\n",
    "# select attention probs from model state (you may need to change this for your custom model)\n",
    "# attention_probs below must have shape [batch_size, translation_length, input_length], extracted from states\n",
    "# e.g. if attention probs are at the end of each state, use np.stack([state[-1] for state in states], axis=1)\n",
    "attention_probs = np.stack([state[-1][-1].detach().cpu().numpy() for state in states], axis=1)"
   ]
  },
  {
   "cell_type": "code",
   "execution_count": 94,
   "metadata": {},
   "outputs": [
    {
     "data": {
      "text/html": [
       "\n",
       "  <div class=\"bk-root\" id=\"df4d1c1e-5657-4345-a67f-9f57f1627f18\" data-root-id=\"32373\"></div>\n"
      ]
     },
     "metadata": {},
     "output_type": "display_data"
    },
    {
     "data": {
      "application/javascript": "(function(root) {\n  function embed_document(root) {\n  const docs_json = {\"de249818-889d-4c2a-a680-7adf4cb4a631\":{\"defs\":[],\"roots\":{\"references\":[{\"attributes\":{\"above\":[{\"id\":\"32395\"}],\"left\":[{\"id\":\"32398\"}],\"renderers\":[{\"id\":\"32393\"}],\"title\":{\"id\":\"33041\"},\"toolbar\":{\"id\":\"32382\"},\"x_range\":{\"id\":\"32374\"},\"x_scale\":{\"id\":\"32378\"},\"y_range\":{\"id\":\"32376\"},\"y_scale\":{\"id\":\"32380\"}},\"id\":\"32373\",\"subtype\":\"Figure\",\"type\":\"Plot\"},{\"attributes\":{\"color_mapper\":{\"id\":\"32385\"},\"dh\":{\"value\":13},\"dw\":{\"value\":11},\"image\":{\"field\":\"image\"},\"x\":{\"value\":0},\"y\":{\"value\":0}},\"id\":\"32384\",\"type\":\"Image\"},{\"attributes\":{\"ticks\":[0.5,1.5,2.5,3.5,4.5,5.5,6.5,7.5,8.5,9.5,10.5,11.5,12.5]},\"id\":\"32399\",\"type\":\"FixedTicker\"},{\"attributes\":{\"data\":{\"image\":[{\"__ndarray__\":\"p3bnOdvMLTrCyQM7p/LZOgS8SDulXxM7rfZ/OiilmzyeL1w9bTZzPT+FHz3ph687iUTDOyu9qj08NVg7gNiwPLI6wzorYig7DvZEO000uD0qkx0/KRL6OwD4Qzj0NbI4WISsOmV/FDqZ6qc5pu6dPByZrjpcHRA7Gm72PlPy+D58g645t5eBOLQkHzk1Jmg5MPd+OKh7Gjk/P6Q7KaFaOiufBDvLF0Y+YWhKP87orzkvrPQ2PQ2+Nma1DDntjB84LnTEOnWTpTu0uOQ6+me7PV0n2T61sPI+TAmzODyGcDt4VsQ6XayEOzC3Ajt9g9g5Zos+PON50jpiA9U8SnuUPg7XJz8NPSc5pIXROkic7Dsu5OI8iaQkPO9cKjw/z208pKSnPl2YkDw5bzQ+OvXKPiUdATqkwac6lXFaN6O3IjmrKoo4xJLFOXwK0D1XhV0/Ol6hOkyYozv6Xso8PWFYN4B9GDv+rE855a5/OoxkpTqKILk9n7NQPk+eIT+QppA8EcMCPQAlojzTd4A3kQNLPKJgGzwnpgg9kBGoPP/fFz46cJ49l2a4Pge3QzxEb049d7+xPZ71DDxaFmk9MT+HPLthrjyyFus7IFGjPgbI4j1/nBY9NxgOPcF9yD1OSts90PgOPCf1Gj28OTM8HKD6POsGDj4peYA9ylAvPmKxnz4ZPRM9cQfFPWcrxj0XNqs5IppsPXNJFD3pbs0970JyPZzFWT5Wnn0+Sw0YPjLtkD2DBCw9qpjKPHp+Qjc=\",\"dtype\":\"float32\",\"order\":\"little\",\"shape\":[13,11]}]},\"selected\":{\"id\":\"33048\"},\"selection_policy\":{\"id\":\"33047\"}},\"id\":\"32383\",\"type\":\"ColumnDataSource\"},{\"attributes\":{\"end\":11},\"id\":\"32374\",\"type\":\"Range1d\"},{\"attributes\":{\"end\":13},\"id\":\"32376\",\"type\":\"Range1d\"},{\"attributes\":{},\"id\":\"32378\",\"type\":\"LinearScale\"},{\"attributes\":{},\"id\":\"33043\",\"type\":\"BasicTickFormatter\"},{\"attributes\":{\"palette\":[\"#000000\",\"#252525\",\"#525252\",\"#737373\",\"#969696\",\"#bdbdbd\",\"#d9d9d9\",\"#f0f0f0\",\"#ffffff\"]},\"id\":\"32385\",\"type\":\"LinearColorMapper\"},{\"attributes\":{},\"id\":\"33044\",\"type\":\"AllLabels\"},{\"attributes\":{\"color_mapper\":{\"id\":\"32391\"},\"dh\":{\"value\":13},\"dw\":{\"value\":11},\"global_alpha\":{\"value\":0.2},\"image\":{\"field\":\"image\"},\"x\":{\"value\":0},\"y\":{\"value\":0}},\"id\":\"32390\",\"type\":\"Image\"},{\"attributes\":{},\"id\":\"32380\",\"type\":\"LinearScale\"},{\"attributes\":{},\"id\":\"32382\",\"type\":\"Toolbar\"},{\"attributes\":{\"color_mapper\":{\"id\":\"32388\"},\"dh\":{\"value\":13},\"dw\":{\"value\":11},\"global_alpha\":{\"value\":0.1},\"image\":{\"field\":\"image\"},\"x\":{\"value\":0},\"y\":{\"value\":0}},\"id\":\"32387\",\"type\":\"Image\"},{\"attributes\":{},\"id\":\"33046\",\"type\":\"AllLabels\"},{\"attributes\":{},\"id\":\"33047\",\"type\":\"UnionRenderers\"},{\"attributes\":{\"axis_label\":\"source tokens\",\"coordinates\":null,\"formatter\":{\"id\":\"33045\"},\"group\":null,\"major_label_orientation\":45,\"major_label_overrides\":{\"0.5\":\"_BOS_\",\"1.5\":\"\\u0432\",\"10.5\":\"_EOS_\",\"2.5\":\"\\u0440\\u0430\\u0441\\u043f\\u043e\\u0440\\u044f\\u0436\\u0435\\u043d\\u0438\\u0438\",\"3.5\":\"\\u0433\\u043e\\u0441\\u0442\\u0435\\u0439\",\"4.5\":\"\\u043e\\u0431\\u0449\\u0430\\u044f\",\"5.5\":\"\\u043a\\u0443\\u0445\\u043d\\u044f\",\"6.5\":\"\\u0438\",\"7.5\":\"\\u043e\\u0431\\u0449\\u0430\\u044f\",\"8.5\":\"\\u0433\\u043e\\u0441\\u0442\\u0438\\u043d\\u0430\\u044f\",\"9.5\":\".\"},\"major_label_policy\":{\"id\":\"33046\"},\"ticker\":{\"id\":\"32396\"}},\"id\":\"32395\",\"type\":\"LinearAxis\"},{\"attributes\":{\"source\":{\"id\":\"32383\"}},\"id\":\"32394\",\"type\":\"CDSView\"},{\"attributes\":{},\"id\":\"33048\",\"type\":\"Selection\"},{\"attributes\":{\"axis_label\":\"translation tokens\",\"coordinates\":null,\"formatter\":{\"id\":\"33043\"},\"group\":null,\"major_label_overrides\":{\"0.5\":\"_EOS_\",\"1.5\":\".\",\"10.5\":\"is\",\"11.5\":\"there\",\"12.5\":\"_BOS_\",\"2.5\":\"room\",\"3.5\":\"living\",\"4.5\":\"shared\",\"5.5\":\"a\",\"6.5\":\"and\",\"7.5\":\"kitchen\",\"8.5\":\"shared\",\"9.5\":\"a\"},\"major_label_policy\":{\"id\":\"33044\"},\"ticker\":{\"id\":\"32399\"}},\"id\":\"32398\",\"type\":\"LinearAxis\"},{\"attributes\":{\"palette\":[\"#000000\",\"#252525\",\"#525252\",\"#737373\",\"#969696\",\"#bdbdbd\",\"#d9d9d9\",\"#f0f0f0\",\"#ffffff\"]},\"id\":\"32388\",\"type\":\"LinearColorMapper\"},{\"attributes\":{\"coordinates\":null,\"data_source\":{\"id\":\"32383\"},\"glyph\":{\"id\":\"32384\"},\"group\":null,\"hover_glyph\":null,\"muted_glyph\":{\"id\":\"32390\"},\"nonselection_glyph\":{\"id\":\"32387\"},\"view\":{\"id\":\"32394\"}},\"id\":\"32393\",\"type\":\"GlyphRenderer\"},{\"attributes\":{\"palette\":[\"#000000\",\"#252525\",\"#525252\",\"#737373\",\"#969696\",\"#bdbdbd\",\"#d9d9d9\",\"#f0f0f0\",\"#ffffff\"]},\"id\":\"32391\",\"type\":\"LinearColorMapper\"},{\"attributes\":{},\"id\":\"33045\",\"type\":\"BasicTickFormatter\"},{\"attributes\":{\"coordinates\":null,\"group\":null},\"id\":\"33041\",\"type\":\"Title\"},{\"attributes\":{\"ticks\":[0.5,1.5,2.5,3.5,4.5,5.5,6.5,7.5,8.5,9.5,10.5]},\"id\":\"32396\",\"type\":\"FixedTicker\"}],\"root_ids\":[\"32373\"]},\"title\":\"Bokeh Application\",\"version\":\"2.4.3\"}};\n  const render_items = [{\"docid\":\"de249818-889d-4c2a-a680-7adf4cb4a631\",\"root_ids\":[\"32373\"],\"roots\":{\"32373\":\"df4d1c1e-5657-4345-a67f-9f57f1627f18\"}}];\n  root.Bokeh.embed.embed_items_notebook(docs_json, render_items);\n  }\n  if (root.Bokeh !== undefined) {\n    embed_document(root);\n  } else {\n    let attempts = 0;\n    const timer = setInterval(function(root) {\n      if (root.Bokeh !== undefined) {\n        clearInterval(timer);\n        embed_document(root);\n      } else {\n        attempts++;\n        if (attempts > 100) {\n          clearInterval(timer);\n          console.log(\"Bokeh: ERROR: Unable to run BokehJS code because BokehJS library is missing\");\n        }\n      }\n    }, 10, root)\n  }\n})(window);",
      "application/vnd.bokehjs_exec.v0+json": ""
     },
     "metadata": {
      "application/vnd.bokehjs_exec.v0+json": {
       "id": "32373"
      }
     },
     "output_type": "display_data"
    },
    {
     "data": {
      "text/html": [
       "\n",
       "  <div class=\"bk-root\" id=\"9e77ce26-b0cf-4f8b-83b3-ecb57eb0f94b\" data-root-id=\"33089\"></div>\n"
      ]
     },
     "metadata": {},
     "output_type": "display_data"
    },
    {
     "data": {
      "application/javascript": "(function(root) {\n  function embed_document(root) {\n  const docs_json = {\"02150dd6-6ba8-4966-87de-a5daeab30f5f\":{\"defs\":[],\"roots\":{\"references\":[{\"attributes\":{\"above\":[{\"id\":\"33111\"}],\"left\":[{\"id\":\"33114\"}],\"renderers\":[{\"id\":\"33109\"}],\"title\":{\"id\":\"33765\"},\"toolbar\":{\"id\":\"33098\"},\"x_range\":{\"id\":\"33090\"},\"x_scale\":{\"id\":\"33094\"},\"y_range\":{\"id\":\"33092\"},\"y_scale\":{\"id\":\"33096\"}},\"id\":\"33089\",\"subtype\":\"Figure\",\"type\":\"Plot\"},{\"attributes\":{\"source\":{\"id\":\"33099\"}},\"id\":\"33110\",\"type\":\"CDSView\"},{\"attributes\":{},\"id\":\"33767\",\"type\":\"BasicTickFormatter\"},{\"attributes\":{\"color_mapper\":{\"id\":\"33107\"},\"dh\":{\"value\":11},\"dw\":{\"value\":15},\"global_alpha\":{\"value\":0.2},\"image\":{\"field\":\"image\"},\"x\":{\"value\":0},\"y\":{\"value\":0}},\"id\":\"33106\",\"type\":\"Image\"},{\"attributes\":{},\"id\":\"33768\",\"type\":\"AllLabels\"},{\"attributes\":{\"palette\":[\"#000000\",\"#252525\",\"#525252\",\"#737373\",\"#969696\",\"#bdbdbd\",\"#d9d9d9\",\"#f0f0f0\",\"#ffffff\"]},\"id\":\"33104\",\"type\":\"LinearColorMapper\"},{\"attributes\":{\"coordinates\":null,\"data_source\":{\"id\":\"33099\"},\"glyph\":{\"id\":\"33100\"},\"group\":null,\"hover_glyph\":null,\"muted_glyph\":{\"id\":\"33106\"},\"nonselection_glyph\":{\"id\":\"33103\"},\"view\":{\"id\":\"33110\"}},\"id\":\"33109\",\"type\":\"GlyphRenderer\"},{\"attributes\":{},\"id\":\"33769\",\"type\":\"BasicTickFormatter\"},{\"attributes\":{\"axis_label\":\"translation tokens\",\"coordinates\":null,\"formatter\":{\"id\":\"33767\"},\"group\":null,\"major_label_overrides\":{\"0.5\":\"_EOS_\",\"1.5\":\".\",\"10.5\":\"_BOS_\",\"2.5\":\"available\",\"3.5\":\"also\",\"4.5\":\"are\",\"5.5\":\"parking\",\"6.5\":\"free\",\"7.5\":\"and\",\"8.5\":\"rental\",\"9.5\":\"bicycle\"},\"major_label_policy\":{\"id\":\"33768\"},\"ticker\":{\"id\":\"33115\"}},\"id\":\"33114\",\"type\":\"LinearAxis\"},{\"attributes\":{\"color_mapper\":{\"id\":\"33101\"},\"dh\":{\"value\":11},\"dw\":{\"value\":15},\"image\":{\"field\":\"image\"},\"x\":{\"value\":0},\"y\":{\"value\":0}},\"id\":\"33100\",\"type\":\"Image\"},{\"attributes\":{},\"id\":\"33770\",\"type\":\"AllLabels\"},{\"attributes\":{},\"id\":\"33771\",\"type\":\"UnionRenderers\"},{\"attributes\":{},\"id\":\"33772\",\"type\":\"Selection\"},{\"attributes\":{\"end\":15},\"id\":\"33090\",\"type\":\"Range1d\"},{\"attributes\":{\"ticks\":[0.5,1.5,2.5,3.5,4.5,5.5,6.5,7.5,8.5,9.5,10.5,11.5,12.5,13.5,14.5]},\"id\":\"33112\",\"type\":\"FixedTicker\"},{\"attributes\":{\"coordinates\":null,\"group\":null},\"id\":\"33765\",\"type\":\"Title\"},{\"attributes\":{\"end\":11},\"id\":\"33092\",\"type\":\"Range1d\"},{\"attributes\":{\"ticks\":[0.5,1.5,2.5,3.5,4.5,5.5,6.5,7.5,8.5,9.5,10.5]},\"id\":\"33115\",\"type\":\"FixedTicker\"},{\"attributes\":{\"data\":{\"image\":[{\"__ndarray__\":\"1H2vOr4inDkMcIY7C4g6Ol+PWTse0q46nqv7Oc7wyDo+mhA7NcgaOWPVYjtma4g640nTO8SttD2+d0k9he3mPfEXnzx1YTI+GMs0PfNyWj2RgCo9xM3fPJXOHz1kCqY87lM6PW4FJz3gEiE9f8aVPC0dzz0i50o8WR1qOyeogzo3YJQ7OjTuPIAFwzunC588KChXPdJLkz19Qxc8UYLSPcWOfD0w1AE9aWNsPWtb/T4S4UQ7er/2PCTX4TzbtlE9wJkqPcm2Xz2jt549bsQHPktC0D2UI7Q81ZzlPR41tT3KkJQ8gbu7PDB3CD4R3Jw7iVuFPG0xyjwU3Tw9WmcZPQKdaDv0saM7dPdjOkL2RTyhV1E7r/+7O/DVdD0u6NY9HJ4zPrzv1z4ebZc765mvNiKmjTfHxm056XSAOemHKzk9Z8U5r4EkOsoMkjovaNA6Gqm9O0wTPjw7vr48d/NuPo+6Nz/mWGQ5173BOLtycjodnRY6swD6OXLzTjpWnQk67smdO6VMfzs86JM81hkcPIcucz31Uzw+F11mPt1X+j4M6TU51/u4O0ETHDpPQZo5YFBZOsD+ZDqxF/A7/EEaPCLUAT5oeVU9Y5RlPWdWND9bgMA7dt+DO26msjxcK2Q5xSYhPVDiRTyY2EA753mdOmZiMTvNkJU7dlhkPMAAmT5bEYg+UExDPcGrmT4Vh6c7IxIGO3WrVzsBHas3ZUVmOtwlATsBLzE88wc8PLBVKj2O8Kc8jQGnPTuZ2D4zlTg97GeRPA0DpT5jWos6wuY2O2z8lzzbFR0421rZPRMnrz0uSTo9GaJ5PfDLnj0Asjw+26zQPPgO2T0kCHo+0SFHPBoI3jxxaGM86NCFO/zwrDtfzuY4\",\"dtype\":\"float32\",\"order\":\"little\",\"shape\":[11,15]}]},\"selected\":{\"id\":\"33772\"},\"selection_policy\":{\"id\":\"33771\"}},\"id\":\"33099\",\"type\":\"ColumnDataSource\"},{\"attributes\":{},\"id\":\"33096\",\"type\":\"LinearScale\"},{\"attributes\":{},\"id\":\"33098\",\"type\":\"Toolbar\"},{\"attributes\":{},\"id\":\"33094\",\"type\":\"LinearScale\"},{\"attributes\":{\"palette\":[\"#000000\",\"#252525\",\"#525252\",\"#737373\",\"#969696\",\"#bdbdbd\",\"#d9d9d9\",\"#f0f0f0\",\"#ffffff\"]},\"id\":\"33101\",\"type\":\"LinearColorMapper\"},{\"attributes\":{\"axis_label\":\"source tokens\",\"coordinates\":null,\"formatter\":{\"id\":\"33769\"},\"group\":null,\"major_label_orientation\":45,\"major_label_overrides\":{\"0.5\":\"_BOS_\",\"1.5\":\"\\u043a\\u0440\\u043e\\u043c\\u0435\",\"10.5\":\"\\u0438\",\"11.5\":\"\\u0431\\u0435\\u0441\\u043f\\u043b\\u0430\\u0442\\u043d\\u0430\\u044f\",\"12.5\":\"\\u043f\\u0430\\u0440\\u043a\\u043e\\u0432\\u043a\\u0430\",\"13.5\":\".\",\"14.5\":\"_EOS_\",\"2.5\":\"\\u0442\\u043e\\u0433\\u043e\",\"3.5\":\",\",\"4.5\":\"\\u043f\\u0440\\u0435\\u0434\\u043e\\u0441\\u0442\\u0430\\u0432\\u043b\\u044f\\u0435\\u0442\\u0441\\u044f\",\"5.5\":\"\\u043f\\u0440\\u043e\\u043a\\u0430\\u0442\",\"6.5\":\"\\u0432\\u0435\\u043b\\u043e\\u0441\\u0438\\u043f\\u0435\\u0434\\u043e\\u0432\",\"7.5\":\",\",\"8.5\":\"\\u0443\\u0441\\u043b\\u0443\\u0433\\u0438\",\"9.5\":\"\\u0442\\u0440\\u0430\\u043d\\u0441\\u0444\\u0435\\u0440\\u0430\"},\"major_label_policy\":{\"id\":\"33770\"},\"ticker\":{\"id\":\"33112\"}},\"id\":\"33111\",\"type\":\"LinearAxis\"},{\"attributes\":{\"palette\":[\"#000000\",\"#252525\",\"#525252\",\"#737373\",\"#969696\",\"#bdbdbd\",\"#d9d9d9\",\"#f0f0f0\",\"#ffffff\"]},\"id\":\"33107\",\"type\":\"LinearColorMapper\"},{\"attributes\":{\"color_mapper\":{\"id\":\"33104\"},\"dh\":{\"value\":11},\"dw\":{\"value\":15},\"global_alpha\":{\"value\":0.1},\"image\":{\"field\":\"image\"},\"x\":{\"value\":0},\"y\":{\"value\":0}},\"id\":\"33103\",\"type\":\"Image\"}],\"root_ids\":[\"33089\"]},\"title\":\"Bokeh Application\",\"version\":\"2.4.3\"}};\n  const render_items = [{\"docid\":\"02150dd6-6ba8-4966-87de-a5daeab30f5f\",\"root_ids\":[\"33089\"],\"roots\":{\"33089\":\"9e77ce26-b0cf-4f8b-83b3-ecb57eb0f94b\"}}];\n  root.Bokeh.embed.embed_items_notebook(docs_json, render_items);\n  }\n  if (root.Bokeh !== undefined) {\n    embed_document(root);\n  } else {\n    let attempts = 0;\n    const timer = setInterval(function(root) {\n      if (root.Bokeh !== undefined) {\n        clearInterval(timer);\n        embed_document(root);\n      } else {\n        attempts++;\n        if (attempts > 100) {\n          clearInterval(timer);\n          console.log(\"Bokeh: ERROR: Unable to run BokehJS code because BokehJS library is missing\");\n        }\n      }\n    }, 10, root)\n  }\n})(window);",
      "application/vnd.bokehjs_exec.v0+json": ""
     },
     "metadata": {
      "application/vnd.bokehjs_exec.v0+json": {
       "id": "33089"
      }
     },
     "output_type": "display_data"
    },
    {
     "data": {
      "text/html": [
       "\n",
       "  <div class=\"bk-root\" id=\"759c0469-cd6c-488b-b80b-6803c0a87be7\" data-root-id=\"33813\"></div>\n"
      ]
     },
     "metadata": {},
     "output_type": "display_data"
    },
    {
     "data": {
      "application/javascript": "(function(root) {\n  function embed_document(root) {\n  const docs_json = {\"e92f8c27-1f29-45ad-b217-f2201b90d9fb\":{\"defs\":[],\"roots\":{\"references\":[{\"attributes\":{\"above\":[{\"id\":\"33835\"}],\"left\":[{\"id\":\"33838\"}],\"renderers\":[{\"id\":\"33833\"}],\"title\":{\"id\":\"34497\"},\"toolbar\":{\"id\":\"33822\"},\"x_range\":{\"id\":\"33814\"},\"x_scale\":{\"id\":\"33818\"},\"y_range\":{\"id\":\"33816\"},\"y_scale\":{\"id\":\"33820\"}},\"id\":\"33813\",\"subtype\":\"Figure\",\"type\":\"Plot\"},{\"attributes\":{\"ticks\":[0.5,1.5,2.5,3.5,4.5,5.5,6.5,7.5,8.5,9.5,10.5,11.5]},\"id\":\"33839\",\"type\":\"FixedTicker\"},{\"attributes\":{\"source\":{\"id\":\"33823\"}},\"id\":\"33834\",\"type\":\"CDSView\"},{\"attributes\":{},\"id\":\"34502\",\"type\":\"AllLabels\"},{\"attributes\":{},\"id\":\"34503\",\"type\":\"UnionRenderers\"},{\"attributes\":{\"axis_label\":\"source tokens\",\"coordinates\":null,\"formatter\":{\"id\":\"34501\"},\"group\":null,\"major_label_orientation\":45,\"major_label_overrides\":{\"0.5\":\"_BOS_\",\"1.5\":\"\\u0440\\u0430\\u0441\\u0441\\u0442\\u043e\\u044f\\u043d\\u0438\\u0435\",\"10.5\":\"\\u043a\\u043c\",\"11.5\":\".\",\"12.5\":\"_EOS_\",\"2.5\":\"\\u0434\\u043e\",\"3.5\":\"\\u0433\\u043e\\u0440\\u043e\\u0434\\u0430\",\"4.5\":\"\\u043a\\u0438@@\",\"5.5\":\"\\u0441\\u0441\\u0438@@\",\"6.5\":\"\\u043c@@\",\"7.5\":\"\\u043c\\u0438\",\"8.5\":\"\\u0441\\u043e\\u0441\\u0442\\u0430\\u0432\\u043b\\u044f\\u0435\\u0442\",\"9.5\":\"26\"},\"major_label_policy\":{\"id\":\"34502\"},\"ticker\":{\"id\":\"33836\"}},\"id\":\"33835\",\"type\":\"LinearAxis\"},{\"attributes\":{},\"id\":\"34504\",\"type\":\"Selection\"},{\"attributes\":{\"axis_label\":\"translation tokens\",\"coordinates\":null,\"formatter\":{\"id\":\"34499\"},\"group\":null,\"major_label_overrides\":{\"0.5\":\"_EOS_\",\"1.5\":\".\",\"10.5\":\"the\",\"11.5\":\"_BOS_\",\"2.5\":\"away\",\"3.5\":\"km\",\"4.5\":\"26\",\"5.5\":\"is\",\"6.5\":\"ice\",\"7.5\":\"le@@\",\"8.5\":\"of\",\"9.5\":\"town\"},\"major_label_policy\":{\"id\":\"34500\"},\"ticker\":{\"id\":\"33839\"}},\"id\":\"33838\",\"type\":\"LinearAxis\"},{\"attributes\":{\"coordinates\":null,\"group\":null},\"id\":\"34497\",\"type\":\"Title\"},{\"attributes\":{\"ticks\":[0.5,1.5,2.5,3.5,4.5,5.5,6.5,7.5,8.5,9.5,10.5,11.5,12.5]},\"id\":\"33836\",\"type\":\"FixedTicker\"},{\"attributes\":{\"palette\":[\"#000000\",\"#252525\",\"#525252\",\"#737373\",\"#969696\",\"#bdbdbd\",\"#d9d9d9\",\"#f0f0f0\",\"#ffffff\"]},\"id\":\"33825\",\"type\":\"LinearColorMapper\"},{\"attributes\":{\"data\":{\"image\":[{\"__ndarray__\":\"Wu/oO4SOXDyZOyM9UROBO0qcHTtPdFU6tOqJOlJb+jmDekM8Pz0TOvqKgjmacqg6B8Y7PZiklztvUhk63NjdO2V3ID2BG1Y7Gwy5PDbNFzz6vpI7klY9O7BePDsIPNs867CGPCUvMD2j9XQ+TsXhO1xm0T3QjOU+8AdGPAhjCz2+Pwc8Je21Oxf+gzxZhVw8M0PqPBsHhT2HxIQ6sa3XN0Jl3TXx4Y04KwoBOZNrlDbM/Lg3lZ2qN274dTbop5E35bBnOyeMfj8lZtk6GcgiN7D+ZTk1D402XvpANhTDXDnokH82RiTfN5J6oDcUMKM3T1iWOOG9xj1k0mI/bSGFPFyfsjZWItI8H59CPNroyz1cUPc9bzzrPWiNlD02tpk98egDPlSKkz6ZfA88ZjCaPEiekDyNGGU6CP0hPcUtlDzhPjs7hzgyPN0DFD1XbK09LKl5PYc3wTygUjc/aHIqO42PIDqvbE87KhImODC3bzuq2QI6kSpGOQAMbTyCYL09cRJePvnqAT/JcmU9SkrZPXlltDphjzk5GhGdORf5ojdz3/g7jPu7Odm/LztSfk0+dVloPbOMUD67irI+rzPMPeNa5ztZTMU7oqIQO7lYlTz05xc715NfPNRjyDpt/Ko78XCpPsnpGz7M0gk+x1aGPiD1VT29kAs9alHuOeu6SjodMIU6LJ4OOiQyzzoKjJ45qlXNOcKvuDvXjKw9xgWGPulMAj9VR+A9zZDKPIUFljqpLMc5UUd8OurblzcT48o+5ItpPkIwkT0/2Zk9ikGTPBSfLzw0CZU92kSnPRbWijyQaVQ76fGTO0s9uju+TlM6\",\"dtype\":\"float32\",\"order\":\"little\",\"shape\":[12,13]}]},\"selected\":{\"id\":\"34504\"},\"selection_policy\":{\"id\":\"34503\"}},\"id\":\"33823\",\"type\":\"ColumnDataSource\"},{\"attributes\":{\"color_mapper\":{\"id\":\"33828\"},\"dh\":{\"value\":12},\"dw\":{\"value\":13},\"global_alpha\":{\"value\":0.1},\"image\":{\"field\":\"image\"},\"x\":{\"value\":0},\"y\":{\"value\":0}},\"id\":\"33827\",\"type\":\"Image\"},{\"attributes\":{\"end\":13},\"id\":\"33814\",\"type\":\"Range1d\"},{\"attributes\":{\"end\":12},\"id\":\"33816\",\"type\":\"Range1d\"},{\"attributes\":{\"coordinates\":null,\"data_source\":{\"id\":\"33823\"},\"glyph\":{\"id\":\"33824\"},\"group\":null,\"hover_glyph\":null,\"muted_glyph\":{\"id\":\"33830\"},\"nonselection_glyph\":{\"id\":\"33827\"},\"view\":{\"id\":\"33834\"}},\"id\":\"33833\",\"type\":\"GlyphRenderer\"},{\"attributes\":{\"color_mapper\":{\"id\":\"33825\"},\"dh\":{\"value\":12},\"dw\":{\"value\":13},\"image\":{\"field\":\"image\"},\"x\":{\"value\":0},\"y\":{\"value\":0}},\"id\":\"33824\",\"type\":\"Image\"},{\"attributes\":{},\"id\":\"33820\",\"type\":\"LinearScale\"},{\"attributes\":{},\"id\":\"33818\",\"type\":\"LinearScale\"},{\"attributes\":{\"palette\":[\"#000000\",\"#252525\",\"#525252\",\"#737373\",\"#969696\",\"#bdbdbd\",\"#d9d9d9\",\"#f0f0f0\",\"#ffffff\"]},\"id\":\"33828\",\"type\":\"LinearColorMapper\"},{\"attributes\":{\"palette\":[\"#000000\",\"#252525\",\"#525252\",\"#737373\",\"#969696\",\"#bdbdbd\",\"#d9d9d9\",\"#f0f0f0\",\"#ffffff\"]},\"id\":\"33831\",\"type\":\"LinearColorMapper\"},{\"attributes\":{},\"id\":\"34499\",\"type\":\"BasicTickFormatter\"},{\"attributes\":{\"color_mapper\":{\"id\":\"33831\"},\"dh\":{\"value\":12},\"dw\":{\"value\":13},\"global_alpha\":{\"value\":0.2},\"image\":{\"field\":\"image\"},\"x\":{\"value\":0},\"y\":{\"value\":0}},\"id\":\"33830\",\"type\":\"Image\"},{\"attributes\":{},\"id\":\"34500\",\"type\":\"AllLabels\"},{\"attributes\":{},\"id\":\"33822\",\"type\":\"Toolbar\"},{\"attributes\":{},\"id\":\"34501\",\"type\":\"BasicTickFormatter\"}],\"root_ids\":[\"33813\"]},\"title\":\"Bokeh Application\",\"version\":\"2.4.3\"}};\n  const render_items = [{\"docid\":\"e92f8c27-1f29-45ad-b217-f2201b90d9fb\",\"root_ids\":[\"33813\"],\"roots\":{\"33813\":\"759c0469-cd6c-488b-b80b-6803c0a87be7\"}}];\n  root.Bokeh.embed.embed_items_notebook(docs_json, render_items);\n  }\n  if (root.Bokeh !== undefined) {\n    embed_document(root);\n  } else {\n    let attempts = 0;\n    const timer = setInterval(function(root) {\n      if (root.Bokeh !== undefined) {\n        clearInterval(timer);\n        embed_document(root);\n      } else {\n        attempts++;\n        if (attempts > 100) {\n          clearInterval(timer);\n          console.log(\"Bokeh: ERROR: Unable to run BokehJS code because BokehJS library is missing\");\n        }\n      }\n    }, 10, root)\n  }\n})(window);",
      "application/vnd.bokehjs_exec.v0+json": ""
     },
     "metadata": {
      "application/vnd.bokehjs_exec.v0+json": {
       "id": "33813"
      }
     },
     "output_type": "display_data"
    },
    {
     "data": {
      "text/html": [
       "\n",
       "  <div class=\"bk-root\" id=\"05f051a8-6acb-46d6-83f8-8f7b84019aa1\" data-root-id=\"34545\"></div>\n"
      ]
     },
     "metadata": {},
     "output_type": "display_data"
    },
    {
     "data": {
      "application/javascript": "(function(root) {\n  function embed_document(root) {\n  const docs_json = {\"0a157ecd-8bb6-4f04-a3f4-86ddb14e1e15\":{\"defs\":[],\"roots\":{\"references\":[{\"attributes\":{\"above\":[{\"id\":\"34567\"}],\"left\":[{\"id\":\"34570\"}],\"renderers\":[{\"id\":\"34565\"}],\"title\":{\"id\":\"35237\"},\"toolbar\":{\"id\":\"34554\"},\"x_range\":{\"id\":\"34546\"},\"x_scale\":{\"id\":\"34550\"},\"y_range\":{\"id\":\"34548\"},\"y_scale\":{\"id\":\"34552\"}},\"id\":\"34545\",\"subtype\":\"Figure\",\"type\":\"Plot\"},{\"attributes\":{\"palette\":[\"#000000\",\"#252525\",\"#525252\",\"#737373\",\"#969696\",\"#bdbdbd\",\"#d9d9d9\",\"#f0f0f0\",\"#ffffff\"]},\"id\":\"34560\",\"type\":\"LinearColorMapper\"},{\"attributes\":{},\"id\":\"35243\",\"type\":\"UnionRenderers\"},{\"attributes\":{\"coordinates\":null,\"data_source\":{\"id\":\"34555\"},\"glyph\":{\"id\":\"34556\"},\"group\":null,\"hover_glyph\":null,\"muted_glyph\":{\"id\":\"34562\"},\"nonselection_glyph\":{\"id\":\"34559\"},\"view\":{\"id\":\"34566\"}},\"id\":\"34565\",\"type\":\"GlyphRenderer\"},{\"attributes\":{\"axis_label\":\"translation tokens\",\"coordinates\":null,\"formatter\":{\"id\":\"35239\"},\"group\":null,\"major_label_overrides\":{\"0.5\":\"_EOS_\",\"1.5\":\".\",\"10.5\":\"is\",\"11.5\":\"aca\",\"12.5\":\"bon@@\",\"13.5\":\"in\",\"14.5\":\",\",\"15.5\":\"terrace\",\"16.5\":\"sun\",\"17.5\":\"a\",\"18.5\":\"and\",\"19.5\":\"garden\",\"2.5\":\"beach\",\"20.5\":\"a\",\"21.5\":\",\",\"22.5\":\"garden\",\"23.5\":\"a\",\"24.5\":\",\",\"25.5\":\"garden\",\"26.5\":\"a\",\"27.5\":\",\",\"28.5\":\"garden\",\"29.5\":\"a\",\"3.5\":\"the\",\"30.5\":\",\",\"31.5\":\"garden\",\"32.5\":\"a\",\"33.5\":\",\",\"34.5\":\"pool\",\"35.5\":\"outdoor\",\"36.5\":\"an\",\"37.5\":\"offering\",\"38.5\":\"_BOS_\",\"4.5\":\"from\",\"5.5\":\"walk\",\"6.5\":\"minute\",\"7.5\":\"-\",\"8.5\":\"5\",\"9.5\":\"a\"},\"major_label_policy\":{\"id\":\"35240\"},\"ticker\":{\"id\":\"34571\"}},\"id\":\"34570\",\"type\":\"LinearAxis\"},{\"attributes\":{},\"id\":\"35244\",\"type\":\"Selection\"},{\"attributes\":{\"color_mapper\":{\"id\":\"34557\"},\"dh\":{\"value\":39},\"dw\":{\"value\":32},\"image\":{\"field\":\"image\"},\"x\":{\"value\":0},\"y\":{\"value\":0}},\"id\":\"34556\",\"type\":\"Image\"},{\"attributes\":{\"coordinates\":null,\"group\":null},\"id\":\"35237\",\"type\":\"Title\"},{\"attributes\":{\"ticks\":[0.5,1.5,2.5,3.5,4.5,5.5,6.5,7.5,8.5,9.5,10.5,11.5,12.5,13.5,14.5,15.5,16.5,17.5,18.5,19.5,20.5,21.5,22.5,23.5,24.5,25.5,26.5,27.5,28.5,29.5,30.5,31.5]},\"id\":\"34568\",\"type\":\"FixedTicker\"},{\"attributes\":{},\"id\":\"34550\",\"type\":\"LinearScale\"},{\"attributes\":{\"ticks\":[0.5,1.5,2.5,3.5,4.5,5.5,6.5,7.5,8.5,9.5,10.5,11.5,12.5,13.5,14.5,15.5,16.5,17.5,18.5,19.5,20.5,21.5,22.5,23.5,24.5,25.5,26.5,27.5,28.5,29.5,30.5,31.5,32.5,33.5,34.5,35.5,36.5,37.5,38.5]},\"id\":\"34571\",\"type\":\"FixedTicker\"},{\"attributes\":{\"palette\":[\"#000000\",\"#252525\",\"#525252\",\"#737373\",\"#969696\",\"#bdbdbd\",\"#d9d9d9\",\"#f0f0f0\",\"#ffffff\"]},\"id\":\"34557\",\"type\":\"LinearColorMapper\"},{\"attributes\":{\"end\":32},\"id\":\"34546\",\"type\":\"Range1d\"},{\"attributes\":{\"end\":39},\"id\":\"34548\",\"type\":\"Range1d\"},{\"attributes\":{\"color_mapper\":{\"id\":\"34560\"},\"dh\":{\"value\":39},\"dw\":{\"value\":32},\"global_alpha\":{\"value\":0.1},\"image\":{\"field\":\"image\"},\"x\":{\"value\":0},\"y\":{\"value\":0}},\"id\":\"34559\",\"type\":\"Image\"},{\"attributes\":{},\"id\":\"35242\",\"type\":\"AllLabels\"},{\"attributes\":{},\"id\":\"34552\",\"type\":\"LinearScale\"},{\"attributes\":{\"data\":{\"image\":[{\"__ndarray__\":\"RfsrPKV2NjytMHc7F0u0Ou/K9zqo1RA89D6aPXskdz1jJxM9nlKbPa5jaDtL87s7CiI3PcE4ET1x2dI61OksO0AmtTs/+v48aLpcPLjBWDugQbU88BU3PBhJ3zsGwyk+1cOoPXHFrzwcFMU9tXRKPRE/mzwQZws9yJsNPV6JzDwmCB05/OMVOgcouDkWM1w5HB2QOcQu+Tqp8yw674fROS+7XDjzyIU5oYRFN/tqLDiNyMk3imuEOcnBEzhB0cE4Pz2zOXgLQDqeUno5Q61gOGSCuDn+D5w6/oszO2c+ez5jyQY+V7CoPudscT2ihwI9SR4IPdfvhz1mBLw9odLNOf2mUzYvSwA38j9uNQwTpDhSWbI4GDg/OXAaLDjgJzg4Nd7fN8dPGzijGoQ44h5AOWvIZjiNuOs4BUOrOCMvUziMLTs6n3mEOWXFnzhvBA04mMk2OLJhITkD1A06pdRJPk7jIT0bY5c+LESuPjcGuz23Ps88MjCWO/7yVTu5MWY1c6PQOBTnljkJBgM3GwFyOc8xIztA55g69IFEOSWh8zlnJvQ4uEkqOEuIKzgHhTQ35Va+OCkKyjgp3pg4rLXVOO2P8zlFZ+c57q4/ORxOszflxiE5p0CGOcKiZTrLNgc+Yc2kPICebz1uohQ/8ruJPT6S8zwGdGA9RbdIPblmOzhyHu08nJstPa5E6zu9FHs7vb7uPCvWNT4pygU8KoYiOskBVTl7MQg78NgUO0yyEzuKSJo6O7C4PB3xzzrBbr081TEJPIf7jjusSBs9GZO9O8bDojuoTRI9D1xbPrMzGT3l+ww+BW7IPR8nLT2WdGE7gaivO/A8OTseyQ48KmBmN87uEDh9lqY4F1IZOAhdEzlXEAE6/YT7OJEEyTjUlvw49KslONLP7jcW2Dg5YKSfOAWKSDq9d8o61+CtOWyqtTmOkpI6JS8aOs5yczofGhU84FUUPaYTxj6xjg0/KRDuOqNU7jkoXyw6xRaSOsfkhTlmqJc6nO78Ol5b1TkDySs2p9GLOOzQBDqEnRY6fGOXOsju2zuGb4Q6vqvjOvFRpzr4Sh46C+F7Og5t1TkpLX07riJBPKWe7T1dhls5pA+ROqL60ju/XpU7GZcbO2k/mjwZD/095jwYPuZ1Cz/NdU86pL/AOHzQgDhX0ho6evy6OJR+oDkBrxM6EqCcOU9NMjZ1jWc2HlsZOqDgfzkrMow63JIuOaKDIDgcW0Y3TKyfN/13lDd1ZTs4q16YOIjPAzqCZ6A6cqUQOwLz6zn4Vaw52ZLdOjTPKzpDTJY438iDPGINQD+LVGE+IRF7O8MQhDniziQ3jq4rN9ibojjJtdY2POwlNyEBDjhF6E83c5ZoN1YPSDrE2N8869D8O+AaWDtNsDc72TvCOzORlTrJ+ic7yTXOOrGuNzqSqvw5UNMhPBW92DspZGU7HGTEOdp+NjqA7is7yFInPEUNJzyybfI98OtBP+T7wDxV5I4617raOdyRyTbUzoQ4+SMaOc1sxTfoEKk31XoXOXd4iTlWeS42OOP5OhIhPj00Rr87C8gGPJWIQTqcRKo7DrTiOk+mhzuz5QY6kX3LOohrQTkcElY7bPDQPEAE/zz+LUI5ye9HO+o7hzs7J7Q77iW2PP3Ctj2WsC4/hm9QPTlszDrNE4Q563YjONwCOTle9Dk6Dx76ODpeljl/EAg7pYtVOqxajzclnpI86+GHPB0rhTyDPSc9zkElPb7PSz0R8Rg+ZDIZPVUNijy5qSQ841vgOCXEbDqFXBI8Bp95PLHcxzlOK8M5BtXWOlYGLzy686M8rvElPCj8tzytXEM9QoenOkcjhT1PgxQ8CuxoPRPfsj29x4U9uXgfPY/FSD2NDb49NLr9OannpTvJjcE6OC3TOjD+XTz/7ig9gaIcPRiocDqOhA462H5iOaNhDjm0IqU4pi+lOC0CLTqC16c6xJqMOAEi2Tivlos7HUKsO+2enzk9lh86GLaTOps6vzmCzS04/XH7OnHUuznNkwI8l9enPT6emz6vekw9baw8Psg/gT76k3c3wdqAOQHiDjqe12Y52M0BPBj+IT3g7Y08hqaJOruVjzp2KTw6sDCfOHauyjeGzw44Si9VOycRhTl7zyI4YHIFOG7RmTmn858617YSO/92ojpsna86EgEzOzz1dTnDXEw7rI1rOXv5tTrtCXs+HP6JPi8DmD0fRHw+NkagPYl4pTiZUzU6GGXZO4TO3DzLwII+4eomP1D+KDyjrZI7gvMDO6KZfTpy4ho5yJfYOhxRgDkzsO46Xq6KOj6TjDpqoFw6tF7TOm9EEDzIS5g7O4x7OnzCDjtl6aU6YTKcOqW/7jt2Dao5MYtpOQWM4TqpiYc6bOPmOemohTqL82M6HjMLOYjHtTqx9nI7GmLGOzAOsTyfs5Y9YBjdPLSE/Dq5+LA6fxPUOpmO6jrqOgM6lLAfOwUBUjqiViE7aO02O2lRnj28qcw+rpOJPlwMFz14cmc7mg3TPPUzXzwYcBc7cqS3OtyMEzw6KwI7OERlO8mFADuNl4g6K+C2OcF7qjrSPSo7g+lHNqvQWzfEabw31Fy7OJj3DTrhvQo4c4cVONEERTmfYwU6qbMnOtuAoToMoq46qAUuOrRM7DpBx307vWDxPInQUD/yZww+QpGpO+adFDkjki06Xq5FONR89TVRl9M3WBtfOVZpTDjOfC84nXLRNpZ7aDYmA9A2zY1lOORprjnM9Js0EHaBNvdSxzUiZ5I2m4eyNyCdiDRE9RA4/wfsOMzJvDgRuME4NwMFOoH3hjp8cGc5oUZTOa3XhzyFAjQ9LANuP1BV1zutjAU51DLzNwRBlDmfzn04N9OoNXkPgTl6RW8498RPN8sE3TaEV4s2kO9xNjRwUTVA39E2XV6RNk0RWThKP4s6w1tuOTzWFTrr8UQ55H1ZNwFxeDhbu7Q6DqbIOjGMIDvIOYU7Jxu+OuXe4Tw7RdU6ca1JPQ0RfD3x3kw/2aAtPY/Mczo84MA4gANmOcKHyjgu65A3ZvQjOWjRmzodqSg6zT3lOYvkGzkMMkI55DgaOFJLBTlgQfg3n1snOXXtyDhJsB45vP6NOnXIAjvlf+E7RMQbPR8tWD0boEg9TkWSPQozET3hBMg9Luy5O+FcND4kM4w8aTZdPbA4jD4liaU9wRNzPFTdZTwTqU07C1JhOihcDjoLOWI6IDu6OtyHPTqUzlc6nWKIOIxJDzj1phQ4uB8NOR1cNznMyBU2rV5NOP7hoDdB5po3nHQROH0+kjaP8jQ6nhK0O9J6uDxZRw08eheyPqqj9z3QGzk8W3YTPaaZmz3bdNY8I6VAPs4NDj5tVN45L523Olr9TjwlH/Y6I1SfOZ7xSjrP6643yE6hNixVqTfu1iE2bXKfNk2IoDbNFbQ2O8R+Npvy8Tt2MC87p9TSO6GOtztOCJY6slcCO5VTNzu+7ec8LB6qPTnmEzyxV4c+J6Y6PEkVhj0/+8E9NPPyPI8QKjxcnFY9PzyWPohciTzJDhc7H5hWO5D1kDpJifQ6ZVW4OkliCzr13ZQ5Jq0+OrHkoDjuk1U4HfOBOeFvcTq9gm05BCFGORv2yzis4ho5T0KHOr/R5Do85+c7QSUlPUpcfz2Gy2o9brt0PXoWJT2ttOI9TW6kO3vQRT4eDnU8jYIzPXPWhD6/FI89CxNJPCK1XzyndjU7/WA1OmJJzjkSURU6HW10Oj1VCzr6Fxc6pZw/OB1PwTcWQL83kbquOIhu+TilijU2Zk54OICJkTcL4283K/XuN/7xqzYcAUI6ulvFO217qDzQpN07iMLfPhzQ+j2i0i88zAMdPf9LeT3Y+as8oLccPkCQ4D0lM7k5P0mUOvLmFDwwkKk6MGNjOXfDCzrljIc3hMSKNmh6YDc5deA1ii5dNjbUYjbKZX02J4QtNgD2+Tt21AA7UDXMO8MnjDs9lWM65RURO2E9OjvUzck8s4CdPTdd4DuJhKY+UH9YPOAohT0vv989JFnLPAXP7Dv2oBM9JS2GPhLQWTxdKAY7tCktO9VzRjqzYaE6h0lVOqlOnjkmKkE57lHwOUg4VjgQaRc4PCouOUG6Gjqn3xU5yiZJOdsOzjiF0wQ5wZ1gOpcAxTqG2Og7XP0uPaYYlD1ZdpE9TBxMPQtqOD1BQhQ+LMSKOxHSUT6yqjg8uO4EPQW4aD4NgGg94K8bPC8rVTwa7xo7Y4cNOthkjDnQl7o5Td8WOu9MxDnmTLw5M3P8NztwbzfBl2E3UL9FOFO1lzgweVM2d+alOD/qaTcuTy034dPUNxLb4DZDwEs6UvbVO8xRrzwXSbI7X2IEP0QLCz6l6R08UJ02PRH6KT3ICYA8m//jPWrHpT00dZY5TXeBOvC41jtpx1k6QK0bOStlsTmjiEM3iD5cNu5UBDdZtY81xvwHNj82Djb9XCk28lPaNZTenzuqGq06tH6NOyg1IjuNcRM6mAkEO0sMIztZLpA8OdqGPZLcqTvmE9A+acSzPLtFjT23BPE9fCiRPE35mDtS6a08HLRfPravIDzi6Pw6fA78OqMK5DkrHS46OF3FOTF/Izk5BOU4cPSGOY077jeq0qs3iCu/OJ0stjlFDqI46sQbOY8H7TiuqtQ445ouOlZDsDo8+aE7xaEyPco1nT2Nxak94043PfWiQT2IoV8+2ZlYO5JMNj5CEO87Sq68PPfzTz5Gryw99QPTO9zERTx/AQQ7oQG/OZEXLDnkwUU5u4mtOdgYeDmRd0g5uMmXN9r/CzeXFuw2aS3UN5dMIDh5NII26SUjOYY1RDf6MRE30LvgN7PAGjfbLpc6Fm7oO3YJ8Dy+3a87I9sDP8hlST4VYQk8eq5aPZyMvTxRl0M8My6nPUgTbj1Rtoc5PviIOkMgzTvCaCE6kljiOMLkYDmHHRI3tvkuNifzmTaCuDU12rSfNStBrzXvpQQ2HauQNd8WCDvK38Q6WwtrOwA2vzou1+s5IyyfOp/6+zqSQV884VSBPbjAwTsEIeY+6A9qPWEnoz1FMew9WbxaPN9rejs43DQ8S8oiPtFBFTxUlkQ7teUsOyrynzkNtKw5vdxFOVi7ljj5H3Y4eqdPOR0XsDeWfZE32+qcOIsZhDnu2C84v+soOQgthTkBcx85rnZMOmvgrzpCVKY7CwNBPakz5z3Dyc494wCKPWC4LD1Xhos+hKM0O5b84z1dQ207byd/PLGdKT6kE+s8AbiXO7ClVDypHRk7FIzKOQ+NDTkQMT45+KG0OWs9nDkMJlQ5hUDRNwZm7DaJwbY20CHXN5iczjdv9t82EyVYOc9LRTc9acA3QvM7OGzeJzcML/M6jgzrO798FD0Vdic80JDDPlKExT6bXcI7Fs8LPTm2IjwGhhE89hWIPe0hMD1JcEU5iAyoOnBozTs6PGw5ztQVOO903zgDdYU2ndRPNl4ZCjcN7kA1oUedNev3yTU8lI02masXNdPC2zkON5U7PgrEO9auGDvOqDU7gbBJOgGDbjrvpEg8VrdyPVffhzx5/iI+Ss5ZPuMw5D0qwZM+pAaTOxXGIjvzAaU8R/COPQNwijuxUSg84XEfPFhvzznvcS05ldGnOEz1CDgCLP43aihHOcWCuzfJrW039bCxOLDMAjlHN5U3ry8ZOtWPtDpMXtI5bCJeOtpmeTwcTeM6VlozPYVDzj37qWc+L3/JPsIQPjskLeA8MTd3PMYdiT0hZt86cRZSPCR0Bz3/wDM9pcPXOyoMXjqbjhk6C/m7OG+skjnCW8U3mhoKOULdlTmQ5yA6bpDjOfqycjnxs2M5L7+6Ol+MPDd8jL83baqnOUA4kjd7vIg3Sls9OgmgBTmVpzU7N0s+PYCIAj8+fmc++rsSO56SYD1Q4WU7Hcu0PMex0TpLfus81GmKPTYk7TwSQ0A7/QpAOn+bEznV9Ks4FJIbN5bWmDd1gDA4qkuINykbQDiu5EI2mNVINnd4ljYU/ps3i9YNN5ziLzm45Ew76qKHOgzivzm29EU4u9vfOIpPCTpgDiM8KVBRP+HTtz0ITXA7jlmSPCPhhDt4Qe47Qpm9OjyRTzr6ixc8rGfcPOA5PzpW5+Q6NseSOj1IODpHX7Q4NZW/OLzv/jeNQeg4684HOt2lsjjmM2U4FPbwOIbvKDovVHI1/i5OOgA3iztvdfE65TZgOrlmCjmnJOs5SVUvO1jXCz7cLjc/xvjBPb8LpTuHEdo7Frb0OhAY6TuGIWE6FczkOonElTsf9BM8Qc6sOrIZADtp6Xs6qkL2OOI9kjckzWY3sMVLOP1rSTk0bBw6zafRNx/mGDhtPrE2pwPgNnuqtzaZYC88iafzPW/EkD3hsDQ+lD+OPCCHYDvheNI8bc/bPZ4xOz7XZb49PFMBPLxCzzw6qLM8qZSyO2zRlztfit47/N3KPIIFsDxO91U8L2qnPPdoqTy0Fo07tfwFOiJ7xTrPLYw5Cd69OkpG/juvols6/EpJOuViizrQ1TA73FYWNmQ3mT5Swik+d/ahPdY1qj2yynQ9SrtePmeeSTziwSQ7OmsuPG3ONTs0ht07tW/TOhB/sDsLNvI71hA1OsBKJDsNuCQ7cZJcO/7RIzu4uOU7jL5/OxqvkTviCQo7kZAeOwfewzjY+ho7zo4YO1KrtzpDOsQ6GfKUOprJvjvyPqU2\",\"dtype\":\"float32\",\"order\":\"little\",\"shape\":[39,32]}]},\"selected\":{\"id\":\"35244\"},\"selection_policy\":{\"id\":\"35243\"}},\"id\":\"34555\",\"type\":\"ColumnDataSource\"},{\"attributes\":{},\"id\":\"34554\",\"type\":\"Toolbar\"},{\"attributes\":{\"axis_label\":\"source tokens\",\"coordinates\":null,\"formatter\":{\"id\":\"35241\"},\"group\":null,\"major_label_orientation\":45,\"major_label_overrides\":{\"0.5\":\"_BOS_\",\"1.5\":\"\\u0430\\u043f\\u0430\\u0440\\u0442\\u0430\\u043c\\u0435\\u043d\\u0442\\u044b\",\"10.5\":\"\\u0441\\u0430\\u0434\\u043e\\u043c\",\"11.5\":\",\",\"12.5\":\"\\u043a\\u043e\\u043d\\u0434\\u0438\\u0446\\u0438\\u043e\\u043d\\u0435\\u0440\\u043e\\u043c\",\"13.5\":\"\\u0438\",\"14.5\":\"\\u0442\\u0435\\u0440\\u0440\\u0430\\u0441\\u043e\\u0439\",\"15.5\":\"\\u0434\\u043b\\u044f\",\"16.5\":\"\\u0437\\u0430\\u0433\\u0430\\u0440\\u0430\",\"17.5\":\"\\u0440\\u0430\\u0441\\u043f\\u043e\\u043b\\u043e\\u0436\\u0435\\u043d\\u044b\",\"18.5\":\"\\u0432\",\"19.5\":\"5\",\"2.5\":\"\\u0432\",\"20.5\":\"\\u043c\\u0438\\u043d\\u0443\\u0442\\u0430\\u0445\",\"21.5\":\"\\u0445\\u043e\\u0434\\u044c\\u0431\\u044b\",\"22.5\":\"\\u043e\\u0442\",\"23.5\":\"\\u043f\\u043b\\u044f\\u0436\\u0430\",\"24.5\":\"\\u043d\\u0430\",\"25.5\":\"\\u043a\\u0443\\u0440\\u043e\\u0440\\u0442\\u0435\",\"26.5\":\"\\u043a\\u0430@@\",\"27.5\":\"\\u0431\\u043e\",\"28.5\":\"-\",\"29.5\":\"\\u0440\\u043e\\u0439\",\"3.5\":\"\\u043f\\u0435\\u043d\\u0442@@\",\"30.5\":\".\",\"31.5\":\"_EOS_\",\"4.5\":\"\\u0445\\u0430\\u0443\\u0441\\u0435\",\"5.5\":\"\\u0441\",\"6.5\":\"\\u043e\\u0431\\u0449\\u0438\\u043c\",\"7.5\":\"\\u043e\\u0442\\u043a\\u0440\\u044b\\u0442\\u044b\\u043c\",\"8.5\":\"\\u0431\\u0430\\u0441\\u0441\\u0435\\u0439\\u043d\\u043e\\u043c\",\"9.5\":\",\"},\"major_label_policy\":{\"id\":\"35242\"},\"ticker\":{\"id\":\"34568\"}},\"id\":\"34567\",\"type\":\"LinearAxis\"},{\"attributes\":{\"palette\":[\"#000000\",\"#252525\",\"#525252\",\"#737373\",\"#969696\",\"#bdbdbd\",\"#d9d9d9\",\"#f0f0f0\",\"#ffffff\"]},\"id\":\"34563\",\"type\":\"LinearColorMapper\"},{\"attributes\":{\"source\":{\"id\":\"34555\"}},\"id\":\"34566\",\"type\":\"CDSView\"},{\"attributes\":{},\"id\":\"35239\",\"type\":\"BasicTickFormatter\"},{\"attributes\":{\"color_mapper\":{\"id\":\"34563\"},\"dh\":{\"value\":39},\"dw\":{\"value\":32},\"global_alpha\":{\"value\":0.2},\"image\":{\"field\":\"image\"},\"x\":{\"value\":0},\"y\":{\"value\":0}},\"id\":\"34562\",\"type\":\"Image\"},{\"attributes\":{},\"id\":\"35241\",\"type\":\"BasicTickFormatter\"},{\"attributes\":{},\"id\":\"35240\",\"type\":\"AllLabels\"}],\"root_ids\":[\"34545\"]},\"title\":\"Bokeh Application\",\"version\":\"2.4.3\"}};\n  const render_items = [{\"docid\":\"0a157ecd-8bb6-4f04-a3f4-86ddb14e1e15\",\"root_ids\":[\"34545\"],\"roots\":{\"34545\":\"05f051a8-6acb-46d6-83f8-8f7b84019aa1\"}}];\n  root.Bokeh.embed.embed_items_notebook(docs_json, render_items);\n  }\n  if (root.Bokeh !== undefined) {\n    embed_document(root);\n  } else {\n    let attempts = 0;\n    const timer = setInterval(function(root) {\n      if (root.Bokeh !== undefined) {\n        clearInterval(timer);\n        embed_document(root);\n      } else {\n        attempts++;\n        if (attempts > 100) {\n          clearInterval(timer);\n          console.log(\"Bokeh: ERROR: Unable to run BokehJS code because BokehJS library is missing\");\n        }\n      }\n    }, 10, root)\n  }\n})(window);",
      "application/vnd.bokehjs_exec.v0+json": ""
     },
     "metadata": {
      "application/vnd.bokehjs_exec.v0+json": {
       "id": "34545"
      }
     },
     "output_type": "display_data"
    },
    {
     "data": {
      "text/html": [
       "\n",
       "  <div class=\"bk-root\" id=\"a8464268-d6f5-4d08-a369-04256c26702e\" data-root-id=\"35285\"></div>\n"
      ]
     },
     "metadata": {},
     "output_type": "display_data"
    },
    {
     "data": {
      "application/javascript": "(function(root) {\n  function embed_document(root) {\n  const docs_json = {\"2b911bcb-234b-497c-86d6-e0d589a53233\":{\"defs\":[],\"roots\":{\"references\":[{\"attributes\":{\"above\":[{\"id\":\"35307\"}],\"left\":[{\"id\":\"35310\"}],\"renderers\":[{\"id\":\"35305\"}],\"title\":{\"id\":\"35985\"},\"toolbar\":{\"id\":\"35294\"},\"x_range\":{\"id\":\"35286\"},\"x_scale\":{\"id\":\"35290\"},\"y_range\":{\"id\":\"35288\"},\"y_scale\":{\"id\":\"35292\"}},\"id\":\"35285\",\"subtype\":\"Figure\",\"type\":\"Plot\"},{\"attributes\":{},\"id\":\"35990\",\"type\":\"AllLabels\"},{\"attributes\":{\"ticks\":[0.5,1.5,2.5,3.5,4.5,5.5,6.5,7.5,8.5,9.5,10.5,11.5,12.5,13.5,14.5,15.5,16.5,17.5,18.5,19.5,20.5,21.5,22.5]},\"id\":\"35308\",\"type\":\"FixedTicker\"},{\"attributes\":{\"data\":{\"image\":[{\"__ndarray__\":\"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\",\"dtype\":\"float32\",\"order\":\"little\",\"shape\":[17,23]}]},\"selected\":{\"id\":\"35992\"},\"selection_policy\":{\"id\":\"35991\"}},\"id\":\"35295\",\"type\":\"ColumnDataSource\"},{\"attributes\":{},\"id\":\"35991\",\"type\":\"UnionRenderers\"},{\"attributes\":{},\"id\":\"35992\",\"type\":\"Selection\"},{\"attributes\":{\"coordinates\":null,\"group\":null},\"id\":\"35985\",\"type\":\"Title\"},{\"attributes\":{\"ticks\":[0.5,1.5,2.5,3.5,4.5,5.5,6.5,7.5,8.5,9.5,10.5,11.5,12.5,13.5,14.5,15.5,16.5]},\"id\":\"35311\",\"type\":\"FixedTicker\"},{\"attributes\":{},\"id\":\"35290\",\"type\":\"LinearScale\"},{\"attributes\":{\"color_mapper\":{\"id\":\"35297\"},\"dh\":{\"value\":17},\"dw\":{\"value\":23},\"image\":{\"field\":\"image\"},\"x\":{\"value\":0},\"y\":{\"value\":0}},\"id\":\"35296\",\"type\":\"Image\"},{\"attributes\":{\"palette\":[\"#000000\",\"#252525\",\"#525252\",\"#737373\",\"#969696\",\"#bdbdbd\",\"#d9d9d9\",\"#f0f0f0\",\"#ffffff\"]},\"id\":\"35297\",\"type\":\"LinearColorMapper\"},{\"attributes\":{\"end\":23},\"id\":\"35286\",\"type\":\"Range1d\"},{\"attributes\":{\"end\":17},\"id\":\"35288\",\"type\":\"Range1d\"},{\"attributes\":{},\"id\":\"35294\",\"type\":\"Toolbar\"},{\"attributes\":{\"axis_label\":\"source tokens\",\"coordinates\":null,\"formatter\":{\"id\":\"35989\"},\"group\":null,\"major_label_orientation\":45,\"major_label_overrides\":{\"0.5\":\"_BOS_\",\"1.5\":\"\\u0430\\u043f\\u0430\\u0440\\u0442\\u0430\\u043c\\u0435\\u043d\\u0442\\u044b\",\"10.5\":\"square\",\"11.5\":\"\\u043d\\u0430\\u0445\\u043e\\u0434\\u044f\\u0442\\u0441\\u044f\",\"12.5\":\"\\u0432\",\"13.5\":\"\\u043c\\u043e\\u0441\\u043a\\u0432\\u0435\",\"14.5\":\",\",\"15.5\":\"\\u0432\",\"16.5\":\"200\",\"17.5\":\"\\u043c\\u0435\\u0442\\u0440\\u0430\\u0445\",\"18.5\":\"\\u043e\\u0442\",\"19.5\":\"\\u0431\\u043e\\u043b\\u044c\\u0448\\u043e\\u0433\\u043e\",\"2.5\":\"mo@@\",\"20.5\":\"\\u0442\\u0435\\u0430\\u0442\\u0440\\u0430\",\"21.5\":\".\",\"22.5\":\"_EOS_\",\"3.5\":\"s@@\",\"4.5\":\"co@@\",\"5.5\":\"w\",\"6.5\":\"point\",\"7.5\":\"-\",\"8.5\":\"loft\",\"9.5\":\"red\"},\"major_label_policy\":{\"id\":\"35990\"},\"ticker\":{\"id\":\"35308\"}},\"id\":\"35307\",\"type\":\"LinearAxis\"},{\"attributes\":{},\"id\":\"35292\",\"type\":\"LinearScale\"},{\"attributes\":{\"axis_label\":\"translation tokens\",\"coordinates\":null,\"formatter\":{\"id\":\"35987\"},\"group\":null,\"major_label_overrides\":{\"0.5\":\"_EOS_\",\"1.5\":\".\",\"10.5\":\"located\",\"11.5\":\"is\",\"12.5\":\"apartment\",\"13.5\":\"ry\",\"14.5\":\"mag@@\",\"15.5\":\"apartments\",\"16.5\":\"_BOS_\",\"2.5\":\"opera\",\"3.5\":\"theatre\",\"4.5\":\"from\",\"5.5\":\"metres\",\"6.5\":\"200\",\"7.5\":\",\",\"8.5\":\"moscow\",\"9.5\":\"in\"},\"major_label_policy\":{\"id\":\"35988\"},\"ticker\":{\"id\":\"35311\"}},\"id\":\"35310\",\"type\":\"LinearAxis\"},{\"attributes\":{\"color_mapper\":{\"id\":\"35300\"},\"dh\":{\"value\":17},\"dw\":{\"value\":23},\"global_alpha\":{\"value\":0.1},\"image\":{\"field\":\"image\"},\"x\":{\"value\":0},\"y\":{\"value\":0}},\"id\":\"35299\",\"type\":\"Image\"},{\"attributes\":{\"palette\":[\"#000000\",\"#252525\",\"#525252\",\"#737373\",\"#969696\",\"#bdbdbd\",\"#d9d9d9\",\"#f0f0f0\",\"#ffffff\"]},\"id\":\"35303\",\"type\":\"LinearColorMapper\"},{\"attributes\":{\"source\":{\"id\":\"35295\"}},\"id\":\"35306\",\"type\":\"CDSView\"},{\"attributes\":{},\"id\":\"35987\",\"type\":\"BasicTickFormatter\"},{\"attributes\":{\"color_mapper\":{\"id\":\"35303\"},\"dh\":{\"value\":17},\"dw\":{\"value\":23},\"global_alpha\":{\"value\":0.2},\"image\":{\"field\":\"image\"},\"x\":{\"value\":0},\"y\":{\"value\":0}},\"id\":\"35302\",\"type\":\"Image\"},{\"attributes\":{},\"id\":\"35988\",\"type\":\"AllLabels\"},{\"attributes\":{\"palette\":[\"#000000\",\"#252525\",\"#525252\",\"#737373\",\"#969696\",\"#bdbdbd\",\"#d9d9d9\",\"#f0f0f0\",\"#ffffff\"]},\"id\":\"35300\",\"type\":\"LinearColorMapper\"},{\"attributes\":{\"coordinates\":null,\"data_source\":{\"id\":\"35295\"},\"glyph\":{\"id\":\"35296\"},\"group\":null,\"hover_glyph\":null,\"muted_glyph\":{\"id\":\"35302\"},\"nonselection_glyph\":{\"id\":\"35299\"},\"view\":{\"id\":\"35306\"}},\"id\":\"35305\",\"type\":\"GlyphRenderer\"},{\"attributes\":{},\"id\":\"35989\",\"type\":\"BasicTickFormatter\"}],\"root_ids\":[\"35285\"]},\"title\":\"Bokeh Application\",\"version\":\"2.4.3\"}};\n  const render_items = [{\"docid\":\"2b911bcb-234b-497c-86d6-e0d589a53233\",\"root_ids\":[\"35285\"],\"roots\":{\"35285\":\"a8464268-d6f5-4d08-a369-04256c26702e\"}}];\n  root.Bokeh.embed.embed_items_notebook(docs_json, render_items);\n  }\n  if (root.Bokeh !== undefined) {\n    embed_document(root);\n  } else {\n    let attempts = 0;\n    const timer = setInterval(function(root) {\n      if (root.Bokeh !== undefined) {\n        clearInterval(timer);\n        embed_document(root);\n      } else {\n        attempts++;\n        if (attempts > 100) {\n          clearInterval(timer);\n          console.log(\"Bokeh: ERROR: Unable to run BokehJS code because BokehJS library is missing\");\n        }\n      }\n    }, 10, root)\n  }\n})(window);",
      "application/vnd.bokehjs_exec.v0+json": ""
     },
     "metadata": {
      "application/vnd.bokehjs_exec.v0+json": {
       "id": "35285"
      }
     },
     "output_type": "display_data"
    }
   ],
   "source": [
    "for i in range(5):\n",
    "    draw_attention(inp[i], trans[i], attention_probs[i])\n",
    "    \n",
    "# Does it look fine already? don't forget to save images for anytask!"
   ]
  },
  {
   "cell_type": "markdown",
   "metadata": {},
   "source": [
    "__Note 1:__ If the attention maps are not iterpretable, try starting encoder from zeros (instead of dec_start), forcing model to use attention.\n",
    "\n",
    "__Note 2:__ If you're studying this course as a YSDA student, please submit __attention screenshots__ alongside your notebook."
   ]
  },
  {
   "cell_type": "markdown",
   "metadata": {
    "colab_type": "text",
    "id": "pbIIngNVlrtt"
   },
   "source": [
    "## Goind deeper (2++ points each)\n",
    "\n",
    "We want you to find the best model for the task. Use everything you know.\n",
    "\n",
    "* different recurrent units: rnn/gru/lstm; deeper architectures\n",
    "* bidirectional encoder, different attention methods for decoder (additive, dot-product, multi-head)\n",
    "* word dropout, training schedules, anything you can imagine\n",
    "* replace greedy inference with beam search\n",
    "\n",
    "For a better grasp of seq2seq We recommend you to conduct at least one experiment from one of the bullet-points or your alternative ideas. As usual, describe what you tried and what results you obtained in a short report."
   ]
  },
  {
   "cell_type": "markdown",
   "metadata": {
    "colab_type": "text",
    "collapsed": true,
    "id": "2rzAj_xtlrtt"
   },
   "source": [
    "`[your report/log here or anywhere you please]`"
   ]
  }
 ],
 "metadata": {
  "accelerator": "GPU",
  "colab": {
   "collapsed_sections": [
    "edk_oVg0lrtW"
   ],
   "name": "practice.ipynb",
   "provenance": []
  },
  "kernelspec": {
   "display_name": "Python 3.8.10 ('venv': venv)",
   "language": "python",
   "name": "python3"
  },
  "language_info": {
   "codemirror_mode": {
    "name": "ipython",
    "version": 3
   },
   "file_extension": ".py",
   "mimetype": "text/x-python",
   "name": "python",
   "nbconvert_exporter": "python",
   "pygments_lexer": "ipython3",
   "version": "3.8.10"
  },
  "vscode": {
   "interpreter": {
    "hash": "c55a8b94a465fa5340e8198786d0984075c240dae13589f561345779563a9bf3"
   }
  }
 },
 "nbformat": 4,
 "nbformat_minor": 1
}
