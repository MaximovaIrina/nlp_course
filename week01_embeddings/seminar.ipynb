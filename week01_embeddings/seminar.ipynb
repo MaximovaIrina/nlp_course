{
 "cells": [
  {
   "cell_type": "markdown",
   "metadata": {},
   "source": [
    "## Seminar 1: Fun with Word Embeddings (3 points)\n",
    "\n",
    "Today we gonna play with word embeddings: train our own little embedding, load one from   gensim model zoo and use it to visualize text corpora.\n",
    "\n",
    "This whole thing is gonna happen on top of embedding dataset.\n",
    "\n",
    "__Requirements:__  `pip install --upgrade nltk gensim bokeh` , but only if you're running locally."
   ]
  },
  {
   "cell_type": "code",
   "execution_count": 1,
   "metadata": {
    "collapsed": true
   },
   "outputs": [
    {
     "name": "stdout",
     "output_type": "stream",
     "text": [
      "--2022-09-28 22:17:48--  https://www.dropbox.com/s/obaitrix9jyu84r/quora.txt?dl=1\n",
      "Resolving www.dropbox.com (www.dropbox.com)... 162.125.70.18, 2620:100:6026:18::a27d:4612\n",
      "Connecting to www.dropbox.com (www.dropbox.com)|162.125.70.18|:443... connected.\n",
      "HTTP request sent, awaiting response... 302 Found\n",
      "Location: /s/dl/obaitrix9jyu84r/quora.txt [following]\n",
      "--2022-09-28 22:17:49--  https://www.dropbox.com/s/dl/obaitrix9jyu84r/quora.txt\n",
      "Reusing existing connection to www.dropbox.com:443.\n",
      "HTTP request sent, awaiting response... 302 Found\n",
      "Location: https://ucfec090987d2cf3e90f0f2cd396.dl.dropboxusercontent.com/cd/0/get/Bt1ZuIeZZFT7_eE4j8k5h7pqF_5ajXCoBLddLha2ZjRxwuUv11rsW2l1TazlkD0SJq5hFA341DNPiW8uYAW9pFeo2PpluOvClLPPe-sx1ev9kTaAMU4yn2umfFxrCuV0V0HEZbd4jBwKzk5j9XRJr-NBR3C5B0ugQir81Y18Aebyuw/file?dl=1# [following]\n",
      "--2022-09-28 22:17:49--  https://ucfec090987d2cf3e90f0f2cd396.dl.dropboxusercontent.com/cd/0/get/Bt1ZuIeZZFT7_eE4j8k5h7pqF_5ajXCoBLddLha2ZjRxwuUv11rsW2l1TazlkD0SJq5hFA341DNPiW8uYAW9pFeo2PpluOvClLPPe-sx1ev9kTaAMU4yn2umfFxrCuV0V0HEZbd4jBwKzk5j9XRJr-NBR3C5B0ugQir81Y18Aebyuw/file?dl=1\n",
      "Resolving ucfec090987d2cf3e90f0f2cd396.dl.dropboxusercontent.com (ucfec090987d2cf3e90f0f2cd396.dl.dropboxusercontent.com)... 162.125.70.15, 2620:100:6026:15::a27d:460f\n",
      "Connecting to ucfec090987d2cf3e90f0f2cd396.dl.dropboxusercontent.com (ucfec090987d2cf3e90f0f2cd396.dl.dropboxusercontent.com)|162.125.70.15|:443... connected.\n",
      "HTTP request sent, awaiting response... 200 OK\n",
      "Length: 33813903 (32M) [application/binary]\n",
      "Saving to: ‘./quora.txt’\n",
      "\n",
      "./quora.txt         100%[===================>]  32.25M  7.82MB/s    in 4.8s    \n",
      "\n",
      "2022-09-28 22:17:55 (6.71 MB/s) - ‘./quora.txt’ saved [33813903/33813903]\n",
      "\n"
     ]
    }
   ],
   "source": [
    "# download the data:\n",
    "!wget https://www.dropbox.com/s/obaitrix9jyu84r/quora.txt?dl=1 -O ./quora.txt\n",
    "# alternative download link: https://yadi.sk/i/BPQrUu1NaTduEw"
   ]
  },
  {
   "cell_type": "code",
   "execution_count": 136,
   "metadata": {
    "scrolled": false
   },
   "outputs": [
    {
     "data": {
      "text/plain": [
       "\"What TV shows or books help you read people's body language?\\n\""
      ]
     },
     "execution_count": 136,
     "metadata": {},
     "output_type": "execute_result"
    }
   ],
   "source": [
    "import numpy as np\n",
    "\n",
    "data = list(open(\"./quora.txt\", encoding=\"utf-8\"))\n",
    "data[50]"
   ]
  },
  {
   "cell_type": "markdown",
   "metadata": {},
   "source": [
    "__Tokenization:__ a typical first step for an nlp task is to split raw data into words.\n",
    "The text we're working with is in raw format: with all the punctuation and smiles attached to some words, so a simple str.split won't do.\n",
    "\n",
    "Let's use __`nltk`__ - a library that handles many nlp tasks like tokenization, stemming or part-of-speech tagging."
   ]
  },
  {
   "cell_type": "code",
   "execution_count": 137,
   "metadata": {},
   "outputs": [
    {
     "name": "stdout",
     "output_type": "stream",
     "text": [
      "['What', 'TV', 'shows', 'or', 'books', 'help', 'you', 'read', 'people', \"'\", 's', 'body', 'language', '?']\n"
     ]
    }
   ],
   "source": [
    "from nltk.tokenize import WordPunctTokenizer\n",
    "tokenizer = WordPunctTokenizer()\n",
    "\n",
    "print(tokenizer.tokenize(data[50]))"
   ]
  },
  {
   "cell_type": "code",
   "execution_count": 138,
   "metadata": {},
   "outputs": [],
   "source": [
    "# TASK: lowercase everything and extract tokens with tokenizer. \n",
    "# data_tok should be a list of lists of tokens for each line in data.\n",
    "\n",
    "data_tok = [tokenizer.tokenize(x.lower()) for x in data]"
   ]
  },
  {
   "cell_type": "code",
   "execution_count": 139,
   "metadata": {},
   "outputs": [],
   "source": [
    "assert all(isinstance(row, (list, tuple)) for row in data_tok), \"please convert each line into a list of tokens (strings)\"\n",
    "assert all(all(isinstance(tok, str) for tok in row) for row in data_tok), \"please convert each line into a list of tokens (strings)\"\n",
    "is_latin = lambda tok: all('a' <= x.lower() <= 'z' for x in tok)\n",
    "assert all(map(lambda l: not is_latin(l) or l.islower(), map(' '.join, data_tok))), \"please make sure to lowercase the data\""
   ]
  },
  {
   "cell_type": "code",
   "execution_count": 140,
   "metadata": {},
   "outputs": [
    {
     "name": "stdout",
     "output_type": "stream",
     "text": [
      "[\"can i get back with my ex even though she is pregnant with another guy ' s baby ?\", 'what are some ways to overcome a fast food addiction ?']\n"
     ]
    }
   ],
   "source": [
    "print([' '.join(row) for row in data_tok[:2]])"
   ]
  },
  {
   "cell_type": "markdown",
   "metadata": {},
   "source": [
    "__Word vectors:__ as the saying goes, there's more than one way to train word embeddings. There's Word2Vec and GloVe with different objective functions. Then there's fasttext that uses character-level models to train word embeddings. \n",
    "\n",
    "The choice is huge, so let's start someplace small: __gensim__ is another nlp library that features many vector-based models incuding word2vec."
   ]
  },
  {
   "cell_type": "code",
   "execution_count": 141,
   "metadata": {},
   "outputs": [],
   "source": [
    "from gensim.models import Word2Vec\n",
    "model = Word2Vec(data_tok, \n",
    "                 size=32,   # embedding vector size\n",
    "                 min_count=5,      # consider words that occured at least 5 times\n",
    "                 window=5).wv      # define context as a 5-word window around the target word"
   ]
  },
  {
   "cell_type": "code",
   "execution_count": 142,
   "metadata": {},
   "outputs": [
    {
     "data": {
      "text/plain": [
       "array([-1.0840738 , -1.0899878 ,  3.7366033 ,  3.4359412 ,  0.9652503 ,\n",
       "        0.49851444, -2.413622  , -0.9798824 , -1.5737466 , -0.56559986,\n",
       "        0.5340658 , -0.75307375, -0.23356925,  0.78277534,  3.7601693 ,\n",
       "       -1.7087423 , -0.12394827,  3.756898  ,  0.88776475,  0.64567536,\n",
       "       -2.3810687 ,  1.8798122 , -1.3192656 , -0.03560625,  0.0670696 ,\n",
       "        3.878132  ,  0.1088402 ,  0.2051671 , -4.294698  ,  3.1240046 ,\n",
       "       -0.60834575, -1.9439847 ], dtype=float32)"
      ]
     },
     "execution_count": 142,
     "metadata": {},
     "output_type": "execute_result"
    }
   ],
   "source": [
    "# now you can get word vectors !\n",
    "model.get_vector('anything')"
   ]
  },
  {
   "cell_type": "code",
   "execution_count": 143,
   "metadata": {},
   "outputs": [
    {
     "data": {
      "text/plain": [
       "[('rice', 0.9627264738082886),\n",
       " ('fruit', 0.9407011270523071),\n",
       " ('cheese', 0.9218796491622925),\n",
       " ('wine', 0.9208146929740906),\n",
       " ('beans', 0.9135527610778809),\n",
       " ('corn', 0.9126021265983582),\n",
       " ('sauce', 0.9117609858512878),\n",
       " ('pasta', 0.9111007452011108),\n",
       " ('butter', 0.905281662940979),\n",
       " ('potato', 0.904766321182251)]"
      ]
     },
     "execution_count": 143,
     "metadata": {},
     "output_type": "execute_result"
    }
   ],
   "source": [
    "# or query similar words directly. Go play with it!\n",
    "model.most_similar('bread')"
   ]
  },
  {
   "cell_type": "markdown",
   "metadata": {},
   "source": [
    "### Using pre-trained model\n",
    "\n",
    "Took it a while, huh? Now imagine training life-sized (100~300D) word embeddings on gigabytes of text: wikipedia articles or twitter posts. \n",
    "\n",
    "Thankfully, nowadays you can get a pre-trained word embedding model in 2 lines of code (no sms required, promise)."
   ]
  },
  {
   "cell_type": "code",
   "execution_count": 144,
   "metadata": {},
   "outputs": [],
   "source": [
    "import gensim.downloader as api\n",
    "model = api.load('glove-twitter-100')"
   ]
  },
  {
   "cell_type": "code",
   "execution_count": 145,
   "metadata": {},
   "outputs": [
    {
     "data": {
      "text/plain": [
       "[('broker', 0.5820155739784241),\n",
       " ('bonuses', 0.5424473285675049),\n",
       " ('banker', 0.538511335849762),\n",
       " ('designer', 0.5197198390960693),\n",
       " ('merchandising', 0.4964233934879303),\n",
       " ('treet', 0.49220192432403564),\n",
       " ('shopper', 0.4920561909675598),\n",
       " ('part-time', 0.49128279089927673),\n",
       " ('freelance', 0.4843311905860901),\n",
       " ('aupair', 0.4796452522277832)]"
      ]
     },
     "execution_count": 145,
     "metadata": {},
     "output_type": "execute_result"
    }
   ],
   "source": [
    "model.most_similar(positive=[\"coder\", \"money\"], negative=[\"brain\"])"
   ]
  },
  {
   "cell_type": "markdown",
   "metadata": {},
   "source": [
    "### Visualizing word vectors\n",
    "\n",
    "One way to see if our vectors are any good is to plot them. Thing is, those vectors are in 30D+ space and we humans are more used to 2-3D.\n",
    "\n",
    "Luckily, we machine learners know about __dimensionality reduction__ methods.\n",
    "\n",
    "Let's use that to plot 1000 most frequent words"
   ]
  },
  {
   "cell_type": "code",
   "execution_count": 146,
   "metadata": {},
   "outputs": [
    {
     "name": "stdout",
     "output_type": "stream",
     "text": [
      "['<user>', '_', 'please', 'apa', 'justin', 'text', 'hari', 'playing', 'once', 'sei']\n"
     ]
    }
   ],
   "source": [
    "words = sorted(model.vocab.keys(), \n",
    "               key=lambda word: model.vocab[word].count,\n",
    "               reverse=True)[:1000]\n",
    "\n",
    "print(words[::100])"
   ]
  },
  {
   "cell_type": "code",
   "execution_count": 147,
   "metadata": {},
   "outputs": [],
   "source": [
    "# for each word, compute it's vector with model\n",
    "word_vectors = np.array([model[word] for word in words])"
   ]
  },
  {
   "cell_type": "code",
   "execution_count": 148,
   "metadata": {},
   "outputs": [],
   "source": [
    "assert isinstance(word_vectors, np.ndarray)\n",
    "assert word_vectors.shape == (len(words), 100)\n",
    "assert np.isfinite(word_vectors).all()"
   ]
  },
  {
   "cell_type": "markdown",
   "metadata": {},
   "source": [
    "#### Linear projection: PCA\n",
    "\n",
    "The simplest linear dimensionality reduction method is __P__rincipial __C__omponent __A__nalysis.\n",
    "\n",
    "In geometric terms, PCA tries to find axes along which most of the variance occurs. The \"natural\" axes, if you wish.\n",
    "\n",
    "<img src=\"https://github.com/yandexdataschool/Practical_RL/raw/master/yet_another_week/_resource/pca_fish.png\" style=\"width:30%\">\n",
    "\n",
    "\n",
    "Under the hood, it attempts to decompose object-feature matrix $X$ into two smaller matrices: $W$ and $\\hat W$ minimizing _mean squared error_:\n",
    "\n",
    "$$\\|(X W) \\hat{W} - X\\|^2_2 \\to_{W, \\hat{W}} \\min$$\n",
    "- $X \\in \\mathbb{R}^{n \\times m}$ - object matrix (**centered**);\n",
    "- $W \\in \\mathbb{R}^{m \\times d}$ - matrix of direct transformation;\n",
    "- $\\hat{W} \\in \\mathbb{R}^{d \\times m}$ - matrix of reverse transformation;\n",
    "- $n$ samples, $m$ original dimensions and $d$ target dimensions;\n",
    "\n"
   ]
  },
  {
   "cell_type": "code",
   "execution_count": 149,
   "metadata": {},
   "outputs": [],
   "source": [
    "from sklearn.decomposition import PCA\n",
    "\n",
    "# map word vectors onto 2d plane with PCA. Use good old sklearn api (fit, transform)\n",
    "# after that, normalize vectors to make sure they have zero mean and unit variance\n",
    "pca = PCA(n_components=2)\n",
    "pca.fit(word_vectors)\n",
    "word_vectors_pca = pca.transform(word_vectors)\n",
    "word_vectors_pca = (word_vectors_pca - word_vectors_pca.mean(axis=0)) / (word_vectors_pca.std(axis=0))\n",
    "\n",
    "# and maybe MORE OF YOUR CODE here :)"
   ]
  },
  {
   "cell_type": "code",
   "execution_count": 150,
   "metadata": {},
   "outputs": [],
   "source": [
    "assert word_vectors_pca.shape == (len(word_vectors), 2), \"there must be a 2d vector for each word\"\n",
    "assert max(abs(word_vectors_pca.mean(0))) < 1e-5, \"points must be zero-centered\"\n",
    "assert max(abs(1.0 - word_vectors_pca.std(0))) < 1e-2, \"points must have unit variance\""
   ]
  },
  {
   "cell_type": "markdown",
   "metadata": {},
   "source": [
    "#### Let's draw it!"
   ]
  },
  {
   "cell_type": "code",
   "execution_count": 151,
   "metadata": {},
   "outputs": [
    {
     "data": {
      "text/html": [
       "<div class=\"bk-root\">\n",
       "        <a href=\"https://bokeh.org\" target=\"_blank\" class=\"bk-logo bk-logo-small bk-logo-notebook\"></a>\n",
       "        <span id=\"1509\">Loading BokehJS ...</span>\n",
       "    </div>\n"
      ]
     },
     "metadata": {},
     "output_type": "display_data"
    },
    {
     "data": {
      "application/javascript": [
       "(function(root) {\n",
       "  function now() {\n",
       "    return new Date();\n",
       "  }\n",
       "\n",
       "  const force = true;\n",
       "\n",
       "  if (typeof root._bokeh_onload_callbacks === \"undefined\" || force === true) {\n",
       "    root._bokeh_onload_callbacks = [];\n",
       "    root._bokeh_is_loading = undefined;\n",
       "  }\n",
       "\n",
       "const JS_MIME_TYPE = 'application/javascript';\n",
       "  const HTML_MIME_TYPE = 'text/html';\n",
       "  const EXEC_MIME_TYPE = 'application/vnd.bokehjs_exec.v0+json';\n",
       "  const CLASS_NAME = 'output_bokeh rendered_html';\n",
       "\n",
       "  /**\n",
       "   * Render data to the DOM node\n",
       "   */\n",
       "  function render(props, node) {\n",
       "    const script = document.createElement(\"script\");\n",
       "    node.appendChild(script);\n",
       "  }\n",
       "\n",
       "  /**\n",
       "   * Handle when an output is cleared or removed\n",
       "   */\n",
       "  function handleClearOutput(event, handle) {\n",
       "    const cell = handle.cell;\n",
       "\n",
       "    const id = cell.output_area._bokeh_element_id;\n",
       "    const server_id = cell.output_area._bokeh_server_id;\n",
       "    // Clean up Bokeh references\n",
       "    if (id != null && id in Bokeh.index) {\n",
       "      Bokeh.index[id].model.document.clear();\n",
       "      delete Bokeh.index[id];\n",
       "    }\n",
       "\n",
       "    if (server_id !== undefined) {\n",
       "      // Clean up Bokeh references\n",
       "      const cmd_clean = \"from bokeh.io.state import curstate; print(curstate().uuid_to_server['\" + server_id + \"'].get_sessions()[0].document.roots[0]._id)\";\n",
       "      cell.notebook.kernel.execute(cmd_clean, {\n",
       "        iopub: {\n",
       "          output: function(msg) {\n",
       "            const id = msg.content.text.trim();\n",
       "            if (id in Bokeh.index) {\n",
       "              Bokeh.index[id].model.document.clear();\n",
       "              delete Bokeh.index[id];\n",
       "            }\n",
       "          }\n",
       "        }\n",
       "      });\n",
       "      // Destroy server and session\n",
       "      const cmd_destroy = \"import bokeh.io.notebook as ion; ion.destroy_server('\" + server_id + \"')\";\n",
       "      cell.notebook.kernel.execute(cmd_destroy);\n",
       "    }\n",
       "  }\n",
       "\n",
       "  /**\n",
       "   * Handle when a new output is added\n",
       "   */\n",
       "  function handleAddOutput(event, handle) {\n",
       "    const output_area = handle.output_area;\n",
       "    const output = handle.output;\n",
       "\n",
       "    // limit handleAddOutput to display_data with EXEC_MIME_TYPE content only\n",
       "    if ((output.output_type != \"display_data\") || (!Object.prototype.hasOwnProperty.call(output.data, EXEC_MIME_TYPE))) {\n",
       "      return\n",
       "    }\n",
       "\n",
       "    const toinsert = output_area.element.find(\".\" + CLASS_NAME.split(' ')[0]);\n",
       "\n",
       "    if (output.metadata[EXEC_MIME_TYPE][\"id\"] !== undefined) {\n",
       "      toinsert[toinsert.length - 1].firstChild.textContent = output.data[JS_MIME_TYPE];\n",
       "      // store reference to embed id on output_area\n",
       "      output_area._bokeh_element_id = output.metadata[EXEC_MIME_TYPE][\"id\"];\n",
       "    }\n",
       "    if (output.metadata[EXEC_MIME_TYPE][\"server_id\"] !== undefined) {\n",
       "      const bk_div = document.createElement(\"div\");\n",
       "      bk_div.innerHTML = output.data[HTML_MIME_TYPE];\n",
       "      const script_attrs = bk_div.children[0].attributes;\n",
       "      for (let i = 0; i < script_attrs.length; i++) {\n",
       "        toinsert[toinsert.length - 1].firstChild.setAttribute(script_attrs[i].name, script_attrs[i].value);\n",
       "        toinsert[toinsert.length - 1].firstChild.textContent = bk_div.children[0].textContent\n",
       "      }\n",
       "      // store reference to server id on output_area\n",
       "      output_area._bokeh_server_id = output.metadata[EXEC_MIME_TYPE][\"server_id\"];\n",
       "    }\n",
       "  }\n",
       "\n",
       "  function register_renderer(events, OutputArea) {\n",
       "\n",
       "    function append_mime(data, metadata, element) {\n",
       "      // create a DOM node to render to\n",
       "      const toinsert = this.create_output_subarea(\n",
       "        metadata,\n",
       "        CLASS_NAME,\n",
       "        EXEC_MIME_TYPE\n",
       "      );\n",
       "      this.keyboard_manager.register_events(toinsert);\n",
       "      // Render to node\n",
       "      const props = {data: data, metadata: metadata[EXEC_MIME_TYPE]};\n",
       "      render(props, toinsert[toinsert.length - 1]);\n",
       "      element.append(toinsert);\n",
       "      return toinsert\n",
       "    }\n",
       "\n",
       "    /* Handle when an output is cleared or removed */\n",
       "    events.on('clear_output.CodeCell', handleClearOutput);\n",
       "    events.on('delete.Cell', handleClearOutput);\n",
       "\n",
       "    /* Handle when a new output is added */\n",
       "    events.on('output_added.OutputArea', handleAddOutput);\n",
       "\n",
       "    /**\n",
       "     * Register the mime type and append_mime function with output_area\n",
       "     */\n",
       "    OutputArea.prototype.register_mime_type(EXEC_MIME_TYPE, append_mime, {\n",
       "      /* Is output safe? */\n",
       "      safe: true,\n",
       "      /* Index of renderer in `output_area.display_order` */\n",
       "      index: 0\n",
       "    });\n",
       "  }\n",
       "\n",
       "  // register the mime type if in Jupyter Notebook environment and previously unregistered\n",
       "  if (root.Jupyter !== undefined) {\n",
       "    const events = require('base/js/events');\n",
       "    const OutputArea = require('notebook/js/outputarea').OutputArea;\n",
       "\n",
       "    if (OutputArea.prototype.mime_types().indexOf(EXEC_MIME_TYPE) == -1) {\n",
       "      register_renderer(events, OutputArea);\n",
       "    }\n",
       "  }\n",
       "  if (typeof (root._bokeh_timeout) === \"undefined\" || force === true) {\n",
       "    root._bokeh_timeout = Date.now() + 5000;\n",
       "    root._bokeh_failed_load = false;\n",
       "  }\n",
       "\n",
       "  const NB_LOAD_WARNING = {'data': {'text/html':\n",
       "     \"<div style='background-color: #fdd'>\\n\"+\n",
       "     \"<p>\\n\"+\n",
       "     \"BokehJS does not appear to have successfully loaded. If loading BokehJS from CDN, this \\n\"+\n",
       "     \"may be due to a slow or bad network connection. Possible fixes:\\n\"+\n",
       "     \"</p>\\n\"+\n",
       "     \"<ul>\\n\"+\n",
       "     \"<li>re-rerun `output_notebook()` to attempt to load from CDN again, or</li>\\n\"+\n",
       "     \"<li>use INLINE resources instead, as so:</li>\\n\"+\n",
       "     \"</ul>\\n\"+\n",
       "     \"<code>\\n\"+\n",
       "     \"from bokeh.resources import INLINE\\n\"+\n",
       "     \"output_notebook(resources=INLINE)\\n\"+\n",
       "     \"</code>\\n\"+\n",
       "     \"</div>\"}};\n",
       "\n",
       "  function display_loaded() {\n",
       "    const el = document.getElementById(\"1509\");\n",
       "    if (el != null) {\n",
       "      el.textContent = \"BokehJS is loading...\";\n",
       "    }\n",
       "    if (root.Bokeh !== undefined) {\n",
       "      if (el != null) {\n",
       "        el.textContent = \"BokehJS \" + root.Bokeh.version + \" successfully loaded.\";\n",
       "      }\n",
       "    } else if (Date.now() < root._bokeh_timeout) {\n",
       "      setTimeout(display_loaded, 100)\n",
       "    }\n",
       "  }\n",
       "\n",
       "  function run_callbacks() {\n",
       "    try {\n",
       "      root._bokeh_onload_callbacks.forEach(function(callback) {\n",
       "        if (callback != null)\n",
       "          callback();\n",
       "      });\n",
       "    } finally {\n",
       "      delete root._bokeh_onload_callbacks\n",
       "    }\n",
       "    console.debug(\"Bokeh: all callbacks have finished\");\n",
       "  }\n",
       "\n",
       "  function load_libs(css_urls, js_urls, callback) {\n",
       "    if (css_urls == null) css_urls = [];\n",
       "    if (js_urls == null) js_urls = [];\n",
       "\n",
       "    root._bokeh_onload_callbacks.push(callback);\n",
       "    if (root._bokeh_is_loading > 0) {\n",
       "      console.debug(\"Bokeh: BokehJS is being loaded, scheduling callback at\", now());\n",
       "      return null;\n",
       "    }\n",
       "    if (js_urls == null || js_urls.length === 0) {\n",
       "      run_callbacks();\n",
       "      return null;\n",
       "    }\n",
       "    console.debug(\"Bokeh: BokehJS not loaded, scheduling load and callback at\", now());\n",
       "    root._bokeh_is_loading = css_urls.length + js_urls.length;\n",
       "\n",
       "    function on_load() {\n",
       "      root._bokeh_is_loading--;\n",
       "      if (root._bokeh_is_loading === 0) {\n",
       "        console.debug(\"Bokeh: all BokehJS libraries/stylesheets loaded\");\n",
       "        run_callbacks()\n",
       "      }\n",
       "    }\n",
       "\n",
       "    function on_error(url) {\n",
       "      console.error(\"failed to load \" + url);\n",
       "    }\n",
       "\n",
       "    for (let i = 0; i < css_urls.length; i++) {\n",
       "      const url = css_urls[i];\n",
       "      const element = document.createElement(\"link\");\n",
       "      element.onload = on_load;\n",
       "      element.onerror = on_error.bind(null, url);\n",
       "      element.rel = \"stylesheet\";\n",
       "      element.type = \"text/css\";\n",
       "      element.href = url;\n",
       "      console.debug(\"Bokeh: injecting link tag for BokehJS stylesheet: \", url);\n",
       "      document.body.appendChild(element);\n",
       "    }\n",
       "\n",
       "    for (let i = 0; i < js_urls.length; i++) {\n",
       "      const url = js_urls[i];\n",
       "      const element = document.createElement('script');\n",
       "      element.onload = on_load;\n",
       "      element.onerror = on_error.bind(null, url);\n",
       "      element.async = false;\n",
       "      element.src = url;\n",
       "      console.debug(\"Bokeh: injecting script tag for BokehJS library: \", url);\n",
       "      document.head.appendChild(element);\n",
       "    }\n",
       "  };\n",
       "\n",
       "  function inject_raw_css(css) {\n",
       "    const element = document.createElement(\"style\");\n",
       "    element.appendChild(document.createTextNode(css));\n",
       "    document.body.appendChild(element);\n",
       "  }\n",
       "\n",
       "  const js_urls = [\"https://cdn.bokeh.org/bokeh/release/bokeh-2.4.3.min.js\", \"https://cdn.bokeh.org/bokeh/release/bokeh-gl-2.4.3.min.js\", \"https://cdn.bokeh.org/bokeh/release/bokeh-widgets-2.4.3.min.js\", \"https://cdn.bokeh.org/bokeh/release/bokeh-tables-2.4.3.min.js\", \"https://cdn.bokeh.org/bokeh/release/bokeh-mathjax-2.4.3.min.js\"];\n",
       "  const css_urls = [];\n",
       "\n",
       "  const inline_js = [    function(Bokeh) {\n",
       "      Bokeh.set_log_level(\"info\");\n",
       "    },\n",
       "function(Bokeh) {\n",
       "    }\n",
       "  ];\n",
       "\n",
       "  function run_inline_js() {\n",
       "    if (root.Bokeh !== undefined || force === true) {\n",
       "          for (let i = 0; i < inline_js.length; i++) {\n",
       "      inline_js[i].call(root, root.Bokeh);\n",
       "    }\n",
       "if (force === true) {\n",
       "        display_loaded();\n",
       "      }} else if (Date.now() < root._bokeh_timeout) {\n",
       "      setTimeout(run_inline_js, 100);\n",
       "    } else if (!root._bokeh_failed_load) {\n",
       "      console.log(\"Bokeh: BokehJS failed to load within specified timeout.\");\n",
       "      root._bokeh_failed_load = true;\n",
       "    } else if (force !== true) {\n",
       "      const cell = $(document.getElementById(\"1509\")).parents('.cell').data().cell;\n",
       "      cell.output_area.append_execute_result(NB_LOAD_WARNING)\n",
       "    }\n",
       "  }\n",
       "\n",
       "  if (root._bokeh_is_loading === 0) {\n",
       "    console.debug(\"Bokeh: BokehJS loaded, going straight to plotting\");\n",
       "    run_inline_js();\n",
       "  } else {\n",
       "    load_libs(css_urls, js_urls, function() {\n",
       "      console.debug(\"Bokeh: BokehJS plotting callback run at\", now());\n",
       "      run_inline_js();\n",
       "    });\n",
       "  }\n",
       "}(window));"
      ],
      "application/vnd.bokehjs_load.v0+json": "(function(root) {\n  function now() {\n    return new Date();\n  }\n\n  const force = true;\n\n  if (typeof root._bokeh_onload_callbacks === \"undefined\" || force === true) {\n    root._bokeh_onload_callbacks = [];\n    root._bokeh_is_loading = undefined;\n  }\n\n\n  if (typeof (root._bokeh_timeout) === \"undefined\" || force === true) {\n    root._bokeh_timeout = Date.now() + 5000;\n    root._bokeh_failed_load = false;\n  }\n\n  const NB_LOAD_WARNING = {'data': {'text/html':\n     \"<div style='background-color: #fdd'>\\n\"+\n     \"<p>\\n\"+\n     \"BokehJS does not appear to have successfully loaded. If loading BokehJS from CDN, this \\n\"+\n     \"may be due to a slow or bad network connection. Possible fixes:\\n\"+\n     \"</p>\\n\"+\n     \"<ul>\\n\"+\n     \"<li>re-rerun `output_notebook()` to attempt to load from CDN again, or</li>\\n\"+\n     \"<li>use INLINE resources instead, as so:</li>\\n\"+\n     \"</ul>\\n\"+\n     \"<code>\\n\"+\n     \"from bokeh.resources import INLINE\\n\"+\n     \"output_notebook(resources=INLINE)\\n\"+\n     \"</code>\\n\"+\n     \"</div>\"}};\n\n  function display_loaded() {\n    const el = document.getElementById(\"1509\");\n    if (el != null) {\n      el.textContent = \"BokehJS is loading...\";\n    }\n    if (root.Bokeh !== undefined) {\n      if (el != null) {\n        el.textContent = \"BokehJS \" + root.Bokeh.version + \" successfully loaded.\";\n      }\n    } else if (Date.now() < root._bokeh_timeout) {\n      setTimeout(display_loaded, 100)\n    }\n  }\n\n  function run_callbacks() {\n    try {\n      root._bokeh_onload_callbacks.forEach(function(callback) {\n        if (callback != null)\n          callback();\n      });\n    } finally {\n      delete root._bokeh_onload_callbacks\n    }\n    console.debug(\"Bokeh: all callbacks have finished\");\n  }\n\n  function load_libs(css_urls, js_urls, callback) {\n    if (css_urls == null) css_urls = [];\n    if (js_urls == null) js_urls = [];\n\n    root._bokeh_onload_callbacks.push(callback);\n    if (root._bokeh_is_loading > 0) {\n      console.debug(\"Bokeh: BokehJS is being loaded, scheduling callback at\", now());\n      return null;\n    }\n    if (js_urls == null || js_urls.length === 0) {\n      run_callbacks();\n      return null;\n    }\n    console.debug(\"Bokeh: BokehJS not loaded, scheduling load and callback at\", now());\n    root._bokeh_is_loading = css_urls.length + js_urls.length;\n\n    function on_load() {\n      root._bokeh_is_loading--;\n      if (root._bokeh_is_loading === 0) {\n        console.debug(\"Bokeh: all BokehJS libraries/stylesheets loaded\");\n        run_callbacks()\n      }\n    }\n\n    function on_error(url) {\n      console.error(\"failed to load \" + url);\n    }\n\n    for (let i = 0; i < css_urls.length; i++) {\n      const url = css_urls[i];\n      const element = document.createElement(\"link\");\n      element.onload = on_load;\n      element.onerror = on_error.bind(null, url);\n      element.rel = \"stylesheet\";\n      element.type = \"text/css\";\n      element.href = url;\n      console.debug(\"Bokeh: injecting link tag for BokehJS stylesheet: \", url);\n      document.body.appendChild(element);\n    }\n\n    for (let i = 0; i < js_urls.length; i++) {\n      const url = js_urls[i];\n      const element = document.createElement('script');\n      element.onload = on_load;\n      element.onerror = on_error.bind(null, url);\n      element.async = false;\n      element.src = url;\n      console.debug(\"Bokeh: injecting script tag for BokehJS library: \", url);\n      document.head.appendChild(element);\n    }\n  };\n\n  function inject_raw_css(css) {\n    const element = document.createElement(\"style\");\n    element.appendChild(document.createTextNode(css));\n    document.body.appendChild(element);\n  }\n\n  const js_urls = [\"https://cdn.bokeh.org/bokeh/release/bokeh-2.4.3.min.js\", \"https://cdn.bokeh.org/bokeh/release/bokeh-gl-2.4.3.min.js\", \"https://cdn.bokeh.org/bokeh/release/bokeh-widgets-2.4.3.min.js\", \"https://cdn.bokeh.org/bokeh/release/bokeh-tables-2.4.3.min.js\", \"https://cdn.bokeh.org/bokeh/release/bokeh-mathjax-2.4.3.min.js\"];\n  const css_urls = [];\n\n  const inline_js = [    function(Bokeh) {\n      Bokeh.set_log_level(\"info\");\n    },\nfunction(Bokeh) {\n    }\n  ];\n\n  function run_inline_js() {\n    if (root.Bokeh !== undefined || force === true) {\n          for (let i = 0; i < inline_js.length; i++) {\n      inline_js[i].call(root, root.Bokeh);\n    }\nif (force === true) {\n        display_loaded();\n      }} else if (Date.now() < root._bokeh_timeout) {\n      setTimeout(run_inline_js, 100);\n    } else if (!root._bokeh_failed_load) {\n      console.log(\"Bokeh: BokehJS failed to load within specified timeout.\");\n      root._bokeh_failed_load = true;\n    } else if (force !== true) {\n      const cell = $(document.getElementById(\"1509\")).parents('.cell').data().cell;\n      cell.output_area.append_execute_result(NB_LOAD_WARNING)\n    }\n  }\n\n  if (root._bokeh_is_loading === 0) {\n    console.debug(\"Bokeh: BokehJS loaded, going straight to plotting\");\n    run_inline_js();\n  } else {\n    load_libs(css_urls, js_urls, function() {\n      console.debug(\"Bokeh: BokehJS plotting callback run at\", now());\n      run_inline_js();\n    });\n  }\n}(window));"
     },
     "metadata": {},
     "output_type": "display_data"
    }
   ],
   "source": [
    "import bokeh.models as bm, bokeh.plotting as pl\n",
    "from bokeh.io import output_notebook\n",
    "output_notebook()\n",
    "\n",
    "def draw_vectors(x, y, radius=10, alpha=0.25, color='blue',\n",
    "                 width=600, height=400, show=True, **kwargs):\n",
    "    \"\"\" draws an interactive plot for data points with auxilirary info on hover \"\"\"\n",
    "    if isinstance(color, str): color = [color] * len(x)\n",
    "    data_source = bm.ColumnDataSource({ 'x' : x, 'y' : y, 'color': color, **kwargs })\n",
    "\n",
    "    fig = pl.figure(active_scroll='wheel_zoom', width=width, height=height)\n",
    "    fig.scatter('x', 'y', size=radius, color='color', alpha=alpha, source=data_source)\n",
    "\n",
    "    fig.add_tools(bm.HoverTool(tooltips=[(key, \"@\" + key) for key in kwargs.keys()]))\n",
    "    if show: pl.show(fig)\n",
    "    return fig"
   ]
  },
  {
   "cell_type": "code",
   "execution_count": 152,
   "metadata": {},
   "outputs": [
    {
     "data": {
      "text/html": [
       "\n",
       "  <div class=\"bk-root\" id=\"a23caed5-cd52-4afd-a3d8-fcf1f6ac0194\" data-root-id=\"1511\"></div>\n"
      ]
     },
     "metadata": {},
     "output_type": "display_data"
    },
    {
     "data": {
      "application/javascript": [
       "(function(root) {\n",
       "  function embed_document(root) {\n",
       "  const docs_json = {\"125a0aad-453d-447f-ad64-14063b7e5565\":{\"defs\":[],\"roots\":{\"references\":[{\"attributes\":{\"below\":[{\"id\":\"1520\"}],\"center\":[{\"id\":\"1523\"},{\"id\":\"1527\"}],\"height\":400,\"left\":[{\"id\":\"1524\"}],\"renderers\":[{\"id\":\"1546\"}],\"title\":{\"id\":\"1594\"},\"toolbar\":{\"id\":\"1535\"},\"x_range\":{\"id\":\"1512\"},\"x_scale\":{\"id\":\"1516\"},\"y_range\":{\"id\":\"1514\"},\"y_scale\":{\"id\":\"1518\"}},\"id\":\"1511\",\"subtype\":\"Figure\",\"type\":\"Plot\"},{\"attributes\":{},\"id\":\"1533\",\"type\":\"HelpTool\"},{\"attributes\":{\"fill_alpha\":{\"value\":0.2},\"fill_color\":{\"field\":\"color\"},\"hatch_alpha\":{\"value\":0.2},\"hatch_color\":{\"field\":\"color\"},\"line_alpha\":{\"value\":0.2},\"line_color\":{\"field\":\"color\"},\"size\":{\"value\":10},\"x\":{\"field\":\"x\"},\"y\":{\"field\":\"y\"}},\"id\":\"1545\",\"type\":\"Scatter\"},{\"attributes\":{\"coordinates\":null,\"formatter\":{\"id\":\"1597\"},\"group\":null,\"major_label_policy\":{\"id\":\"1598\"},\"ticker\":{\"id\":\"1525\"}},\"id\":\"1524\",\"type\":\"LinearAxis\"},{\"attributes\":{},\"id\":\"1514\",\"type\":\"DataRange1d\"},{\"attributes\":{\"overlay\":{\"id\":\"1534\"}},\"id\":\"1530\",\"type\":\"BoxZoomTool\"},{\"attributes\":{},\"id\":\"1597\",\"type\":\"BasicTickFormatter\"},{\"attributes\":{},\"id\":\"1598\",\"type\":\"AllLabels\"},{\"attributes\":{\"callback\":null,\"tooltips\":[[\"token\",\"@token\"]]},\"id\":\"1548\",\"type\":\"HoverTool\"},{\"attributes\":{},\"id\":\"1525\",\"type\":\"BasicTicker\"},{\"attributes\":{},\"id\":\"1601\",\"type\":\"AllLabels\"},{\"attributes\":{},\"id\":\"1516\",\"type\":\"LinearScale\"},{\"attributes\":{\"axis\":{\"id\":\"1520\"},\"coordinates\":null,\"group\":null,\"ticker\":null},\"id\":\"1523\",\"type\":\"Grid\"},{\"attributes\":{},\"id\":\"1528\",\"type\":\"PanTool\"},{\"attributes\":{\"axis\":{\"id\":\"1524\"},\"coordinates\":null,\"dimension\":1,\"group\":null,\"ticker\":null},\"id\":\"1527\",\"type\":\"Grid\"},{\"attributes\":{\"data\":{\"color\":[\"blue\",\"blue\",\"blue\",\"blue\",\"blue\",\"blue\",\"blue\",\"blue\",\"blue\",\"blue\",\"blue\",\"blue\",\"blue\",\"blue\",\"blue\",\"blue\",\"blue\",\"blue\",\"blue\",\"blue\",\"blue\",\"blue\",\"blue\",\"blue\",\"blue\",\"blue\",\"blue\",\"blue\",\"blue\",\"blue\",\"blue\",\"blue\",\"blue\",\"blue\",\"blue\",\"blue\",\"blue\",\"blue\",\"blue\",\"blue\",\"blue\",\"blue\",\"blue\",\"blue\",\"blue\",\"blue\",\"blue\",\"blue\",\"blue\",\"blue\",\"blue\",\"blue\",\"blue\",\"blue\",\"blue\",\"blue\",\"blue\",\"blue\",\"blue\",\"blue\",\"blue\",\"blue\",\"blue\",\"blue\",\"blue\",\"blue\",\"blue\",\"blue\",\"blue\",\"blue\",\"blue\",\"blue\",\"blue\",\"blue\",\"blue\",\"blue\",\"blue\",\"blue\",\"blue\",\"blue\",\"blue\",\"blue\",\"blue\",\"blue\",\"blue\",\"blue\",\"blue\",\"blue\",\"blue\",\"blue\",\"blue\",\"blue\",\"blue\",\"blue\",\"blue\",\"blue\",\"blue\",\"blue\",\"blue\",\"blue\",\"blue\",\"blue\",\"blue\",\"blue\",\"blue\",\"blue\",\"blue\",\"blue\",\"blue\",\"blue\",\"blue\",\"blue\",\"blue\",\"blue\",\"blue\",\"blue\",\"blue\",\"blue\",\"blue\",\"blue\",\"blue\",\"blue\",\"blue\",\"blue\",\"blue\",\"blue\",\"blue\",\"blue\",\"blue\",\"blue\",\"blue\",\"blue\",\"blue\",\"blue\",\"blue\",\"blue\",\"blue\",\"blue\",\"blue\",\"blue\",\"blue\",\"blue\",\"blue\",\"blue\",\"blue\",\"blue\",\"blue\",\"blue\",\"blue\",\"blue\",\"blue\",\"blue\",\"blue\",\"blue\",\"blue\",\"blue\",\"blue\",\"blue\",\"blue\",\"blue\",\"blue\",\"blue\",\"blue\",\"blue\",\"blue\",\"blue\",\"blue\",\"blue\",\"blue\",\"blue\",\"blue\",\"blue\",\"blue\",\"blue\",\"blue\",\"blue\",\"blue\",\"blue\",\"blue\",\"blue\",\"blue\",\"blue\",\"blue\",\"blue\",\"blue\",\"blue\",\"blue\",\"blue\",\"blue\",\"blue\",\"blue\",\"blue\",\"blue\",\"blue\",\"blue\",\"blue\",\"blue\",\"blue\",\"blue\",\"blue\",\"blue\",\"blue\",\"blue\",\"blue\",\"blue\",\"blue\",\"blue\",\"blue\",\"blue\",\"blue\",\"blue\",\"blue\",\"blue\",\"blue\",\"blue\",\"blue\",\"blue\",\"blue\",\"blue\",\"blue\",\"blue\",\"blue\",\"blue\",\"blue\",\"blue\",\"blue\",\"blue\",\"blue\",\"blue\",\"blue\",\"blue\",\"blue\",\"blue\",\"blue\",\"blue\",\"blue\",\"blue\",\"blue\",\"blue\",\"blue\",\"blue\",\"blue\",\"blue\",\"blue\",\"blue\",\"blue\",\"blue\",\"blue\",\"blue\",\"blue\",\"blue\",\"blue\",\"blue\",\"blue\",\"blue\",\"blue\",\"blue\",\"blue\",\"blue\",\"blue\",\"blue\",\"blue\",\"blue\",\"blue\",\"blue\",\"blue\",\"blue\",\"blue\",\"blue\",\"blue\",\"blue\",\"blue\",\"blue\",\"blue\",\"blue\",\"blue\",\"blue\",\"blue\",\"blue\",\"blue\",\"blue\",\"blue\",\"blue\",\"blue\",\"blue\",\"blue\",\"blue\",\"blue\",\"blue\",\"blue\",\"blue\",\"blue\",\"blue\",\"blue\",\"blue\",\"blue\",\"blue\",\"blue\",\"blue\",\"blue\",\"blue\",\"blue\",\"blue\",\"blue\",\"blue\",\"blue\",\"blue\",\"blue\",\"blue\",\"blue\",\"blue\",\"blue\",\"blue\",\"blue\",\"blue\",\"blue\",\"blue\",\"blue\",\"blue\",\"blue\",\"blue\",\"blue\",\"blue\",\"blue\",\"blue\",\"blue\",\"blue\",\"blue\",\"blue\",\"blue\",\"blue\",\"blue\",\"blue\",\"blue\",\"blue\",\"blue\",\"blue\",\"blue\",\"blue\",\"blue\",\"blue\",\"blue\",\"blue\",\"blue\",\"blue\",\"blue\",\"blue\",\"blue\",\"blue\",\"blue\",\"blue\",\"blue\",\"blue\",\"blue\",\"blue\",\"blue\",\"blue\",\"blue\",\"blue\",\"blue\",\"blue\",\"blue\",\"blue\",\"blue\",\"blue\",\"blue\",\"blue\",\"blue\",\"blue\",\"blue\",\"blue\",\"blue\",\"blue\",\"blue\",\"blue\",\"blue\",\"blue\",\"blue\",\"blue\",\"blue\",\"blue\",\"blue\",\"blue\",\"blue\",\"blue\",\"blue\",\"blue\",\"blue\",\"blue\",\"blue\",\"blue\",\"blue\",\"blue\",\"blue\",\"blue\",\"blue\",\"blue\",\"blue\",\"blue\",\"blue\",\"blue\",\"blue\",\"blue\",\"blue\",\"blue\",\"blue\",\"blue\",\"blue\",\"blue\",\"blue\",\"blue\",\"blue\",\"blue\",\"blue\",\"blue\",\"blue\",\"blue\",\"blue\",\"blue\",\"blue\",\"blue\",\"blue\",\"blue\",\"blue\",\"blue\",\"blue\",\"blue\",\"blue\",\"blue\",\"blue\",\"blue\",\"blue\",\"blue\",\"blue\",\"blue\",\"blue\",\"blue\",\"blue\",\"blue\",\"blue\",\"blue\",\"blue\",\"blue\",\"blue\",\"blue\",\"blue\",\"blue\",\"blue\",\"blue\",\"blue\",\"blue\",\"blue\",\"blue\",\"blue\",\"blue\",\"blue\",\"blue\",\"blue\",\"blue\",\"blue\",\"blue\",\"blue\",\"blue\",\"blue\",\"blue\",\"blue\",\"blue\",\"blue\",\"blue\",\"blue\",\"blue\",\"blue\",\"blue\",\"blue\",\"blue\",\"blue\",\"blue\",\"blue\",\"blue\",\"blue\",\"blue\",\"blue\",\"blue\",\"blue\",\"blue\",\"blue\",\"blue\",\"blue\",\"blue\",\"blue\",\"blue\",\"blue\",\"blue\",\"blue\",\"blue\",\"blue\",\"blue\",\"blue\",\"blue\",\"blue\",\"blue\",\"blue\",\"blue\",\"blue\",\"blue\",\"blue\",\"blue\",\"blue\",\"blue\",\"blue\",\"blue\",\"blue\",\"blue\",\"blue\",\"blue\",\"blue\",\"blue\",\"blue\",\"blue\",\"blue\",\"blue\",\"blue\",\"blue\",\"blue\",\"blue\",\"blue\",\"blue\",\"blue\",\"blue\",\"blue\",\"blue\",\"blue\",\"blue\",\"blue\",\"blue\",\"blue\",\"blue\",\"blue\",\"blue\",\"blue\",\"blue\",\"blue\",\"blue\",\"blue\",\"blue\",\"blue\",\"blue\",\"blue\",\"blue\",\"blue\",\"blue\",\"blue\",\"blue\",\"blue\",\"blue\",\"blue\",\"blue\",\"blue\",\"blue\",\"blue\",\"blue\",\"blue\",\"blue\",\"blue\",\"blue\",\"blue\",\"blue\",\"blue\",\"blue\",\"blue\",\"blue\",\"blue\",\"blue\",\"blue\",\"blue\",\"blue\",\"blue\",\"blue\",\"blue\",\"blue\",\"blue\",\"blue\",\"blue\",\"blue\",\"blue\",\"blue\",\"blue\",\"blue\",\"blue\",\"blue\",\"blue\",\"blue\",\"blue\",\"blue\",\"blue\",\"blue\",\"blue\",\"blue\",\"blue\",\"blue\",\"blue\",\"blue\",\"blue\",\"blue\",\"blue\",\"blue\",\"blue\",\"blue\",\"blue\",\"blue\",\"blue\",\"blue\",\"blue\",\"blue\",\"blue\",\"blue\",\"blue\",\"blue\",\"blue\",\"blue\",\"blue\",\"blue\",\"blue\",\"blue\",\"blue\",\"blue\",\"blue\",\"blue\",\"blue\",\"blue\",\"blue\",\"blue\",\"blue\",\"blue\",\"blue\",\"blue\",\"blue\",\"blue\",\"blue\",\"blue\",\"blue\",\"blue\",\"blue\",\"blue\",\"blue\",\"blue\",\"blue\",\"blue\",\"blue\",\"blue\",\"blue\",\"blue\",\"blue\",\"blue\",\"blue\",\"blue\",\"blue\",\"blue\",\"blue\",\"blue\",\"blue\",\"blue\",\"blue\",\"blue\",\"blue\",\"blue\",\"blue\",\"blue\",\"blue\",\"blue\",\"blue\",\"blue\",\"blue\",\"blue\",\"blue\",\"blue\",\"blue\",\"blue\",\"blue\",\"blue\",\"blue\",\"blue\",\"blue\",\"blue\",\"blue\",\"blue\",\"blue\",\"blue\",\"blue\",\"blue\",\"blue\",\"blue\",\"blue\",\"blue\",\"blue\",\"blue\",\"blue\",\"blue\",\"blue\",\"blue\",\"blue\",\"blue\",\"blue\",\"blue\",\"blue\",\"blue\",\"blue\",\"blue\",\"blue\",\"blue\",\"blue\",\"blue\",\"blue\",\"blue\",\"blue\",\"blue\",\"blue\",\"blue\",\"blue\",\"blue\",\"blue\",\"blue\",\"blue\",\"blue\",\"blue\",\"blue\",\"blue\",\"blue\",\"blue\",\"blue\",\"blue\",\"blue\",\"blue\",\"blue\",\"blue\",\"blue\",\"blue\",\"blue\",\"blue\",\"blue\",\"blue\",\"blue\",\"blue\",\"blue\",\"blue\",\"blue\",\"blue\",\"blue\",\"blue\",\"blue\",\"blue\",\"blue\",\"blue\",\"blue\",\"blue\",\"blue\",\"blue\",\"blue\",\"blue\",\"blue\",\"blue\",\"blue\",\"blue\",\"blue\",\"blue\",\"blue\",\"blue\",\"blue\",\"blue\",\"blue\",\"blue\",\"blue\",\"blue\",\"blue\",\"blue\",\"blue\",\"blue\",\"blue\",\"blue\",\"blue\",\"blue\",\"blue\",\"blue\",\"blue\",\"blue\",\"blue\",\"blue\",\"blue\",\"blue\",\"blue\",\"blue\",\"blue\",\"blue\",\"blue\",\"blue\",\"blue\",\"blue\",\"blue\",\"blue\",\"blue\",\"blue\",\"blue\",\"blue\",\"blue\",\"blue\",\"blue\",\"blue\",\"blue\",\"blue\",\"blue\",\"blue\",\"blue\",\"blue\",\"blue\",\"blue\",\"blue\",\"blue\",\"blue\",\"blue\",\"blue\",\"blue\",\"blue\",\"blue\",\"blue\",\"blue\",\"blue\",\"blue\",\"blue\",\"blue\",\"blue\",\"blue\",\"blue\",\"blue\",\"blue\",\"blue\",\"blue\",\"blue\",\"blue\",\"blue\",\"blue\",\"blue\",\"blue\",\"blue\",\"blue\",\"blue\",\"blue\",\"blue\",\"blue\",\"blue\",\"blue\",\"blue\",\"blue\",\"blue\",\"blue\",\"blue\",\"blue\",\"blue\",\"blue\",\"blue\",\"blue\",\"blue\",\"blue\",\"blue\",\"blue\",\"blue\",\"blue\",\"blue\",\"blue\",\"blue\",\"blue\",\"blue\",\"blue\",\"blue\",\"blue\",\"blue\",\"blue\",\"blue\",\"blue\",\"blue\",\"blue\",\"blue\",\"blue\",\"blue\",\"blue\",\"blue\",\"blue\",\"blue\",\"blue\",\"blue\",\"blue\",\"blue\",\"blue\",\"blue\",\"blue\",\"blue\",\"blue\",\"blue\",\"blue\",\"blue\",\"blue\",\"blue\",\"blue\",\"blue\",\"blue\",\"blue\",\"blue\",\"blue\",\"blue\",\"blue\",\"blue\",\"blue\",\"blue\",\"blue\",\"blue\",\"blue\",\"blue\",\"blue\",\"blue\",\"blue\",\"blue\",\"blue\",\"blue\",\"blue\",\"blue\",\"blue\",\"blue\",\"blue\",\"blue\",\"blue\",\"blue\",\"blue\",\"blue\",\"blue\",\"blue\",\"blue\",\"blue\",\"blue\",\"blue\",\"blue\",\"blue\",\"blue\",\"blue\",\"blue\",\"blue\",\"blue\",\"blue\",\"blue\",\"blue\",\"blue\",\"blue\",\"blue\",\"blue\",\"blue\",\"blue\",\"blue\",\"blue\",\"blue\",\"blue\",\"blue\",\"blue\",\"blue\",\"blue\",\"blue\",\"blue\",\"blue\",\"blue\",\"blue\",\"blue\",\"blue\",\"blue\",\"blue\",\"blue\",\"blue\",\"blue\",\"blue\",\"blue\",\"blue\",\"blue\",\"blue\",\"blue\",\"blue\",\"blue\",\"blue\",\"blue\",\"blue\",\"blue\",\"blue\",\"blue\",\"blue\",\"blue\",\"blue\",\"blue\",\"blue\",\"blue\",\"blue\",\"blue\",\"blue\",\"blue\",\"blue\",\"blue\"],\"token\":[\"<user>\",\".\",\":\",\"rt\",\",\",\"<repeat>\",\"<hashtag>\",\"<number>\",\"<url>\",\"!\",\"i\",\"a\",\"\\\"\",\"the\",\"?\",\"you\",\"to\",\"(\",\"<allcaps>\",\"<elong>\",\")\",\"me\",\"de\",\"<smile>\",\"\\uff01\",\"que\",\"and\",\"\\u3002\",\"-\",\"my\",\"no\",\"\\u3001\",\"is\",\"it\",\"\\u2026\",\"in\",\"n\",\"for\",\"/\",\"of\",\"la\",\"'s\",\"*\",\"do\",\"n't\",\"that\",\"on\",\"y\",\"'\",\"e\",\"o\",\"u\",\"en\",\"this\",\"el\",\"so\",\"be\",\"'m\",\"with\",\"just\",\">\",\"your\",\"^\",\"like\",\"have\",\"te\",\"at\",\"\\uff1f\",\"love\",\"se\",\"are\",\"<\",\"m\",\"r\",\"if\",\"all\",\"b\",\"\\u30fb\",\"not\",\"but\",\"we\",\"es\",\"ya\",\"&\",\"follow\",\"up\",\"what\",\"get\",\"lol\",\"un\",\"\\u2665\",\"lo\",\"when\",\"was\",\"\\u201c\",\"\\u201d\",\"one\",\"por\",\"si\",\"out\",\"_\",\"mi\",\"can\",\"<sadface>\",\"\\u0645\\u0646\",\"\\u2661\",\"\\u00b4\",\"he\",\"con\",\"they\",\"now\",\"go\",\"\\u060c\",\"para\",\"los\",\"know\",\"haha\",\"good\",\"tu\",\"back\",\"~\",\"about\",\"new\",\";\",\"as\",\"day\",\"how\",\"who\",\"will\",\"want\",\"people\",\"yo\",\"eu\",\"from\",\"di\",\"time\",\"<heart>\",\"s\",\"aku\",\"da\",\"'re\",\"<lolface>\",\"una\",\"got\",\"las\",\"more\",\"x\",\"she\",\"today\",\"\\uff08\",\">>\",\"k\",\"by\",\"or\",\"\\u0641\\u064a\",\"\\uff65\",\"too\",\"le\",\"\\u00e9\",\"|\",\"[\",\"\\uff09\",\"]\",\"see\",\"why\",\"yg\",\"ca\",\"como\",\"her\",\"\\u2014\",\"q\",\"need\",\"an\",\"na\",\"\\u7b11\",\"there\",\"\\u03c9\",\"happy\",\"im\",\"mas\",\"je\",\"life\",\"really\",\"make\",\"yang\",\"shit\",\"think\",\"t\",\"\\u2764\",\"n\\u00e3o\",\"never\",\"some\",\"\\uff5e\",\"oh\",\"\\u2605\",\"did\",\"would\",\"del\",\"`\",\"d\",\"please\",\"via\",\"much\",\"fuck\",\"al\",\"dia\",\"$\",\"\\u0648\",\"right\",\"best\",\"c\",\"going\",\"\\u0627\\u0644\\u0644\\u0647\",\"pero\",\"only\",\"has\",\"\\u266a\",\"'ll\",\"twitter\",\"=\",\"hahaha\",\"its\",\"nn\",\"\\uff40\",\"\\u00bf\",\"am\",\"say\",\"<neutralface>\",\"them\",\"here\",\"\\u0644\\u0627\",\"off\",\"still\",\"dan\",\"+\",\"night\",\"w\",\"ada\",\"someone\",\"even\",\"then\",\"\\u2606\",\"ni\",\"come\",\"com\",\"always\",\"man\",\"'ve\",\"been\",\"his\",\"itu\",\"\\u0639\\u0644\\u0649\",\"-_-\",\"\\u263a\",\"over\",\"um\",\"\\u0645\\u0627\",\"hate\",\"girl\",\"ai\",\"had\",\"pra\",\"todo\",\"mais\",\"feel\",\"let\",\"ini\",\"because\",\"\\uff9f\",\"thanks\",\"ah\",\"way\",\"ever\",\"look\",\"tweet\",\"followers\",\"should\",\"our\",\"xd\",\"aja\",\"esta\",\"school\",\"him\",\"ser\",\"take\",\"than\",\"video\",\"em\",\"last\",\"wanna\",\"does\",\"us\",\"miss\",\"l\",\"ga\",\"better\",\"well\",\"could\",\"\\u25bd\",\"%\",\"apa\",\"cuando\",\"team\",\"\\u2714\",\"@\",\"ok\",\"\\u061f\",\"\\u2022\",\"vida\",\"quiero\",\"les\",\"being\",\"real\",\"down\",\"kamu\",\"everyone\",\"gonna\",\"live\",\"tonight\",\"yes\",\"work\",\"ass\",\"retweet\",\"nada\",\"sama\",\"first\",\"<<\",\"photo\",\"tomorrow\",\"where\",\"god\",\"son\",\"ke\",\"ta\",\"f\",\"home\",\"lagi\",\"thank\",\"birthday\",\"\\u2588\",\"ha\",\"great\",\"lmao\",\"omg\",\"morning\",\"m\\u00e1s\",\"mau\",\"baby\",\"dont\",\"\\uff61\",\"their\",\"p\",\"things\",\"game\",\"pas\",\"bad\",\"year\",\"yeah\",\"su\",\"bitch\",\"\\u0432\",\"stop\",\"hoy\",\"something\",\"meu\",\"tak\",\"gak\",\"world\",\"amor\",\"h\",\"\\\\\",\"ver\",\"\\uff1b\",\"porque\",\"give\",\"these\",\"\\u0627\\u0644\\u0644\\u0647\\u0645\",\"were\",\"hay\",\"sleep\",\"gue\",\"every\",\"friends\",\"uma\",\"tell\",\"amo\",\"vou\",\"bien\",\"\\u00a1\",\"again\",\"\\uff3e\",\"\\uff0f\",\"done\",\"after\",\"todos\",\"girls\",\"guys\",\"getting\",\"big\",\"wait\",\"justin\",\"eh\",\"\\u2192\",\"kan\",\"kita\",\"jajaja\",\"wish\",\"said\",\"fucking\",\"show\",\"thing\",\"next\",\"voc\\u00ea\",\"nos\",\"little\",\"tengo\",\"keep\",\"person\",\"''\",\"\\u2200\",\"hope\",\"\\u0643\\u0644\",\"hey\",\"bisa\",\"free\",\"made\",\"foto\",\"va\",\"everything\",\"iya\",\"nigga\",\"eso\",\"et\",\"watch\",\"music\",\"week\",\"talk\",\"ne\",\"solo\",\"gente\",\"udah\",\"\\uff1a\",\"--\",\"\\uff3c\",\"mejor\",\"facebook\",\"ma\",\"v\",\"phone\",\"most\",\"same\",\"okay\",\"ik\",\"before\",\"minha\",\"days\",\"g\",\"ti\",\"damn\",\"nice\",\"voy\",\"vai\",\"call\",\"long\",\"tapi\",\"http\",\"sin\",\"nunca\",\"doing\",\"other\",\"find\",\"il\",\"sa\",\"sorry\",\"nya\",\"orang\",\"\\u00b0\",\"hard\",\"mean\",\"die\",\"\\u0627\\u0644\\u0644\\u064a\",\"tem\",\"soy\",\"este\",\"kalo\",\"s\\u00f3\",\"th\",\"win\",\"nothing\",\"into\",\"face\",\"cute\",\"'d\",\"gracias\",\"lah\",\"\\u0438\",\"any\",\"play\",\"\\u2190\",\"ko\",\"text\",\"\\u2323\",\"estoy\",\"tau\",\"ur\",\"buat\",\"#\",\"cause\",\"\\u044f\",\"put\",\"kau\",\"siempre\",\"juga\",\"casa\",\"\\u0623\\u0646\",\"help\",\"start\",\"feliz\",\"old\",\"ir\",\"very\",\"care\",\"bir\",\"makes\",\"song\",\"check\",\"watching\",\"ahora\",\"jadi\",\"os\",\"may\",\"friend\",\"beautiful\",\"heart\",\"ka\",\"vc\",\"mundo\",\"\\u043d\\u0430\",\"sure\",\"tan\",\"pretty\",\"aqui\",\"\\u043d\\u0435\",\"house\",\"\\u0631\\u062a\\u0648\\u064a\\u062a\",\"\\u064a\\u0627\",\"ja\",\"true\",\"muy\",\"away\",\"already\",\"actually\",\"believe\",\"try\",\"many\",\"ma\\u00f1ana\",\"mis\",\"lu\",\"those\",\"hot\",\"qu\\u00e9\",\"mal\",\"\\u0639\\u0646\",\"though\",\"ask\",\"amazing\",\"bed\",\"}\",\"two\",\"mom\",\"d\\u00eda\",\"ve\",\"dari\",\"gameinsight\",\"stay\",\"fun\",\"around\",\"van\",\"cont\",\"ready\",\"money\",\"bu\",\"funny\",\"cool\",\"hair\",\"\\u00e0\",\"tho\",\"{\",\"wo\",\"hi\",\"name\",\"tiene\",\"hahahaha\",\"pa\",\"algo\",\"gotta\",\"\\u0648\\u0644\\u0627\",\"boy\",\"another\",\"c'est\",\"hari\",\"jajajaja\",\"having\",\"cara\",\"jaja\",\"dm\",\"looking\",\"top\",\"android\",\"dah\",\"wow\",\"\\u2591\",\"eres\",\"ben\",\"must\",\"news\",\"met\",\"est\\u00e1\",\"nih\",\"family\",\"black\",\"thought\",\"nak\",\"super\",\"end\",\"hace\",\"remember\",\"ama\",\"party\",\"cant\",\"vamos\",\"anything\",\"anyone\",\"\\u0641\\u0648\\u0644\\u0648\",\"perfect\",\"guy\",\"vez\",\"christmas\",\"dos\",\"bueno\",\"nao\",\"years\",\"vote\",\"dormir\",\"bro\",\"else\",\"quien\",\"untuk\",\"jangan\",\"myself\",\"head\",\"mind\",\"gua\",\"talking\",\"while\",\"dat\",\"food\",\"\\u0434\",\"coming\",\"wkwk\",\"trying\",\"saya\",\"mucho\",\"without\",\"wrong\",\"\\u2019s\",\"baru\",\"__\",\"hehe\",\"hacer\",\"lot\",\"followed\",\"crazy\",\"hell\",\"feeling\",\"des\",\"kok\",\"j\",\"stats\",\"j'\",\"\\u0627\\u0646\",\"tweets\",\"non\",\"cosas\",\"era\",\"high\",\"niggas\",\"change\",\"movie\",\"xx\",\"mad\",\"sih\",\"sometimes\",\"deh\",\"allah\",\"through\",\"pour\",\"ela\",\"soon\",\"gone\",\"playing\",\"smile\",\"bukan\",\"tv\",\"fans\",\"hasta\",\"akan\",\"y'\",\"looks\",\"isso\",\"\\u270c\",\"tired\",\"boys\",\"might\",\"dong\",\"lg\",\"use\",\"maybe\",\"until\",\"menos\",\"own\",\"dengan\",\"eat\",\"ou\",\"weekend\",\"\\u02d8\",\"class\",\"ele\",\"harry\",\"iphone\",\"friday\",\"single\",\"ff\",\"awesome\",\"bout\",\"muito\",\"hoje\",\"\\u00ac\",\"dios\",\"such\",\"estar\",\"j\\u00e1\",\"quando\",\"esa\",\"making\",\"\\u2501\",\"times\",\"lmfao\",\"gw\",\"moment\",\"yet\",\"aw\",\"smh\",\"banget\",\"masih\",\"qui\",\"quem\",\"\\u2013\",\"leave\",\"du\",\"une\",\"guess\",\"hit\",\"\\u0441\",\"pm\",\"since\",\"pues\",\"est\",\"job\",\"\\uff89\",\"mana\",\"bom\",\"siapa\",\"suka\",\"bieber\",\"mention\",\"lebih\",\"favorite\",\"bitches\",\"forever\",\"\\u0644\\u064a\",\"final\",\"read\",\"alguien\",\"open\",\"yourself\",\"ese\",\"che\",\"sex\",\"yaa\",\"car\",\"direction\",\"tidak\",\"seu\",\"gets\",\"left\",\"re\",\"jam\",\"enough\",\"\\u0625\\u0644\\u0627\",\"once\",\"\\u2019\",\"part\",\"cada\",\"\\u5b9a\\u671f\",\"\\u0644\\u0643\",\"een\",\"seen\",\"kak\",\"as\\u00ed\",\"nem\",\"\\u0639\\u0645\\u0644\",\"white\",\"told\",\"says\",\"esto\",\"sad\",\"mo\",\"fue\",\"yah\",\"summer\",\"\\u0647\",\"\\u2b55\",\"\\u00bb\",\"thats\",\"\\u0645\\u0639\",\"posted\",\"wants\",\"agora\",\"together\",\"fan\",\"men\",\"hear\",\"full\",\"\\u2600\",\"sigo\",\"pq\",\"dulu\",\"plus\",\"foi\",\"tudo\",\"\\u0647\\u0648\",\"ill\",\"\\u3042\",\"thinking\",\"wtf\",\"pagi\",\"mama\",\"kalau\",\"hati\",\"sexy\",\"sayang\",\"baik\",\"semua\",\"hola\",\"went\",\"vos\",\"tanto\",\"finally\",\"fb\",\"sea\",\"stupid\",\"tus\",\"seriously\",\"hora\",\"min\",\"pic\",\"estas\",\"turn\",\"hours\",\"excited\",\"nah\",\"buy\",\"saying\",\"mah\",\"break\",\"needs\",\"ce\",\"room\",\"choice\",\"far\",\"dead\",\"quero\",\"saw\",\"kids\",\"lil\",\"whole\",\"puede\",\"fall\",\"sus\",\"lost\",\"asi\",\"word\",\"\\u2639\",\"also\",\"\\u0631\\u064a\\u062a\\u0648\\u064a\\u062a\",\"probably\",\"everybody\",\"tarde\",\"run\",\"sei\",\"follback\",\"forget\",\"sweet\",\"welcome\",\"selamat\",\"\\uff3f\",\"sur\",\"place\",\"gusta\",\"sabe\",\"androidgames\",\"tp\",\"tiempo\",\"\\u0628\\u0633\",\"sou\",\"tuh\",\"vs\",\"eyes\",\"\\u0627\\u0646\\u0627\",\"picture\",\"das\",\"meet\",\"anak\",\"persona\",\"essa\",\"bored\",\"following\",\"nadie\",\"nobody\",\"dice\",\"alone\",\"sick\",\"red\",\"city\",\"cinta\",\"\\u6708\",\"linda\",\"dream\",\"story\",\"km\",\"het\",\"waiting\",\"^_^\",\"mine\",\"\\u0447\\u0442\\u043e\",\"reason\",\"kk\",\"\\u0644\\u0648\",\"online\",\"fast\",\"udh\",\"wanted\",\"op\",\"others\",\"gay\",\"n\\u2019t\",\"used\",\"sem\",\"understand\",\"moi\",\"sm\",\"aint\",\"donde\",\"bem\",\"which\",\"ng\",\"followback\",\"punya\",\"late\",\"anda\",\"tidur\",\"puedo\",\"early\",\"nd\",\"personas\",\"banyak\",\"\\u2705\",\"\\u278a\",\"trust\",\"noche\",\"tl\",\"\\uff1e\",\"\\u00ab\",\"af\",\"move\",\"pro\",\"bring\",\"ku\",\"called\",\"relationship\",\"idk\",\"hurt\",\"st\",\"pernah\",\"pessoas\",\"hello\",\"uno\",\"unfollowers\",\"cry\"],\"x\":{\"__ndarray__\":\"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\",\"dtype\":\"float32\",\"order\":\"little\",\"shape\":[1000]},\"y\":{\"__ndarray__\":\"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\",\"dtype\":\"float32\",\"order\":\"little\",\"shape\":[1000]}},\"selected\":{\"id\":\"1603\"},\"selection_policy\":{\"id\":\"1602\"}},\"id\":\"1510\",\"type\":\"ColumnDataSource\"},{\"attributes\":{\"fill_alpha\":{\"value\":0.1},\"fill_color\":{\"field\":\"color\"},\"hatch_alpha\":{\"value\":0.1},\"hatch_color\":{\"field\":\"color\"},\"line_alpha\":{\"value\":0.1},\"line_color\":{\"field\":\"color\"},\"size\":{\"value\":10},\"x\":{\"field\":\"x\"},\"y\":{\"field\":\"y\"}},\"id\":\"1544\",\"type\":\"Scatter\"},{\"attributes\":{\"fill_alpha\":{\"value\":0.25},\"fill_color\":{\"field\":\"color\"},\"hatch_alpha\":{\"value\":0.25},\"hatch_color\":{\"field\":\"color\"},\"line_alpha\":{\"value\":0.25},\"line_color\":{\"field\":\"color\"},\"size\":{\"value\":10},\"x\":{\"field\":\"x\"},\"y\":{\"field\":\"y\"}},\"id\":\"1543\",\"type\":\"Scatter\"},{\"attributes\":{},\"id\":\"1531\",\"type\":\"SaveTool\"},{\"attributes\":{\"coordinates\":null,\"group\":null},\"id\":\"1594\",\"type\":\"Title\"},{\"attributes\":{},\"id\":\"1529\",\"type\":\"WheelZoomTool\"},{\"attributes\":{},\"id\":\"1512\",\"type\":\"DataRange1d\"},{\"attributes\":{\"bottom_units\":\"screen\",\"coordinates\":null,\"fill_alpha\":0.5,\"fill_color\":\"lightgrey\",\"group\":null,\"left_units\":\"screen\",\"level\":\"overlay\",\"line_alpha\":1.0,\"line_color\":\"black\",\"line_dash\":[4,4],\"line_width\":2,\"right_units\":\"screen\",\"syncable\":false,\"top_units\":\"screen\"},\"id\":\"1534\",\"type\":\"BoxAnnotation\"},{\"attributes\":{},\"id\":\"1518\",\"type\":\"LinearScale\"},{\"attributes\":{\"coordinates\":null,\"data_source\":{\"id\":\"1510\"},\"glyph\":{\"id\":\"1543\"},\"group\":null,\"hover_glyph\":null,\"muted_glyph\":{\"id\":\"1545\"},\"nonselection_glyph\":{\"id\":\"1544\"},\"view\":{\"id\":\"1547\"}},\"id\":\"1546\",\"type\":\"GlyphRenderer\"},{\"attributes\":{},\"id\":\"1532\",\"type\":\"ResetTool\"},{\"attributes\":{},\"id\":\"1603\",\"type\":\"Selection\"},{\"attributes\":{\"active_scroll\":{\"id\":\"1529\"},\"tools\":[{\"id\":\"1528\"},{\"id\":\"1529\"},{\"id\":\"1530\"},{\"id\":\"1531\"},{\"id\":\"1532\"},{\"id\":\"1533\"},{\"id\":\"1548\"}]},\"id\":\"1535\",\"type\":\"Toolbar\"},{\"attributes\":{\"coordinates\":null,\"formatter\":{\"id\":\"1600\"},\"group\":null,\"major_label_policy\":{\"id\":\"1601\"},\"ticker\":{\"id\":\"1521\"}},\"id\":\"1520\",\"type\":\"LinearAxis\"},{\"attributes\":{\"source\":{\"id\":\"1510\"}},\"id\":\"1547\",\"type\":\"CDSView\"},{\"attributes\":{},\"id\":\"1600\",\"type\":\"BasicTickFormatter\"},{\"attributes\":{},\"id\":\"1602\",\"type\":\"UnionRenderers\"},{\"attributes\":{},\"id\":\"1521\",\"type\":\"BasicTicker\"}],\"root_ids\":[\"1511\"]},\"title\":\"Bokeh Application\",\"version\":\"2.4.3\"}};\n",
       "  const render_items = [{\"docid\":\"125a0aad-453d-447f-ad64-14063b7e5565\",\"root_ids\":[\"1511\"],\"roots\":{\"1511\":\"a23caed5-cd52-4afd-a3d8-fcf1f6ac0194\"}}];\n",
       "  root.Bokeh.embed.embed_items_notebook(docs_json, render_items);\n",
       "  }\n",
       "  if (root.Bokeh !== undefined) {\n",
       "    embed_document(root);\n",
       "  } else {\n",
       "    let attempts = 0;\n",
       "    const timer = setInterval(function(root) {\n",
       "      if (root.Bokeh !== undefined) {\n",
       "        clearInterval(timer);\n",
       "        embed_document(root);\n",
       "      } else {\n",
       "        attempts++;\n",
       "        if (attempts > 100) {\n",
       "          clearInterval(timer);\n",
       "          console.log(\"Bokeh: ERROR: Unable to run BokehJS code because BokehJS library is missing\");\n",
       "        }\n",
       "      }\n",
       "    }, 10, root)\n",
       "  }\n",
       "})(window);"
      ],
      "application/vnd.bokehjs_exec.v0+json": ""
     },
     "metadata": {
      "application/vnd.bokehjs_exec.v0+json": {
       "id": "1511"
      }
     },
     "output_type": "display_data"
    },
    {
     "data": {
      "text/html": [
       "<div style=\"display: table;\"><div style=\"display: table-row;\"><div style=\"display: table-cell;\"><b title=\"bokeh.plotting.figure.Figure\">Figure</b>(</div><div style=\"display: table-cell;\">id&nbsp;=&nbsp;'1511', <span id=\"1661\" style=\"cursor: pointer;\">&hellip;)</span></div></div><div class=\"1660\" style=\"display: none;\"><div style=\"display: table-cell;\"></div><div style=\"display: table-cell;\">above&nbsp;=&nbsp;[],</div></div><div class=\"1660\" style=\"display: none;\"><div style=\"display: table-cell;\"></div><div style=\"display: table-cell;\">align&nbsp;=&nbsp;'start',</div></div><div class=\"1660\" style=\"display: none;\"><div style=\"display: table-cell;\"></div><div style=\"display: table-cell;\">aspect_ratio&nbsp;=&nbsp;None,</div></div><div class=\"1660\" style=\"display: none;\"><div style=\"display: table-cell;\"></div><div style=\"display: table-cell;\">aspect_scale&nbsp;=&nbsp;1,</div></div><div class=\"1660\" style=\"display: none;\"><div style=\"display: table-cell;\"></div><div style=\"display: table-cell;\">background&nbsp;=&nbsp;None,</div></div><div class=\"1660\" style=\"display: none;\"><div style=\"display: table-cell;\"></div><div style=\"display: table-cell;\">background_fill_alpha&nbsp;=&nbsp;1.0,</div></div><div class=\"1660\" style=\"display: none;\"><div style=\"display: table-cell;\"></div><div style=\"display: table-cell;\">background_fill_color&nbsp;=&nbsp;'#ffffff',</div></div><div class=\"1660\" style=\"display: none;\"><div style=\"display: table-cell;\"></div><div style=\"display: table-cell;\">below&nbsp;=&nbsp;[LinearAxis(id='1520', ...)],</div></div><div class=\"1660\" style=\"display: none;\"><div style=\"display: table-cell;\"></div><div style=\"display: table-cell;\">border_fill_alpha&nbsp;=&nbsp;1.0,</div></div><div class=\"1660\" style=\"display: none;\"><div style=\"display: table-cell;\"></div><div style=\"display: table-cell;\">border_fill_color&nbsp;=&nbsp;'#ffffff',</div></div><div class=\"1660\" style=\"display: none;\"><div style=\"display: table-cell;\"></div><div style=\"display: table-cell;\">center&nbsp;=&nbsp;[Grid(id='1523', ...), Grid(id='1527', ...)],</div></div><div class=\"1660\" style=\"display: none;\"><div style=\"display: table-cell;\"></div><div style=\"display: table-cell;\">css_classes&nbsp;=&nbsp;[],</div></div><div class=\"1660\" style=\"display: none;\"><div style=\"display: table-cell;\"></div><div style=\"display: table-cell;\">disabled&nbsp;=&nbsp;False,</div></div><div class=\"1660\" style=\"display: none;\"><div style=\"display: table-cell;\"></div><div style=\"display: table-cell;\">extra_x_ranges&nbsp;=&nbsp;{},</div></div><div class=\"1660\" style=\"display: none;\"><div style=\"display: table-cell;\"></div><div style=\"display: table-cell;\">extra_x_scales&nbsp;=&nbsp;{},</div></div><div class=\"1660\" style=\"display: none;\"><div style=\"display: table-cell;\"></div><div style=\"display: table-cell;\">extra_y_ranges&nbsp;=&nbsp;{},</div></div><div class=\"1660\" style=\"display: none;\"><div style=\"display: table-cell;\"></div><div style=\"display: table-cell;\">extra_y_scales&nbsp;=&nbsp;{},</div></div><div class=\"1660\" style=\"display: none;\"><div style=\"display: table-cell;\"></div><div style=\"display: table-cell;\">frame_height&nbsp;=&nbsp;None,</div></div><div class=\"1660\" style=\"display: none;\"><div style=\"display: table-cell;\"></div><div style=\"display: table-cell;\">frame_width&nbsp;=&nbsp;None,</div></div><div class=\"1660\" style=\"display: none;\"><div style=\"display: table-cell;\"></div><div style=\"display: table-cell;\">height&nbsp;=&nbsp;400,</div></div><div class=\"1660\" style=\"display: none;\"><div style=\"display: table-cell;\"></div><div style=\"display: table-cell;\">height_policy&nbsp;=&nbsp;'auto',</div></div><div class=\"1660\" style=\"display: none;\"><div style=\"display: table-cell;\"></div><div style=\"display: table-cell;\">hidpi&nbsp;=&nbsp;True,</div></div><div class=\"1660\" style=\"display: none;\"><div style=\"display: table-cell;\"></div><div style=\"display: table-cell;\">inner_height&nbsp;=&nbsp;0,</div></div><div class=\"1660\" style=\"display: none;\"><div style=\"display: table-cell;\"></div><div style=\"display: table-cell;\">inner_width&nbsp;=&nbsp;0,</div></div><div class=\"1660\" style=\"display: none;\"><div style=\"display: table-cell;\"></div><div style=\"display: table-cell;\">js_event_callbacks&nbsp;=&nbsp;{},</div></div><div class=\"1660\" style=\"display: none;\"><div style=\"display: table-cell;\"></div><div style=\"display: table-cell;\">js_property_callbacks&nbsp;=&nbsp;{},</div></div><div class=\"1660\" style=\"display: none;\"><div style=\"display: table-cell;\"></div><div style=\"display: table-cell;\">left&nbsp;=&nbsp;[LinearAxis(id='1524', ...)],</div></div><div class=\"1660\" style=\"display: none;\"><div style=\"display: table-cell;\"></div><div style=\"display: table-cell;\">lod_factor&nbsp;=&nbsp;10,</div></div><div class=\"1660\" style=\"display: none;\"><div style=\"display: table-cell;\"></div><div style=\"display: table-cell;\">lod_interval&nbsp;=&nbsp;300,</div></div><div class=\"1660\" style=\"display: none;\"><div style=\"display: table-cell;\"></div><div style=\"display: table-cell;\">lod_threshold&nbsp;=&nbsp;2000,</div></div><div class=\"1660\" style=\"display: none;\"><div style=\"display: table-cell;\"></div><div style=\"display: table-cell;\">lod_timeout&nbsp;=&nbsp;500,</div></div><div class=\"1660\" style=\"display: none;\"><div style=\"display: table-cell;\"></div><div style=\"display: table-cell;\">margin&nbsp;=&nbsp;(0, 0, 0, 0),</div></div><div class=\"1660\" style=\"display: none;\"><div style=\"display: table-cell;\"></div><div style=\"display: table-cell;\">match_aspect&nbsp;=&nbsp;False,</div></div><div class=\"1660\" style=\"display: none;\"><div style=\"display: table-cell;\"></div><div style=\"display: table-cell;\">max_height&nbsp;=&nbsp;None,</div></div><div class=\"1660\" style=\"display: none;\"><div style=\"display: table-cell;\"></div><div style=\"display: table-cell;\">max_width&nbsp;=&nbsp;None,</div></div><div class=\"1660\" style=\"display: none;\"><div style=\"display: table-cell;\"></div><div style=\"display: table-cell;\">min_border&nbsp;=&nbsp;5,</div></div><div class=\"1660\" style=\"display: none;\"><div style=\"display: table-cell;\"></div><div style=\"display: table-cell;\">min_border_bottom&nbsp;=&nbsp;None,</div></div><div class=\"1660\" style=\"display: none;\"><div style=\"display: table-cell;\"></div><div style=\"display: table-cell;\">min_border_left&nbsp;=&nbsp;None,</div></div><div class=\"1660\" style=\"display: none;\"><div style=\"display: table-cell;\"></div><div style=\"display: table-cell;\">min_border_right&nbsp;=&nbsp;None,</div></div><div class=\"1660\" style=\"display: none;\"><div style=\"display: table-cell;\"></div><div style=\"display: table-cell;\">min_border_top&nbsp;=&nbsp;None,</div></div><div class=\"1660\" style=\"display: none;\"><div style=\"display: table-cell;\"></div><div style=\"display: table-cell;\">min_height&nbsp;=&nbsp;None,</div></div><div class=\"1660\" style=\"display: none;\"><div style=\"display: table-cell;\"></div><div style=\"display: table-cell;\">min_width&nbsp;=&nbsp;None,</div></div><div class=\"1660\" style=\"display: none;\"><div style=\"display: table-cell;\"></div><div style=\"display: table-cell;\">name&nbsp;=&nbsp;None,</div></div><div class=\"1660\" style=\"display: none;\"><div style=\"display: table-cell;\"></div><div style=\"display: table-cell;\">outer_height&nbsp;=&nbsp;0,</div></div><div class=\"1660\" style=\"display: none;\"><div style=\"display: table-cell;\"></div><div style=\"display: table-cell;\">outer_width&nbsp;=&nbsp;0,</div></div><div class=\"1660\" style=\"display: none;\"><div style=\"display: table-cell;\"></div><div style=\"display: table-cell;\">outline_line_alpha&nbsp;=&nbsp;1.0,</div></div><div class=\"1660\" style=\"display: none;\"><div style=\"display: table-cell;\"></div><div style=\"display: table-cell;\">outline_line_cap&nbsp;=&nbsp;'butt',</div></div><div class=\"1660\" style=\"display: none;\"><div style=\"display: table-cell;\"></div><div style=\"display: table-cell;\">outline_line_color&nbsp;=&nbsp;'#e5e5e5',</div></div><div class=\"1660\" style=\"display: none;\"><div style=\"display: table-cell;\"></div><div style=\"display: table-cell;\">outline_line_dash&nbsp;=&nbsp;[],</div></div><div class=\"1660\" style=\"display: none;\"><div style=\"display: table-cell;\"></div><div style=\"display: table-cell;\">outline_line_dash_offset&nbsp;=&nbsp;0,</div></div><div class=\"1660\" style=\"display: none;\"><div style=\"display: table-cell;\"></div><div style=\"display: table-cell;\">outline_line_join&nbsp;=&nbsp;'bevel',</div></div><div class=\"1660\" style=\"display: none;\"><div style=\"display: table-cell;\"></div><div style=\"display: table-cell;\">outline_line_width&nbsp;=&nbsp;1,</div></div><div class=\"1660\" style=\"display: none;\"><div style=\"display: table-cell;\"></div><div style=\"display: table-cell;\">output_backend&nbsp;=&nbsp;'canvas',</div></div><div class=\"1660\" style=\"display: none;\"><div style=\"display: table-cell;\"></div><div style=\"display: table-cell;\">renderers&nbsp;=&nbsp;[GlyphRenderer(id='1546', ...)],</div></div><div class=\"1660\" style=\"display: none;\"><div style=\"display: table-cell;\"></div><div style=\"display: table-cell;\">reset_policy&nbsp;=&nbsp;'standard',</div></div><div class=\"1660\" style=\"display: none;\"><div style=\"display: table-cell;\"></div><div style=\"display: table-cell;\">right&nbsp;=&nbsp;[],</div></div><div class=\"1660\" style=\"display: none;\"><div style=\"display: table-cell;\"></div><div style=\"display: table-cell;\">sizing_mode&nbsp;=&nbsp;None,</div></div><div class=\"1660\" style=\"display: none;\"><div style=\"display: table-cell;\"></div><div style=\"display: table-cell;\">subscribed_events&nbsp;=&nbsp;[],</div></div><div class=\"1660\" style=\"display: none;\"><div style=\"display: table-cell;\"></div><div style=\"display: table-cell;\">syncable&nbsp;=&nbsp;True,</div></div><div class=\"1660\" style=\"display: none;\"><div style=\"display: table-cell;\"></div><div style=\"display: table-cell;\">tags&nbsp;=&nbsp;[],</div></div><div class=\"1660\" style=\"display: none;\"><div style=\"display: table-cell;\"></div><div style=\"display: table-cell;\">title&nbsp;=&nbsp;Title(id='1594', ...),</div></div><div class=\"1660\" style=\"display: none;\"><div style=\"display: table-cell;\"></div><div style=\"display: table-cell;\">title_location&nbsp;=&nbsp;'above',</div></div><div class=\"1660\" style=\"display: none;\"><div style=\"display: table-cell;\"></div><div style=\"display: table-cell;\">toolbar&nbsp;=&nbsp;Toolbar(id='1535', ...),</div></div><div class=\"1660\" style=\"display: none;\"><div style=\"display: table-cell;\"></div><div style=\"display: table-cell;\">toolbar_location&nbsp;=&nbsp;'right',</div></div><div class=\"1660\" style=\"display: none;\"><div style=\"display: table-cell;\"></div><div style=\"display: table-cell;\">toolbar_sticky&nbsp;=&nbsp;True,</div></div><div class=\"1660\" style=\"display: none;\"><div style=\"display: table-cell;\"></div><div style=\"display: table-cell;\">visible&nbsp;=&nbsp;True,</div></div><div class=\"1660\" style=\"display: none;\"><div style=\"display: table-cell;\"></div><div style=\"display: table-cell;\">width&nbsp;=&nbsp;600,</div></div><div class=\"1660\" style=\"display: none;\"><div style=\"display: table-cell;\"></div><div style=\"display: table-cell;\">width_policy&nbsp;=&nbsp;'auto',</div></div><div class=\"1660\" style=\"display: none;\"><div style=\"display: table-cell;\"></div><div style=\"display: table-cell;\">x_range&nbsp;=&nbsp;DataRange1d(id='1512', ...),</div></div><div class=\"1660\" style=\"display: none;\"><div style=\"display: table-cell;\"></div><div style=\"display: table-cell;\">x_scale&nbsp;=&nbsp;LinearScale(id='1516', ...),</div></div><div class=\"1660\" style=\"display: none;\"><div style=\"display: table-cell;\"></div><div style=\"display: table-cell;\">y_range&nbsp;=&nbsp;DataRange1d(id='1514', ...),</div></div><div class=\"1660\" style=\"display: none;\"><div style=\"display: table-cell;\"></div><div style=\"display: table-cell;\">y_scale&nbsp;=&nbsp;LinearScale(id='1518', ...))</div></div></div>\n",
       "<script>\n",
       "(function() {\n",
       "  let expanded = false;\n",
       "  const ellipsis = document.getElementById(\"1661\");\n",
       "  ellipsis.addEventListener(\"click\", function() {\n",
       "    const rows = document.getElementsByClassName(\"1660\");\n",
       "    for (let i = 0; i < rows.length; i++) {\n",
       "      const el = rows[i];\n",
       "      el.style.display = expanded ? \"none\" : \"table-row\";\n",
       "    }\n",
       "    ellipsis.innerHTML = expanded ? \"&hellip;)\" : \"&lsaquo;&lsaquo;&lsaquo;\";\n",
       "    expanded = !expanded;\n",
       "  });\n",
       "})();\n",
       "</script>\n"
      ],
      "text/plain": [
       "Figure(id='1511', ...)"
      ]
     },
     "execution_count": 152,
     "metadata": {},
     "output_type": "execute_result"
    }
   ],
   "source": [
    "draw_vectors(word_vectors_pca[:, 0], word_vectors_pca[:, 1], token=words)\n",
    "\n",
    "# hover a mouse over there and see if you can identify the clusters"
   ]
  },
  {
   "cell_type": "markdown",
   "metadata": {},
   "source": [
    "### Visualizing neighbors with t-SNE\n",
    "PCA is nice but it's strictly linear and thus only able to capture coarse high-level structure of the data.\n",
    "\n",
    "If we instead want to focus on keeping neighboring points near, we could use TSNE, which is itself an embedding method. Here you can read __[more on TSNE](https://distill.pub/2016/misread-tsne/)__."
   ]
  },
  {
   "cell_type": "code",
   "execution_count": 153,
   "metadata": {},
   "outputs": [
    {
     "name": "stderr",
     "output_type": "stream",
     "text": [
      "/home/irina/unn/nlp_course/venv/lib/python3.8/site-packages/sklearn/manifold/_t_sne.py:800: FutureWarning: The default initialization in TSNE will change from 'random' to 'pca' in 1.2.\n",
      "  warnings.warn(\n",
      "/home/irina/unn/nlp_course/venv/lib/python3.8/site-packages/sklearn/manifold/_t_sne.py:810: FutureWarning: The default learning rate in TSNE will change from 200.0 to 'auto' in 1.2.\n",
      "  warnings.warn(\n"
     ]
    }
   ],
   "source": [
    "from sklearn.manifold import TSNE\n",
    "\n",
    "# map word vectors onto 2d plane with TSNE. hint: don't panic it may take a minute or two to fit.\n",
    "# normalize them as just lke with pca\n",
    "\n",
    "word_tsne = TSNE(n_components=2).fit_transform(word_vectors)\n",
    "word_tsne = (word_tsne - word_tsne.mean(axis=0)) / (word_tsne.std(axis=0))"
   ]
  },
  {
   "cell_type": "code",
   "execution_count": 154,
   "metadata": {
    "scrolled": false
   },
   "outputs": [
    {
     "data": {
      "text/html": [
       "\n",
       "  <div class=\"bk-root\" id=\"b593d323-c6d6-4346-b6fd-4f47db42dff3\" data-root-id=\"1665\"></div>\n"
      ]
     },
     "metadata": {},
     "output_type": "display_data"
    },
    {
     "data": {
      "application/javascript": [
       "(function(root) {\n",
       "  function embed_document(root) {\n",
       "  const docs_json = {\"c25c3704-e6f3-4ec9-9634-9a7a1cbe6286\":{\"defs\":[],\"roots\":{\"references\":[{\"attributes\":{\"below\":[{\"id\":\"1674\"}],\"center\":[{\"id\":\"1677\"},{\"id\":\"1681\"}],\"height\":400,\"left\":[{\"id\":\"1678\"}],\"renderers\":[{\"id\":\"1700\"}],\"title\":{\"id\":\"1759\"},\"toolbar\":{\"id\":\"1689\"},\"x_range\":{\"id\":\"1666\"},\"x_scale\":{\"id\":\"1670\"},\"y_range\":{\"id\":\"1668\"},\"y_scale\":{\"id\":\"1672\"}},\"id\":\"1665\",\"subtype\":\"Figure\",\"type\":\"Plot\"},{\"attributes\":{\"callback\":null,\"tooltips\":[[\"token\",\"@token\"]]},\"id\":\"1702\",\"type\":\"HoverTool\"},{\"attributes\":{},\"id\":\"1768\",\"type\":\"Selection\"},{\"attributes\":{\"coordinates\":null,\"formatter\":{\"id\":\"1765\"},\"group\":null,\"major_label_policy\":{\"id\":\"1766\"},\"ticker\":{\"id\":\"1675\"}},\"id\":\"1674\",\"type\":\"LinearAxis\"},{\"attributes\":{},\"id\":\"1670\",\"type\":\"LinearScale\"},{\"attributes\":{},\"id\":\"1767\",\"type\":\"UnionRenderers\"},{\"attributes\":{\"bottom_units\":\"screen\",\"coordinates\":null,\"fill_alpha\":0.5,\"fill_color\":\"lightgrey\",\"group\":null,\"left_units\":\"screen\",\"level\":\"overlay\",\"line_alpha\":1.0,\"line_color\":\"black\",\"line_dash\":[4,4],\"line_width\":2,\"right_units\":\"screen\",\"syncable\":false,\"top_units\":\"screen\"},\"id\":\"1688\",\"type\":\"BoxAnnotation\"},{\"attributes\":{\"coordinates\":null,\"data_source\":{\"id\":\"1664\"},\"glyph\":{\"id\":\"1697\"},\"group\":null,\"hover_glyph\":null,\"muted_glyph\":{\"id\":\"1699\"},\"nonselection_glyph\":{\"id\":\"1698\"},\"view\":{\"id\":\"1701\"}},\"id\":\"1700\",\"type\":\"GlyphRenderer\"},{\"attributes\":{\"fill_alpha\":{\"value\":0.2},\"fill_color\":{\"field\":\"color\"},\"hatch_alpha\":{\"value\":0.2},\"hatch_color\":{\"field\":\"color\"},\"line_alpha\":{\"value\":0.2},\"line_color\":{\"field\":\"color\"},\"size\":{\"value\":10},\"x\":{\"field\":\"x\"},\"y\":{\"field\":\"y\"}},\"id\":\"1699\",\"type\":\"Scatter\"},{\"attributes\":{},\"id\":\"1763\",\"type\":\"AllLabels\"},{\"attributes\":{\"coordinates\":null,\"group\":null},\"id\":\"1759\",\"type\":\"Title\"},{\"attributes\":{},\"id\":\"1686\",\"type\":\"ResetTool\"},{\"attributes\":{},\"id\":\"1666\",\"type\":\"DataRange1d\"},{\"attributes\":{},\"id\":\"1685\",\"type\":\"SaveTool\"},{\"attributes\":{},\"id\":\"1766\",\"type\":\"AllLabels\"},{\"attributes\":{\"active_scroll\":{\"id\":\"1683\"},\"tools\":[{\"id\":\"1682\"},{\"id\":\"1683\"},{\"id\":\"1684\"},{\"id\":\"1685\"},{\"id\":\"1686\"},{\"id\":\"1687\"},{\"id\":\"1702\"}]},\"id\":\"1689\",\"type\":\"Toolbar\"},{\"attributes\":{\"source\":{\"id\":\"1664\"}},\"id\":\"1701\",\"type\":\"CDSView\"},{\"attributes\":{},\"id\":\"1682\",\"type\":\"PanTool\"},{\"attributes\":{\"data\":{\"color\":[\"green\",\"green\",\"green\",\"green\",\"green\",\"green\",\"green\",\"green\",\"green\",\"green\",\"green\",\"green\",\"green\",\"green\",\"green\",\"green\",\"green\",\"green\",\"green\",\"green\",\"green\",\"green\",\"green\",\"green\",\"green\",\"green\",\"green\",\"green\",\"green\",\"green\",\"green\",\"green\",\"green\",\"green\",\"green\",\"green\",\"green\",\"green\",\"green\",\"green\",\"green\",\"green\",\"green\",\"green\",\"green\",\"green\",\"green\",\"green\",\"green\",\"green\",\"green\",\"green\",\"green\",\"green\",\"green\",\"green\",\"green\",\"green\",\"green\",\"green\",\"green\",\"green\",\"green\",\"green\",\"green\",\"green\",\"green\",\"green\",\"green\",\"green\",\"green\",\"green\",\"green\",\"green\",\"green\",\"green\",\"green\",\"green\",\"green\",\"green\",\"green\",\"green\",\"green\",\"green\",\"green\",\"green\",\"green\",\"green\",\"green\",\"green\",\"green\",\"green\",\"green\",\"green\",\"green\",\"green\",\"green\",\"green\",\"green\",\"green\",\"green\",\"green\",\"green\",\"green\",\"green\",\"green\",\"green\",\"green\",\"green\",\"green\",\"green\",\"green\",\"green\",\"green\",\"green\",\"green\",\"green\",\"green\",\"green\",\"green\",\"green\",\"green\",\"green\",\"green\",\"green\",\"green\",\"green\",\"green\",\"green\",\"green\",\"green\",\"green\",\"green\",\"green\",\"green\",\"green\",\"green\",\"green\",\"green\",\"green\",\"green\",\"green\",\"green\",\"green\",\"green\",\"green\",\"green\",\"green\",\"green\",\"green\",\"green\",\"green\",\"green\",\"green\",\"green\",\"green\",\"green\",\"green\",\"green\",\"green\",\"green\",\"green\",\"green\",\"green\",\"green\",\"green\",\"green\",\"green\",\"green\",\"green\",\"green\",\"green\",\"green\",\"green\",\"green\",\"green\",\"green\",\"green\",\"green\",\"green\",\"green\",\"green\",\"green\",\"green\",\"green\",\"green\",\"green\",\"green\",\"green\",\"green\",\"green\",\"green\",\"green\",\"green\",\"green\",\"green\",\"green\",\"green\",\"green\",\"green\",\"green\",\"green\",\"green\",\"green\",\"green\",\"green\",\"green\",\"green\",\"green\",\"green\",\"green\",\"green\",\"green\",\"green\",\"green\",\"green\",\"green\",\"green\",\"green\",\"green\",\"green\",\"green\",\"green\",\"green\",\"green\",\"green\",\"green\",\"green\",\"green\",\"green\",\"green\",\"green\",\"green\",\"green\",\"green\",\"green\",\"green\",\"green\",\"green\",\"green\",\"green\",\"green\",\"green\",\"green\",\"green\",\"green\",\"green\",\"green\",\"green\",\"green\",\"green\",\"green\",\"green\",\"green\",\"green\",\"green\",\"green\",\"green\",\"green\",\"green\",\"green\",\"green\",\"green\",\"green\",\"green\",\"green\",\"green\",\"green\",\"green\",\"green\",\"green\",\"green\",\"green\",\"green\",\"green\",\"green\",\"green\",\"green\",\"green\",\"green\",\"green\",\"green\",\"green\",\"green\",\"green\",\"green\",\"green\",\"green\",\"green\",\"green\",\"green\",\"green\",\"green\",\"green\",\"green\",\"green\",\"green\",\"green\",\"green\",\"green\",\"green\",\"green\",\"green\",\"green\",\"green\",\"green\",\"green\",\"green\",\"green\",\"green\",\"green\",\"green\",\"green\",\"green\",\"green\",\"green\",\"green\",\"green\",\"green\",\"green\",\"green\",\"green\",\"green\",\"green\",\"green\",\"green\",\"green\",\"green\",\"green\",\"green\",\"green\",\"green\",\"green\",\"green\",\"green\",\"green\",\"green\",\"green\",\"green\",\"green\",\"green\",\"green\",\"green\",\"green\",\"green\",\"green\",\"green\",\"green\",\"green\",\"green\",\"green\",\"green\",\"green\",\"green\",\"green\",\"green\",\"green\",\"green\",\"green\",\"green\",\"green\",\"green\",\"green\",\"green\",\"green\",\"green\",\"green\",\"green\",\"green\",\"green\",\"green\",\"green\",\"green\",\"green\",\"green\",\"green\",\"green\",\"green\",\"green\",\"green\",\"green\",\"green\",\"green\",\"green\",\"green\",\"green\",\"green\",\"green\",\"green\",\"green\",\"green\",\"green\",\"green\",\"green\",\"green\",\"green\",\"green\",\"green\",\"green\",\"green\",\"green\",\"green\",\"green\",\"green\",\"green\",\"green\",\"green\",\"green\",\"green\",\"green\",\"green\",\"green\",\"green\",\"green\",\"green\",\"green\",\"green\",\"green\",\"green\",\"green\",\"green\",\"green\",\"green\",\"green\",\"green\",\"green\",\"green\",\"green\",\"green\",\"green\",\"green\",\"green\",\"green\",\"green\",\"green\",\"green\",\"green\",\"green\",\"green\",\"green\",\"green\",\"green\",\"green\",\"green\",\"green\",\"green\",\"green\",\"green\",\"green\",\"green\",\"green\",\"green\",\"green\",\"green\",\"green\",\"green\",\"green\",\"green\",\"green\",\"green\",\"green\",\"green\",\"green\",\"green\",\"green\",\"green\",\"green\",\"green\",\"green\",\"green\",\"green\",\"green\",\"green\",\"green\",\"green\",\"green\",\"green\",\"green\",\"green\",\"green\",\"green\",\"green\",\"green\",\"green\",\"green\",\"green\",\"green\",\"green\",\"green\",\"green\",\"green\",\"green\",\"green\",\"green\",\"green\",\"green\",\"green\",\"green\",\"green\",\"green\",\"green\",\"green\",\"green\",\"green\",\"green\",\"green\",\"green\",\"green\",\"green\",\"green\",\"green\",\"green\",\"green\",\"green\",\"green\",\"green\",\"green\",\"green\",\"green\",\"green\",\"green\",\"green\",\"green\",\"green\",\"green\",\"green\",\"green\",\"green\",\"green\",\"green\",\"green\",\"green\",\"green\",\"green\",\"green\",\"green\",\"green\",\"green\",\"green\",\"green\",\"green\",\"green\",\"green\",\"green\",\"green\",\"green\",\"green\",\"green\",\"green\",\"green\",\"green\",\"green\",\"green\",\"green\",\"green\",\"green\",\"green\",\"green\",\"green\",\"green\",\"green\",\"green\",\"green\",\"green\",\"green\",\"green\",\"green\",\"green\",\"green\",\"green\",\"green\",\"green\",\"green\",\"green\",\"green\",\"green\",\"green\",\"green\",\"green\",\"green\",\"green\",\"green\",\"green\",\"green\",\"green\",\"green\",\"green\",\"green\",\"green\",\"green\",\"green\",\"green\",\"green\",\"green\",\"green\",\"green\",\"green\",\"green\",\"green\",\"green\",\"green\",\"green\",\"green\",\"green\",\"green\",\"green\",\"green\",\"green\",\"green\",\"green\",\"green\",\"green\",\"green\",\"green\",\"green\",\"green\",\"green\",\"green\",\"green\",\"green\",\"green\",\"green\",\"green\",\"green\",\"green\",\"green\",\"green\",\"green\",\"green\",\"green\",\"green\",\"green\",\"green\",\"green\",\"green\",\"green\",\"green\",\"green\",\"green\",\"green\",\"green\",\"green\",\"green\",\"green\",\"green\",\"green\",\"green\",\"green\",\"green\",\"green\",\"green\",\"green\",\"green\",\"green\",\"green\",\"green\",\"green\",\"green\",\"green\",\"green\",\"green\",\"green\",\"green\",\"green\",\"green\",\"green\",\"green\",\"green\",\"green\",\"green\",\"green\",\"green\",\"green\",\"green\",\"green\",\"green\",\"green\",\"green\",\"green\",\"green\",\"green\",\"green\",\"green\",\"green\",\"green\",\"green\",\"green\",\"green\",\"green\",\"green\",\"green\",\"green\",\"green\",\"green\",\"green\",\"green\",\"green\",\"green\",\"green\",\"green\",\"green\",\"green\",\"green\",\"green\",\"green\",\"green\",\"green\",\"green\",\"green\",\"green\",\"green\",\"green\",\"green\",\"green\",\"green\",\"green\",\"green\",\"green\",\"green\",\"green\",\"green\",\"green\",\"green\",\"green\",\"green\",\"green\",\"green\",\"green\",\"green\",\"green\",\"green\",\"green\",\"green\",\"green\",\"green\",\"green\",\"green\",\"green\",\"green\",\"green\",\"green\",\"green\",\"green\",\"green\",\"green\",\"green\",\"green\",\"green\",\"green\",\"green\",\"green\",\"green\",\"green\",\"green\",\"green\",\"green\",\"green\",\"green\",\"green\",\"green\",\"green\",\"green\",\"green\",\"green\",\"green\",\"green\",\"green\",\"green\",\"green\",\"green\",\"green\",\"green\",\"green\",\"green\",\"green\",\"green\",\"green\",\"green\",\"green\",\"green\",\"green\",\"green\",\"green\",\"green\",\"green\",\"green\",\"green\",\"green\",\"green\",\"green\",\"green\",\"green\",\"green\",\"green\",\"green\",\"green\",\"green\",\"green\",\"green\",\"green\",\"green\",\"green\",\"green\",\"green\",\"green\",\"green\",\"green\",\"green\",\"green\",\"green\",\"green\",\"green\",\"green\",\"green\",\"green\",\"green\",\"green\",\"green\",\"green\",\"green\",\"green\",\"green\",\"green\",\"green\",\"green\",\"green\",\"green\",\"green\",\"green\",\"green\",\"green\",\"green\",\"green\",\"green\",\"green\",\"green\",\"green\",\"green\",\"green\",\"green\",\"green\",\"green\",\"green\",\"green\",\"green\",\"green\",\"green\",\"green\",\"green\",\"green\",\"green\",\"green\",\"green\",\"green\",\"green\",\"green\",\"green\",\"green\",\"green\",\"green\",\"green\",\"green\",\"green\",\"green\",\"green\",\"green\",\"green\",\"green\",\"green\",\"green\",\"green\",\"green\",\"green\",\"green\",\"green\",\"green\",\"green\",\"green\",\"green\",\"green\",\"green\",\"green\",\"green\",\"green\",\"green\",\"green\",\"green\",\"green\",\"green\",\"green\",\"green\",\"green\",\"green\",\"green\",\"green\",\"green\",\"green\",\"green\",\"green\",\"green\",\"green\",\"green\",\"green\",\"green\",\"green\",\"green\",\"green\",\"green\",\"green\",\"green\",\"green\",\"green\",\"green\",\"green\",\"green\",\"green\",\"green\",\"green\",\"green\",\"green\",\"green\",\"green\",\"green\",\"green\",\"green\",\"green\",\"green\",\"green\",\"green\",\"green\",\"green\",\"green\",\"green\",\"green\",\"green\",\"green\",\"green\",\"green\",\"green\",\"green\",\"green\",\"green\",\"green\",\"green\",\"green\",\"green\",\"green\",\"green\",\"green\",\"green\",\"green\",\"green\",\"green\",\"green\",\"green\",\"green\",\"green\",\"green\",\"green\",\"green\",\"green\",\"green\",\"green\",\"green\",\"green\",\"green\",\"green\",\"green\",\"green\",\"green\",\"green\",\"green\",\"green\",\"green\",\"green\",\"green\",\"green\",\"green\",\"green\",\"green\",\"green\",\"green\",\"green\",\"green\",\"green\",\"green\",\"green\",\"green\",\"green\",\"green\",\"green\",\"green\",\"green\",\"green\",\"green\",\"green\",\"green\",\"green\",\"green\",\"green\"],\"token\":[\"<user>\",\".\",\":\",\"rt\",\",\",\"<repeat>\",\"<hashtag>\",\"<number>\",\"<url>\",\"!\",\"i\",\"a\",\"\\\"\",\"the\",\"?\",\"you\",\"to\",\"(\",\"<allcaps>\",\"<elong>\",\")\",\"me\",\"de\",\"<smile>\",\"\\uff01\",\"que\",\"and\",\"\\u3002\",\"-\",\"my\",\"no\",\"\\u3001\",\"is\",\"it\",\"\\u2026\",\"in\",\"n\",\"for\",\"/\",\"of\",\"la\",\"'s\",\"*\",\"do\",\"n't\",\"that\",\"on\",\"y\",\"'\",\"e\",\"o\",\"u\",\"en\",\"this\",\"el\",\"so\",\"be\",\"'m\",\"with\",\"just\",\">\",\"your\",\"^\",\"like\",\"have\",\"te\",\"at\",\"\\uff1f\",\"love\",\"se\",\"are\",\"<\",\"m\",\"r\",\"if\",\"all\",\"b\",\"\\u30fb\",\"not\",\"but\",\"we\",\"es\",\"ya\",\"&\",\"follow\",\"up\",\"what\",\"get\",\"lol\",\"un\",\"\\u2665\",\"lo\",\"when\",\"was\",\"\\u201c\",\"\\u201d\",\"one\",\"por\",\"si\",\"out\",\"_\",\"mi\",\"can\",\"<sadface>\",\"\\u0645\\u0646\",\"\\u2661\",\"\\u00b4\",\"he\",\"con\",\"they\",\"now\",\"go\",\"\\u060c\",\"para\",\"los\",\"know\",\"haha\",\"good\",\"tu\",\"back\",\"~\",\"about\",\"new\",\";\",\"as\",\"day\",\"how\",\"who\",\"will\",\"want\",\"people\",\"yo\",\"eu\",\"from\",\"di\",\"time\",\"<heart>\",\"s\",\"aku\",\"da\",\"'re\",\"<lolface>\",\"una\",\"got\",\"las\",\"more\",\"x\",\"she\",\"today\",\"\\uff08\",\">>\",\"k\",\"by\",\"or\",\"\\u0641\\u064a\",\"\\uff65\",\"too\",\"le\",\"\\u00e9\",\"|\",\"[\",\"\\uff09\",\"]\",\"see\",\"why\",\"yg\",\"ca\",\"como\",\"her\",\"\\u2014\",\"q\",\"need\",\"an\",\"na\",\"\\u7b11\",\"there\",\"\\u03c9\",\"happy\",\"im\",\"mas\",\"je\",\"life\",\"really\",\"make\",\"yang\",\"shit\",\"think\",\"t\",\"\\u2764\",\"n\\u00e3o\",\"never\",\"some\",\"\\uff5e\",\"oh\",\"\\u2605\",\"did\",\"would\",\"del\",\"`\",\"d\",\"please\",\"via\",\"much\",\"fuck\",\"al\",\"dia\",\"$\",\"\\u0648\",\"right\",\"best\",\"c\",\"going\",\"\\u0627\\u0644\\u0644\\u0647\",\"pero\",\"only\",\"has\",\"\\u266a\",\"'ll\",\"twitter\",\"=\",\"hahaha\",\"its\",\"nn\",\"\\uff40\",\"\\u00bf\",\"am\",\"say\",\"<neutralface>\",\"them\",\"here\",\"\\u0644\\u0627\",\"off\",\"still\",\"dan\",\"+\",\"night\",\"w\",\"ada\",\"someone\",\"even\",\"then\",\"\\u2606\",\"ni\",\"come\",\"com\",\"always\",\"man\",\"'ve\",\"been\",\"his\",\"itu\",\"\\u0639\\u0644\\u0649\",\"-_-\",\"\\u263a\",\"over\",\"um\",\"\\u0645\\u0627\",\"hate\",\"girl\",\"ai\",\"had\",\"pra\",\"todo\",\"mais\",\"feel\",\"let\",\"ini\",\"because\",\"\\uff9f\",\"thanks\",\"ah\",\"way\",\"ever\",\"look\",\"tweet\",\"followers\",\"should\",\"our\",\"xd\",\"aja\",\"esta\",\"school\",\"him\",\"ser\",\"take\",\"than\",\"video\",\"em\",\"last\",\"wanna\",\"does\",\"us\",\"miss\",\"l\",\"ga\",\"better\",\"well\",\"could\",\"\\u25bd\",\"%\",\"apa\",\"cuando\",\"team\",\"\\u2714\",\"@\",\"ok\",\"\\u061f\",\"\\u2022\",\"vida\",\"quiero\",\"les\",\"being\",\"real\",\"down\",\"kamu\",\"everyone\",\"gonna\",\"live\",\"tonight\",\"yes\",\"work\",\"ass\",\"retweet\",\"nada\",\"sama\",\"first\",\"<<\",\"photo\",\"tomorrow\",\"where\",\"god\",\"son\",\"ke\",\"ta\",\"f\",\"home\",\"lagi\",\"thank\",\"birthday\",\"\\u2588\",\"ha\",\"great\",\"lmao\",\"omg\",\"morning\",\"m\\u00e1s\",\"mau\",\"baby\",\"dont\",\"\\uff61\",\"their\",\"p\",\"things\",\"game\",\"pas\",\"bad\",\"year\",\"yeah\",\"su\",\"bitch\",\"\\u0432\",\"stop\",\"hoy\",\"something\",\"meu\",\"tak\",\"gak\",\"world\",\"amor\",\"h\",\"\\\\\",\"ver\",\"\\uff1b\",\"porque\",\"give\",\"these\",\"\\u0627\\u0644\\u0644\\u0647\\u0645\",\"were\",\"hay\",\"sleep\",\"gue\",\"every\",\"friends\",\"uma\",\"tell\",\"amo\",\"vou\",\"bien\",\"\\u00a1\",\"again\",\"\\uff3e\",\"\\uff0f\",\"done\",\"after\",\"todos\",\"girls\",\"guys\",\"getting\",\"big\",\"wait\",\"justin\",\"eh\",\"\\u2192\",\"kan\",\"kita\",\"jajaja\",\"wish\",\"said\",\"fucking\",\"show\",\"thing\",\"next\",\"voc\\u00ea\",\"nos\",\"little\",\"tengo\",\"keep\",\"person\",\"''\",\"\\u2200\",\"hope\",\"\\u0643\\u0644\",\"hey\",\"bisa\",\"free\",\"made\",\"foto\",\"va\",\"everything\",\"iya\",\"nigga\",\"eso\",\"et\",\"watch\",\"music\",\"week\",\"talk\",\"ne\",\"solo\",\"gente\",\"udah\",\"\\uff1a\",\"--\",\"\\uff3c\",\"mejor\",\"facebook\",\"ma\",\"v\",\"phone\",\"most\",\"same\",\"okay\",\"ik\",\"before\",\"minha\",\"days\",\"g\",\"ti\",\"damn\",\"nice\",\"voy\",\"vai\",\"call\",\"long\",\"tapi\",\"http\",\"sin\",\"nunca\",\"doing\",\"other\",\"find\",\"il\",\"sa\",\"sorry\",\"nya\",\"orang\",\"\\u00b0\",\"hard\",\"mean\",\"die\",\"\\u0627\\u0644\\u0644\\u064a\",\"tem\",\"soy\",\"este\",\"kalo\",\"s\\u00f3\",\"th\",\"win\",\"nothing\",\"into\",\"face\",\"cute\",\"'d\",\"gracias\",\"lah\",\"\\u0438\",\"any\",\"play\",\"\\u2190\",\"ko\",\"text\",\"\\u2323\",\"estoy\",\"tau\",\"ur\",\"buat\",\"#\",\"cause\",\"\\u044f\",\"put\",\"kau\",\"siempre\",\"juga\",\"casa\",\"\\u0623\\u0646\",\"help\",\"start\",\"feliz\",\"old\",\"ir\",\"very\",\"care\",\"bir\",\"makes\",\"song\",\"check\",\"watching\",\"ahora\",\"jadi\",\"os\",\"may\",\"friend\",\"beautiful\",\"heart\",\"ka\",\"vc\",\"mundo\",\"\\u043d\\u0430\",\"sure\",\"tan\",\"pretty\",\"aqui\",\"\\u043d\\u0435\",\"house\",\"\\u0631\\u062a\\u0648\\u064a\\u062a\",\"\\u064a\\u0627\",\"ja\",\"true\",\"muy\",\"away\",\"already\",\"actually\",\"believe\",\"try\",\"many\",\"ma\\u00f1ana\",\"mis\",\"lu\",\"those\",\"hot\",\"qu\\u00e9\",\"mal\",\"\\u0639\\u0646\",\"though\",\"ask\",\"amazing\",\"bed\",\"}\",\"two\",\"mom\",\"d\\u00eda\",\"ve\",\"dari\",\"gameinsight\",\"stay\",\"fun\",\"around\",\"van\",\"cont\",\"ready\",\"money\",\"bu\",\"funny\",\"cool\",\"hair\",\"\\u00e0\",\"tho\",\"{\",\"wo\",\"hi\",\"name\",\"tiene\",\"hahahaha\",\"pa\",\"algo\",\"gotta\",\"\\u0648\\u0644\\u0627\",\"boy\",\"another\",\"c'est\",\"hari\",\"jajajaja\",\"having\",\"cara\",\"jaja\",\"dm\",\"looking\",\"top\",\"android\",\"dah\",\"wow\",\"\\u2591\",\"eres\",\"ben\",\"must\",\"news\",\"met\",\"est\\u00e1\",\"nih\",\"family\",\"black\",\"thought\",\"nak\",\"super\",\"end\",\"hace\",\"remember\",\"ama\",\"party\",\"cant\",\"vamos\",\"anything\",\"anyone\",\"\\u0641\\u0648\\u0644\\u0648\",\"perfect\",\"guy\",\"vez\",\"christmas\",\"dos\",\"bueno\",\"nao\",\"years\",\"vote\",\"dormir\",\"bro\",\"else\",\"quien\",\"untuk\",\"jangan\",\"myself\",\"head\",\"mind\",\"gua\",\"talking\",\"while\",\"dat\",\"food\",\"\\u0434\",\"coming\",\"wkwk\",\"trying\",\"saya\",\"mucho\",\"without\",\"wrong\",\"\\u2019s\",\"baru\",\"__\",\"hehe\",\"hacer\",\"lot\",\"followed\",\"crazy\",\"hell\",\"feeling\",\"des\",\"kok\",\"j\",\"stats\",\"j'\",\"\\u0627\\u0646\",\"tweets\",\"non\",\"cosas\",\"era\",\"high\",\"niggas\",\"change\",\"movie\",\"xx\",\"mad\",\"sih\",\"sometimes\",\"deh\",\"allah\",\"through\",\"pour\",\"ela\",\"soon\",\"gone\",\"playing\",\"smile\",\"bukan\",\"tv\",\"fans\",\"hasta\",\"akan\",\"y'\",\"looks\",\"isso\",\"\\u270c\",\"tired\",\"boys\",\"might\",\"dong\",\"lg\",\"use\",\"maybe\",\"until\",\"menos\",\"own\",\"dengan\",\"eat\",\"ou\",\"weekend\",\"\\u02d8\",\"class\",\"ele\",\"harry\",\"iphone\",\"friday\",\"single\",\"ff\",\"awesome\",\"bout\",\"muito\",\"hoje\",\"\\u00ac\",\"dios\",\"such\",\"estar\",\"j\\u00e1\",\"quando\",\"esa\",\"making\",\"\\u2501\",\"times\",\"lmfao\",\"gw\",\"moment\",\"yet\",\"aw\",\"smh\",\"banget\",\"masih\",\"qui\",\"quem\",\"\\u2013\",\"leave\",\"du\",\"une\",\"guess\",\"hit\",\"\\u0441\",\"pm\",\"since\",\"pues\",\"est\",\"job\",\"\\uff89\",\"mana\",\"bom\",\"siapa\",\"suka\",\"bieber\",\"mention\",\"lebih\",\"favorite\",\"bitches\",\"forever\",\"\\u0644\\u064a\",\"final\",\"read\",\"alguien\",\"open\",\"yourself\",\"ese\",\"che\",\"sex\",\"yaa\",\"car\",\"direction\",\"tidak\",\"seu\",\"gets\",\"left\",\"re\",\"jam\",\"enough\",\"\\u0625\\u0644\\u0627\",\"once\",\"\\u2019\",\"part\",\"cada\",\"\\u5b9a\\u671f\",\"\\u0644\\u0643\",\"een\",\"seen\",\"kak\",\"as\\u00ed\",\"nem\",\"\\u0639\\u0645\\u0644\",\"white\",\"told\",\"says\",\"esto\",\"sad\",\"mo\",\"fue\",\"yah\",\"summer\",\"\\u0647\",\"\\u2b55\",\"\\u00bb\",\"thats\",\"\\u0645\\u0639\",\"posted\",\"wants\",\"agora\",\"together\",\"fan\",\"men\",\"hear\",\"full\",\"\\u2600\",\"sigo\",\"pq\",\"dulu\",\"plus\",\"foi\",\"tudo\",\"\\u0647\\u0648\",\"ill\",\"\\u3042\",\"thinking\",\"wtf\",\"pagi\",\"mama\",\"kalau\",\"hati\",\"sexy\",\"sayang\",\"baik\",\"semua\",\"hola\",\"went\",\"vos\",\"tanto\",\"finally\",\"fb\",\"sea\",\"stupid\",\"tus\",\"seriously\",\"hora\",\"min\",\"pic\",\"estas\",\"turn\",\"hours\",\"excited\",\"nah\",\"buy\",\"saying\",\"mah\",\"break\",\"needs\",\"ce\",\"room\",\"choice\",\"far\",\"dead\",\"quero\",\"saw\",\"kids\",\"lil\",\"whole\",\"puede\",\"fall\",\"sus\",\"lost\",\"asi\",\"word\",\"\\u2639\",\"also\",\"\\u0631\\u064a\\u062a\\u0648\\u064a\\u062a\",\"probably\",\"everybody\",\"tarde\",\"run\",\"sei\",\"follback\",\"forget\",\"sweet\",\"welcome\",\"selamat\",\"\\uff3f\",\"sur\",\"place\",\"gusta\",\"sabe\",\"androidgames\",\"tp\",\"tiempo\",\"\\u0628\\u0633\",\"sou\",\"tuh\",\"vs\",\"eyes\",\"\\u0627\\u0646\\u0627\",\"picture\",\"das\",\"meet\",\"anak\",\"persona\",\"essa\",\"bored\",\"following\",\"nadie\",\"nobody\",\"dice\",\"alone\",\"sick\",\"red\",\"city\",\"cinta\",\"\\u6708\",\"linda\",\"dream\",\"story\",\"km\",\"het\",\"waiting\",\"^_^\",\"mine\",\"\\u0447\\u0442\\u043e\",\"reason\",\"kk\",\"\\u0644\\u0648\",\"online\",\"fast\",\"udh\",\"wanted\",\"op\",\"others\",\"gay\",\"n\\u2019t\",\"used\",\"sem\",\"understand\",\"moi\",\"sm\",\"aint\",\"donde\",\"bem\",\"which\",\"ng\",\"followback\",\"punya\",\"late\",\"anda\",\"tidur\",\"puedo\",\"early\",\"nd\",\"personas\",\"banyak\",\"\\u2705\",\"\\u278a\",\"trust\",\"noche\",\"tl\",\"\\uff1e\",\"\\u00ab\",\"af\",\"move\",\"pro\",\"bring\",\"ku\",\"called\",\"relationship\",\"idk\",\"hurt\",\"st\",\"pernah\",\"pessoas\",\"hello\",\"uno\",\"unfollowers\",\"cry\"],\"x\":{\"__ndarray__\":\"cuCEvwQygL99WIC/4O2Dv1tdbb9MMoS/IAWUvzPQgL/AFqW/thKGv7wkYD9f9ok+rpdovzQl8j6+7le/c3BZPyI4oz/i8q6/FMyyv7aIkL/tBbC/UvKjP6u9jT9Pl4C/0zH3v6H0gD/EagQ/wQz8vxSOpb9OTSc/XfSkP3nE+7/iJqw/m54sP2kdmb8I5Mw+wKuTv0VgBD/Jz6e/DFzwPlUxyz/vvK4/ytGgv6ctoD8BXk8/X5o2P3x29z25C90/bd5Mv7vWX780Cji/wHl1v1tHkD/um9M+yyXlP+tx1z10Poo/1PISPlxx/z66gFU/3FeDv4bbKD80a5q/TIQlPzY7fT9eOY0/7FiDPpBj87/7FVK+0GWBP9h5ej9dwYO/4Jhmv1QWdL/Fw1Q/K3I6P3CQb7/FIgDA0sODP1ztIz/I3pI/4SPHP7Hwbb+YWBE/fR4qv5PVbj3m1DQ/fI2IP4CY8T76Q9Y/8fKfv/7Rvj88XUM/9/emP46Kcb9EY26/QzV4veDtiT/VzL0/59+cPfM2nL8tGe0/APmEP2Mcf7+K8QfA6W2jv6vD0r/ewb4/21fbP6B2cj/7z4Q8Qs5fPsrxC8BwUXw/2Mm2P72WPj8gIDW/LyF9vl95yT92c3W/TyKav8UtJz9joS+/acRsv4+KsD79phK/X7Y1P7bLYz+GiI8/CzqSP8WJVz9hXqw/I+vkPsni0z5QOwy/7U/HvmjJm79qAVK/tbQtvxl0KL94fGQ/7gpHv0q51z8Btos/gW/CP9mUFz85lB2/n6RUPyxWAr8dsADAO1qVv8Miw74cJco+iCYyP6jsCMCN0uO/d1LePVtioD8CIqw+CVWqv9Ssvr/niQDAQsq+v1az0j5MtzM/dKp7vzEGVz9REIM/vE9gPxOhT7+UgXE/wbC9PkB4kD+MSva+XWfrv5XDID99gOK/zUtIvwSECD5CLYU/qxWVP387DD/WokM/98rXPptKfb80shc/Mb5CP3bEWL9/fKG/nBbEPtXqgD80qV8/Z/H2vw4vPr4OvOu/d31VP/exeD9cueU/WW7Mv8NoOL8+WLs/qwOovxzGHT969hc/ppXoP4PtxbsLVoe/FjoKwLXnVz3OXbe+3V9Lv3SXJT4FTRHAb2fDP9L3Lz9elb4/oI/nv2XJsD4StWC/uiKLv6uGMb/w+Bc/vFiVv0T23b/ttOg/lDi/PU93KT+354O/YzROP7RSj7xgdg3AAI9SPV1k/z6MVpW/6bqKv9JnGb8A6E2/eNJnvyQ2Sj9MwYU/0GiAPnCq67+7DRS/MYpGPm9LfT4B/P8+p3NQPrOrmD+SnJk/+PtaP47Cbr/vcwnAgQRkv4w3i7/hAcw9ccAjPiWoBsDr6RY/GYrePUajEz9WCKQ/CSugPj4YgD9Ehg8/iJImPXhvkz6sLYe/QuhEP/qh3b+To76+/DYpv0nZzj40ZXk/5ceFPLlVTr8QVCi/wAN8P++tIz8Iwj6/ZjxnvwXvlD8svem+2bhcPzSshD+uEZk+l+kBP+RHPr+FIlY+iNOuvgn0Oz8100g/23P0PlKbWb64zFm/f7M5vwUw4j4wVxg+eHx6PziIyL//M4K/O8NPv1CGzj8C83e/QmbKv01Tpr9F2Y6+DCwDwKMhrr9giGI/QerFP0Asnz/ctI4/t8GwPtz4HT0Yk0u/L5OGP804MD6CEjy/yHURv0HMT7662G29QUIrPxtxNr+jd4g/5+GCv3pun745cZW/l052v/7pAb+sPR0/ZM/5vSQDxz+X1x2/jVYQP755Y79qyHu+2hWBvx4avL6O9ki/lgbcv8o3FL/4X4i+MFgDP64S071QGSG/g3+jP765Wr+WPL09NoZSP1T63r9c9Ss/WiU3v9P9NT9K1jq/+62MP/diwT6yEru+ju1SvmPC7D9JRSw/om/Xv8WXtD569q0/JhIuP5soAD4Q1Bm/baxJv0HvnL6Et1o/buRTvw8gp7/zrHs/yOjov+l5gz+1Uqs+qYRXP5SID8DNQH4/SufSP067Wr70jEW/uWe3PvGJIT7orUM+9JwZP+XlRT+Tobs+oQ6qPzCb4j8ilRm76ernv0Km9b//I1U9tT9BvvaXVT+VZyK7EqxRvfN6jT8lw6K+MiohvrH9FD43siG/nDHbv0BaL7/KRG2/G4y3P3MgcD428ko/EjUVP3RxOL+L5As/v/2gvkHR2j7Bnk0/EKAWvVAXxD9SdJ4+8RJVP1C2VL9oHt2/cTNjPhlJB8CRZaK+QERnv93EQb+Kb3M/vZEAPgmkqz9kLiM/fzZjv3gnOj81CsE/7YaZPzUDF792xw+/+bbkvshpGz+hcdC+vEPKP1ypej/Sg1u/0boFwJkrkL802PO/f4vGP1hiY78yxWw/BLJTv1ipFT/qozo/Xrb9PtXpjb6hNJU/f+04vgDILz58CsG+d/tAvyu3yT8pjAw/16qAvv9zvT+UP60+v38ZP9RSt75d72G/6a6Uvwn/2D9PgG4/XrTPPpVuTz+MCxY/l/J/PwssAL8RTpS+Iwx2v67GdL9sRby/9dk4PkP/Lj/VbJI/LN8AwLXyqT6muOU/JQagPyaKWb8hWaw+/fpCvx+HHL/3eyI/pn5hPp8Y+T0Assi9Bd93P4Bk0z+AjCq/Dm3Zv6ajMz/DdUC/0IPkv0dYDL/w3hc/I/O6v7KUvD9bjk6/u8owP5Ynir9NQ5K/NW1aP1OH3r8dH4Y+km8kvzCjyz9MvGu/aPSGP8vaDsBLR7s/Ht6bvtDkWj+qeis9hLWCP86rz72HApA/vBX/vvlxbD+29w6/ibZBvwmsFr+8iL0/el5zv6MXRT/UyZk/k/wqPgX4Pr72QZE+X+8Rv3NA2j5D9nQ/+WbTv/ALez4hv6g/wBigvRQhiz+6lt+/HaeAvv0m2b8oMQHA8nvXvgVvqD5NkKg/SACrPSexfT3UglI/5US9PhUtnD7A9EQ/EWuvP9LmvT+rb0O/JNJMP/n2Nb4zEOk/KV5sP4XxBcAxmgs+MAsAP2FZiL6GPWC+t1Wav9bzNT9C5EE+1yemP0BWAb+Fq46/wrmXv8A3lz5g+qW+Uj0mPheumD+4S46/jiZUvu8Yzj6N9fS+qb/TPkqqkb5nzCM997OhP/OKFj9xSpq/P5VsP/Fcs77Dx0I/Ts3QP2ixL787AQ+/ai+MP8O2Pj8J5gzAhNn9PUP3cr4MK5Q/6zuWv19ptz8MY4o/y1OcPc6BtT8x1Vi/zoS1PE94w752F46/W7Akv034Eb53Dty/ve3mP7Zdzb5P6Yc/tearv7bInD9xnJE/g51tv1/RHz4tDhC/zxg9P76SGb+9lse+7x+9vkL0tD8mS7U+3a3/vpavCL/eSEg/95FnPxESLD9FKD8/cHTcvyBVXL7hFR8+rH93P96xF79xDE8/GQq9P+t22D7Y8q6+/wAFP3oUez8cj2i+ZHw/PxWU4T+/vpG/XWRTv2hviT/Sio49u/UCP5fhRb8rYiU/J0xZPjWNkT8/BKs/A4rZv1Hsor1guVy/cOfGPpbcaL9v36o/BTsWP7VVCj+W4a8//6OFv0zVmr8OvDu/Tha9PyiPID/7Wgm/SrLfPtbwCj/3mQk9WxCeP/X3R7+FsEq/BVCLv4Y6lj/pBw3AxWxOvz7jcj/59Mc/+ZmUPyOey77nqkg/76acPyEvB7/SjBa/0ofqPlHdU7+BOEE/Rp5mv4DGhb+rGWE+C8CbP3hX1D7fLKm92YM/P3QGRb/GF6g+bxxov+CqLL8mtZs9Xaa1P95Ejb+px2E/I4h+Oy4KqT58aqe/Ueo0vhHZsrzx6nA/18hyv2qWfb8dOKo/kjSGPtvMT75qloQ/zE8tPz92gb+yB6s/WHEQPwlX9r4QNry/porovsxXyT79N/g97qiNv+gNA7+mqfm9K0Jvv2vulb4S9lQ/Tx6PPhzBej54416/9cTVP9ja4L19gIk/OJCLPmEuCj/s9NI/g2ByP4FN0r81ND68oR0DP75FSr/5JM++fozaPaR2LL5K6RA/N+gpv/IVfL+ZtY4/xJzMPqX6pb92khY+o+KkPxUDmD/JP5M+TsRDvVAk2L9+8y2/IBmNvl97uT++BZQ/QmWZvYo12b+0XDi/Td51Phq/R79TZlO/uUIbPuIxTL8WVYO/c/PRvh01SD9CDye+EmcGwEgBRL8k++y+eYnlP45GAL76W4k/2P6kPy1OcD/V1Zk+feFuv2DigT/biC0+yQmLv2XE6D21n5U/gqFQPUJ5tT+KSZS/aT4GPzbnD8Bip4S7HNxMv8vE3b5YlG0/iDPevwhQBsBZWZc/Zb/vPmP8er8FmcA/eZXJPnDP2r8L3w+/XVtIPwhLXz9K5bo/MuibvdMBBr+twKw/7dJuv0Yo774AsADAX1jMv6bovb87qfM+4aIGwJDabL8fQrE/RiiNPq2VLT2HX5w9PcZWPurODT9yDXu+Ca+rv5cmmT/Fqfs+dZqHv0kKjz/HLW4+ZT6kPnKyCcCkf60+Lh/sv1pjGD9nLuE+OdmcvyKiQj2vmV6/rJ5gv5GXG767s0i/3NyBv+83hb/GudQ//PSAPe61sz/Q5I8/Wf2mPKxTX78VZMM/4d8FP1aOvD/beUs/3bh9PxdtWL8paXa/D0S7Pwz6z7sS2rG+xy4Wvrh3cL5XJbc+FpswP7Z+SL9oEsq+GnyxP0lSjD83zH2+tioFPw27QD7hlpa+nXXGPhs86j6yOAU9DBo8P2WFsT5Jxc0/nEHRvb9vvT9fcN68swq9P8gQhz9dloe/CDqVP+BG2b+DAWA/GD6CP4r4fT+gsqa92FoLP8Nuhb/3jbQ+v/9Hvgo1uL6PbZ+/Lc7tv+k6nj8B9Is/RMLFP8jxgD9muZe/tBY8v1K7rz/TngHAB8L0PmRMYr8owlm/bC+qPjUsAcAfzXe/VTFcPzVLiD6A2o+/QVHqP5LEXT66wkC+B6gSv9Yr4D+GiXo/db/OP20VKL6psf29jHsNv4unYr8yGlm/CN8DwAOjQD/Uq5y+HUnqvuBDGL88h5Y/FEQgvliPmr/O1jg+VCTev7y1DD9dQ9G+Wt4DwLuFRb+Y6ji+erlYv2rNnj6TcJg/hbZiP8lBaj4gnoc/nb6pPzz/lj4TzRw/CReUPyPihb+jJkc/MxzWP+4CjD6Dx5k/Qtf9vpa2LL9FDF6/j7XCvhWwaT1XAZ6/yfrCPzEvxb72kU2/xjHLP5F/gb9a4cu/wQPGvyXawj98pao/+0Bmv0m87r++PL6/06L8PoGlB7yDeiq/hKilPni2L7+C1UI/zgzIP5jI0z4psLI9fohCv9G7R7+v+bw+FOirvkPKyz+8yYu/CTo7Pg==\",\"dtype\":\"float32\",\"order\":\"little\",\"shape\":[1000]},\"y\":{\"__ndarray__\":\"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\",\"dtype\":\"float32\",\"order\":\"little\",\"shape\":[1000]}},\"selected\":{\"id\":\"1768\"},\"selection_policy\":{\"id\":\"1767\"}},\"id\":\"1664\",\"type\":\"ColumnDataSource\"},{\"attributes\":{\"fill_alpha\":{\"value\":0.1},\"fill_color\":{\"field\":\"color\"},\"hatch_alpha\":{\"value\":0.1},\"hatch_color\":{\"field\":\"color\"},\"line_alpha\":{\"value\":0.1},\"line_color\":{\"field\":\"color\"},\"size\":{\"value\":10},\"x\":{\"field\":\"x\"},\"y\":{\"field\":\"y\"}},\"id\":\"1698\",\"type\":\"Scatter\"},{\"attributes\":{\"overlay\":{\"id\":\"1688\"}},\"id\":\"1684\",\"type\":\"BoxZoomTool\"},{\"attributes\":{},\"id\":\"1683\",\"type\":\"WheelZoomTool\"},{\"attributes\":{},\"id\":\"1762\",\"type\":\"BasicTickFormatter\"},{\"attributes\":{},\"id\":\"1679\",\"type\":\"BasicTicker\"},{\"attributes\":{\"axis\":{\"id\":\"1674\"},\"coordinates\":null,\"group\":null,\"ticker\":null},\"id\":\"1677\",\"type\":\"Grid\"},{\"attributes\":{\"axis\":{\"id\":\"1678\"},\"coordinates\":null,\"dimension\":1,\"group\":null,\"ticker\":null},\"id\":\"1681\",\"type\":\"Grid\"},{\"attributes\":{},\"id\":\"1765\",\"type\":\"BasicTickFormatter\"},{\"attributes\":{},\"id\":\"1687\",\"type\":\"HelpTool\"},{\"attributes\":{},\"id\":\"1675\",\"type\":\"BasicTicker\"},{\"attributes\":{\"fill_alpha\":{\"value\":0.25},\"fill_color\":{\"field\":\"color\"},\"hatch_alpha\":{\"value\":0.25},\"hatch_color\":{\"field\":\"color\"},\"line_alpha\":{\"value\":0.25},\"line_color\":{\"field\":\"color\"},\"size\":{\"value\":10},\"x\":{\"field\":\"x\"},\"y\":{\"field\":\"y\"}},\"id\":\"1697\",\"type\":\"Scatter\"},{\"attributes\":{\"coordinates\":null,\"formatter\":{\"id\":\"1762\"},\"group\":null,\"major_label_policy\":{\"id\":\"1763\"},\"ticker\":{\"id\":\"1679\"}},\"id\":\"1678\",\"type\":\"LinearAxis\"},{\"attributes\":{},\"id\":\"1668\",\"type\":\"DataRange1d\"},{\"attributes\":{},\"id\":\"1672\",\"type\":\"LinearScale\"}],\"root_ids\":[\"1665\"]},\"title\":\"Bokeh Application\",\"version\":\"2.4.3\"}};\n",
       "  const render_items = [{\"docid\":\"c25c3704-e6f3-4ec9-9634-9a7a1cbe6286\",\"root_ids\":[\"1665\"],\"roots\":{\"1665\":\"b593d323-c6d6-4346-b6fd-4f47db42dff3\"}}];\n",
       "  root.Bokeh.embed.embed_items_notebook(docs_json, render_items);\n",
       "  }\n",
       "  if (root.Bokeh !== undefined) {\n",
       "    embed_document(root);\n",
       "  } else {\n",
       "    let attempts = 0;\n",
       "    const timer = setInterval(function(root) {\n",
       "      if (root.Bokeh !== undefined) {\n",
       "        clearInterval(timer);\n",
       "        embed_document(root);\n",
       "      } else {\n",
       "        attempts++;\n",
       "        if (attempts > 100) {\n",
       "          clearInterval(timer);\n",
       "          console.log(\"Bokeh: ERROR: Unable to run BokehJS code because BokehJS library is missing\");\n",
       "        }\n",
       "      }\n",
       "    }, 10, root)\n",
       "  }\n",
       "})(window);"
      ],
      "application/vnd.bokehjs_exec.v0+json": ""
     },
     "metadata": {
      "application/vnd.bokehjs_exec.v0+json": {
       "id": "1665"
      }
     },
     "output_type": "display_data"
    },
    {
     "data": {
      "text/html": [
       "<div style=\"display: table;\"><div style=\"display: table-row;\"><div style=\"display: table-cell;\"><b title=\"bokeh.plotting.figure.Figure\">Figure</b>(</div><div style=\"display: table-cell;\">id&nbsp;=&nbsp;'1665', <span id=\"1826\" style=\"cursor: pointer;\">&hellip;)</span></div></div><div class=\"1825\" style=\"display: none;\"><div style=\"display: table-cell;\"></div><div style=\"display: table-cell;\">above&nbsp;=&nbsp;[],</div></div><div class=\"1825\" style=\"display: none;\"><div style=\"display: table-cell;\"></div><div style=\"display: table-cell;\">align&nbsp;=&nbsp;'start',</div></div><div class=\"1825\" style=\"display: none;\"><div style=\"display: table-cell;\"></div><div style=\"display: table-cell;\">aspect_ratio&nbsp;=&nbsp;None,</div></div><div class=\"1825\" style=\"display: none;\"><div style=\"display: table-cell;\"></div><div style=\"display: table-cell;\">aspect_scale&nbsp;=&nbsp;1,</div></div><div class=\"1825\" style=\"display: none;\"><div style=\"display: table-cell;\"></div><div style=\"display: table-cell;\">background&nbsp;=&nbsp;None,</div></div><div class=\"1825\" style=\"display: none;\"><div style=\"display: table-cell;\"></div><div style=\"display: table-cell;\">background_fill_alpha&nbsp;=&nbsp;1.0,</div></div><div class=\"1825\" style=\"display: none;\"><div style=\"display: table-cell;\"></div><div style=\"display: table-cell;\">background_fill_color&nbsp;=&nbsp;'#ffffff',</div></div><div class=\"1825\" style=\"display: none;\"><div style=\"display: table-cell;\"></div><div style=\"display: table-cell;\">below&nbsp;=&nbsp;[LinearAxis(id='1674', ...)],</div></div><div class=\"1825\" style=\"display: none;\"><div style=\"display: table-cell;\"></div><div style=\"display: table-cell;\">border_fill_alpha&nbsp;=&nbsp;1.0,</div></div><div class=\"1825\" style=\"display: none;\"><div style=\"display: table-cell;\"></div><div style=\"display: table-cell;\">border_fill_color&nbsp;=&nbsp;'#ffffff',</div></div><div class=\"1825\" style=\"display: none;\"><div style=\"display: table-cell;\"></div><div style=\"display: table-cell;\">center&nbsp;=&nbsp;[Grid(id='1677', ...), Grid(id='1681', ...)],</div></div><div class=\"1825\" style=\"display: none;\"><div style=\"display: table-cell;\"></div><div style=\"display: table-cell;\">css_classes&nbsp;=&nbsp;[],</div></div><div class=\"1825\" style=\"display: none;\"><div style=\"display: table-cell;\"></div><div style=\"display: table-cell;\">disabled&nbsp;=&nbsp;False,</div></div><div class=\"1825\" style=\"display: none;\"><div style=\"display: table-cell;\"></div><div style=\"display: table-cell;\">extra_x_ranges&nbsp;=&nbsp;{},</div></div><div class=\"1825\" style=\"display: none;\"><div style=\"display: table-cell;\"></div><div style=\"display: table-cell;\">extra_x_scales&nbsp;=&nbsp;{},</div></div><div class=\"1825\" style=\"display: none;\"><div style=\"display: table-cell;\"></div><div style=\"display: table-cell;\">extra_y_ranges&nbsp;=&nbsp;{},</div></div><div class=\"1825\" style=\"display: none;\"><div style=\"display: table-cell;\"></div><div style=\"display: table-cell;\">extra_y_scales&nbsp;=&nbsp;{},</div></div><div class=\"1825\" style=\"display: none;\"><div style=\"display: table-cell;\"></div><div style=\"display: table-cell;\">frame_height&nbsp;=&nbsp;None,</div></div><div class=\"1825\" style=\"display: none;\"><div style=\"display: table-cell;\"></div><div style=\"display: table-cell;\">frame_width&nbsp;=&nbsp;None,</div></div><div class=\"1825\" style=\"display: none;\"><div style=\"display: table-cell;\"></div><div style=\"display: table-cell;\">height&nbsp;=&nbsp;400,</div></div><div class=\"1825\" style=\"display: none;\"><div style=\"display: table-cell;\"></div><div style=\"display: table-cell;\">height_policy&nbsp;=&nbsp;'auto',</div></div><div class=\"1825\" style=\"display: none;\"><div style=\"display: table-cell;\"></div><div style=\"display: table-cell;\">hidpi&nbsp;=&nbsp;True,</div></div><div class=\"1825\" style=\"display: none;\"><div style=\"display: table-cell;\"></div><div style=\"display: table-cell;\">inner_height&nbsp;=&nbsp;0,</div></div><div class=\"1825\" style=\"display: none;\"><div style=\"display: table-cell;\"></div><div style=\"display: table-cell;\">inner_width&nbsp;=&nbsp;0,</div></div><div class=\"1825\" style=\"display: none;\"><div style=\"display: table-cell;\"></div><div style=\"display: table-cell;\">js_event_callbacks&nbsp;=&nbsp;{},</div></div><div class=\"1825\" style=\"display: none;\"><div style=\"display: table-cell;\"></div><div style=\"display: table-cell;\">js_property_callbacks&nbsp;=&nbsp;{},</div></div><div class=\"1825\" style=\"display: none;\"><div style=\"display: table-cell;\"></div><div style=\"display: table-cell;\">left&nbsp;=&nbsp;[LinearAxis(id='1678', ...)],</div></div><div class=\"1825\" style=\"display: none;\"><div style=\"display: table-cell;\"></div><div style=\"display: table-cell;\">lod_factor&nbsp;=&nbsp;10,</div></div><div class=\"1825\" style=\"display: none;\"><div style=\"display: table-cell;\"></div><div style=\"display: table-cell;\">lod_interval&nbsp;=&nbsp;300,</div></div><div class=\"1825\" style=\"display: none;\"><div style=\"display: table-cell;\"></div><div style=\"display: table-cell;\">lod_threshold&nbsp;=&nbsp;2000,</div></div><div class=\"1825\" style=\"display: none;\"><div style=\"display: table-cell;\"></div><div style=\"display: table-cell;\">lod_timeout&nbsp;=&nbsp;500,</div></div><div class=\"1825\" style=\"display: none;\"><div style=\"display: table-cell;\"></div><div style=\"display: table-cell;\">margin&nbsp;=&nbsp;(0, 0, 0, 0),</div></div><div class=\"1825\" style=\"display: none;\"><div style=\"display: table-cell;\"></div><div style=\"display: table-cell;\">match_aspect&nbsp;=&nbsp;False,</div></div><div class=\"1825\" style=\"display: none;\"><div style=\"display: table-cell;\"></div><div style=\"display: table-cell;\">max_height&nbsp;=&nbsp;None,</div></div><div class=\"1825\" style=\"display: none;\"><div style=\"display: table-cell;\"></div><div style=\"display: table-cell;\">max_width&nbsp;=&nbsp;None,</div></div><div class=\"1825\" style=\"display: none;\"><div style=\"display: table-cell;\"></div><div style=\"display: table-cell;\">min_border&nbsp;=&nbsp;5,</div></div><div class=\"1825\" style=\"display: none;\"><div style=\"display: table-cell;\"></div><div style=\"display: table-cell;\">min_border_bottom&nbsp;=&nbsp;None,</div></div><div class=\"1825\" style=\"display: none;\"><div style=\"display: table-cell;\"></div><div style=\"display: table-cell;\">min_border_left&nbsp;=&nbsp;None,</div></div><div class=\"1825\" style=\"display: none;\"><div style=\"display: table-cell;\"></div><div style=\"display: table-cell;\">min_border_right&nbsp;=&nbsp;None,</div></div><div class=\"1825\" style=\"display: none;\"><div style=\"display: table-cell;\"></div><div style=\"display: table-cell;\">min_border_top&nbsp;=&nbsp;None,</div></div><div class=\"1825\" style=\"display: none;\"><div style=\"display: table-cell;\"></div><div style=\"display: table-cell;\">min_height&nbsp;=&nbsp;None,</div></div><div class=\"1825\" style=\"display: none;\"><div style=\"display: table-cell;\"></div><div style=\"display: table-cell;\">min_width&nbsp;=&nbsp;None,</div></div><div class=\"1825\" style=\"display: none;\"><div style=\"display: table-cell;\"></div><div style=\"display: table-cell;\">name&nbsp;=&nbsp;None,</div></div><div class=\"1825\" style=\"display: none;\"><div style=\"display: table-cell;\"></div><div style=\"display: table-cell;\">outer_height&nbsp;=&nbsp;0,</div></div><div class=\"1825\" style=\"display: none;\"><div style=\"display: table-cell;\"></div><div style=\"display: table-cell;\">outer_width&nbsp;=&nbsp;0,</div></div><div class=\"1825\" style=\"display: none;\"><div style=\"display: table-cell;\"></div><div style=\"display: table-cell;\">outline_line_alpha&nbsp;=&nbsp;1.0,</div></div><div class=\"1825\" style=\"display: none;\"><div style=\"display: table-cell;\"></div><div style=\"display: table-cell;\">outline_line_cap&nbsp;=&nbsp;'butt',</div></div><div class=\"1825\" style=\"display: none;\"><div style=\"display: table-cell;\"></div><div style=\"display: table-cell;\">outline_line_color&nbsp;=&nbsp;'#e5e5e5',</div></div><div class=\"1825\" style=\"display: none;\"><div style=\"display: table-cell;\"></div><div style=\"display: table-cell;\">outline_line_dash&nbsp;=&nbsp;[],</div></div><div class=\"1825\" style=\"display: none;\"><div style=\"display: table-cell;\"></div><div style=\"display: table-cell;\">outline_line_dash_offset&nbsp;=&nbsp;0,</div></div><div class=\"1825\" style=\"display: none;\"><div style=\"display: table-cell;\"></div><div style=\"display: table-cell;\">outline_line_join&nbsp;=&nbsp;'bevel',</div></div><div class=\"1825\" style=\"display: none;\"><div style=\"display: table-cell;\"></div><div style=\"display: table-cell;\">outline_line_width&nbsp;=&nbsp;1,</div></div><div class=\"1825\" style=\"display: none;\"><div style=\"display: table-cell;\"></div><div style=\"display: table-cell;\">output_backend&nbsp;=&nbsp;'canvas',</div></div><div class=\"1825\" style=\"display: none;\"><div style=\"display: table-cell;\"></div><div style=\"display: table-cell;\">renderers&nbsp;=&nbsp;[GlyphRenderer(id='1700', ...)],</div></div><div class=\"1825\" style=\"display: none;\"><div style=\"display: table-cell;\"></div><div style=\"display: table-cell;\">reset_policy&nbsp;=&nbsp;'standard',</div></div><div class=\"1825\" style=\"display: none;\"><div style=\"display: table-cell;\"></div><div style=\"display: table-cell;\">right&nbsp;=&nbsp;[],</div></div><div class=\"1825\" style=\"display: none;\"><div style=\"display: table-cell;\"></div><div style=\"display: table-cell;\">sizing_mode&nbsp;=&nbsp;None,</div></div><div class=\"1825\" style=\"display: none;\"><div style=\"display: table-cell;\"></div><div style=\"display: table-cell;\">subscribed_events&nbsp;=&nbsp;[],</div></div><div class=\"1825\" style=\"display: none;\"><div style=\"display: table-cell;\"></div><div style=\"display: table-cell;\">syncable&nbsp;=&nbsp;True,</div></div><div class=\"1825\" style=\"display: none;\"><div style=\"display: table-cell;\"></div><div style=\"display: table-cell;\">tags&nbsp;=&nbsp;[],</div></div><div class=\"1825\" style=\"display: none;\"><div style=\"display: table-cell;\"></div><div style=\"display: table-cell;\">title&nbsp;=&nbsp;Title(id='1759', ...),</div></div><div class=\"1825\" style=\"display: none;\"><div style=\"display: table-cell;\"></div><div style=\"display: table-cell;\">title_location&nbsp;=&nbsp;'above',</div></div><div class=\"1825\" style=\"display: none;\"><div style=\"display: table-cell;\"></div><div style=\"display: table-cell;\">toolbar&nbsp;=&nbsp;Toolbar(id='1689', ...),</div></div><div class=\"1825\" style=\"display: none;\"><div style=\"display: table-cell;\"></div><div style=\"display: table-cell;\">toolbar_location&nbsp;=&nbsp;'right',</div></div><div class=\"1825\" style=\"display: none;\"><div style=\"display: table-cell;\"></div><div style=\"display: table-cell;\">toolbar_sticky&nbsp;=&nbsp;True,</div></div><div class=\"1825\" style=\"display: none;\"><div style=\"display: table-cell;\"></div><div style=\"display: table-cell;\">visible&nbsp;=&nbsp;True,</div></div><div class=\"1825\" style=\"display: none;\"><div style=\"display: table-cell;\"></div><div style=\"display: table-cell;\">width&nbsp;=&nbsp;600,</div></div><div class=\"1825\" style=\"display: none;\"><div style=\"display: table-cell;\"></div><div style=\"display: table-cell;\">width_policy&nbsp;=&nbsp;'auto',</div></div><div class=\"1825\" style=\"display: none;\"><div style=\"display: table-cell;\"></div><div style=\"display: table-cell;\">x_range&nbsp;=&nbsp;DataRange1d(id='1666', ...),</div></div><div class=\"1825\" style=\"display: none;\"><div style=\"display: table-cell;\"></div><div style=\"display: table-cell;\">x_scale&nbsp;=&nbsp;LinearScale(id='1670', ...),</div></div><div class=\"1825\" style=\"display: none;\"><div style=\"display: table-cell;\"></div><div style=\"display: table-cell;\">y_range&nbsp;=&nbsp;DataRange1d(id='1668', ...),</div></div><div class=\"1825\" style=\"display: none;\"><div style=\"display: table-cell;\"></div><div style=\"display: table-cell;\">y_scale&nbsp;=&nbsp;LinearScale(id='1672', ...))</div></div></div>\n",
       "<script>\n",
       "(function() {\n",
       "  let expanded = false;\n",
       "  const ellipsis = document.getElementById(\"1826\");\n",
       "  ellipsis.addEventListener(\"click\", function() {\n",
       "    const rows = document.getElementsByClassName(\"1825\");\n",
       "    for (let i = 0; i < rows.length; i++) {\n",
       "      const el = rows[i];\n",
       "      el.style.display = expanded ? \"none\" : \"table-row\";\n",
       "    }\n",
       "    ellipsis.innerHTML = expanded ? \"&hellip;)\" : \"&lsaquo;&lsaquo;&lsaquo;\";\n",
       "    expanded = !expanded;\n",
       "  });\n",
       "})();\n",
       "</script>\n"
      ],
      "text/plain": [
       "Figure(id='1665', ...)"
      ]
     },
     "execution_count": 154,
     "metadata": {},
     "output_type": "execute_result"
    }
   ],
   "source": [
    "draw_vectors(word_tsne[:, 0], word_tsne[:, 1], color='green', token=words)"
   ]
  },
  {
   "cell_type": "markdown",
   "metadata": {},
   "source": [
    "### Visualizing phrases\n",
    "\n",
    "Word embeddings can also be used to represent short phrases. The simplest way is to take __an average__ of vectors for all tokens in the phrase with some weights.\n",
    "\n",
    "This trick is useful to identify what data are you working with: find if there are any outliers, clusters or other artefacts.\n",
    "\n",
    "Let's try this new hammer on our data!\n"
   ]
  },
  {
   "cell_type": "code",
   "execution_count": 155,
   "metadata": {},
   "outputs": [],
   "source": [
    "def get_phrase_embedding(phrase):\n",
    "    \"\"\"\n",
    "    Convert phrase to a vector by aggregating it's word embeddings. See description above.\n",
    "    \"\"\"\n",
    "    # 1. lowercase phrase\n",
    "    # 2. tokenize phrase\n",
    "    # 3. average word vectors for all words in tokenized phrase\n",
    "    # skip words that are not in model's vocabulary\n",
    "    # if all words are missing from vocabulary, return zeros\n",
    "    \n",
    "    vector = np.zeros([model.vector_size], dtype='float32')\n",
    "    \n",
    "    n_words = 0\n",
    "    \n",
    "    for word in tokenizer.tokenize(phrase.lower()):\n",
    "        if word in model.vocab:\n",
    "            vector += model[word]\n",
    "            n_words += 1\n",
    "    \n",
    "    vector /= n_words\n",
    "    \n",
    "    return vector"
   ]
  },
  {
   "cell_type": "code",
   "execution_count": 156,
   "metadata": {},
   "outputs": [],
   "source": [
    "vector = get_phrase_embedding(\"I'm very sure. This never happened to me before...\")\n",
    "\n",
    "assert np.allclose(vector[::10],\n",
    "                   np.array([ 0.31807372, -0.02558171,  0.0933293 , -0.1002182 , -1.0278689 ,\n",
    "                             -0.16621883,  0.05083408,  0.17989802,  1.3701859 ,  0.08655966],\n",
    "                              dtype=np.float32))"
   ]
  },
  {
   "cell_type": "code",
   "execution_count": 157,
   "metadata": {},
   "outputs": [],
   "source": [
    "# let's only consider ~5k phrases for a first run.\n",
    "chosen_phrases = data[::len(data) // 1000]\n",
    "\n",
    "# compute vectors for chosen phrases\n",
    "phrase_vectors = np.asarray([get_phrase_embedding(phrase) for phrase in chosen_phrases])"
   ]
  },
  {
   "cell_type": "code",
   "execution_count": 158,
   "metadata": {},
   "outputs": [],
   "source": [
    "assert isinstance(phrase_vectors, np.ndarray) and np.isfinite(phrase_vectors).all()\n",
    "assert phrase_vectors.shape == (len(chosen_phrases), model.vector_size)"
   ]
  },
  {
   "cell_type": "code",
   "execution_count": 159,
   "metadata": {},
   "outputs": [
    {
     "name": "stderr",
     "output_type": "stream",
     "text": [
      "/home/irina/unn/nlp_course/venv/lib/python3.8/site-packages/sklearn/manifold/_t_sne.py:800: FutureWarning: The default initialization in TSNE will change from 'random' to 'pca' in 1.2.\n",
      "  warnings.warn(\n",
      "/home/irina/unn/nlp_course/venv/lib/python3.8/site-packages/sklearn/manifold/_t_sne.py:810: FutureWarning: The default learning rate in TSNE will change from 200.0 to 'auto' in 1.2.\n",
      "  warnings.warn(\n"
     ]
    }
   ],
   "source": [
    "# map vectors into 2d space with pca, tsne or your other method of choice\n",
    "# don't forget to normalize\n",
    "\n",
    "phrase_vectors_2d = TSNE().fit_transform(phrase_vectors)\n",
    "\n",
    "phrase_vectors_2d = (phrase_vectors_2d - phrase_vectors_2d.mean(axis=0)) / phrase_vectors_2d.std(axis=0)"
   ]
  },
  {
   "cell_type": "code",
   "execution_count": 160,
   "metadata": {},
   "outputs": [
    {
     "data": {
      "text/html": [
       "\n",
       "  <div class=\"bk-root\" id=\"f98758e8-6376-4791-8b98-c39ef72665e1\" data-root-id=\"1830\"></div>\n"
      ]
     },
     "metadata": {},
     "output_type": "display_data"
    },
    {
     "data": {
      "application/javascript": [
       "(function(root) {\n",
       "  function embed_document(root) {\n",
       "  const docs_json = {\"35a04cde-e1a3-4316-8d3d-947d9502b303\":{\"defs\":[],\"roots\":{\"references\":[{\"attributes\":{\"below\":[{\"id\":\"1839\"}],\"center\":[{\"id\":\"1842\"},{\"id\":\"1846\"}],\"height\":400,\"left\":[{\"id\":\"1843\"}],\"renderers\":[{\"id\":\"1865\"}],\"title\":{\"id\":\"1935\"},\"toolbar\":{\"id\":\"1854\"},\"x_range\":{\"id\":\"1831\"},\"x_scale\":{\"id\":\"1835\"},\"y_range\":{\"id\":\"1833\"},\"y_scale\":{\"id\":\"1837\"}},\"id\":\"1830\",\"subtype\":\"Figure\",\"type\":\"Plot\"},{\"attributes\":{},\"id\":\"1833\",\"type\":\"DataRange1d\"},{\"attributes\":{\"data\":{\"color\":[\"blue\",\"blue\",\"blue\",\"blue\",\"blue\",\"blue\",\"blue\",\"blue\",\"blue\",\"blue\",\"blue\",\"blue\",\"blue\",\"blue\",\"blue\",\"blue\",\"blue\",\"blue\",\"blue\",\"blue\",\"blue\",\"blue\",\"blue\",\"blue\",\"blue\",\"blue\",\"blue\",\"blue\",\"blue\",\"blue\",\"blue\",\"blue\",\"blue\",\"blue\",\"blue\",\"blue\",\"blue\",\"blue\",\"blue\",\"blue\",\"blue\",\"blue\",\"blue\",\"blue\",\"blue\",\"blue\",\"blue\",\"blue\",\"blue\",\"blue\",\"blue\",\"blue\",\"blue\",\"blue\",\"blue\",\"blue\",\"blue\",\"blue\",\"blue\",\"blue\",\"blue\",\"blue\",\"blue\",\"blue\",\"blue\",\"blue\",\"blue\",\"blue\",\"blue\",\"blue\",\"blue\",\"blue\",\"blue\",\"blue\",\"blue\",\"blue\",\"blue\",\"blue\",\"blue\",\"blue\",\"blue\",\"blue\",\"blue\",\"blue\",\"blue\",\"blue\",\"blue\",\"blue\",\"blue\",\"blue\",\"blue\",\"blue\",\"blue\",\"blue\",\"blue\",\"blue\",\"blue\",\"blue\",\"blue\",\"blue\",\"blue\",\"blue\",\"blue\",\"blue\",\"blue\",\"blue\",\"blue\",\"blue\",\"blue\",\"blue\",\"blue\",\"blue\",\"blue\",\"blue\",\"blue\",\"blue\",\"blue\",\"blue\",\"blue\",\"blue\",\"blue\",\"blue\",\"blue\",\"blue\",\"blue\",\"blue\",\"blue\",\"blue\",\"blue\",\"blue\",\"blue\",\"blue\",\"blue\",\"blue\",\"blue\",\"blue\",\"blue\",\"blue\",\"blue\",\"blue\",\"blue\",\"blue\",\"blue\",\"blue\",\"blue\",\"blue\",\"blue\",\"blue\",\"blue\",\"blue\",\"blue\",\"blue\",\"blue\",\"blue\",\"blue\",\"blue\",\"blue\",\"blue\",\"blue\",\"blue\",\"blue\",\"blue\",\"blue\",\"blue\",\"blue\",\"blue\",\"blue\",\"blue\",\"blue\",\"blue\",\"blue\",\"blue\",\"blue\",\"blue\",\"blue\",\"blue\",\"blue\",\"blue\",\"blue\",\"blue\",\"blue\",\"blue\",\"blue\",\"blue\",\"blue\",\"blue\",\"blue\",\"blue\",\"blue\",\"blue\",\"blue\",\"blue\",\"blue\",\"blue\",\"blue\",\"blue\",\"blue\",\"blue\",\"blue\",\"blue\",\"blue\",\"blue\",\"blue\",\"blue\",\"blue\",\"blue\",\"blue\",\"blue\",\"blue\",\"blue\",\"blue\",\"blue\",\"blue\",\"blue\",\"blue\",\"blue\",\"blue\",\"blue\",\"blue\",\"blue\",\"blue\",\"blue\",\"blue\",\"blue\",\"blue\",\"blue\",\"blue\",\"blue\",\"blue\",\"blue\",\"blue\",\"blue\",\"blue\",\"blue\",\"blue\",\"blue\",\"blue\",\"blue\",\"blue\",\"blue\",\"blue\",\"blue\",\"blue\",\"blue\",\"blue\",\"blue\",\"blue\",\"blue\",\"blue\",\"blue\",\"blue\",\"blue\",\"blue\",\"blue\",\"blue\",\"blue\",\"blue\",\"blue\",\"blue\",\"blue\",\"blue\",\"blue\",\"blue\",\"blue\",\"blue\",\"blue\",\"blue\",\"blue\",\"blue\",\"blue\",\"blue\",\"blue\",\"blue\",\"blue\",\"blue\",\"blue\",\"blue\",\"blue\",\"blue\",\"blue\",\"blue\",\"blue\",\"blue\",\"blue\",\"blue\",\"blue\",\"blue\",\"blue\",\"blue\",\"blue\",\"blue\",\"blue\",\"blue\",\"blue\",\"blue\",\"blue\",\"blue\",\"blue\",\"blue\",\"blue\",\"blue\",\"blue\",\"blue\",\"blue\",\"blue\",\"blue\",\"blue\",\"blue\",\"blue\",\"blue\",\"blue\",\"blue\",\"blue\",\"blue\",\"blue\",\"blue\",\"blue\",\"blue\",\"blue\",\"blue\",\"blue\",\"blue\",\"blue\",\"blue\",\"blue\",\"blue\",\"blue\",\"blue\",\"blue\",\"blue\",\"blue\",\"blue\",\"blue\",\"blue\",\"blue\",\"blue\",\"blue\",\"blue\",\"blue\",\"blue\",\"blue\",\"blue\",\"blue\",\"blue\",\"blue\",\"blue\",\"blue\",\"blue\",\"blue\",\"blue\",\"blue\",\"blue\",\"blue\",\"blue\",\"blue\",\"blue\",\"blue\",\"blue\",\"blue\",\"blue\",\"blue\",\"blue\",\"blue\",\"blue\",\"blue\",\"blue\",\"blue\",\"blue\",\"blue\",\"blue\",\"blue\",\"blue\",\"blue\",\"blue\",\"blue\",\"blue\",\"blue\",\"blue\",\"blue\",\"blue\",\"blue\",\"blue\",\"blue\",\"blue\",\"blue\",\"blue\",\"blue\",\"blue\",\"blue\",\"blue\",\"blue\",\"blue\",\"blue\",\"blue\",\"blue\",\"blue\",\"blue\",\"blue\",\"blue\",\"blue\",\"blue\",\"blue\",\"blue\",\"blue\",\"blue\",\"blue\",\"blue\",\"blue\",\"blue\",\"blue\",\"blue\",\"blue\",\"blue\",\"blue\",\"blue\",\"blue\",\"blue\",\"blue\",\"blue\",\"blue\",\"blue\",\"blue\",\"blue\",\"blue\",\"blue\",\"blue\",\"blue\",\"blue\",\"blue\",\"blue\",\"blue\",\"blue\",\"blue\",\"blue\",\"blue\",\"blue\",\"blue\",\"blue\",\"blue\",\"blue\",\"blue\",\"blue\",\"blue\",\"blue\",\"blue\",\"blue\",\"blue\",\"blue\",\"blue\",\"blue\",\"blue\",\"blue\",\"blue\",\"blue\",\"blue\",\"blue\",\"blue\",\"blue\",\"blue\",\"blue\",\"blue\",\"blue\",\"blue\",\"blue\",\"blue\",\"blue\",\"blue\",\"blue\",\"blue\",\"blue\",\"blue\",\"blue\",\"blue\",\"blue\",\"blue\",\"blue\",\"blue\",\"blue\",\"blue\",\"blue\",\"blue\",\"blue\",\"blue\",\"blue\",\"blue\",\"blue\",\"blue\",\"blue\",\"blue\",\"blue\",\"blue\",\"blue\",\"blue\",\"blue\",\"blue\",\"blue\",\"blue\",\"blue\",\"blue\",\"blue\",\"blue\",\"blue\",\"blue\",\"blue\",\"blue\",\"blue\",\"blue\",\"blue\",\"blue\",\"blue\",\"blue\",\"blue\",\"blue\",\"blue\",\"blue\",\"blue\",\"blue\",\"blue\",\"blue\",\"blue\",\"blue\",\"blue\",\"blue\",\"blue\",\"blue\",\"blue\",\"blue\",\"blue\",\"blue\",\"blue\",\"blue\",\"blue\",\"blue\",\"blue\",\"blue\",\"blue\",\"blue\",\"blue\",\"blue\",\"blue\",\"blue\",\"blue\",\"blue\",\"blue\",\"blue\",\"blue\",\"blue\",\"blue\",\"blue\",\"blue\",\"blue\",\"blue\",\"blue\",\"blue\",\"blue\",\"blue\",\"blue\",\"blue\",\"blue\",\"blue\",\"blue\",\"blue\",\"blue\",\"blue\",\"blue\",\"blue\",\"blue\",\"blue\",\"blue\",\"blue\",\"blue\",\"blue\",\"blue\",\"blue\",\"blue\",\"blue\",\"blue\",\"blue\",\"blue\",\"blue\",\"blue\",\"blue\",\"blue\",\"blue\",\"blue\",\"blue\",\"blue\",\"blue\",\"blue\",\"blue\",\"blue\",\"blue\",\"blue\",\"blue\",\"blue\",\"blue\",\"blue\",\"blue\",\"blue\",\"blue\",\"blue\",\"blue\",\"blue\",\"blue\",\"blue\",\"blue\",\"blue\",\"blue\",\"blue\",\"blue\",\"blue\",\"blue\",\"blue\",\"blue\",\"blue\",\"blue\",\"blue\",\"blue\",\"blue\",\"blue\",\"blue\",\"blue\",\"blue\",\"blue\",\"blue\",\"blue\",\"blue\",\"blue\",\"blue\",\"blue\",\"blue\",\"blue\",\"blue\",\"blue\",\"blue\",\"blue\",\"blue\",\"blue\",\"blue\",\"blue\",\"blue\",\"blue\",\"blue\",\"blue\",\"blue\",\"blue\",\"blue\",\"blue\",\"blue\",\"blue\",\"blue\",\"blue\",\"blue\",\"blue\",\"blue\",\"blue\",\"blue\",\"blue\",\"blue\",\"blue\",\"blue\",\"blue\",\"blue\",\"blue\",\"blue\",\"blue\",\"blue\",\"blue\",\"blue\",\"blue\",\"blue\",\"blue\",\"blue\",\"blue\",\"blue\",\"blue\",\"blue\",\"blue\",\"blue\",\"blue\",\"blue\",\"blue\",\"blue\",\"blue\",\"blue\",\"blue\",\"blue\",\"blue\",\"blue\",\"blue\",\"blue\",\"blue\",\"blue\",\"blue\",\"blue\",\"blue\",\"blue\",\"blue\",\"blue\",\"blue\",\"blue\",\"blue\",\"blue\",\"blue\",\"blue\",\"blue\",\"blue\",\"blue\",\"blue\",\"blue\",\"blue\",\"blue\",\"blue\",\"blue\",\"blue\",\"blue\",\"blue\",\"blue\",\"blue\",\"blue\",\"blue\",\"blue\",\"blue\",\"blue\",\"blue\",\"blue\",\"blue\",\"blue\",\"blue\",\"blue\",\"blue\",\"blue\",\"blue\",\"blue\",\"blue\",\"blue\",\"blue\",\"blue\",\"blue\",\"blue\",\"blue\",\"blue\",\"blue\",\"blue\",\"blue\",\"blue\",\"blue\",\"blue\",\"blue\",\"blue\",\"blue\",\"blue\",\"blue\",\"blue\",\"blue\",\"blue\",\"blue\",\"blue\",\"blue\",\"blue\",\"blue\",\"blue\",\"blue\",\"blue\",\"blue\",\"blue\",\"blue\",\"blue\",\"blue\",\"blue\",\"blue\",\"blue\",\"blue\",\"blue\",\"blue\",\"blue\",\"blue\",\"blue\",\"blue\",\"blue\",\"blue\",\"blue\",\"blue\",\"blue\",\"blue\",\"blue\",\"blue\",\"blue\",\"blue\",\"blue\",\"blue\",\"blue\",\"blue\",\"blue\",\"blue\",\"blue\",\"blue\",\"blue\",\"blue\",\"blue\",\"blue\",\"blue\",\"blue\",\"blue\",\"blue\",\"blue\",\"blue\",\"blue\",\"blue\",\"blue\",\"blue\",\"blue\",\"blue\",\"blue\",\"blue\",\"blue\",\"blue\",\"blue\",\"blue\",\"blue\",\"blue\",\"blue\",\"blue\",\"blue\",\"blue\",\"blue\",\"blue\",\"blue\",\"blue\",\"blue\",\"blue\",\"blue\",\"blue\",\"blue\",\"blue\",\"blue\",\"blue\",\"blue\",\"blue\",\"blue\",\"blue\",\"blue\",\"blue\",\"blue\",\"blue\",\"blue\",\"blue\",\"blue\",\"blue\",\"blue\",\"blue\",\"blue\",\"blue\",\"blue\",\"blue\",\"blue\",\"blue\",\"blue\",\"blue\",\"blue\",\"blue\",\"blue\",\"blue\",\"blue\",\"blue\",\"blue\",\"blue\",\"blue\",\"blue\",\"blue\",\"blue\",\"blue\",\"blue\",\"blue\",\"blue\",\"blue\",\"blue\",\"blue\",\"blue\",\"blue\",\"blue\",\"blue\",\"blue\",\"blue\",\"blue\",\"blue\",\"blue\",\"blue\",\"blue\",\"blue\",\"blue\",\"blue\",\"blue\",\"blue\",\"blue\",\"blue\",\"blue\",\"blue\",\"blue\",\"blue\",\"blue\",\"blue\",\"blue\",\"blue\",\"blue\",\"blue\",\"blue\",\"blue\",\"blue\",\"blue\",\"blue\",\"blue\",\"blue\",\"blue\",\"blue\",\"blue\",\"blue\",\"blue\",\"blue\",\"blue\",\"blue\",\"blue\",\"blue\",\"blue\",\"blue\",\"blue\",\"blue\",\"blue\",\"blue\",\"blue\",\"blue\",\"blue\",\"blue\",\"blue\",\"blue\",\"blue\",\"blue\",\"blue\",\"blue\",\"blue\",\"blue\",\"blue\",\"blue\",\"blue\",\"blue\",\"blue\",\"blue\",\"blue\",\"blue\",\"blue\",\"blue\",\"blue\",\"blue\",\"blue\",\"blue\",\"blue\",\"blue\",\"blue\",\"blue\",\"blue\",\"blue\",\"blue\",\"blue\",\"blue\",\"blue\",\"blue\",\"blue\",\"blue\",\"blue\",\"blue\",\"blue\",\"blue\",\"blue\",\"blue\",\"blue\",\"blue\",\"blue\",\"blue\",\"blue\",\"blue\",\"blue\",\"blue\",\"blue\",\"blue\",\"blue\",\"blue\",\"blue\",\"blue\",\"blue\",\"blue\",\"blue\",\"blue\",\"blue\",\"blue\",\"blue\",\"blue\",\"blue\",\"blue\",\"blue\",\"blue\",\"blue\"],\"phrase\":[\"Can I get back with my ex even though she is pregn\",\"What is the best way to become an arms dealer in t\",\"Why doesn't Japan contribute to peace and prosperi\",\"Which is the best Panasonic air conditioner servic\",\"What did ancient Egyptians believe about the after\",\"How does one prepare for the RBI grade B officers \",\"Which institutions in Kolkata give coaching for en\",\"Will omar bravo be in fifa 17?\\n\",\"What are the pros and cons of arranged marriages?\\n\",\"What will happen if all the vegetable dies?\\n\",\"Why do people hate hypocrites?\\n\",\"What do you consider poor, middle class, wealthy a\",\"How do I concentrate on my studies?\\n\",\"What is new age psychobabble?\\n\",\"How can you tell if your man is cheating even if h\",\"Can you see yourself during lucid dreaming?\\n\",\"Which browser is most safe in terms of privacy and\",\"Can Google Assistant run on OnePlus 3T?\\n\",\"Apart from the VW Vento / Polo and Skoda Rapid, ar\",\"What is Panera Bread?\\n\",\"Do athletes live longer and healthier? If not, why\",\"Could a pitbull take on a wolf in a fight?\\n\",\"What has Obama done for Latinos/Hispanics?\\n\",\"How much is |x|^2?\\n\",\"How does operator.com work?\\n\",\"Why do people not make movies/talk about the Romas\",\"What were the major contributions of the political\",\"Company Secretaries (CS): How do I prepare for CS \",\"What are the job prospects of chemical engineers a\",\"I have never gone to a bank. How do I put money in\",\"What is the best strategy to prepare for the GATE \",\"Who is this porn star?\\n\",\"Why are specs & sunglasses so expensive?\\n\",\"I installed the movie torrent with Ultra XVid Code\",\"Can we ride scootry with learning lisence age of 1\",\"Two cards were drawn, without replacement, from a \",\"How much money is needed per month to live in indi\",\"Why do companies issue bonus shares?\\n\",\"Why are Iranians and Afghans considered white Amer\",\"Could mumps cause deafness?\\n\",\"What is meaning of sadaka?\\n\",\"What should I know before starting a YouTube caree\",\"Is the ITI College Principal is gazetted officer?\\n\",\"How do you feel now that Donald Trump is now the P\",\"What is the difference between imperial units and \",\"What is the easiest way to do effective self hypno\",\"Why has China increased its involvement in the Syr\",\"From which year CBSE class 10th exam be reintroduc\",\"Is 1080p a Blu-ray?\\n\",\"Does using mirrors to concentrate thermal energy d\",\"How do I avoid attractions by phones?\\n\",\"What are some of the effects of education can you \",\"What are the characteristics of a Pisces Sun/Libra\",\"What is the most cost-effective option to ship pac\",\"Are red and blue complementary colors?\\n\",\"Is it possible to make a material that is a superc\",\"What is the best Shonen Jump manga?\\n\",\"Are Oracle and Cisco good companies for a new grad\",\"If lighting a match is considered a chemical chang\",\"Why is Hillary so afraid of Putin?\\n\",\"Which is the best book to study electronics basics\",\"What are the basics I should know before learning \",\"Can I use Cph4 on a day to day basis?\\n\",\"Is it safe when I buy things from China?\\n\",\"Why did some ethnic minorities support Brexit?\\n\",\"How much money has tinder made?\\n\",\"What is the limit?\\n\",\"Will browsing Facebook while connected to Tor reve\",\"If I get 68.4 percent in ftre 2016 class 10 then w\",\"No product market fit: change product or market fi\",\"What makes you sad about India?\\n\",\"How do I know if someone has read my messages on w\",\"Why there is a sound when we crack our knuckles?\\n\",\"Why do I only make friends with guys?\\n\",\"What is 'open-mindedness'?\\n\",\"What is the cause of carpal tunnel syndrome?\\n\",\"What is the difference between a \\\"slow cooker\\\" and\",\"What is Hillary Clinton's stance on nuclear energy\",\"Do IIT colleges require a caste validity for an ST\",\"How do I listen a song from you?\\n\",\"Why do so many Iranians immigrate to Canada?\\n\",\"What will happen to India-U.S. relations after Tru\",\"A program that stored five words in the memory the\",\"What are ways of joining to ISRO as engineer other\",\"Can Magneto defeat Hulk?\\n\",\"What time of year is it best to visit Singapore?\\n\",\"How do I study for ib?\\n\",\"What should I do if someone doesn't reply to my em\",\"How much does Manveer Singh Phogat gets for Dangal\",\"What is it like to be cannibal?\\n\",\"How can the Android app development companies help\",\"Who would you say is the most fun person in Israel\",\"How can one improve her figure and butt size witho\",\"As a company that provides travel agencies and tou\",\"What is the most beautiful thing you saw today?\\n\",\"Is gay flirting good?\\n\",\"Can I use Stripe in Europe?\\n\",\"Will Britain leaving the European Union lead to th\",\"Why are so many East Asian immigrants so averse to\",\"Why do we need computer networking?\\n\",\"What is retina detachment?\\n\",\"Why don't more bars have mechanical bulls?\\n\",\"How do I get better understanding of C++?\\n\",\"Which is the most profitable Porsche US dealer?\\n\",\"What are the best over the ear headphones for abou\",\"Is it true that the first kill is the hardest?\\n\",\"Which is best 32 inch led tv to buy below 20,000 I\",\"I am scoring 130/506 in FiitJEE aits part test adv\",\"What kind of websites are missing from the Interne\",\"What is the best way to use free time at IITB?\\n\",\"Is it possible for me to buy my first company usin\",\"What should I do to have sex with as many women as\",\"What is the scope of Executive MBA in India?\\n\",\"Which BMW models do not have a Hofmeister Kink?\\n\",\"What is yellow journalism?\\n\",\"Why do doctors charge uninsured patients 10 times \",\"Which one is the best public sector job or private\",\"Will social media ever help to spur on the US youn\",\"How should I know a video is 360 degree?\\n\",\"Is a practice manual sufficient for the CA Final I\",\"Career Advice: Being an Indian college student, ho\",\"What are the advantages and disadvantages of Li-Fi\",\"On Snapchat, I deleted someone. Can they re-add me\",\"Are there any cereals that taste good with water?\\n\",\"Why does a woman's vagina push a mans penis out?\\n\",\"What is the British word for bullpen?\\n\",\"How hard is it for international students to get a\",\"How did Revan build his foundation of his army in \",\"What is the best way to read a fictional book? Do \",\"How do you replace a ignition lock cylinder?\\n\",\"How can I prevent business failure?\\n\",\"How often do tides occur? What causes it?\\n\",\"How do I learn Calculus on my own?\\n\",\"What is the reason for Priyanka Gandhi not changin\",\"What should I eat when I'm sick with a cold or flu\",\"What is a Business Intelligence Analyst?\\n\",\"Which sports should I start to play to paticipate \",\"How should I prepare for Java fresher interview?\\n\",\"How different are cuisines of Arab countries?\\n\",\"What is the meaning of the phrase, all is fair in \",\"Why does Quora send me a notification that my ques\",\"What are the hardest obstacles to breaking into a \",\"What makes a falling snowflake large (or not)?\\n\",\"What is the compensation for Partners/Principals a\",\"What is the difference between an array and a vect\",\"If you kiss the NC State wolf do you become an NC \",\"Is it boring (from a social perspective) to live i\",\"What would have happened if in 1971 war all 93000 \",\"What are the easiest things to do while being abro\",\"Does getting root canal cause problem in speaking \",\"What is the definition of a truncated sentence and\",\"Would I look good with a nose ring? if yes which n\",\"What are the perks of working in Amazon?\\n\",\"How can we say that climate change does not bring \",\"What it is like to meet \\\"Shahid Kapoor\\\"?\\n\",\"How does it feel when you are dead?\\n\",\"Which is the best juicer, grinder or mixer in Indi\",\"How do I learn to think more logically?\\n\",\"Which movie has the best beginning ever?\\n\",\"Which laws been enacted to prevent family members \",\"What is iPhone 6s plus cost present?\\n\",\"What is Ohm's law and amperage I?\\n\",\"What is the nicest thing a stranger has done for y\",\"Why do some heroic people who do good things choos\",\"How will Hindus react if Babri Masjid is reconstru\",\"R2I - How did you plan R2I from US if you own the \",\"How can I master C programming in 7 days?\\n\",\"What is the right way to clean ear wax?\\n\",\"What are some good games to play during class?\\n\",\"Is it possible to hack WhatsApp messenger?\\n\",\"Why do airplanes carry more weight than helicopter\",\"Shaving: Do electric shavers work better than manu\",\"Has anyone benefited, health-wise, from essential \",\"Can Students at Hogwarts have sex while there? Doe\",\"How can we enhance our efficiency with Yoga?\\n\",\"What are the best app review sites and blogs?\\n\",\"Can two companies be registered on the same addres\",\"Is it true that as per Indian law, one can't be ha\",\"Who would win in a war between Bangladesh and Myan\",\"How do you reply when someone thanks you for forgi\",\"Who would win a fight between wolverine and Batman\",\"What is one thing you wish for yourself in the fut\",\"Can you cry underwater?\\n\",\"What's the difference between SSL, TLS, and HTTPS?\",\"Why are antigravity muscles more affected in Upper\",\"In order to buy a house, does one have to rent fir\",\"What is the probability of choosing a pink ball fr\",\"Which is the best car to get under 8 lakhs?\\n\",\"Why isn't China's role in the Korean and Vietnam w\",\"What is the Laplace transform of t^(1/2) * e^ (-1/\",\"To those who told a big lie to their parents and t\",\"What is runtime polymorphism or dynamic method dis\",\"I had sex 5 days after my period, what are the cha\",\"How would you describe yourself in one tweet?\\n\",\"How do fairy tales influence creativity in humans?\",\"How do I add delay() and sound() in Dev-C++?\\n\",\"What is the pathophysiology of ADHD?\\n\",\"What are the top benefits of life insurance polici\",\"Can I get a TV from Bang & Olufsen for under $2500\",\"How is the life of an ece student at dayananda sag\",\"What is meditation?\\n\",\"Were the Ancient Greeks scientists, or just philos\",\"How does Google authenticator work?\\n\",\"Wouldn't it be better if kids were allowed to focu\",\"Can you apply for a certificate on Coursera/edX af\",\"Why do Quora engineers use large monitors?\\n\",\"How do I start an online clothing business?\\n\",\"How will the government meet the challenges of acc\",\"I saw a charge on my credit card under from a comp\",\"What is the difference between socialization and r\",\"How would the world be different if everyone spoke\",\"Who receives the fares in a cab service?\\n\",\"As a non-resident alien doing a summer internship \",\"Which is the best camera smartphone under 20k?\\n\",\"What does it mean to dream about someone before th\",\"What are the subjects in which I can apply for my \",\"What are the basics of Jainism?\\n\",\"What is the Difference between existential nihilis\",\"How can I see my girlfriend's WhatsApp chat messag\",\"What are some ways to enjoy sex with my newly marr\",\"How can I study the Bible?\\n\",\"How can someone be a friend, girlfriend, wife and \",\"What are the Snapchat usernames of punjabi celebri\",\"What is 1/2 times 1/2?\\n\",\"Where does the word restaurant come from and what \",\"What can I do with a computational linguistics deg\",\"Will trump win as president?\\n\",\"What impact will AI eventually have on how we plan\",\"Why is eating too unhealthy?\\n\",\"What if the Syrian civil war never happened?\\n\",\"How do the teachings, learning, followership and/o\",\"Did you ever been in a group of stupid people?\\n\",\"What are the multiple types of social issues?\\n\",\"Where can I find beginner NodeJS tutorials that us\",\"If I got a 7.4 CGPA in the SA1 10 class, then can \",\"Which the best time table for 10th class exams pre\",\"Elite Escorts in DHA Lahore?\\n\",\"My ex bf says he doesn't have feelings for me righ\",\"What are the questions in the interview for a fres\",\"What do you think are some of benefits to humans f\",\"Which one is the best medical college hostel in in\",\"Have you lived in a tiny house?\\n\",\"What are some things new employees should know goi\",\"Where can I hire high pressure cleaning service in\",\"How many Bollywood Actresses consume alcohol in re\",\"How does PayU earn money?\\n\",\"Is it possible to change your personality as a chi\",\"How do I apply to London School of Economics as an\",\"How do I build a profile to get accepted into a st\",\"How can I get real ghost stories?\\n\",\"Is it possible to hack NASA's New Horizons satelli\",\"What is the best way of getting good at answering \",\"How would you deal with jerks?\\n\",\"How can I do internship in Accenture India?\\n\",\"Why would an Indian girl not want to get married?\\n\",\"My WhatsApp chat backup got deleted from Google, I\",\"Is going to college really worth it or just a wast\",\"How many prophets did God send to the Jews?\\n\",\"What is the relation and difference between Artifi\",\"If you don\\u2019t have a good network, what would be th\",\"What are the best place to visit in Rio de Janeiro\",\"Which is the best college for PG in Cyber Security\",\"Which are the best English serials?\\n\",\"How do you say \\u201cWhat\\u2019s up?\\u201d in Chinese?\\n\",\"Is it bad to take expired fish oil pills because t\",\"Will there ever be a genuine Authoritarian candida\",\"Is World War III on its way right now?\\n\",\"How can you use time formats in Excel?\\n\",\"What is the best antivirus for Windows 8?\\n\",\"Why do people like Metal/Hard rock so much?\\n\",\"What are the worst smelling things in the world?\\n\",\"Could someone explain the following electives at N\",\"What's a funny thing?\\n\",\"What are the main reason of cracks?\\n\",\"How do I hitchhike in Europe?\\n\",\"What is the physical significance of quantum mecha\",\"How do we get dead people off business junk mail l\",\"Who among the four in the picture given in descrip\",\"How do I know if I authentically, genuinely, hones\",\"On average, how long does it take a letter mail fr\",\"When will One Piece have episode 517 dubbed?\\n\",\"What should I do if I fell in love with my best fr\",\"How do criminal lawyers sleep at night even when t\",\"Can I get refund for Tatkal e-ticket because train\",\"How can I buy the new Macbook 12\\\" M7 512GB model i\",\"What are the different e-governance methods used b\",\"How do I run smoother GTA V? I have intel core i3 \",\"What is the use of tanpura?\\n\",\"What are the Snapchat usernames of celebrities?\\n\",\"Which is better- cracking gate and going for IIT/i\",\"Can you lose weight without exercising?\\n\",\"What is the best way to make life more interesting\",\"Is Delhi a must for UPSC coaching?\\n\",\"Which are the best colleges for electronics and in\",\"I have been a .Net developer for over 2 years and \",\"Has a smartphone ever been taken to space? If yes \",\"What questions should I ask my boyfriend, we are b\",\"How do I delete a contact blocked in WhatsApp?\\n\",\"Is it a good time to buy real estate in Cyprus?\\n\",\"South India: Why is South India much more develope\",\"What is the formula for a hydrocarbon?\\n\",\"What if an alien comes and tells us that the physi\",\"What are the pros & cons of democracy?\\n\",\"I'm 16 years old and wanted to lose weight and bod\",\"Can I add more peers to the torrent for max speed \",\"What are the best neighborhoods to Airbnb in Chica\",\"What we will get in mahabalipuram beach sunrise or\",\"How fast can you accelerate to the speed of light?\",\"What is the difference between R-squared and Adjus\",\"How many times can women reach orgasm in a hour an\",\"Why didn't Johor, Batam & Singapore integrate more\",\"Which products are more profitable in online sell?\",\"How do I get rid of muscle?\\n\",\"What is the process of directing and casting child\",\"Is the 7th pay commission needed?\\n\",\"What are the best games that are compatible on a C\",\"What was the significance of the battle of Somme, \",\"How do you see Pakistan PM Nawaz Sharif's speech a\",\"Where can I publish my apps?\\n\",\"What was your darkest moment?\\n\",\"Why does the UK have an unwritten Constitution?\\n\",\"What are the necessary steps in documenting a mobi\",\"Why was life created? Why was life so painful?\\n\",\"How can I use explainer video to review products o\",\"What is difference between residue and error?\\n\",\"If 6.5 to 8.5 will be the safe level of pH value i\",\"I am 23 and don't know what I want. My life is ver\",\"What are your three favorite websites for reading?\",\"Why do people choose to be a GAY?\\n\",\"What is the process of death?\\n\",\"Why does light red deserve the special name \\\"pink\\\"\",\"Who are millennials?\\n\",\"What it's like doing CA articleship from Big 4s?\\n\",\"What is the most important right or freedom guaran\",\"Why do some porn stars have unprotected sex?\\n\",\"What are my reasons to live?\\n\",\"How small would a planet need to be to plainly see\",\"Some religion speaks of burning in hell after deat\",\"What does it feel like to be an IITian?\\n\",\"How does cognitive behavioural therapy work?\\n\",\"Why should you visit India?\\n\",\"I lost my Google account information. How can I re\",\"What if I port a number from Airtel to Vodafone in\",\"What are the reasons why time travel is impossible\",\"Will my iPhone alarm still go off if \\\"Do Not Distu\",\"Did South Korea cheat during the 2014 Asian Games?\",\"Take the minimum lethal volume of a gaz, put it in\",\"\\\"How to improve Project Management skills?\\\"\\n\",\"When you were small, did you ever think that your \",\"Where did the pointy \\\"S\\\" symbol come from?\\n\",\"How does it feels like to have a rich boyfriend?\\n\",\"What have you used your intelligence for?\\n\",\"What is a freewheeling diode?\\n\",\"How do we derive pi?\\n\",\"What is the importance of communication skills in \",\"How can I put icons on YouTube video titles? Also \",\"What does the phrase \\\"resonate with me\\\" mean?\\n\",\"How many types do we have of Manual testing?\\n\",\"What are IBAN numbers?\\n\",\"What is regret?\\n\",\"As a student specializing in English language, lit\",\"What is the corporate culture like at Corning? How\",\"How can I convert jazz standards to jazz guitar so\",\"How good was the surgical strike by Indian Army on\",\"What recipes are most conducive to romance?\\n\",\"What are the unknown facts about Tamil people whic\",\"Where do I find the most beautiful woman in the wo\",\"What does the grey phone icon mean on the messenge\",\"How do I share 360\\u00b0 photos on WhatsApp?\\n\",\"What is the difference between working stress meth\",\"What are the opportunities for an MBA in finance?\\n\",\"Can you patent clothing or fashion designs?\\n\",\"My in laws are apologists for Nazi war criminals a\",\"Which is the safest city in India for women?\\n\",\"What horse breed were commonly used during the \\\"Wi\",\"Is it weird to sometimes feel almost overwhelmed b\",\"Can anyone please list all the SAP SD topics a per\",\"In the filling of ibps application I put martial s\",\"In a restaurant, what are the different types of t\",\"Why does amir khan never go to any filmy awards fu\",\"What is a good inpatient drug and alcohol rehab ce\",\"Why does UV light cause contamination on optics, b\",\"How do I invest in mutual funds in India?\\n\",\"How comfortable are you with failure?\\n\",\"What skills are required to become a quant?\\n\",\"Why do startups announce fundraising?\\n\",\"What is your review of Amazon Video?\\n\",\"Why there is no team from Tamil nadu in pro kabbad\",\"How do I auto forward texts from my Verizon phone \",\"How do the Chinese people view Americans?\\n\",\"What is virgin or virginity?\\n\",\"What are the different ways of submitting a Reques\",\"Can a high school teacher legally force students t\",\"Why does water droplets form on the outer surface \",\"Which mammals have dark circles around eyes beside\",\"How do each components of a printer work?\\n\",\"What are some foods beginning with the letter W?\\n\",\"What are symptoms of a bad transmission control mo\",\"How do astronauts in ISS vote for Presidential ele\",\"What is the difference between Aim and Goal?\\n\",\"What is AT & C?\\n\",\"Who was Jackson Pollock? Was he mentally ill?\\n\",\"How do I make good vine edits?\\n\",\"How can I cut my penis?\\n\",\"How can I change my Quora profile photo?\\n\",\"My husband was here seeking asylum before we got m\",\"Is it good to use Laravel to develop a web app wit\",\"I have a mild sore throat an headache. What is tha\",\"When will a working nintendo 3DS emulator release \",\"What do we know about the health effects of vaping\",\"INSEAD: Worth the investment?\\n\",\"How is long rides in royal Enfield classic 350?\\n\",\"What famous boxers have participated on Dancing wi\",\"Will season 10 of Big Bang Theory be the final sea\",\"Can I crack KVPY (SX) with only three months left \",\"What are some little-known facts from World War II\",\"What is the most unique way of exam cheating you'v\",\"When was the last time a slam dunk broke a basketb\",\"What should I do for my excessive hair loss?\\n\",\"How do I find people's psychological weakness?\\n\",\"What is the difference between Awareness and Consc\",\"I hate everything that people around me like. Is i\",\"I think I am pretty good at thinking of a business\",\"How do you determine the thickness of a footing ba\",\"Why does vapours are formed when we pressurize alc\",\"Is it easy to adjust in German Universities withou\",\"What is UNIX and UNIX-like?\\n\",\"What is the best way to promote www.dorkyard.com?\\n\",\"What's up in Addis Abeba tonight?\\n\",\"Is there any point to going to college if you have\",\"How much would it cost to construct 800 sqft area \",\"What is an ideal wife? What is an ideal husband? W\",\"What information does port scanning provide?\\n\",\"What are the application of quasicrystals?\\n\",\"What is the determinant of the inverse of a matrix\",\"How is Brad Pitt in \\\"real Life\\\"?\\n\",\"I have a 3 yr bachelor's degree in Computer Scienc\",\"Demonetisation is good for county like India or no\",\"My parents think I am rude for being so introverte\",\"How many people have jumped off the Golden Gate br\",\"What are Osho's views on Islam?\\n\",\"Why does the government regulate health care?\\n\",\"Which phone has the best sound recording quality?\\n\",\"What is the best part of your life, and why is it \",\"Which is better hair wax or hair clay?\\n\",\"How do I charge my motorcycle battery?\\n\",\"What are the updates we get after miui 8.0.6.0?\\n\",\"Why does Robinhood need to bypass the App Store?\\n\",\"Which is a better route, Alipiri or Sri Vaari?\\n\",\"How much extra would it cost if Apple manufactured\",\"When will the next recession be?\\n\",\"What are some arguments in support of electing Don\",\"What does Russia want with Ukraine?\\n\",\"What is the difference between a recorder (block f\",\"What is the meaning of random number?\\n\",\"Which one is good for health: tea or coffee?\\n\",\"Is Texas good state for non-resident to register a\",\"What is kirchoff's law?\\n\",\"Is it wrong for a family member to keep making com\",\"My parents are forcing to marry a girl of their ch\",\"Which is better, Windows+Linux or OSX?\\n\",\"Why aren\\u2019t Christians that pray to/have a relation\",\"How much TDS will I have to pay for an RD account \",\"What is the meaning of thematic connection?\\n\",\"How should you prepare to take your maneuverabilit\",\"What are the best materials/videos/resources to ge\",\"Can a \\\"dirty\\\" finish be added back to jeans?\\n\",\"Why does my dog keep whining at night?\\n\",\"Is it bad to turn off my PC using the power button\",\"What is image processing?\\n\",\"I went to school with mostly black kids, they bull\",\"Does Donald Trump actually think he can become Pre\",\"Which are the 5 best movies you have ever seen?\\n\",\"How do I get traffic to excursions travel website?\",\"Where can I download the Android game Leo's Fortun\",\"How do I get more followers and upvotes on Quora?\\n\",\"What is a factory reset on a phone?\\n\",\"Which phone should I buy if my budget is 12000?\\n\",\"I have GPU implementation as a graduation project.\",\"What are the libertarian views on the Antarctic Tr\",\"What would the world be like if it were ruled by a\",\"How do you choose your first bank?\\n\",\"Who runs berkuliah.com?\\n\",\"What does Godel's incompleteness theorem mean for \",\"How do I delete a Gmail account?\\n\",\"If my ultimate goal is to become a vegan, should I\",\"Did the US win the war in Afghanistan?\\n\",\"How can I become a good engineering student?\\n\",\"What are some ways to increase intuition?\\n\",\"What causes depression in humans?\\n\",\"How can I control my anxiety and worries?\\n\",\"How can we jump in between the working regions of \",\"How do I stop loving someone who loves me?\\n\",\"Can personality and insecurity create a liar?\\n\",\"What is the best country and university to do a Ph\",\"How do I edit a video offline?\\n\",\"What is the rent of kiosk in an upscale mall?\\n\",\"What should I start reading if I want to attempt t\",\"Which is the best anti-virus for computers?\\n\",\"Does food unite people?\\n\",\"What do you like most about Internet?\\n\",\"What is a good model of federalism in the Philippi\",\"How do you know if a girl secretly loves you?\\n\",\"Who is the most annoying fictional character you h\",\"How do you feel when your question is unanswered o\",\"Did early humans know how babies were made?\\n\",\"If I cancel xfinity, how can I sign up as a new cu\",\"Are there any TV series similar to House MD?\\n\",\"What you need to know before buying furniture for \",\"Have you ever had a dream happen in reality?\\n\",\"Is dark matter just a scientific theory or has its\",\"How can you increase your tolerance for pain?\\n\",\"How many logical fallacies are there?\\n\",\"How do buttercream icing frosting separate?\\n\",\"Which is the cheapest cinema hall of India?\\n\",\"What do you think would be a good gre score?\\n\",\"What is the best way to update Xiaomi redmi 3 to M\",\"What does toe jam cheese taste like?\\n\",\"How do I know if a YouTube video is copyrighted?\\n\",\"How should I start a business reselling shoes?\\n\",\"How do I hire a mobile app development company?\\n\",\"What is paras pathar?\\n\",\"How is the word \\\"colony\\\" used in a sentence?\\n\",\"What is Rebecca Fugate known for?\\n\",\"What should I consider before starting my consulta\",\"Do you feel that many attractive women get away wi\",\"Why do I feel so much guilt for kissing a girl?\\n\",\"What are some good tutorials for learning Blender?\",\"Is it deceitful to befriend someone in the hopes t\",\"Who do you think BJP will put as a candidate for t\",\"Which protein supplement is best for gym to gain w\",\"What is your review of KVPY SX/SB 2016?\\n\",\"How do I get people's attention for my work?\\n\",\"What are some of your own personal stories and exp\",\"If salt concentration of the sea(3%) were differen\",\"What is the chemical name for mothballs? How was i\",\"Vitamin D receptors in the Testes?\\n\",\"How do I lose weight without working out?\\n\",\"Where can I watch anime?\\n\",\"What is BusyBox used for?\\n\",\"What would be a good desktop computer for software\",\"What are your top five favorite books and why?\\n\",\"What are some good Harry/Ginny fanfiction?\\n\",\"What are the pros and cons of having sex during pe\",\"Which device will you enjoy watching movies in: a \",\"Will there be \\\"faithless\\\" electors this election?\\n\",\"Is Donald Trump an undercover democrat?\\n\",\"Why am I the way I am?\\n\",\"Why do some women get their nipples pierced?\\n\",\"What do Delhi University girls (especially North C\",\"What is the name of this TV series?\\n\",\"My salary is below the Basic Exemption Limit, yet \",\"What is a foliated rock?\\n\",\"What are some of the best books to start learning \",\"How should I prepare for IIT-JEE 2018?\\n\",\"How do unions work?\\n\",\"Can we give neet coaching in class 11?\\n\",\"Which is the best dish TV connection in Hyderabad?\",\"How can you train a Doberman/Lab mix?\\n\",\"How do you reduce stress at work?\\n\",\"What is the best algorithm for finding the number \",\"How can I earn $250 in 2 months?\\n\",\"Why did GE buy NBC?\\n\",\"What is the highest level of c?\\n\",\"How do you mash potatoes without a masher? What el\",\"How difficult is it to learn Python?\\n\",\"How do you convert years into seconds?\\n\",\"How do you view bisexuality?\\n\",\"What is information technology? What are some exam\",\"Why are Altoids so strong?\\n\",\"How effective is email marketing?\\n\",\"Why does my tutor keep winding me up. He says he i\",\"How can I start my Tok essay which is about accura\",\"How do I repair my corrupt memory card?\\n\",\"I have 3 years to prepare for IIT JAM Physics. How\",\"What are the best Instagram hack tools that have n\",\"I am studing interior design. What are some good i\",\"What are some stupid jokes that make you laugh?\\n\",\"What are the factors affecting Real estate investm\",\"How can I get rid of white dry spot on my face? It\",\"What is it like to have an ugly wife/partner?\\n\",\"What do you love most about your life and why?\\n\",\"In the unlikely event that the Electoral College t\",\"How is life as an Engineer?\\n\",\"Where and why are the imaginary numbers used?\\n\",\"What are some good hypo-allergenic lipsticks?\\n\",\"Did the United Nations play a part in the divide o\",\"When and Why did America become a world power?\\n\",\"What are some recipes using Hormel Black Label Ham\",\"Which is the best company to invest shares on Nove\",\"The man I'm about 2 marry says when I have my peri\",\"What can be the best answer for why finance?\\n\",\"What are the best facts about the universe?\\n\",\"What's the sweetest thing you did for a bestfriend\",\"What is the difference between techno and trance m\",\"TV Sitcoms: Why do English comedy shows have peopl\",\"Does percentile system would affect neet 1 student\",\"Is there Uber in Valencia, Madrid and Barcelona?\\n\",\"Have real-life siblings ever shot intimate scenes \",\"How should I improve my writing skill for blogging\",\"Can cold weather affect a menstrual cycle?\\n\",\"How can we earn money online while studying?\\n\",\"Can a tablet keyboard be used on any kind of table\",\"What are the Upcoming development projects in Chha\",\"Where can I buy cheap Twitter followers?\\n\",\"Why do passengers from aircraft are not given a bu\",\"When should I tell my crush I like her?\\n\",\"Why does Pakistan have a better image and reputati\",\"What are Andrea Pirlo's strengths as a midfielder?\",\"From a point in space billions of light years away\",\"Will Medicaid pay for electrologist to do the shav\",\"Why do technical employees despise sales people so\",\"What are the best freelance websites for C#?\\n\",\"Will I be successful without educations?\\n\",\"How can I learn about cars?\\n\",\"What is the best question asked in an interview?\\n\",\"Why there is so much hatred against Brahmins in In\",\"How do I learn to enter journal entries online in \",\"Will CS be issuing a PR message for Boston?\\n\",\"Why do some people 'hate' drugs or people who ever\",\"How do I know my passion? What is my talent and wh\",\"How do pessimists and optimists differ?\\n\",\"How many pulleys did it take for Archimedes to lif\",\"What is the best course after 12th for a medical s\",\"What are the steps that I should follow to get in \",\"Where was the boston marathon?\\n\",\"What is it like to be in or around a bomb blast?\\n\",\"Will Trump destroy international US-companies thro\",\"Should celebrities have the right to voice their o\",\"Can I say that: \\\"A battery can be seem as a capaci\",\"What is it like to be an ENTP?\\n\",\"How do I start designing on glass?\\n\",\"What is the market risk premium formula?\\n\",\"How can I pay the parking meter if I have no coins\",\"Is it true that Obama has a secret son named \\\"Luth\",\"Which is the best coaching for IAS in up?\\n\",\"How big is the equity funding market in North Amer\",\"Which are the good government medical colleges in \",\"How do I control my hair fall?\\n\",\"Is it really worth creating Shopify themes?\\n\",\"What can cause knee pain? It only hurts when I sta\",\"Where can you find a list of common 9 letter words\",\"NSFW: Is this penis color normal or should I see a\",\"Why do most women remove the hair from their arm p\",\"Which processor is better (faster/more efficient),\",\"Which two statements are true regarding views in s\",\"What is the easiest and quickest Indian food recip\",\"What are the best local SEO companies in India?\\n\",\"How do I get rid of adult content on my Quora feed\",\"Can the zombie fungi attack humans as well?\\n\",\"If I wanted to learn about the Roman Empire,what w\",\"What are the key differences between LXDE and XFCE\",\"Can people see the sellers real name, e-mail addre\",\"Should I still watch The Matrix movie?\\n\",\"Is there any truth to the rumor that the youngest \",\"Is it ok that I don't want to hang out with my fam\",\"I am in class 9. If i want to crack IIT JEE, then \",\"Will Obama's gang stalking/surveillance program be\",\"What are some good songs to lyric text prank a fri\",\"Where can I get best quality video DJ for party in\",\"How long does it take for your hair to grow?\\n\",\"Should I update my Redmi 3s from MIUI 7 to MIUI 8?\",\"How do muscles work?\\n\",\"WHAT IS THE BEST ROUT FOR NEPAL PASUPATI NATH TEMP\",\"How to make a website similar to feedwiser.com in \",\"Why does India so scared of CPEC?\\n\",\"What did your first sex feel like as a girl?\\n\",\"In International ODI/T20 cricket matches, if a bat\",\"Why can humans feel acceleration, but not constant\",\"Can the Microsoft Surface Pro 4 run AutoCAD?\\n\",\"What are the differences between stock Crown Victo\",\"What are the good ways to download Lynda.com's tut\",\"How much is the average salary package for a 1.5 y\",\"How can you reduce the barriers of communication?\\n\",\"Why would someone use Instagram Stories over Snapc\",\"Whiskey: How many 'shots' are in a fifth of Jack D\",\"What might happen now that President-elect Donald \",\"How do I write a waiver letter for school?\\n\",\"I am interested in persuing ma industrial psycholo\",\"Does modafinil shows up on a drug test? Because my\",\"Is it possible to get high off Vyvanse?\\n\",\"Is an agnostic necessarily a skeptic, and how?\\n\",\"Where can I get best support in Sydney for buying \",\"What are the duties of a lieutenant in Indian army\",\"Why is smileys not used on Quora?\\n\",\"What does it feel like for a man when someone who \",\"How does post graduation permit impact .lets say I\",\"Online Payment Gateways and Processing: What is th\",\"What are the best books to learn c programing lang\",\"Solid State Physics: What is The Theory of Alloys?\",\"How do I fill in my first name in a PAN card dupli\",\"Why is egg yolk not good for you?\\n\",\"Anatomy of Female Pelvis: Do women really have an \",\"How much does it cost to develop mobile applicatio\",\"Who is the most honest Game of Thrones character?\\n\",\"What is a high quality Apple MacBook Air charger?\\n\",\"Where and how is the WWE championship belt made?\\n\",\"What is green communication?\\n\",\"I have been a good student since chiild hood but j\",\"I'm solving exercises of artificial neural network\",\"Compared to your own compensation, and in consider\",\"How can I keep browsing Quora forever?\\n\",\"Having built web stuff the old way (PHP/MySQL) bac\",\"Is our new currency note of Rs.2000 equipped with \",\"What's the best way to join a startup in DC?\\n\",\"What would happen if we added a second Earth of eq\",\"When will piracy on Android stop?\\n\",\"What do you mean by executive consultant and suppo\",\"Why do I always feel like I am missing something?\\n\",\"What does a user see when he/she gets a new messag\",\"How can I become a web developer?\\n\",\"Is there any good alternative softwares to Tally?\\n\",\"Would you have sex during period?\\n\",\"Are there prominent Bangladeshi Hindus?\\n\",\"I have registered for PhD (no NET) (phy) in 2013, \",\"I changed my name, but the person did a mistake. M\",\"At what age do your breasts stop growing?\\n\",\"How do I get a girl's phone number in a library?\\n\",\"I am into a habit of over thinking things. How do \",\"What is the average salary of a civil engineer?\\n\",\"What is the difference between rote learning vs me\",\"What are the ways to compete in the Olympics in 20\",\"What trivia (and/or little-known facts) do you fin\",\"Xiaomi Redmi note 3: Which is the best colour to b\",\"What does \\\" the Hadamard Perron theorem\\\" means?\\n\",\"Is there a way to see the viewing history and chat\",\"What is the best place for trekking in Goa?\\n\",\"How does an instant messenger work?\\n\",\"What are the disadvantages of the World Trade Orga\",\"Why does the US military not use AK series rifles?\",\"Does Moto m have gorilla glass?\\n\",\"What is the hierarchy of an associate consultant a\",\"What are some major landforms in Texas, and how do\",\"What other jobs can a medical degree holder do mea\",\"MY HP DEXTOP DOESNOT CONNECT WIFI WHY?\\n\",\"How can I get motivated to workout?\\n\",\"What should I gift it to my mom on her birthday?\\n\",\"Which is the best video you have ever seen?\\n\",\"I was selected in campus and was issued a joining \",\"What makes a poem a good way to express emotions? \",\"What would happen if I cut down a tree outside my \",\"Can you make money in Amway?\\n\",\"Body Weight: How many pounds can I gain every week\",\"What are the impacts (both positive & negative) of\",\"I forgot the password which I used to login n n lo\",\"What are the best websites for career?\\n\",\"What is your favourite episode of the office (USA)\",\"Why is time slower down near heavy objects?\\n\",\"How do l update any version after rooting the mobi\",\"Why is 3 am called the witching hour?\\n\",\"How do I run a shell script from Java code?\\n\",\"What are the advertising campaigns of 2011?\\n\",\"Should I opt for computer science if I don't take \",\"What are the polymers of protein?\\n\",\"How much better will the JWST be than Hubble?\\n\",\"What are the greatest examples of absence of mind?\",\"How can I understand the STOCK market from the bas\",\"How do I make Gazpacho?\\n\",\"What is the typical role of a brand manager?\\n\",\"Who are the top 5 hottest women ever?\\n\",\"What is the name of the game that Aamir Khan was r\",\"How long does it take to learn dance?\\n\",\"What's the funniest thing that's happened to you a\",\"Why are metals malleable and ductile?\\n\",\"List of national daily in India?\\n\",\"Are Volvos actually safer than comparable cars?\\n\",\"Can you tell who has been looking at your Instagra\",\"A ball dropped from the roof of a building takes 4\",\"What percentage of Hillary Clinton's supporters ha\",\"Do you think you are beautiful?\\n\",\"Which are the free email marketing tools?\\n\",\"What topic of discussion do people hate the most? \",\"What is the point in having hyper-politicised stud\",\"Why Steve Jobs is considered as innovator?\\n\",\"How long would it take an average programmer to wr\",\"Why are conservatives defending Holly Fisher? (see\",\"What is so important about Adam Smith's pin factor\",\"What is the Arizona bark scorpion, and how do anim\",\"How do I stop smoking cigarettes?\\n\",\"What are the functions of a computer's motherboard\",\"How can tea bags help for styes?\\n\",\"How can I get a patent for my really effective inn\",\"Can India ever become 'Sone Ki Chidiya' again?\\n\",\"Is there any way to play Android games LAN multipl\",\"Why should I ask my first question?\\n\",\"Who are the top writers on Hinduism on Quora? Who \",\"How do I wake up at 4:00 A.M.?\\n\",\"Why is Quora moderation collapsing all my answers?\",\"In an honest assessment, what do you think of Trum\",\"What type of bonding is present in a coordinate bo\",\"Is it possible to delete your Wikipedia account hi\",\"I'm a +2 CBSE non-medical student. Is there any pr\",\"Are there any limitations as to setting up a forei\",\"How will the drought in California affect its econ\",\"What is Informatica online training?\\n\",\"Is it compulsory for a Web designer and developer \",\"How could the US realistically pay off its debt?\\n\",\"Who is Barry Soetoro?\\n\",\"How do I solve [math]2x^3-x^2+11x+3=0[/math]?\\n\",\"What are some hobbies couples can do at home?\\n\",\"How have meerkats adapted to the desert?\\n\",\"What causes dizziness when you lay down?\\n\",\"What should one do after a civil engineering degre\",\"What are the advantages of hiring skip bins servic\",\"Why is it necessary that singers lip-sync?\\n\",\"How can I turn off the screen overlay detected on \",\"How do you clean or polish a pair of Woodland shoe\",\"What are some classes you wish you took in high sc\",\"What is the formula of [math](a+b)^3[/math]?\\n\",\"What is it like to commit yourself to a psychiatri\",\"Is there any way to slow or reverse the late effec\",\"What would the implications be if we discovered th\",\"Any other program to help on code contribution for\",\"What is the bond order of [math]H_2[/math]?\\n\",\"What is the best way to create a website without c\",\"What were some causes and effects of the French Re\",\"What are some catchy headlines for a dating site?\\n\",\"Should I get Company of Heroes, World in Conflict \",\"How do I remove a person from a group in Skype?\\n\",\"Why was Manmohan Singh briefed by PM Modi after su\",\"Does anybody want to learn Chinese?\\n\",\"Is Xiaomi going the Nokia way to oblivion?\\n\",\"Should I buy hp 17.3 AMD laptop or lenovo 17.3 i5 \",\"Which is better a government job or a software job\",\"How can the word \\\"credulity\\\" be used in a sentence\",\"Does uber track time on app?\\n\",\"How do I get over direct rejection?\\n\",\"How can any institute get an ISO certificate?\\n\",\"What are the best pranks?\\n\",\"Are non-solicit agreements enforceable if the pers\",\"Which phone is best in 2016 for a 18 years boy my \",\"What is the definition of an archetypal hero?\\n\",\"Why are some \\\"ugly\\\" people still very attractive?\\n\",\"What are the chances of Donald Trump's impeachment\",\"What would a society based on laws enforcing only \",\"What is the full form of \\\"veto\\\" power?\\n\",\"How much do people get paid to do a TED talk?\\n\",\"What does it mean to say \\\"enriching herself off of\",\"How can I be more persuasive at work?\\n\",\"What is the corporate culture like at National Bev\",\"What is the fastest way to get a PAN card?\\n\",\"Who will win in America presidential elections in \",\"How do I solve this differential problem?\\n\",\"How is Banjara's Saffron Facial Kit used?\\n\",\"How do you understand life?\\n\",\"Will an MS from NUS in electrical engineering prov\",\"How does one create a strong password? Any tips?\\n\",\"Who was the best dressed at the 2016 Emmy's?\\n\",\"What is the cost of manufacturing a SIM card?\\n\",\"Are you tolerant?\\n\",\"Is [math]\\\\{1,2,3\\\\}[/math] a compact subset of a me\",\"What kind of energy is involved in hearing and vis\",\"What happened with Lehman Brothers?\\n\",\"What is a good web page publisher?\\n\",\"Why does eating radishes cause diarrhea?\\n\",\"How do I encrypt the data on my Android phone?\\n\",\"If there were an Oscar for \\\"Best Line in a Movie\\\",\",\"Why are tyres black?\\n\",\"What is the best way to unlock a Motorola Droid Bi\",\"Is a $45 a month job worth the experience?\\n\",\"Should I settle in Canada or Japan?\\n\",\"How is the appraisal process in Accenture? How wil\",\"How does sand turn into glass?\\n\",\"What effect will increased automation of jobs and \",\"I am 25 years old Indian guy, want to settle in Ne\",\"What are some Raksha Bandhan gift suggestions for \",\"How do I write a multi-dimensional villain that is\",\"Why is there no nucleus in a red blood cell?\\n\",\"Why do Quora allow anonymous fake questions from A\",\"Is it possible to merge a foursquare venue into a \",\"How do I find out if I have Siri on my phone?\\n\",\"Why do I feel like I'm not living my life?\\n\",\"What will happen to global stock market if Donald \",\"What makes weeds grow so much faster and easier th\",\"Do people with extremely high IQ need higher sugar\",\"What should teaching assistants do?\\n\",\"Why is Perth one of the most liveable cities in th\",\"How do you get to the entrance for Resolution Cave\",\"How do I get involved in research as an undergradu\",\"If you have one option to remove anything, what wi\",\"What are the risk after angioplasty?\\n\",\"Why can't men read the signals women give off when\",\"How can a non-EU medical graduate get into residen\",\"How do I stay active?\\n\",\"I'm going to Paris. What is the equivalent \\\"neighb\",\"How do I get rid of dandruff, or at least prevent \",\"Is Medicaid going to pay for the electrologist for\",\"When Australia became a nation in 1901, Did aborig\",\"What is the difference between SSL and Sitelock?\\n\",\"What are some unsolved problems in deep machine le\",\"What's the difference between computer engineering\",\"Is it possible to get a decent job after completin\",\"What is the difference between MG & BG in railway \",\"How do I control an Arduino with a Raspberry Pi?\\n\",\"What is the best field to pursue MS after doing el\",\"What is the difference between Directx and graphic\",\"How do I wirelessly charge the electrical devices \",\"Can you upload Numbers sheets from iPad to Google \",\"What's the best movie franchise you have ever watc\",\"If light does not have mass, then how can it be ab\",\"Why is the book of Esther in the Bible?\\n\",\"What makes comic books worth reading?\\n\",\"What are the advantages of outsourcing property ma\",\"What is a Quora credit competition?\\n\",\"Are data analyst/data science jobs boring?\\n\",\"Why don't satellites crash into each other?\\n\",\"How do dermatologists remove blackheads?\\n\",\"How can I choose between my dad and my mom?\\n\",\"Can you really not change people?\\n\",\"Being a non believer of a spiritual entity, I have\",\"Is black coffee fattening? If so, what makes it fa\",\"The education system is outdated. What would you d\",\"Who are the founders of Quora?\\n\",\"What is it like to be a landlord?\\n\",\"How many stamps do I need to send a letter to germ\",\"My father just recently got married. His wife goes\",\"Which countries are best to migrate from the US?\\n\",\"Can any one tell me a basketball club in Bangalore\",\"How can Spotify download songs offline?\\n\",\"How do I make money online for free in Spain?\\n\",\"Why is Tornado Alley prone to tornadoes?\\n\",\"How does helium change the inhaler's voice?\\n\",\"What is a bedding ceremony in Game of Thrones?\\n\",\"What is it like living in former East Germany as a\",\"Did the USA or NATO commit any war crimes in Iraq?\",\"Why don't we capture terrorist and behead them?\\n\",\"What is your favorite quote (books, movies, people\",\"What mixes well with peach vodka?\\n\",\"Which Patanjali products contain cow urine?\\n\",\"Why are three phases denoted by RYB?\\n\",\"Where could I learn JavaScript online?\\n\",\"Is it appropriate to wear a sports bra simply to t\",\"What are the differences between Jenkins CI and Dr\",\"T right do you think we should be entitled to?\\n\",\"What was the public's reaction to Crystal Pepsi?\\n\",\"How can I crack MH-CET 2017 engineering by self-st\",\"What is the way to become a dental hygienist in th\",\"Why do solving math/statistics problems causes my \",\"Does your name sound as awkward to others as it so\",\"What is the proper format of writing formal-inform\",\"How does doc2vec represent feature vector of a doc\",\"Why are software development task estimations regu\",\"How can I set up molecular pathology lab?\\n\",\"How do I score a rank in CA - IPCC?\\n\",\"What are some examples of strong organic acids?\\n\",\"What can be a good hindi (indian) name for a tea b\",\"Is the Google host matching process different for \",\"Is Cuba considered part of Latin America?\\n\",\"Does the following script (\\u0256\\u2200\\u0f61\\u0632\\u2202 \\u0250\\u0167 \\u01ab\\u04bf\\u03de\\u026e\\u2609 \\u027d\\u03c6\\u0289\\u029b\\u0195), \",\"How can I increase my website's DA?\\n\",\"Is it normal to imagine having sex with other guy \",\"What is the percent purity (approx) of consumable \",\"Do soulmates just come walking into your life when\",\"If I use marijuana with my boyfriend, is there a p\",\"Can you analyze everything in soil?\\n\",\"What difference it would make if India Nuked and K\",\"What are the advantages of a dominant party system\",\"What were some things India did not do but takes c\",\"How many total women have accused Bill Clinton of \",\"Why do I wish some fictional characters existed?\\n\",\"Where can I find best hotel at Ranikhet?\\n\",\"How do I make good memes?\\n\",\"What are some of the common sayings or proverbs in\",\"What kind of writing style makes someone a \\\"dark w\",\"Are Trump and Hillary really the best America has \",\"How can I make my career in embedded system and ro\",\"Will adding a USB to VGA adapter always give an ex\",\"We will never be able to see our own faces with ou\",\"What are the ways you can stop a friend from pitch\",\"What is the average time for preparation of IAS?\\n\",\"How can I learn new things quickly?\\n\",\"What is the definition of political courage?\\n\",\"What makes death scary?\\n\",\"I'm really pretty but I don't want to be I hate th\",\"Is Assam Down Town University good?\\n\",\"How do the brain structures of bonobos change as t\",\"What's the biggest scam?\\n\",\"Does the US government have an alien flying saucer\",\"I need to gain weight, but I don't have abs. It's \",\"Why should I study Calculus?\\n\",\"Do you think your childhood contributed to your fi\",\"How does the Goods and Services Tax (GST) works?\\n\",\"Where can I download Cisco 500-285 exam dumps?\\n\",\"How do I can make a second nation in Cybernations \",\"Did Neil Armstrong really land on the moon?\\n\",\"Why is Devil any other than God head of state?\\n\",\"How do I stop being possessive over my girlfriend?\",\"How does Kongregate compute the statistics of adve\",\"Who is the best nuero physician at NIMHANS, Bangal\",\"What are nonprofit organizations?\\n\",\"I want to know the process of starting outbound ca\",\"Which are some of the best hotels to stay in Helsi\",\"What is good about Deloitte Chicago?\\n\",\"How do I recover data from a formatted hard drive?\",\"Could India and Pakistan unite again?\\n\",\"How often should I massage my face with Argan oil?\",\"How is psychodynamic therapy different from psycho\",\"What are some of Barack Obama's character traits?\\n\",\"Would it make sense to replace the B-52's 8 1960s \",\"Is it possible to bring forward my flight date of \",\"How can I learn marathons?\\n\"],\"x\":{\"__ndarray__\":\"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\",\"dtype\":\"float32\",\"order\":\"little\",\"shape\":[1001]},\"y\":{\"__ndarray__\":\"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\",\"dtype\":\"float32\",\"order\":\"little\",\"shape\":[1001]}},\"selected\":{\"id\":\"1944\"},\"selection_policy\":{\"id\":\"1943\"}},\"id\":\"1829\",\"type\":\"ColumnDataSource\"},{\"attributes\":{\"axis\":{\"id\":\"1839\"},\"coordinates\":null,\"group\":null,\"ticker\":null},\"id\":\"1842\",\"type\":\"Grid\"},{\"attributes\":{},\"id\":\"1840\",\"type\":\"BasicTicker\"},{\"attributes\":{\"bottom_units\":\"screen\",\"coordinates\":null,\"fill_alpha\":0.5,\"fill_color\":\"lightgrey\",\"group\":null,\"left_units\":\"screen\",\"level\":\"overlay\",\"line_alpha\":1.0,\"line_color\":\"black\",\"line_dash\":[4,4],\"line_width\":2,\"right_units\":\"screen\",\"syncable\":false,\"top_units\":\"screen\"},\"id\":\"1853\",\"type\":\"BoxAnnotation\"},{\"attributes\":{\"axis\":{\"id\":\"1843\"},\"coordinates\":null,\"dimension\":1,\"group\":null,\"ticker\":null},\"id\":\"1846\",\"type\":\"Grid\"},{\"attributes\":{},\"id\":\"1851\",\"type\":\"ResetTool\"},{\"attributes\":{},\"id\":\"1850\",\"type\":\"SaveTool\"},{\"attributes\":{},\"id\":\"1852\",\"type\":\"HelpTool\"},{\"attributes\":{\"fill_alpha\":{\"value\":0.2},\"fill_color\":{\"field\":\"color\"},\"hatch_alpha\":{\"value\":0.2},\"hatch_color\":{\"field\":\"color\"},\"line_alpha\":{\"value\":0.2},\"line_color\":{\"field\":\"color\"},\"size\":{\"value\":20},\"x\":{\"field\":\"x\"},\"y\":{\"field\":\"y\"}},\"id\":\"1864\",\"type\":\"Scatter\"},{\"attributes\":{\"coordinates\":null,\"formatter\":{\"id\":\"1941\"},\"group\":null,\"major_label_policy\":{\"id\":\"1942\"},\"ticker\":{\"id\":\"1840\"}},\"id\":\"1839\",\"type\":\"LinearAxis\"},{\"attributes\":{\"fill_alpha\":{\"value\":0.25},\"fill_color\":{\"field\":\"color\"},\"hatch_alpha\":{\"value\":0.25},\"hatch_color\":{\"field\":\"color\"},\"line_alpha\":{\"value\":0.25},\"line_color\":{\"field\":\"color\"},\"size\":{\"value\":20},\"x\":{\"field\":\"x\"},\"y\":{\"field\":\"y\"}},\"id\":\"1862\",\"type\":\"Scatter\"},{\"attributes\":{},\"id\":\"1943\",\"type\":\"UnionRenderers\"},{\"attributes\":{\"callback\":null,\"tooltips\":[[\"phrase\",\"@phrase\"]]},\"id\":\"1867\",\"type\":\"HoverTool\"},{\"attributes\":{\"fill_alpha\":{\"value\":0.1},\"fill_color\":{\"field\":\"color\"},\"hatch_alpha\":{\"value\":0.1},\"hatch_color\":{\"field\":\"color\"},\"line_alpha\":{\"value\":0.1},\"line_color\":{\"field\":\"color\"},\"size\":{\"value\":20},\"x\":{\"field\":\"x\"},\"y\":{\"field\":\"y\"}},\"id\":\"1863\",\"type\":\"Scatter\"},{\"attributes\":{},\"id\":\"1844\",\"type\":\"BasicTicker\"},{\"attributes\":{},\"id\":\"1941\",\"type\":\"BasicTickFormatter\"},{\"attributes\":{\"coordinates\":null,\"data_source\":{\"id\":\"1829\"},\"glyph\":{\"id\":\"1862\"},\"group\":null,\"hover_glyph\":null,\"muted_glyph\":{\"id\":\"1864\"},\"nonselection_glyph\":{\"id\":\"1863\"},\"view\":{\"id\":\"1866\"}},\"id\":\"1865\",\"type\":\"GlyphRenderer\"},{\"attributes\":{},\"id\":\"1944\",\"type\":\"Selection\"},{\"attributes\":{\"active_scroll\":{\"id\":\"1848\"},\"tools\":[{\"id\":\"1847\"},{\"id\":\"1848\"},{\"id\":\"1849\"},{\"id\":\"1850\"},{\"id\":\"1851\"},{\"id\":\"1852\"},{\"id\":\"1867\"}]},\"id\":\"1854\",\"type\":\"Toolbar\"},{\"attributes\":{\"coordinates\":null,\"formatter\":{\"id\":\"1938\"},\"group\":null,\"major_label_policy\":{\"id\":\"1939\"},\"ticker\":{\"id\":\"1844\"}},\"id\":\"1843\",\"type\":\"LinearAxis\"},{\"attributes\":{},\"id\":\"1837\",\"type\":\"LinearScale\"},{\"attributes\":{\"source\":{\"id\":\"1829\"}},\"id\":\"1866\",\"type\":\"CDSView\"},{\"attributes\":{\"overlay\":{\"id\":\"1853\"}},\"id\":\"1849\",\"type\":\"BoxZoomTool\"},{\"attributes\":{},\"id\":\"1831\",\"type\":\"DataRange1d\"},{\"attributes\":{\"coordinates\":null,\"group\":null},\"id\":\"1935\",\"type\":\"Title\"},{\"attributes\":{},\"id\":\"1938\",\"type\":\"BasicTickFormatter\"},{\"attributes\":{},\"id\":\"1848\",\"type\":\"WheelZoomTool\"},{\"attributes\":{},\"id\":\"1942\",\"type\":\"AllLabels\"},{\"attributes\":{},\"id\":\"1847\",\"type\":\"PanTool\"},{\"attributes\":{},\"id\":\"1939\",\"type\":\"AllLabels\"},{\"attributes\":{},\"id\":\"1835\",\"type\":\"LinearScale\"}],\"root_ids\":[\"1830\"]},\"title\":\"Bokeh Application\",\"version\":\"2.4.3\"}};\n",
       "  const render_items = [{\"docid\":\"35a04cde-e1a3-4316-8d3d-947d9502b303\",\"root_ids\":[\"1830\"],\"roots\":{\"1830\":\"f98758e8-6376-4791-8b98-c39ef72665e1\"}}];\n",
       "  root.Bokeh.embed.embed_items_notebook(docs_json, render_items);\n",
       "  }\n",
       "  if (root.Bokeh !== undefined) {\n",
       "    embed_document(root);\n",
       "  } else {\n",
       "    let attempts = 0;\n",
       "    const timer = setInterval(function(root) {\n",
       "      if (root.Bokeh !== undefined) {\n",
       "        clearInterval(timer);\n",
       "        embed_document(root);\n",
       "      } else {\n",
       "        attempts++;\n",
       "        if (attempts > 100) {\n",
       "          clearInterval(timer);\n",
       "          console.log(\"Bokeh: ERROR: Unable to run BokehJS code because BokehJS library is missing\");\n",
       "        }\n",
       "      }\n",
       "    }, 10, root)\n",
       "  }\n",
       "})(window);"
      ],
      "application/vnd.bokehjs_exec.v0+json": ""
     },
     "metadata": {
      "application/vnd.bokehjs_exec.v0+json": {
       "id": "1830"
      }
     },
     "output_type": "display_data"
    },
    {
     "data": {
      "text/html": [
       "<div style=\"display: table;\"><div style=\"display: table-row;\"><div style=\"display: table-cell;\"><b title=\"bokeh.plotting.figure.Figure\">Figure</b>(</div><div style=\"display: table-cell;\">id&nbsp;=&nbsp;'1830', <span id=\"2002\" style=\"cursor: pointer;\">&hellip;)</span></div></div><div class=\"2001\" style=\"display: none;\"><div style=\"display: table-cell;\"></div><div style=\"display: table-cell;\">above&nbsp;=&nbsp;[],</div></div><div class=\"2001\" style=\"display: none;\"><div style=\"display: table-cell;\"></div><div style=\"display: table-cell;\">align&nbsp;=&nbsp;'start',</div></div><div class=\"2001\" style=\"display: none;\"><div style=\"display: table-cell;\"></div><div style=\"display: table-cell;\">aspect_ratio&nbsp;=&nbsp;None,</div></div><div class=\"2001\" style=\"display: none;\"><div style=\"display: table-cell;\"></div><div style=\"display: table-cell;\">aspect_scale&nbsp;=&nbsp;1,</div></div><div class=\"2001\" style=\"display: none;\"><div style=\"display: table-cell;\"></div><div style=\"display: table-cell;\">background&nbsp;=&nbsp;None,</div></div><div class=\"2001\" style=\"display: none;\"><div style=\"display: table-cell;\"></div><div style=\"display: table-cell;\">background_fill_alpha&nbsp;=&nbsp;1.0,</div></div><div class=\"2001\" style=\"display: none;\"><div style=\"display: table-cell;\"></div><div style=\"display: table-cell;\">background_fill_color&nbsp;=&nbsp;'#ffffff',</div></div><div class=\"2001\" style=\"display: none;\"><div style=\"display: table-cell;\"></div><div style=\"display: table-cell;\">below&nbsp;=&nbsp;[LinearAxis(id='1839', ...)],</div></div><div class=\"2001\" style=\"display: none;\"><div style=\"display: table-cell;\"></div><div style=\"display: table-cell;\">border_fill_alpha&nbsp;=&nbsp;1.0,</div></div><div class=\"2001\" style=\"display: none;\"><div style=\"display: table-cell;\"></div><div style=\"display: table-cell;\">border_fill_color&nbsp;=&nbsp;'#ffffff',</div></div><div class=\"2001\" style=\"display: none;\"><div style=\"display: table-cell;\"></div><div style=\"display: table-cell;\">center&nbsp;=&nbsp;[Grid(id='1842', ...), Grid(id='1846', ...)],</div></div><div class=\"2001\" style=\"display: none;\"><div style=\"display: table-cell;\"></div><div style=\"display: table-cell;\">css_classes&nbsp;=&nbsp;[],</div></div><div class=\"2001\" style=\"display: none;\"><div style=\"display: table-cell;\"></div><div style=\"display: table-cell;\">disabled&nbsp;=&nbsp;False,</div></div><div class=\"2001\" style=\"display: none;\"><div style=\"display: table-cell;\"></div><div style=\"display: table-cell;\">extra_x_ranges&nbsp;=&nbsp;{},</div></div><div class=\"2001\" style=\"display: none;\"><div style=\"display: table-cell;\"></div><div style=\"display: table-cell;\">extra_x_scales&nbsp;=&nbsp;{},</div></div><div class=\"2001\" style=\"display: none;\"><div style=\"display: table-cell;\"></div><div style=\"display: table-cell;\">extra_y_ranges&nbsp;=&nbsp;{},</div></div><div class=\"2001\" style=\"display: none;\"><div style=\"display: table-cell;\"></div><div style=\"display: table-cell;\">extra_y_scales&nbsp;=&nbsp;{},</div></div><div class=\"2001\" style=\"display: none;\"><div style=\"display: table-cell;\"></div><div style=\"display: table-cell;\">frame_height&nbsp;=&nbsp;None,</div></div><div class=\"2001\" style=\"display: none;\"><div style=\"display: table-cell;\"></div><div style=\"display: table-cell;\">frame_width&nbsp;=&nbsp;None,</div></div><div class=\"2001\" style=\"display: none;\"><div style=\"display: table-cell;\"></div><div style=\"display: table-cell;\">height&nbsp;=&nbsp;400,</div></div><div class=\"2001\" style=\"display: none;\"><div style=\"display: table-cell;\"></div><div style=\"display: table-cell;\">height_policy&nbsp;=&nbsp;'auto',</div></div><div class=\"2001\" style=\"display: none;\"><div style=\"display: table-cell;\"></div><div style=\"display: table-cell;\">hidpi&nbsp;=&nbsp;True,</div></div><div class=\"2001\" style=\"display: none;\"><div style=\"display: table-cell;\"></div><div style=\"display: table-cell;\">inner_height&nbsp;=&nbsp;0,</div></div><div class=\"2001\" style=\"display: none;\"><div style=\"display: table-cell;\"></div><div style=\"display: table-cell;\">inner_width&nbsp;=&nbsp;0,</div></div><div class=\"2001\" style=\"display: none;\"><div style=\"display: table-cell;\"></div><div style=\"display: table-cell;\">js_event_callbacks&nbsp;=&nbsp;{},</div></div><div class=\"2001\" style=\"display: none;\"><div style=\"display: table-cell;\"></div><div style=\"display: table-cell;\">js_property_callbacks&nbsp;=&nbsp;{},</div></div><div class=\"2001\" style=\"display: none;\"><div style=\"display: table-cell;\"></div><div style=\"display: table-cell;\">left&nbsp;=&nbsp;[LinearAxis(id='1843', ...)],</div></div><div class=\"2001\" style=\"display: none;\"><div style=\"display: table-cell;\"></div><div style=\"display: table-cell;\">lod_factor&nbsp;=&nbsp;10,</div></div><div class=\"2001\" style=\"display: none;\"><div style=\"display: table-cell;\"></div><div style=\"display: table-cell;\">lod_interval&nbsp;=&nbsp;300,</div></div><div class=\"2001\" style=\"display: none;\"><div style=\"display: table-cell;\"></div><div style=\"display: table-cell;\">lod_threshold&nbsp;=&nbsp;2000,</div></div><div class=\"2001\" style=\"display: none;\"><div style=\"display: table-cell;\"></div><div style=\"display: table-cell;\">lod_timeout&nbsp;=&nbsp;500,</div></div><div class=\"2001\" style=\"display: none;\"><div style=\"display: table-cell;\"></div><div style=\"display: table-cell;\">margin&nbsp;=&nbsp;(0, 0, 0, 0),</div></div><div class=\"2001\" style=\"display: none;\"><div style=\"display: table-cell;\"></div><div style=\"display: table-cell;\">match_aspect&nbsp;=&nbsp;False,</div></div><div class=\"2001\" style=\"display: none;\"><div style=\"display: table-cell;\"></div><div style=\"display: table-cell;\">max_height&nbsp;=&nbsp;None,</div></div><div class=\"2001\" style=\"display: none;\"><div style=\"display: table-cell;\"></div><div style=\"display: table-cell;\">max_width&nbsp;=&nbsp;None,</div></div><div class=\"2001\" style=\"display: none;\"><div style=\"display: table-cell;\"></div><div style=\"display: table-cell;\">min_border&nbsp;=&nbsp;5,</div></div><div class=\"2001\" style=\"display: none;\"><div style=\"display: table-cell;\"></div><div style=\"display: table-cell;\">min_border_bottom&nbsp;=&nbsp;None,</div></div><div class=\"2001\" style=\"display: none;\"><div style=\"display: table-cell;\"></div><div style=\"display: table-cell;\">min_border_left&nbsp;=&nbsp;None,</div></div><div class=\"2001\" style=\"display: none;\"><div style=\"display: table-cell;\"></div><div style=\"display: table-cell;\">min_border_right&nbsp;=&nbsp;None,</div></div><div class=\"2001\" style=\"display: none;\"><div style=\"display: table-cell;\"></div><div style=\"display: table-cell;\">min_border_top&nbsp;=&nbsp;None,</div></div><div class=\"2001\" style=\"display: none;\"><div style=\"display: table-cell;\"></div><div style=\"display: table-cell;\">min_height&nbsp;=&nbsp;None,</div></div><div class=\"2001\" style=\"display: none;\"><div style=\"display: table-cell;\"></div><div style=\"display: table-cell;\">min_width&nbsp;=&nbsp;None,</div></div><div class=\"2001\" style=\"display: none;\"><div style=\"display: table-cell;\"></div><div style=\"display: table-cell;\">name&nbsp;=&nbsp;None,</div></div><div class=\"2001\" style=\"display: none;\"><div style=\"display: table-cell;\"></div><div style=\"display: table-cell;\">outer_height&nbsp;=&nbsp;0,</div></div><div class=\"2001\" style=\"display: none;\"><div style=\"display: table-cell;\"></div><div style=\"display: table-cell;\">outer_width&nbsp;=&nbsp;0,</div></div><div class=\"2001\" style=\"display: none;\"><div style=\"display: table-cell;\"></div><div style=\"display: table-cell;\">outline_line_alpha&nbsp;=&nbsp;1.0,</div></div><div class=\"2001\" style=\"display: none;\"><div style=\"display: table-cell;\"></div><div style=\"display: table-cell;\">outline_line_cap&nbsp;=&nbsp;'butt',</div></div><div class=\"2001\" style=\"display: none;\"><div style=\"display: table-cell;\"></div><div style=\"display: table-cell;\">outline_line_color&nbsp;=&nbsp;'#e5e5e5',</div></div><div class=\"2001\" style=\"display: none;\"><div style=\"display: table-cell;\"></div><div style=\"display: table-cell;\">outline_line_dash&nbsp;=&nbsp;[],</div></div><div class=\"2001\" style=\"display: none;\"><div style=\"display: table-cell;\"></div><div style=\"display: table-cell;\">outline_line_dash_offset&nbsp;=&nbsp;0,</div></div><div class=\"2001\" style=\"display: none;\"><div style=\"display: table-cell;\"></div><div style=\"display: table-cell;\">outline_line_join&nbsp;=&nbsp;'bevel',</div></div><div class=\"2001\" style=\"display: none;\"><div style=\"display: table-cell;\"></div><div style=\"display: table-cell;\">outline_line_width&nbsp;=&nbsp;1,</div></div><div class=\"2001\" style=\"display: none;\"><div style=\"display: table-cell;\"></div><div style=\"display: table-cell;\">output_backend&nbsp;=&nbsp;'canvas',</div></div><div class=\"2001\" style=\"display: none;\"><div style=\"display: table-cell;\"></div><div style=\"display: table-cell;\">renderers&nbsp;=&nbsp;[GlyphRenderer(id='1865', ...)],</div></div><div class=\"2001\" style=\"display: none;\"><div style=\"display: table-cell;\"></div><div style=\"display: table-cell;\">reset_policy&nbsp;=&nbsp;'standard',</div></div><div class=\"2001\" style=\"display: none;\"><div style=\"display: table-cell;\"></div><div style=\"display: table-cell;\">right&nbsp;=&nbsp;[],</div></div><div class=\"2001\" style=\"display: none;\"><div style=\"display: table-cell;\"></div><div style=\"display: table-cell;\">sizing_mode&nbsp;=&nbsp;None,</div></div><div class=\"2001\" style=\"display: none;\"><div style=\"display: table-cell;\"></div><div style=\"display: table-cell;\">subscribed_events&nbsp;=&nbsp;[],</div></div><div class=\"2001\" style=\"display: none;\"><div style=\"display: table-cell;\"></div><div style=\"display: table-cell;\">syncable&nbsp;=&nbsp;True,</div></div><div class=\"2001\" style=\"display: none;\"><div style=\"display: table-cell;\"></div><div style=\"display: table-cell;\">tags&nbsp;=&nbsp;[],</div></div><div class=\"2001\" style=\"display: none;\"><div style=\"display: table-cell;\"></div><div style=\"display: table-cell;\">title&nbsp;=&nbsp;Title(id='1935', ...),</div></div><div class=\"2001\" style=\"display: none;\"><div style=\"display: table-cell;\"></div><div style=\"display: table-cell;\">title_location&nbsp;=&nbsp;'above',</div></div><div class=\"2001\" style=\"display: none;\"><div style=\"display: table-cell;\"></div><div style=\"display: table-cell;\">toolbar&nbsp;=&nbsp;Toolbar(id='1854', ...),</div></div><div class=\"2001\" style=\"display: none;\"><div style=\"display: table-cell;\"></div><div style=\"display: table-cell;\">toolbar_location&nbsp;=&nbsp;'right',</div></div><div class=\"2001\" style=\"display: none;\"><div style=\"display: table-cell;\"></div><div style=\"display: table-cell;\">toolbar_sticky&nbsp;=&nbsp;True,</div></div><div class=\"2001\" style=\"display: none;\"><div style=\"display: table-cell;\"></div><div style=\"display: table-cell;\">visible&nbsp;=&nbsp;True,</div></div><div class=\"2001\" style=\"display: none;\"><div style=\"display: table-cell;\"></div><div style=\"display: table-cell;\">width&nbsp;=&nbsp;600,</div></div><div class=\"2001\" style=\"display: none;\"><div style=\"display: table-cell;\"></div><div style=\"display: table-cell;\">width_policy&nbsp;=&nbsp;'auto',</div></div><div class=\"2001\" style=\"display: none;\"><div style=\"display: table-cell;\"></div><div style=\"display: table-cell;\">x_range&nbsp;=&nbsp;DataRange1d(id='1831', ...),</div></div><div class=\"2001\" style=\"display: none;\"><div style=\"display: table-cell;\"></div><div style=\"display: table-cell;\">x_scale&nbsp;=&nbsp;LinearScale(id='1835', ...),</div></div><div class=\"2001\" style=\"display: none;\"><div style=\"display: table-cell;\"></div><div style=\"display: table-cell;\">y_range&nbsp;=&nbsp;DataRange1d(id='1833', ...),</div></div><div class=\"2001\" style=\"display: none;\"><div style=\"display: table-cell;\"></div><div style=\"display: table-cell;\">y_scale&nbsp;=&nbsp;LinearScale(id='1837', ...))</div></div></div>\n",
       "<script>\n",
       "(function() {\n",
       "  let expanded = false;\n",
       "  const ellipsis = document.getElementById(\"2002\");\n",
       "  ellipsis.addEventListener(\"click\", function() {\n",
       "    const rows = document.getElementsByClassName(\"2001\");\n",
       "    for (let i = 0; i < rows.length; i++) {\n",
       "      const el = rows[i];\n",
       "      el.style.display = expanded ? \"none\" : \"table-row\";\n",
       "    }\n",
       "    ellipsis.innerHTML = expanded ? \"&hellip;)\" : \"&lsaquo;&lsaquo;&lsaquo;\";\n",
       "    expanded = !expanded;\n",
       "  });\n",
       "})();\n",
       "</script>\n"
      ],
      "text/plain": [
       "Figure(id='1830', ...)"
      ]
     },
     "execution_count": 160,
     "metadata": {},
     "output_type": "execute_result"
    }
   ],
   "source": [
    "draw_vectors(phrase_vectors_2d[:, 0], phrase_vectors_2d[:, 1],\n",
    "             phrase=[phrase[:50] for phrase in chosen_phrases],\n",
    "             radius=20,)"
   ]
  },
  {
   "cell_type": "markdown",
   "metadata": {},
   "source": [
    "Finally, let's build a simple \"similar question\" engine with phrase embeddings we've built."
   ]
  },
  {
   "cell_type": "code",
   "execution_count": 186,
   "metadata": {},
   "outputs": [],
   "source": [
    "# compute vector embedding for all lines in data\n",
    "data.remove(\"AOSDHIADSOIHADSO DASODASHDASOH\\n\")\n",
    "data.remove(\"parisflatlist\\n\")\n",
    "data_vectors = np.array([get_phrase_embedding(l) for l in data])"
   ]
  },
  {
   "cell_type": "code",
   "execution_count": 187,
   "metadata": {},
   "outputs": [],
   "source": [
    "def find_nearest(query, k=10):\n",
    "    \"\"\"\n",
    "    given text line (query), return k most similar lines from data, sorted from most to least similar\n",
    "    similarity should be measured as cosine between query and line embedding vectors\n",
    "    hint: it's okay to use global variables: data and data_vectors. see also: np.argpartition, np.argsort\n",
    "    \"\"\"\n",
    "    query_emb = get_phrase_embedding(query)\n",
    "    query_emb_norm = np.linalg.norm(query_emb)\n",
    "    cosines = [(v @ query_emb) / (np.linalg.norm(v) * query_emb_norm) for v in data_vectors]  \n",
    "    return [data[i] for i in np.argsort(cosines)[::-1][:k]]"
   ]
  },
  {
   "cell_type": "code",
   "execution_count": 188,
   "metadata": {},
   "outputs": [
    {
     "name": "stdout",
     "output_type": "stream",
     "text": [
      "How do I get to the dark web?\n",
      "What should I do to enter hollywood?\n",
      "How do I use the Greenify app?\n",
      "What can I do to save the world?\n",
      "How do I win this?\n",
      "How do I think out of the box? How do I learn to think out of the box?\n",
      "How do I find the 5th dimension?\n",
      "How do I use the pad in MMA?\n",
      "How do I estimate the competition?\n",
      "What do I do to enter the line of event management?\n",
      "\n"
     ]
    }
   ],
   "source": [
    "results = find_nearest(query=\"How do i enter the matrix?\", k=10)\n",
    "\n",
    "print(''.join(results))\n",
    "\n",
    "assert len(results) == 10 and isinstance(results[0], str)\n",
    "assert results[0] == 'How do I get to the dark web?\\n'\n",
    "assert results[3] == 'What can I do to save the world?\\n'"
   ]
  },
  {
   "cell_type": "code",
   "execution_count": 189,
   "metadata": {},
   "outputs": [
    {
     "data": {
      "text/plain": [
       "['What does Donald Trump think about Israel?\\n',\n",
       " 'What books does Donald Trump like?\\n',\n",
       " 'What does Donald Trump think of India?\\n',\n",
       " 'What does India think of Donald Trump?\\n',\n",
       " 'What does Donald Trump think of China?\\n',\n",
       " 'What does Donald Trump think about Pakistan?\\n',\n",
       " 'What companies does Donald Trump own?\\n',\n",
       " 'What does Dushka Zapata think about Donald Trump?\\n',\n",
       " 'How does it feel to date Ivanka Trump?\\n',\n",
       " 'What does salesforce mean?\\n']"
      ]
     },
     "execution_count": 189,
     "metadata": {},
     "output_type": "execute_result"
    }
   ],
   "source": [
    "find_nearest(query=\"How does Trump?\", k=10)"
   ]
  },
  {
   "cell_type": "code",
   "execution_count": 190,
   "metadata": {},
   "outputs": [
    {
     "data": {
      "text/plain": [
       "[\"Why don't I get a date?\\n\",\n",
       " \"Why do you always answer a question with a question? I don't, or do I?\\n\",\n",
       " \"Why can't I ask a question anonymously?\\n\",\n",
       " \"Why don't I get a girlfriend?\\n\",\n",
       " \"Why don't I have a boyfriend?\\n\",\n",
       " \"I don't have no question?\\n\",\n",
       " \"Why can't I take a joke?\\n\",\n",
       " \"Why don't I ever get a girl?\\n\",\n",
       " \"Can I ask a girl out that I don't know?\\n\",\n",
       " \"Why don't I have a girlfriend?\\n\"]"
      ]
     },
     "execution_count": 190,
     "metadata": {},
     "output_type": "execute_result"
    }
   ],
   "source": [
    "find_nearest(query=\"Why don't i ask a question myself?\", k=10)"
   ]
  },
  {
   "cell_type": "markdown",
   "metadata": {
    "collapsed": true
   },
   "source": [
    "__Now what?__\n",
    "* Try running TSNE on all data, not just 1000 phrases\n",
    "* See what other embeddings are there in the model zoo: `gensim.downloader.info()`\n",
    "* Take a look at [FastText](https://github.com/facebookresearch/fastText) embeddings\n",
    "* Optimize find_nearest with locality-sensitive hashing: use [nearpy](https://github.com/pixelogik/NearPy) or `sklearn.neighbors`."
   ]
  }
 ],
 "metadata": {
  "kernelspec": {
   "display_name": "Python 3 (ipykernel)",
   "language": "python",
   "name": "python3"
  },
  "language_info": {
   "codemirror_mode": {
    "name": "ipython",
    "version": 3
   },
   "file_extension": ".py",
   "mimetype": "text/x-python",
   "name": "python",
   "nbconvert_exporter": "python",
   "pygments_lexer": "ipython3",
   "version": "3.8.10"
  }
 },
 "nbformat": 4,
 "nbformat_minor": 2
}
